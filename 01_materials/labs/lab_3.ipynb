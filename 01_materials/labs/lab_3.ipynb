{
 "cells": [
  {
   "cell_type": "markdown",
   "metadata": {},
   "source": [
    "# Recommender Systems\n",
    "\n",
    "In this lab, we'll be using Keras to build a recommender system. We'll be using the MovieLens dataset, a common benchmark dataset for recommender systems. \n",
    "\n",
    "MovieLens is a web-based recommender system and virtual community that recommends movies for its users to watch, based on their film preferences using collaborative filtering of members' movie ratings and movie reviews. You can check out the website here: https://movielens.org/\n",
    "\n",
    "We will download a subset of the dataset containing 100k ratings. There are tens of millions of ratings in the full dataset, spanning hundreds of thousands of users and movies. The subset we'll be using is a good example to demonstrate the concepts in this lab."
   ]
  },
  {
   "cell_type": "code",
   "execution_count": 83,
   "metadata": {},
   "outputs": [],
   "source": [
    "%matplotlib inline\n",
    "import matplotlib.pyplot as plt\n",
    "import numpy as np\n",
    "from zipfile import ZipFile\n",
    "from urllib.request import urlretrieve\n",
    "from pathlib import Path\n",
    "\n",
    "ML_100K_URL = \"http://files.grouplens.org/datasets/movielens/ml-100k.zip\"\n",
    "ML_100K_FILENAME = Path(\"ml-100k.zip\")\n",
    "ML_100K_FOLDER = Path(\"ml-100k\")\n",
    "\n",
    "if not ML_100K_FOLDER.exists():\n",
    "    if not ML_100K_FILENAME.exists():\n",
    "        urlretrieve(ML_100K_URL, ML_100K_FILENAME.name)\n",
    "    with ZipFile(ML_100K_FILENAME.name) as zip:\n",
    "        zip.extractall()"
   ]
  },
  {
   "cell_type": "markdown",
   "metadata": {},
   "source": [
    "The goal of MovieLens is to enable models to predict the rating a user would give to a movie they have not yet watched. This is a classic example of a recommendation system. The dataset is huge, and contains many parts giving information about the movies, the users, and the ratings. To begin with, we will look at the ratings file. Each line in the ratings file (u.data) is formatted as:\n",
    "\n",
    "`user_id, item_id, rating, timestamp`\n",
    "\n",
    "Which tells us a single user's rating of a single movie.\n",
    "\n",
    "We will start by loading the ratings data into a pandas dataframe and then take a look at the first few rows. If you haven't used Pandas before, it's an extremely powerful library for dealing with tabular data. You can think of it as a Python version of Excel."
   ]
  },
  {
   "cell_type": "code",
   "execution_count": 48,
   "metadata": {},
   "outputs": [
    {
     "data": {
      "text/html": [
       "<div>\n",
       "<style scoped>\n",
       "    .dataframe tbody tr th:only-of-type {\n",
       "        vertical-align: middle;\n",
       "    }\n",
       "\n",
       "    .dataframe tbody tr th {\n",
       "        vertical-align: top;\n",
       "    }\n",
       "\n",
       "    .dataframe thead th {\n",
       "        text-align: right;\n",
       "    }\n",
       "</style>\n",
       "<table border=\"1\" class=\"dataframe\">\n",
       "  <thead>\n",
       "    <tr style=\"text-align: right;\">\n",
       "      <th></th>\n",
       "      <th>user_id</th>\n",
       "      <th>item_id</th>\n",
       "      <th>rating</th>\n",
       "      <th>timestamp</th>\n",
       "    </tr>\n",
       "  </thead>\n",
       "  <tbody>\n",
       "    <tr>\n",
       "      <th>0</th>\n",
       "      <td>196</td>\n",
       "      <td>242</td>\n",
       "      <td>3</td>\n",
       "      <td>881250949</td>\n",
       "    </tr>\n",
       "    <tr>\n",
       "      <th>1</th>\n",
       "      <td>186</td>\n",
       "      <td>302</td>\n",
       "      <td>3</td>\n",
       "      <td>891717742</td>\n",
       "    </tr>\n",
       "    <tr>\n",
       "      <th>2</th>\n",
       "      <td>22</td>\n",
       "      <td>377</td>\n",
       "      <td>1</td>\n",
       "      <td>878887116</td>\n",
       "    </tr>\n",
       "    <tr>\n",
       "      <th>3</th>\n",
       "      <td>244</td>\n",
       "      <td>51</td>\n",
       "      <td>2</td>\n",
       "      <td>880606923</td>\n",
       "    </tr>\n",
       "    <tr>\n",
       "      <th>4</th>\n",
       "      <td>166</td>\n",
       "      <td>346</td>\n",
       "      <td>1</td>\n",
       "      <td>886397596</td>\n",
       "    </tr>\n",
       "    <tr>\n",
       "      <th>...</th>\n",
       "      <td>...</td>\n",
       "      <td>...</td>\n",
       "      <td>...</td>\n",
       "      <td>...</td>\n",
       "    </tr>\n",
       "    <tr>\n",
       "      <th>99995</th>\n",
       "      <td>880</td>\n",
       "      <td>476</td>\n",
       "      <td>3</td>\n",
       "      <td>880175444</td>\n",
       "    </tr>\n",
       "    <tr>\n",
       "      <th>99996</th>\n",
       "      <td>716</td>\n",
       "      <td>204</td>\n",
       "      <td>5</td>\n",
       "      <td>879795543</td>\n",
       "    </tr>\n",
       "    <tr>\n",
       "      <th>99997</th>\n",
       "      <td>276</td>\n",
       "      <td>1090</td>\n",
       "      <td>1</td>\n",
       "      <td>874795795</td>\n",
       "    </tr>\n",
       "    <tr>\n",
       "      <th>99998</th>\n",
       "      <td>13</td>\n",
       "      <td>225</td>\n",
       "      <td>2</td>\n",
       "      <td>882399156</td>\n",
       "    </tr>\n",
       "    <tr>\n",
       "      <th>99999</th>\n",
       "      <td>12</td>\n",
       "      <td>203</td>\n",
       "      <td>3</td>\n",
       "      <td>879959583</td>\n",
       "    </tr>\n",
       "  </tbody>\n",
       "</table>\n",
       "<p>100000 rows × 4 columns</p>\n",
       "</div>"
      ],
      "text/plain": [
       "       user_id  item_id  rating  timestamp\n",
       "0          196      242       3  881250949\n",
       "1          186      302       3  891717742\n",
       "2           22      377       1  878887116\n",
       "3          244       51       2  880606923\n",
       "4          166      346       1  886397596\n",
       "...        ...      ...     ...        ...\n",
       "99995      880      476       3  880175444\n",
       "99996      716      204       5  879795543\n",
       "99997      276     1090       1  874795795\n",
       "99998       13      225       2  882399156\n",
       "99999       12      203       3  879959583\n",
       "\n",
       "[100000 rows x 4 columns]"
      ]
     },
     "execution_count": 48,
     "metadata": {},
     "output_type": "execute_result"
    }
   ],
   "source": [
    "import pandas as pd\n",
    "\n",
    "raw_ratings = pd.read_csv(ML_100K_FOLDER / \"u.data\", sep='\\t',\n",
    "                          names=[\"user_id\", \"item_id\", \"rating\", \"timestamp\"])\n",
    "raw_ratings"
   ]
  },
  {
   "cell_type": "markdown",
   "metadata": {},
   "source": [
    "The second file we'll look at is the movie metadata. This file (u.item) contains information about each movie, including the title and release date. Each line in the file is formatted as:\n",
    "\n",
    "`movie_id | movie_title | release_date | video_release_date | IMDb_URL | unknown | Action | Adventure | Animation | Children's | Comedy | Crime | Documentary | Drama | Fantasy | Film-Noir | Horror | Musical | Mystery | Romance | Sci-Fi | Thriller | War | Western`\n",
    "\n",
    "As you can see, the genres are binary variables. As with one-hot encoding, a 1 indicates that the movie is of that genre, and a 0 indicates that it is not. We aren't going to work with the genre data in this lab, but it's easy to imagine that it could be useful in a real-world recommendation system."
   ]
  },
  {
   "cell_type": "code",
   "execution_count": 49,
   "metadata": {},
   "outputs": [
    {
     "data": {
      "text/html": [
       "<div>\n",
       "<style scoped>\n",
       "    .dataframe tbody tr th:only-of-type {\n",
       "        vertical-align: middle;\n",
       "    }\n",
       "\n",
       "    .dataframe tbody tr th {\n",
       "        vertical-align: top;\n",
       "    }\n",
       "\n",
       "    .dataframe thead th {\n",
       "        text-align: right;\n",
       "    }\n",
       "</style>\n",
       "<table border=\"1\" class=\"dataframe\">\n",
       "  <thead>\n",
       "    <tr style=\"text-align: right;\">\n",
       "      <th></th>\n",
       "      <th>item_id</th>\n",
       "      <th>title</th>\n",
       "      <th>release_date</th>\n",
       "      <th>video_release_date</th>\n",
       "      <th>imdb_url</th>\n",
       "    </tr>\n",
       "  </thead>\n",
       "  <tbody>\n",
       "    <tr>\n",
       "      <th>0</th>\n",
       "      <td>1</td>\n",
       "      <td>Toy Story (1995)</td>\n",
       "      <td>01-Jan-1995</td>\n",
       "      <td>NaN</td>\n",
       "      <td>http://us.imdb.com/M/title-exact?Toy%20Story%2...</td>\n",
       "    </tr>\n",
       "    <tr>\n",
       "      <th>1</th>\n",
       "      <td>2</td>\n",
       "      <td>GoldenEye (1995)</td>\n",
       "      <td>01-Jan-1995</td>\n",
       "      <td>NaN</td>\n",
       "      <td>http://us.imdb.com/M/title-exact?GoldenEye%20(...</td>\n",
       "    </tr>\n",
       "    <tr>\n",
       "      <th>2</th>\n",
       "      <td>3</td>\n",
       "      <td>Four Rooms (1995)</td>\n",
       "      <td>01-Jan-1995</td>\n",
       "      <td>NaN</td>\n",
       "      <td>http://us.imdb.com/M/title-exact?Four%20Rooms%...</td>\n",
       "    </tr>\n",
       "    <tr>\n",
       "      <th>3</th>\n",
       "      <td>4</td>\n",
       "      <td>Get Shorty (1995)</td>\n",
       "      <td>01-Jan-1995</td>\n",
       "      <td>NaN</td>\n",
       "      <td>http://us.imdb.com/M/title-exact?Get%20Shorty%...</td>\n",
       "    </tr>\n",
       "    <tr>\n",
       "      <th>4</th>\n",
       "      <td>5</td>\n",
       "      <td>Copycat (1995)</td>\n",
       "      <td>01-Jan-1995</td>\n",
       "      <td>NaN</td>\n",
       "      <td>http://us.imdb.com/M/title-exact?Copycat%20(1995)</td>\n",
       "    </tr>\n",
       "    <tr>\n",
       "      <th>...</th>\n",
       "      <td>...</td>\n",
       "      <td>...</td>\n",
       "      <td>...</td>\n",
       "      <td>...</td>\n",
       "      <td>...</td>\n",
       "    </tr>\n",
       "    <tr>\n",
       "      <th>1677</th>\n",
       "      <td>1678</td>\n",
       "      <td>Mat' i syn (1997)</td>\n",
       "      <td>06-Feb-1998</td>\n",
       "      <td>NaN</td>\n",
       "      <td>http://us.imdb.com/M/title-exact?Mat%27+i+syn+...</td>\n",
       "    </tr>\n",
       "    <tr>\n",
       "      <th>1678</th>\n",
       "      <td>1679</td>\n",
       "      <td>B. Monkey (1998)</td>\n",
       "      <td>06-Feb-1998</td>\n",
       "      <td>NaN</td>\n",
       "      <td>http://us.imdb.com/M/title-exact?B%2E+Monkey+(...</td>\n",
       "    </tr>\n",
       "    <tr>\n",
       "      <th>1679</th>\n",
       "      <td>1680</td>\n",
       "      <td>Sliding Doors (1998)</td>\n",
       "      <td>01-Jan-1998</td>\n",
       "      <td>NaN</td>\n",
       "      <td>http://us.imdb.com/Title?Sliding+Doors+(1998)</td>\n",
       "    </tr>\n",
       "    <tr>\n",
       "      <th>1680</th>\n",
       "      <td>1681</td>\n",
       "      <td>You So Crazy (1994)</td>\n",
       "      <td>01-Jan-1994</td>\n",
       "      <td>NaN</td>\n",
       "      <td>http://us.imdb.com/M/title-exact?You%20So%20Cr...</td>\n",
       "    </tr>\n",
       "    <tr>\n",
       "      <th>1681</th>\n",
       "      <td>1682</td>\n",
       "      <td>Scream of Stone (Schrei aus Stein) (1991)</td>\n",
       "      <td>08-Mar-1996</td>\n",
       "      <td>NaN</td>\n",
       "      <td>http://us.imdb.com/M/title-exact?Schrei%20aus%...</td>\n",
       "    </tr>\n",
       "  </tbody>\n",
       "</table>\n",
       "<p>1682 rows × 5 columns</p>\n",
       "</div>"
      ],
      "text/plain": [
       "      item_id                                      title release_date  \\\n",
       "0           1                           Toy Story (1995)  01-Jan-1995   \n",
       "1           2                           GoldenEye (1995)  01-Jan-1995   \n",
       "2           3                          Four Rooms (1995)  01-Jan-1995   \n",
       "3           4                          Get Shorty (1995)  01-Jan-1995   \n",
       "4           5                             Copycat (1995)  01-Jan-1995   \n",
       "...       ...                                        ...          ...   \n",
       "1677     1678                          Mat' i syn (1997)  06-Feb-1998   \n",
       "1678     1679                           B. Monkey (1998)  06-Feb-1998   \n",
       "1679     1680                       Sliding Doors (1998)  01-Jan-1998   \n",
       "1680     1681                        You So Crazy (1994)  01-Jan-1994   \n",
       "1681     1682  Scream of Stone (Schrei aus Stein) (1991)  08-Mar-1996   \n",
       "\n",
       "      video_release_date                                           imdb_url  \n",
       "0                    NaN  http://us.imdb.com/M/title-exact?Toy%20Story%2...  \n",
       "1                    NaN  http://us.imdb.com/M/title-exact?GoldenEye%20(...  \n",
       "2                    NaN  http://us.imdb.com/M/title-exact?Four%20Rooms%...  \n",
       "3                    NaN  http://us.imdb.com/M/title-exact?Get%20Shorty%...  \n",
       "4                    NaN  http://us.imdb.com/M/title-exact?Copycat%20(1995)  \n",
       "...                  ...                                                ...  \n",
       "1677                 NaN  http://us.imdb.com/M/title-exact?Mat%27+i+syn+...  \n",
       "1678                 NaN  http://us.imdb.com/M/title-exact?B%2E+Monkey+(...  \n",
       "1679                 NaN      http://us.imdb.com/Title?Sliding+Doors+(1998)  \n",
       "1680                 NaN  http://us.imdb.com/M/title-exact?You%20So%20Cr...  \n",
       "1681                 NaN  http://us.imdb.com/M/title-exact?Schrei%20aus%...  \n",
       "\n",
       "[1682 rows x 5 columns]"
      ]
     },
     "execution_count": 49,
     "metadata": {},
     "output_type": "execute_result"
    }
   ],
   "source": [
    "columns_to_keep = ['item_id', 'title', 'release_date', 'video_release_date', 'imdb_url']\n",
    "items = pd.read_csv(ML_100K_FOLDER / \"u.item\", sep='|', names=columns_to_keep,\n",
    "                    encoding='latin-1', usecols=range(5))\n",
    "items"
   ]
  },
  {
   "cell_type": "markdown",
   "metadata": {},
   "source": [
    "By default, the `release_date` column is a string. We can convert it to a `datetime` object using the `pd.to_datetime` function. This will make it easier to work with in the future (if we want to do things like check which date came first, for example).\n",
    " \n",
    "We can also extract the year from the date and store it in a separate column. This will make it easier to do things like plot the number of movies released each year."
   ]
  },
  {
   "cell_type": "code",
   "execution_count": 50,
   "metadata": {},
   "outputs": [],
   "source": [
    "items['release_date'] = pd.to_datetime(items['release_date']) # Pandas makes this easy!\n",
    "items['release_year'] = items['release_date'].dt.year # For later use"
   ]
  },
  {
   "cell_type": "markdown",
   "metadata": {},
   "source": [
    "For our purposes, it will be easier to work with the data if we merge our two dataframes into a single dataframe. We can do this using the `merge` method. We'll merge the `items` dataframe into the `raw_ratings` dataframe, using the `item_id` column as the key. This will add the movie title and release year to each rating."
   ]
  },
  {
   "cell_type": "code",
   "execution_count": 51,
   "metadata": {},
   "outputs": [],
   "source": [
    "all_ratings = pd.merge(items, raw_ratings)"
   ]
  },
  {
   "cell_type": "code",
   "execution_count": 52,
   "metadata": {},
   "outputs": [
    {
     "data": {
      "text/html": [
       "<div>\n",
       "<style scoped>\n",
       "    .dataframe tbody tr th:only-of-type {\n",
       "        vertical-align: middle;\n",
       "    }\n",
       "\n",
       "    .dataframe tbody tr th {\n",
       "        vertical-align: top;\n",
       "    }\n",
       "\n",
       "    .dataframe thead th {\n",
       "        text-align: right;\n",
       "    }\n",
       "</style>\n",
       "<table border=\"1\" class=\"dataframe\">\n",
       "  <thead>\n",
       "    <tr style=\"text-align: right;\">\n",
       "      <th></th>\n",
       "      <th>item_id</th>\n",
       "      <th>title</th>\n",
       "      <th>release_date</th>\n",
       "      <th>video_release_date</th>\n",
       "      <th>imdb_url</th>\n",
       "      <th>release_year</th>\n",
       "      <th>user_id</th>\n",
       "      <th>rating</th>\n",
       "      <th>timestamp</th>\n",
       "    </tr>\n",
       "  </thead>\n",
       "  <tbody>\n",
       "    <tr>\n",
       "      <th>0</th>\n",
       "      <td>1</td>\n",
       "      <td>Toy Story (1995)</td>\n",
       "      <td>1995-01-01</td>\n",
       "      <td>NaN</td>\n",
       "      <td>http://us.imdb.com/M/title-exact?Toy%20Story%2...</td>\n",
       "      <td>1995.0</td>\n",
       "      <td>308</td>\n",
       "      <td>4</td>\n",
       "      <td>887736532</td>\n",
       "    </tr>\n",
       "    <tr>\n",
       "      <th>1</th>\n",
       "      <td>1</td>\n",
       "      <td>Toy Story (1995)</td>\n",
       "      <td>1995-01-01</td>\n",
       "      <td>NaN</td>\n",
       "      <td>http://us.imdb.com/M/title-exact?Toy%20Story%2...</td>\n",
       "      <td>1995.0</td>\n",
       "      <td>287</td>\n",
       "      <td>5</td>\n",
       "      <td>875334088</td>\n",
       "    </tr>\n",
       "    <tr>\n",
       "      <th>2</th>\n",
       "      <td>1</td>\n",
       "      <td>Toy Story (1995)</td>\n",
       "      <td>1995-01-01</td>\n",
       "      <td>NaN</td>\n",
       "      <td>http://us.imdb.com/M/title-exact?Toy%20Story%2...</td>\n",
       "      <td>1995.0</td>\n",
       "      <td>148</td>\n",
       "      <td>4</td>\n",
       "      <td>877019411</td>\n",
       "    </tr>\n",
       "    <tr>\n",
       "      <th>3</th>\n",
       "      <td>1</td>\n",
       "      <td>Toy Story (1995)</td>\n",
       "      <td>1995-01-01</td>\n",
       "      <td>NaN</td>\n",
       "      <td>http://us.imdb.com/M/title-exact?Toy%20Story%2...</td>\n",
       "      <td>1995.0</td>\n",
       "      <td>280</td>\n",
       "      <td>4</td>\n",
       "      <td>891700426</td>\n",
       "    </tr>\n",
       "    <tr>\n",
       "      <th>4</th>\n",
       "      <td>1</td>\n",
       "      <td>Toy Story (1995)</td>\n",
       "      <td>1995-01-01</td>\n",
       "      <td>NaN</td>\n",
       "      <td>http://us.imdb.com/M/title-exact?Toy%20Story%2...</td>\n",
       "      <td>1995.0</td>\n",
       "      <td>66</td>\n",
       "      <td>3</td>\n",
       "      <td>883601324</td>\n",
       "    </tr>\n",
       "  </tbody>\n",
       "</table>\n",
       "</div>"
      ],
      "text/plain": [
       "   item_id             title release_date  video_release_date  \\\n",
       "0        1  Toy Story (1995)   1995-01-01                 NaN   \n",
       "1        1  Toy Story (1995)   1995-01-01                 NaN   \n",
       "2        1  Toy Story (1995)   1995-01-01                 NaN   \n",
       "3        1  Toy Story (1995)   1995-01-01                 NaN   \n",
       "4        1  Toy Story (1995)   1995-01-01                 NaN   \n",
       "\n",
       "                                            imdb_url  release_year  user_id  \\\n",
       "0  http://us.imdb.com/M/title-exact?Toy%20Story%2...        1995.0      308   \n",
       "1  http://us.imdb.com/M/title-exact?Toy%20Story%2...        1995.0      287   \n",
       "2  http://us.imdb.com/M/title-exact?Toy%20Story%2...        1995.0      148   \n",
       "3  http://us.imdb.com/M/title-exact?Toy%20Story%2...        1995.0      280   \n",
       "4  http://us.imdb.com/M/title-exact?Toy%20Story%2...        1995.0       66   \n",
       "\n",
       "   rating  timestamp  \n",
       "0       4  887736532  \n",
       "1       5  875334088  \n",
       "2       4  877019411  \n",
       "3       4  891700426  \n",
       "4       3  883601324  "
      ]
     },
     "execution_count": 52,
     "metadata": {},
     "output_type": "execute_result"
    }
   ],
   "source": [
    "all_ratings.head()"
   ]
  },
  {
   "cell_type": "markdown",
   "metadata": {},
   "source": [
    "### Data preprocessing\n",
    "\n",
    "It's always important to understand the data you've collected. Thankfully, Pandas continues to make this easy for us. Using the `describe` method, we can get a quick statistical summary of the data."
   ]
  },
  {
   "cell_type": "code",
   "execution_count": 53,
   "metadata": {},
   "outputs": [
    {
     "data": {
      "text/html": [
       "<div>\n",
       "<style scoped>\n",
       "    .dataframe tbody tr th:only-of-type {\n",
       "        vertical-align: middle;\n",
       "    }\n",
       "\n",
       "    .dataframe tbody tr th {\n",
       "        vertical-align: top;\n",
       "    }\n",
       "\n",
       "    .dataframe thead th {\n",
       "        text-align: right;\n",
       "    }\n",
       "</style>\n",
       "<table border=\"1\" class=\"dataframe\">\n",
       "  <thead>\n",
       "    <tr style=\"text-align: right;\">\n",
       "      <th></th>\n",
       "      <th>item_id</th>\n",
       "      <th>release_date</th>\n",
       "      <th>video_release_date</th>\n",
       "      <th>release_year</th>\n",
       "      <th>user_id</th>\n",
       "      <th>rating</th>\n",
       "      <th>timestamp</th>\n",
       "    </tr>\n",
       "  </thead>\n",
       "  <tbody>\n",
       "    <tr>\n",
       "      <th>count</th>\n",
       "      <td>100000.000000</td>\n",
       "      <td>99991</td>\n",
       "      <td>0.0</td>\n",
       "      <td>99991.000000</td>\n",
       "      <td>100000.00000</td>\n",
       "      <td>100000.000000</td>\n",
       "      <td>1.000000e+05</td>\n",
       "    </tr>\n",
       "    <tr>\n",
       "      <th>mean</th>\n",
       "      <td>425.530130</td>\n",
       "      <td>1988-02-09 00:43:11.369223296</td>\n",
       "      <td>NaN</td>\n",
       "      <td>1987.956216</td>\n",
       "      <td>462.48475</td>\n",
       "      <td>3.529860</td>\n",
       "      <td>8.835289e+08</td>\n",
       "    </tr>\n",
       "    <tr>\n",
       "      <th>min</th>\n",
       "      <td>1.000000</td>\n",
       "      <td>1922-01-01 00:00:00</td>\n",
       "      <td>NaN</td>\n",
       "      <td>1922.000000</td>\n",
       "      <td>1.00000</td>\n",
       "      <td>1.000000</td>\n",
       "      <td>8.747247e+08</td>\n",
       "    </tr>\n",
       "    <tr>\n",
       "      <th>25%</th>\n",
       "      <td>175.000000</td>\n",
       "      <td>1986-01-01 00:00:00</td>\n",
       "      <td>NaN</td>\n",
       "      <td>1986.000000</td>\n",
       "      <td>254.00000</td>\n",
       "      <td>3.000000</td>\n",
       "      <td>8.794487e+08</td>\n",
       "    </tr>\n",
       "    <tr>\n",
       "      <th>50%</th>\n",
       "      <td>322.000000</td>\n",
       "      <td>1994-01-01 00:00:00</td>\n",
       "      <td>NaN</td>\n",
       "      <td>1994.000000</td>\n",
       "      <td>447.00000</td>\n",
       "      <td>4.000000</td>\n",
       "      <td>8.828269e+08</td>\n",
       "    </tr>\n",
       "    <tr>\n",
       "      <th>75%</th>\n",
       "      <td>631.000000</td>\n",
       "      <td>1996-09-28 00:00:00</td>\n",
       "      <td>NaN</td>\n",
       "      <td>1996.000000</td>\n",
       "      <td>682.00000</td>\n",
       "      <td>4.000000</td>\n",
       "      <td>8.882600e+08</td>\n",
       "    </tr>\n",
       "    <tr>\n",
       "      <th>max</th>\n",
       "      <td>1682.000000</td>\n",
       "      <td>1998-10-23 00:00:00</td>\n",
       "      <td>NaN</td>\n",
       "      <td>1998.000000</td>\n",
       "      <td>943.00000</td>\n",
       "      <td>5.000000</td>\n",
       "      <td>8.932866e+08</td>\n",
       "    </tr>\n",
       "    <tr>\n",
       "      <th>std</th>\n",
       "      <td>330.798356</td>\n",
       "      <td>NaN</td>\n",
       "      <td>NaN</td>\n",
       "      <td>14.155523</td>\n",
       "      <td>266.61442</td>\n",
       "      <td>1.125674</td>\n",
       "      <td>5.343856e+06</td>\n",
       "    </tr>\n",
       "  </tbody>\n",
       "</table>\n",
       "</div>"
      ],
      "text/plain": [
       "             item_id                   release_date  video_release_date  \\\n",
       "count  100000.000000                          99991                 0.0   \n",
       "mean      425.530130  1988-02-09 00:43:11.369223296                 NaN   \n",
       "min         1.000000            1922-01-01 00:00:00                 NaN   \n",
       "25%       175.000000            1986-01-01 00:00:00                 NaN   \n",
       "50%       322.000000            1994-01-01 00:00:00                 NaN   \n",
       "75%       631.000000            1996-09-28 00:00:00                 NaN   \n",
       "max      1682.000000            1998-10-23 00:00:00                 NaN   \n",
       "std       330.798356                            NaN                 NaN   \n",
       "\n",
       "       release_year       user_id         rating     timestamp  \n",
       "count  99991.000000  100000.00000  100000.000000  1.000000e+05  \n",
       "mean    1987.956216     462.48475       3.529860  8.835289e+08  \n",
       "min     1922.000000       1.00000       1.000000  8.747247e+08  \n",
       "25%     1986.000000     254.00000       3.000000  8.794487e+08  \n",
       "50%     1994.000000     447.00000       4.000000  8.828269e+08  \n",
       "75%     1996.000000     682.00000       4.000000  8.882600e+08  \n",
       "max     1998.000000     943.00000       5.000000  8.932866e+08  \n",
       "std       14.155523     266.61442       1.125674  5.343856e+06  "
      ]
     },
     "execution_count": 53,
     "metadata": {},
     "output_type": "execute_result"
    }
   ],
   "source": [
    "all_ratings.describe()"
   ]
  },
  {
   "cell_type": "markdown",
   "metadata": {},
   "source": [
    "Let's do a bit more pandas magic to compute the popularity of each movie (number of ratings). We will use the `groupby` method to group the dataframe by the `item_id` column and then use the `size` method to compute the number of ratings for each movie. We will use the `reset_index` method to convert the resulting Series into a dataframe with an `item_id` column."
   ]
  },
  {
   "cell_type": "code",
   "execution_count": 54,
   "metadata": {},
   "outputs": [],
   "source": [
    "popularity = all_ratings.groupby('item_id').size().reset_index(name='popularity')\n",
    "items = pd.merge(popularity, items)"
   ]
  },
  {
   "cell_type": "code",
   "execution_count": 55,
   "metadata": {},
   "outputs": [
    {
     "data": {
      "image/png": "[encoded data removed]",
      "text/plain": [
       "<Figure size 640x480 with 1 Axes>"
      ]
     },
     "metadata": {},
     "output_type": "display_data"
    }
   ],
   "source": [
    "items['popularity'].plot.hist(bins=30);"
   ]
  },
  {
   "cell_type": "code",
   "execution_count": 56,
   "metadata": {},
   "outputs": [
    {
     "data": {
      "text/plain": [
       "np.int64(141)"
      ]
     },
     "execution_count": 56,
     "metadata": {},
     "output_type": "execute_result"
    }
   ],
   "source": [
    "(items['popularity'] == 1).sum() # Number of movies with only one rating"
   ]
  },
  {
   "cell_type": "code",
   "execution_count": 57,
   "metadata": {},
   "outputs": [
    {
     "data": {
      "text/plain": [
       "49                  Star Wars (1977)\n",
       "257                   Contact (1997)\n",
       "99                      Fargo (1996)\n",
       "180        Return of the Jedi (1983)\n",
       "293                 Liar Liar (1997)\n",
       "285      English Patient, The (1996)\n",
       "287                    Scream (1996)\n",
       "0                   Toy Story (1995)\n",
       "299             Air Force One (1997)\n",
       "120    Independence Day (ID4) (1996)\n",
       "Name: title, dtype: object"
      ]
     },
     "execution_count": 57,
     "metadata": {},
     "output_type": "execute_result"
    }
   ],
   "source": [
    "items.nlargest(10, 'popularity')['title'] # Get the 10 most popular movies"
   ]
  },
  {
   "cell_type": "code",
   "execution_count": 58,
   "metadata": {},
   "outputs": [
    {
     "data": {
      "text/html": [
       "<div>\n",
       "<style scoped>\n",
       "    .dataframe tbody tr th:only-of-type {\n",
       "        vertical-align: middle;\n",
       "    }\n",
       "\n",
       "    .dataframe tbody tr th {\n",
       "        vertical-align: top;\n",
       "    }\n",
       "\n",
       "    .dataframe thead th {\n",
       "        text-align: right;\n",
       "    }\n",
       "</style>\n",
       "<table border=\"1\" class=\"dataframe\">\n",
       "  <thead>\n",
       "    <tr style=\"text-align: right;\">\n",
       "      <th></th>\n",
       "      <th>item_id</th>\n",
       "      <th>popularity</th>\n",
       "      <th>release_date</th>\n",
       "      <th>video_release_date</th>\n",
       "      <th>release_year</th>\n",
       "      <th>user_id</th>\n",
       "      <th>rating</th>\n",
       "      <th>timestamp</th>\n",
       "    </tr>\n",
       "  </thead>\n",
       "  <tbody>\n",
       "    <tr>\n",
       "      <th>count</th>\n",
       "      <td>100000.000000</td>\n",
       "      <td>100000.000000</td>\n",
       "      <td>99991</td>\n",
       "      <td>0.0</td>\n",
       "      <td>99991.000000</td>\n",
       "      <td>100000.00000</td>\n",
       "      <td>100000.000000</td>\n",
       "      <td>1.000000e+05</td>\n",
       "    </tr>\n",
       "    <tr>\n",
       "      <th>mean</th>\n",
       "      <td>425.530130</td>\n",
       "      <td>168.071900</td>\n",
       "      <td>1988-02-09 00:43:11.369223296</td>\n",
       "      <td>NaN</td>\n",
       "      <td>1987.956216</td>\n",
       "      <td>462.48475</td>\n",
       "      <td>3.529860</td>\n",
       "      <td>8.835289e+08</td>\n",
       "    </tr>\n",
       "    <tr>\n",
       "      <th>min</th>\n",
       "      <td>1.000000</td>\n",
       "      <td>1.000000</td>\n",
       "      <td>1922-01-01 00:00:00</td>\n",
       "      <td>NaN</td>\n",
       "      <td>1922.000000</td>\n",
       "      <td>1.00000</td>\n",
       "      <td>1.000000</td>\n",
       "      <td>8.747247e+08</td>\n",
       "    </tr>\n",
       "    <tr>\n",
       "      <th>25%</th>\n",
       "      <td>175.000000</td>\n",
       "      <td>71.000000</td>\n",
       "      <td>1986-01-01 00:00:00</td>\n",
       "      <td>NaN</td>\n",
       "      <td>1986.000000</td>\n",
       "      <td>254.00000</td>\n",
       "      <td>3.000000</td>\n",
       "      <td>8.794487e+08</td>\n",
       "    </tr>\n",
       "    <tr>\n",
       "      <th>50%</th>\n",
       "      <td>322.000000</td>\n",
       "      <td>145.000000</td>\n",
       "      <td>1994-01-01 00:00:00</td>\n",
       "      <td>NaN</td>\n",
       "      <td>1994.000000</td>\n",
       "      <td>447.00000</td>\n",
       "      <td>4.000000</td>\n",
       "      <td>8.828269e+08</td>\n",
       "    </tr>\n",
       "    <tr>\n",
       "      <th>75%</th>\n",
       "      <td>631.000000</td>\n",
       "      <td>239.000000</td>\n",
       "      <td>1996-09-28 00:00:00</td>\n",
       "      <td>NaN</td>\n",
       "      <td>1996.000000</td>\n",
       "      <td>682.00000</td>\n",
       "      <td>4.000000</td>\n",
       "      <td>8.882600e+08</td>\n",
       "    </tr>\n",
       "    <tr>\n",
       "      <th>max</th>\n",
       "      <td>1682.000000</td>\n",
       "      <td>583.000000</td>\n",
       "      <td>1998-10-23 00:00:00</td>\n",
       "      <td>NaN</td>\n",
       "      <td>1998.000000</td>\n",
       "      <td>943.00000</td>\n",
       "      <td>5.000000</td>\n",
       "      <td>8.932866e+08</td>\n",
       "    </tr>\n",
       "    <tr>\n",
       "      <th>std</th>\n",
       "      <td>330.798356</td>\n",
       "      <td>121.784558</td>\n",
       "      <td>NaN</td>\n",
       "      <td>NaN</td>\n",
       "      <td>14.155523</td>\n",
       "      <td>266.61442</td>\n",
       "      <td>1.125674</td>\n",
       "      <td>5.343856e+06</td>\n",
       "    </tr>\n",
       "  </tbody>\n",
       "</table>\n",
       "</div>"
      ],
      "text/plain": [
       "             item_id     popularity                   release_date  \\\n",
       "count  100000.000000  100000.000000                          99991   \n",
       "mean      425.530130     168.071900  1988-02-09 00:43:11.369223296   \n",
       "min         1.000000       1.000000            1922-01-01 00:00:00   \n",
       "25%       175.000000      71.000000            1986-01-01 00:00:00   \n",
       "50%       322.000000     145.000000            1994-01-01 00:00:00   \n",
       "75%       631.000000     239.000000            1996-09-28 00:00:00   \n",
       "max      1682.000000     583.000000            1998-10-23 00:00:00   \n",
       "std       330.798356     121.784558                            NaN   \n",
       "\n",
       "       video_release_date  release_year       user_id         rating  \\\n",
       "count                 0.0  99991.000000  100000.00000  100000.000000   \n",
       "mean                  NaN   1987.956216     462.48475       3.529860   \n",
       "min                   NaN   1922.000000       1.00000       1.000000   \n",
       "25%                   NaN   1986.000000     254.00000       3.000000   \n",
       "50%                   NaN   1994.000000     447.00000       4.000000   \n",
       "75%                   NaN   1996.000000     682.00000       4.000000   \n",
       "max                   NaN   1998.000000     943.00000       5.000000   \n",
       "std                   NaN     14.155523     266.61442       1.125674   \n",
       "\n",
       "          timestamp  \n",
       "count  1.000000e+05  \n",
       "mean   8.835289e+08  \n",
       "min    8.747247e+08  \n",
       "25%    8.794487e+08  \n",
       "50%    8.828269e+08  \n",
       "75%    8.882600e+08  \n",
       "max    8.932866e+08  \n",
       "std    5.343856e+06  "
      ]
     },
     "execution_count": 58,
     "metadata": {},
     "output_type": "execute_result"
    }
   ],
   "source": [
    "all_ratings = pd.merge(popularity, all_ratings)\n",
    "all_ratings.describe()"
   ]
  },
  {
   "cell_type": "code",
   "execution_count": 59,
   "metadata": {
    "collapsed": false
   },
   "outputs": [],
   "source": [
    "indexed_items = items.set_index('item_id')"
   ]
  },
  {
   "cell_type": "code",
   "execution_count": 60,
   "metadata": {},
   "outputs": [
    {
     "data": {
      "text/html": [
       "<div>\n",
       "<style scoped>\n",
       "    .dataframe tbody tr th:only-of-type {\n",
       "        vertical-align: middle;\n",
       "    }\n",
       "\n",
       "    .dataframe tbody tr th {\n",
       "        vertical-align: top;\n",
       "    }\n",
       "\n",
       "    .dataframe thead th {\n",
       "        text-align: right;\n",
       "    }\n",
       "</style>\n",
       "<table border=\"1\" class=\"dataframe\">\n",
       "  <thead>\n",
       "    <tr style=\"text-align: right;\">\n",
       "      <th></th>\n",
       "      <th>item_id</th>\n",
       "      <th>popularity</th>\n",
       "      <th>title</th>\n",
       "      <th>release_date</th>\n",
       "      <th>video_release_date</th>\n",
       "      <th>imdb_url</th>\n",
       "      <th>release_year</th>\n",
       "      <th>user_id</th>\n",
       "      <th>rating</th>\n",
       "      <th>timestamp</th>\n",
       "    </tr>\n",
       "  </thead>\n",
       "  <tbody>\n",
       "    <tr>\n",
       "      <th>0</th>\n",
       "      <td>1</td>\n",
       "      <td>452</td>\n",
       "      <td>Toy Story (1995)</td>\n",
       "      <td>1995-01-01</td>\n",
       "      <td>NaN</td>\n",
       "      <td>http://us.imdb.com/M/title-exact?Toy%20Story%2...</td>\n",
       "      <td>1995.0</td>\n",
       "      <td>308</td>\n",
       "      <td>4</td>\n",
       "      <td>887736532</td>\n",
       "    </tr>\n",
       "    <tr>\n",
       "      <th>1</th>\n",
       "      <td>1</td>\n",
       "      <td>452</td>\n",
       "      <td>Toy Story (1995)</td>\n",
       "      <td>1995-01-01</td>\n",
       "      <td>NaN</td>\n",
       "      <td>http://us.imdb.com/M/title-exact?Toy%20Story%2...</td>\n",
       "      <td>1995.0</td>\n",
       "      <td>287</td>\n",
       "      <td>5</td>\n",
       "      <td>875334088</td>\n",
       "    </tr>\n",
       "    <tr>\n",
       "      <th>2</th>\n",
       "      <td>1</td>\n",
       "      <td>452</td>\n",
       "      <td>Toy Story (1995)</td>\n",
       "      <td>1995-01-01</td>\n",
       "      <td>NaN</td>\n",
       "      <td>http://us.imdb.com/M/title-exact?Toy%20Story%2...</td>\n",
       "      <td>1995.0</td>\n",
       "      <td>148</td>\n",
       "      <td>4</td>\n",
       "      <td>877019411</td>\n",
       "    </tr>\n",
       "    <tr>\n",
       "      <th>3</th>\n",
       "      <td>1</td>\n",
       "      <td>452</td>\n",
       "      <td>Toy Story (1995)</td>\n",
       "      <td>1995-01-01</td>\n",
       "      <td>NaN</td>\n",
       "      <td>http://us.imdb.com/M/title-exact?Toy%20Story%2...</td>\n",
       "      <td>1995.0</td>\n",
       "      <td>280</td>\n",
       "      <td>4</td>\n",
       "      <td>891700426</td>\n",
       "    </tr>\n",
       "    <tr>\n",
       "      <th>4</th>\n",
       "      <td>1</td>\n",
       "      <td>452</td>\n",
       "      <td>Toy Story (1995)</td>\n",
       "      <td>1995-01-01</td>\n",
       "      <td>NaN</td>\n",
       "      <td>http://us.imdb.com/M/title-exact?Toy%20Story%2...</td>\n",
       "      <td>1995.0</td>\n",
       "      <td>66</td>\n",
       "      <td>3</td>\n",
       "      <td>883601324</td>\n",
       "    </tr>\n",
       "  </tbody>\n",
       "</table>\n",
       "</div>"
      ],
      "text/plain": [
       "   item_id  popularity             title release_date  video_release_date  \\\n",
       "0        1         452  Toy Story (1995)   1995-01-01                 NaN   \n",
       "1        1         452  Toy Story (1995)   1995-01-01                 NaN   \n",
       "2        1         452  Toy Story (1995)   1995-01-01                 NaN   \n",
       "3        1         452  Toy Story (1995)   1995-01-01                 NaN   \n",
       "4        1         452  Toy Story (1995)   1995-01-01                 NaN   \n",
       "\n",
       "                                            imdb_url  release_year  user_id  \\\n",
       "0  http://us.imdb.com/M/title-exact?Toy%20Story%2...        1995.0      308   \n",
       "1  http://us.imdb.com/M/title-exact?Toy%20Story%2...        1995.0      287   \n",
       "2  http://us.imdb.com/M/title-exact?Toy%20Story%2...        1995.0      148   \n",
       "3  http://us.imdb.com/M/title-exact?Toy%20Story%2...        1995.0      280   \n",
       "4  http://us.imdb.com/M/title-exact?Toy%20Story%2...        1995.0       66   \n",
       "\n",
       "   rating  timestamp  \n",
       "0       4  887736532  \n",
       "1       5  875334088  \n",
       "2       4  877019411  \n",
       "3       4  891700426  \n",
       "4       3  883601324  "
      ]
     },
     "execution_count": 60,
     "metadata": {},
     "output_type": "execute_result"
    }
   ],
   "source": [
    "all_ratings.head()"
   ]
  },
  {
   "cell_type": "markdown",
   "metadata": {
    "collapsed": false
   },
   "source": [
    "**Quick Exercise**:\n",
    "\n",
    "As we have seen, the `groupby` method is a powerful tool to quickly compute statistics on the data. Use it to compute the average rating for each movie.\n",
    "\n",
    "**Hint**: you can use the `mean` method after the `groupby` method."
   ]
  },
  {
   "cell_type": "code",
   "execution_count": 61,
   "metadata": {
    "collapsed": false
   },
   "outputs": [
    {
     "data": {
      "text/html": [
       "<div>\n",
       "<style scoped>\n",
       "    .dataframe tbody tr th:only-of-type {\n",
       "        vertical-align: middle;\n",
       "    }\n",
       "\n",
       "    .dataframe tbody tr th {\n",
       "        vertical-align: top;\n",
       "    }\n",
       "\n",
       "    .dataframe thead th {\n",
       "        text-align: right;\n",
       "    }\n",
       "</style>\n",
       "<table border=\"1\" class=\"dataframe\">\n",
       "  <thead>\n",
       "    <tr style=\"text-align: right;\">\n",
       "      <th></th>\n",
       "      <th>item_id</th>\n",
       "      <th>title</th>\n",
       "      <th>rating</th>\n",
       "    </tr>\n",
       "  </thead>\n",
       "  <tbody>\n",
       "    <tr>\n",
       "      <th>0</th>\n",
       "      <td>1</td>\n",
       "      <td>Toy Story (1995)</td>\n",
       "      <td>3.878319</td>\n",
       "    </tr>\n",
       "    <tr>\n",
       "      <th>1</th>\n",
       "      <td>2</td>\n",
       "      <td>GoldenEye (1995)</td>\n",
       "      <td>3.206107</td>\n",
       "    </tr>\n",
       "    <tr>\n",
       "      <th>2</th>\n",
       "      <td>3</td>\n",
       "      <td>Four Rooms (1995)</td>\n",
       "      <td>3.033333</td>\n",
       "    </tr>\n",
       "    <tr>\n",
       "      <th>3</th>\n",
       "      <td>4</td>\n",
       "      <td>Get Shorty (1995)</td>\n",
       "      <td>3.550239</td>\n",
       "    </tr>\n",
       "    <tr>\n",
       "      <th>4</th>\n",
       "      <td>5</td>\n",
       "      <td>Copycat (1995)</td>\n",
       "      <td>3.302326</td>\n",
       "    </tr>\n",
       "    <tr>\n",
       "      <th>...</th>\n",
       "      <td>...</td>\n",
       "      <td>...</td>\n",
       "      <td>...</td>\n",
       "    </tr>\n",
       "    <tr>\n",
       "      <th>1677</th>\n",
       "      <td>1678</td>\n",
       "      <td>Mat' i syn (1997)</td>\n",
       "      <td>1.000000</td>\n",
       "    </tr>\n",
       "    <tr>\n",
       "      <th>1678</th>\n",
       "      <td>1679</td>\n",
       "      <td>B. Monkey (1998)</td>\n",
       "      <td>3.000000</td>\n",
       "    </tr>\n",
       "    <tr>\n",
       "      <th>1679</th>\n",
       "      <td>1680</td>\n",
       "      <td>Sliding Doors (1998)</td>\n",
       "      <td>2.000000</td>\n",
       "    </tr>\n",
       "    <tr>\n",
       "      <th>1680</th>\n",
       "      <td>1681</td>\n",
       "      <td>You So Crazy (1994)</td>\n",
       "      <td>3.000000</td>\n",
       "    </tr>\n",
       "    <tr>\n",
       "      <th>1681</th>\n",
       "      <td>1682</td>\n",
       "      <td>Scream of Stone (Schrei aus Stein) (1991)</td>\n",
       "      <td>3.000000</td>\n",
       "    </tr>\n",
       "  </tbody>\n",
       "</table>\n",
       "<p>1682 rows × 3 columns</p>\n",
       "</div>"
      ],
      "text/plain": [
       "      item_id                                      title    rating\n",
       "0           1                           Toy Story (1995)  3.878319\n",
       "1           2                           GoldenEye (1995)  3.206107\n",
       "2           3                          Four Rooms (1995)  3.033333\n",
       "3           4                          Get Shorty (1995)  3.550239\n",
       "4           5                             Copycat (1995)  3.302326\n",
       "...       ...                                        ...       ...\n",
       "1677     1678                          Mat' i syn (1997)  1.000000\n",
       "1678     1679                           B. Monkey (1998)  3.000000\n",
       "1679     1680                       Sliding Doors (1998)  2.000000\n",
       "1680     1681                        You So Crazy (1994)  3.000000\n",
       "1681     1682  Scream of Stone (Schrei aus Stein) (1991)  3.000000\n",
       "\n",
       "[1682 rows x 3 columns]"
      ]
     },
     "execution_count": 61,
     "metadata": {},
     "output_type": "execute_result"
    }
   ],
   "source": [
    "# Your code here\n",
    "pd.DataFrame(all_ratings.groupby(['item_id', 'title'])['rating'].mean()).reset_index()"
   ]
  },
  {
   "cell_type": "markdown",
   "metadata": {},
   "source": [
    "Let's split the enriched data in a train / test split to make it possible to do predictive modeling:"
   ]
  },
  {
   "cell_type": "code",
   "execution_count": 62,
   "metadata": {},
   "outputs": [],
   "source": [
    "from sklearn.model_selection import train_test_split\n",
    "\n",
    "ratings_train, ratings_test = train_test_split(\n",
    "    all_ratings, test_size=0.2, random_state=0)\n",
    "\n",
    "user_id_train = np.array(ratings_train['user_id'])\n",
    "item_id_train = np.array(ratings_train['item_id'])\n",
    "rating_train = np.array(ratings_train['rating'])\n",
    "\n",
    "user_id_test = np.array(ratings_test['user_id'])\n",
    "item_id_test = np.array(ratings_test['item_id'])\n",
    "rating_test = np.array(ratings_test['rating'])"
   ]
  },
  {
   "cell_type": "markdown",
   "metadata": {},
   "source": [
    "# Explicit feedback: supervised ratings prediction\n",
    "\n",
    "Now let's begin to do some recommendation! We will build a model that takes a user and a movie as input and outputs a predicted rating. We will be taking advantage of embeddings to represent users and movies. That means that each movie and user will have an abstract representation in a continuous vector space. The model will learn these representations based on the ratings."
   ]
  },
  {
   "cell_type": "markdown",
   "metadata": {},
   "source": [
    "## Predictive ratings  as a regression problem\n",
    "\n",
    "The following code implements the following architecture:\n",
    "\n",
    "<img src=\"https://raw.githubusercontent.com/UofT-DSI/deep_learning/main/notebooks/images/rec_archi_1.svg\" style=\"width: 600px;\" />"
   ]
  },
  {
   "cell_type": "code",
   "execution_count": 63,
   "metadata": {},
   "outputs": [],
   "source": [
    "from tensorflow.keras.layers import Embedding, Flatten, Dense, Dropout\n",
    "from tensorflow.keras.layers import Dot\n",
    "from tensorflow.keras.models import Model"
   ]
  },
  {
   "cell_type": "code",
   "execution_count": 64,
   "metadata": {},
   "outputs": [
    {
     "name": "stderr",
     "output_type": "stream",
     "text": [
      "c:\\Users\\JustinOkeke\\Continuum\\envs\\data_exploration\\Lib\\site-packages\\keras\\src\\layers\\core\\embedding.py:90: UserWarning: Argument `input_length` is deprecated. Just remove it.\n",
      "  warnings.warn(\n"
     ]
    }
   ],
   "source": [
    "# For each sample we input the integer identifiers\n",
    "# of a single user and a single item\n",
    "class RegressionModel(Model):\n",
    "    def __init__(self, embedding_size, max_user_id, max_item_id):\n",
    "        super().__init__()\n",
    "        \n",
    "        self.user_embedding = Embedding(output_dim=embedding_size,\n",
    "                                        input_dim=max_user_id + 1,\n",
    "                                        input_length=1,\n",
    "                                        name='user_embedding')\n",
    "        self.item_embedding = Embedding(output_dim=embedding_size,\n",
    "                                        input_dim=max_item_id + 1,\n",
    "                                        input_length=1,\n",
    "                                        name='item_embedding')\n",
    "        \n",
    "        # The following two layers don't have parameters.\n",
    "        self.flatten = Flatten()\n",
    "        self.dot = Dot(axes=1)\n",
    "        \n",
    "    def call(self, inputs):\n",
    "        user_inputs = inputs[0]\n",
    "        item_inputs = inputs[1]\n",
    "        \n",
    "        user_vecs = self.flatten(self.user_embedding(user_inputs))\n",
    "        item_vecs = self.flatten(self.item_embedding(item_inputs))\n",
    "        \n",
    "        y = self.dot([user_vecs, item_vecs])\n",
    "        return y\n",
    "\n",
    "\n",
    "model = RegressionModel(embedding_size=64, max_user_id=all_ratings['user_id'].max(), max_item_id=all_ratings['item_id'].max())\n",
    "model.compile(optimizer=\"adam\", loss='mae')"
   ]
  },
  {
   "cell_type": "markdown",
   "metadata": {},
   "source": [
    "### Monitoring runs\n",
    "\n",
    "When training a model with Keras, we get a `history` object back that contains lots of information about the training run. We can use this to plot the training and validation loss to see how the model has improved during training."
   ]
  },
  {
   "cell_type": "code",
   "execution_count": 65,
   "metadata": {},
   "outputs": [
    {
     "name": "stdout",
     "output_type": "stream",
     "text": [
      "Epoch 1/10\n",
      "\u001b[1m1125/1125\u001b[0m \u001b[32m━━━━━━━━━━━━━━━━━━━━\u001b[0m\u001b[37m\u001b[0m \u001b[1m1s\u001b[0m 749us/step - loss: 3.2940 - val_loss: 1.0403\n",
      "Epoch 2/10\n",
      "\u001b[1m1125/1125\u001b[0m \u001b[32m━━━━━━━━━━━━━━━━━━━━\u001b[0m\u001b[37m\u001b[0m \u001b[1m1s\u001b[0m 849us/step - loss: 0.9025 - val_loss: 0.7954\n",
      "Epoch 3/10\n",
      "\u001b[1m1125/1125\u001b[0m \u001b[32m━━━━━━━━━━━━━━━━━━━━\u001b[0m\u001b[37m\u001b[0m \u001b[1m1s\u001b[0m 711us/step - loss: 0.7534 - val_loss: 0.7679\n",
      "Epoch 4/10\n",
      "\u001b[1m1125/1125\u001b[0m \u001b[32m━━━━━━━━━━━━━━━━━━━━\u001b[0m\u001b[37m\u001b[0m \u001b[1m1s\u001b[0m 758us/step - loss: 0.7333 - val_loss: 0.7581\n",
      "Epoch 5/10\n",
      "\u001b[1m1125/1125\u001b[0m \u001b[32m━━━━━━━━━━━━━━━━━━━━\u001b[0m\u001b[37m\u001b[0m \u001b[1m1s\u001b[0m 670us/step - loss: 0.7052 - val_loss: 0.7494\n",
      "Epoch 6/10\n",
      "\u001b[1m1125/1125\u001b[0m \u001b[32m━━━━━━━━━━━━━━━━━━━━\u001b[0m\u001b[37m\u001b[0m \u001b[1m1s\u001b[0m 628us/step - loss: 0.6795 - val_loss: 0.7452\n",
      "Epoch 7/10\n",
      "\u001b[1m1125/1125\u001b[0m \u001b[32m━━━━━━━━━━━━━━━━━━━━\u001b[0m\u001b[37m\u001b[0m \u001b[1m1s\u001b[0m 636us/step - loss: 0.6603 - val_loss: 0.7416\n",
      "Epoch 8/10\n",
      "\u001b[1m1125/1125\u001b[0m \u001b[32m━━━━━━━━━━━━━━━━━━━━\u001b[0m\u001b[37m\u001b[0m \u001b[1m1s\u001b[0m 662us/step - loss: 0.6383 - val_loss: 0.7416\n",
      "Epoch 9/10\n",
      "\u001b[1m1125/1125\u001b[0m \u001b[32m━━━━━━━━━━━━━━━━━━━━\u001b[0m\u001b[37m\u001b[0m \u001b[1m1s\u001b[0m 649us/step - loss: 0.6130 - val_loss: 0.7388\n",
      "Epoch 10/10\n",
      "\u001b[1m1125/1125\u001b[0m \u001b[32m━━━━━━━━━━━━━━━━━━━━\u001b[0m\u001b[37m\u001b[0m \u001b[1m1s\u001b[0m 663us/step - loss: 0.5908 - val_loss: 0.7437\n",
      "CPU times: total: 27.1 s\n",
      "Wall time: 8.38 s\n"
     ]
    }
   ],
   "source": [
    "%%time\n",
    "\n",
    "# Training the model\n",
    "history = model.fit([user_id_train, item_id_train], rating_train,\n",
    "                    batch_size=64, epochs=10, validation_split=0.1,\n",
    "                    shuffle=True)"
   ]
  },
  {
   "cell_type": "code",
   "execution_count": 66,
   "metadata": {},
   "outputs": [
    {
     "data": {
      "image/png": "[encoded data removed]",
      "text/plain": [
       "<Figure size 640x480 with 1 Axes>"
      ]
     },
     "metadata": {},
     "output_type": "display_data"
    }
   ],
   "source": [
    "plt.plot(history.history['loss'], label='train')\n",
    "plt.plot(history.history['val_loss'], label='validation')\n",
    "plt.ylim(0, 2)\n",
    "plt.legend(loc='best')\n",
    "plt.title('Loss');"
   ]
  },
  {
   "cell_type": "markdown",
   "metadata": {},
   "source": [
    "**Questions**:\n",
    "\n",
    "- Does it look like our model has overfit? Why or why not?\n",
    "- Suggest something we could do to prevent overfitting.\n",
    "\n",
    "\n",
    "Now that the model is trained, let's check out the quality of predictions:"
   ]
  },
  {
   "cell_type": "markdown",
   "metadata": {},
   "source": [
    "It looks like the model is indeed overfit. The training and validation loss decrease at first, but then the validaton loss begins to increase while the train loss reaches lower values. This indicates that the model is learning the training data very well, even memorizing it. The trend continues throughout each epoch. The following can be done to decrease overfitting: \n",
    "1. More data use \n",
    "2. Data regularization"
   ]
  },
  {
   "cell_type": "code",
   "execution_count": 67,
   "metadata": {},
   "outputs": [],
   "source": [
    "def plot_predictions(y_true, y_pred):\n",
    "    plt.figure(figsize=(4, 4))\n",
    "    plt.xlim(-1, 6)\n",
    "    plt.xlabel(\"True rating\")\n",
    "    plt.ylim(-1, 6)\n",
    "    plt.ylabel(\"Predicted rating\")\n",
    "    plt.scatter(y_true, y_pred, s=60, alpha=0.01)"
   ]
  },
  {
   "cell_type": "code",
   "execution_count": 68,
   "metadata": {},
   "outputs": [
    {
     "name": "stdout",
     "output_type": "stream",
     "text": [
      "\u001b[1m625/625\u001b[0m \u001b[32m━━━━━━━━━━━━━━━━━━━━\u001b[0m\u001b[37m\u001b[0m \u001b[1m0s\u001b[0m 561us/step\n",
      "Final test MSE: 0.910\n",
      "Final test MAE: 0.736\n"
     ]
    },
    {
     "data": {
      "image/png": "[encoded data removed]",
      "text/plain": [
       "<Figure size 400x400 with 1 Axes>"
      ]
     },
     "metadata": {},
     "output_type": "display_data"
    }
   ],
   "source": [
    "from sklearn.metrics import mean_squared_error\n",
    "from sklearn.metrics import mean_absolute_error\n",
    "\n",
    "test_preds = model.predict([user_id_test, item_id_test])\n",
    "print(\"Final test MSE: %0.3f\" % mean_squared_error(test_preds, rating_test))\n",
    "print(\"Final test MAE: %0.3f\" % mean_absolute_error(test_preds, rating_test))\n",
    "plot_predictions(rating_test, test_preds)"
   ]
  },
  {
   "cell_type": "markdown",
   "metadata": {
    "collapsed": false
   },
   "source": [
    "This graph shows us the range of predicted ratings our model gives, organized by the true rating. We can see that generally, the higher the true rating the higher the predicted rating, although there is quite a range of predictions for each instance. That's okay - our model is very simple, and human preferences are very complex!\n",
    "\n",
    "Taking a look at the Mean Absolute Error, hopefully you got something around 0.75. This means that, on average, our predicted ratings are about 0.75 stars off from the true ratings. This is a pretty good result for a first attempt. We could probably do better with a more complex model, but we'll leave that for another time."
   ]
  },
  {
   "cell_type": "markdown",
   "metadata": {},
   "source": [
    "### Model Embeddings\n",
    "\n",
    "Our model was built with two embedding layers. These layers have learned a representation of both the users and the movies in our dataset. We can extract these representations and use them to find similar movies or users. We can also do interesting exploratory analysis, like finding the most popular movies among our users, or finding the users that are most interested in a given movie."
   ]
  },
  {
   "cell_type": "code",
   "execution_count": 34,
   "metadata": {},
   "outputs": [
    {
     "data": {
      "text/plain": [
       "[(944, 64), (1683, 64)]"
      ]
     },
     "execution_count": 34,
     "metadata": {},
     "output_type": "execute_result"
    }
   ],
   "source": [
    "# weights and shape\n",
    "weights = model.get_weights()\n",
    "[w.shape for w in weights]"
   ]
  },
  {
   "cell_type": "code",
   "execution_count": 35,
   "metadata": {},
   "outputs": [],
   "source": [
    "user_embeddings = weights[0]\n",
    "item_embeddings = weights[1]"
   ]
  },
  {
   "cell_type": "code",
   "execution_count": 36,
   "metadata": {},
   "outputs": [
    {
     "name": "stdout",
     "output_type": "stream",
     "text": [
      "Title for item_id=181: Return of the Jedi (1983)\n"
     ]
    }
   ],
   "source": [
    "item_id = 181\n",
    "print(f\"Title for item_id={item_id}: {indexed_items['title'][item_id]}\")"
   ]
  },
  {
   "cell_type": "code",
   "execution_count": 70,
   "metadata": {},
   "outputs": [
    {
     "name": "stdout",
     "output_type": "stream",
     "text": [
      "Embedding vector for item_id=181\n",
      "[-0.03328894 -0.2700185   0.57624847 -0.40497744 -0.3679901   0.11578824\n",
      "  0.13047451 -0.32238582 -0.2880134   0.56627303  0.26109633  0.47083092\n",
      " -0.51725405  0.33297834  0.02117419  0.42183068  0.33243203  0.3040601\n",
      "  0.18276417 -0.2152758   0.14202935 -0.19914386 -0.36577043  0.1629849\n",
      "  0.21761121 -0.3000332  -0.35197413  0.19557436  0.4666046   0.37878874\n",
      " -0.04928559  0.5281973   0.10391247 -0.5685756   0.44954115  0.37278602\n",
      " -0.0827041  -0.25215572 -0.15673366 -0.381557   -0.1904782   0.43002847\n",
      " -0.05696245  0.58007413  0.3387673   0.41818953  0.12522486 -0.15642816\n",
      "  0.19196345 -0.2477896   0.28171593  0.400333    0.21233502 -0.17601496\n",
      "  0.24659654 -0.12191936 -0.28840053  0.37345776 -0.3359957   0.35050583\n",
      " -0.04887404  0.50021774  0.48864925 -0.4372409 ]\n",
      "shape: (64,)\n"
     ]
    }
   ],
   "source": [
    "print(f\"Embedding vector for item_id={item_id}\")\n",
    "print(item_embeddings[item_id])\n",
    "print(\"shape:\", item_embeddings[item_id].shape)"
   ]
  },
  {
   "cell_type": "markdown",
   "metadata": {
    "collapsed": false
   },
   "source": [
    "As we discussed in lecture, our embeddings are not directly interpretable - we can't look at, say, a value of 0.297 in the embedding vector and say \"this means that the movie is a drama\". As an aside, there is a field of research dedicated to making _interpretable_ embeddings, but it's not something we'll cover in this course. "
   ]
  },
  {
   "cell_type": "markdown",
   "metadata": {},
   "source": [
    "### Finding our most similar items\n",
    "\n",
    "Now we can have some fun, investigating the embeddings we've learned. We can start by finding the most similar items to a given item. We can do this by computing the cosine similarity between the item's embedding and the embedding of every other item. We can use the `cosine_similarity` function from `sklearn` to do this."
   ]
  },
  {
   "cell_type": "code",
   "execution_count": 71,
   "metadata": {
    "collapsed": false
   },
   "outputs": [],
   "source": [
    "from sklearn.metrics.pairwise import cosine_similarity\n",
    "\n",
    "def cosine(a, b):\n",
    "    # Reshape to the shape our function expects\n",
    "    a = a.reshape(1, -1)\n",
    "    b = b.reshape(1, -1)\n",
    "    return cosine_similarity(a, b)[0, 0]"
   ]
  },
  {
   "cell_type": "code",
   "execution_count": 72,
   "metadata": {},
   "outputs": [
    {
     "name": "stdout",
     "output_type": "stream",
     "text": [
      "Star Wars (1977)\n",
      "Return of the Jedi (1983)\n",
      "Cosine similarity: 0.908\n"
     ]
    }
   ],
   "source": [
    "def print_similarity(item_a, item_b, item_embeddings, titles):\n",
    "    print(titles[item_a])\n",
    "    print(titles[item_b])\n",
    "    similarity = cosine(item_embeddings[item_a],\n",
    "                        item_embeddings[item_b])\n",
    "    print(f\"Cosine similarity: {similarity:.3}\")\n",
    "    \n",
    "print_similarity(50, 181, item_embeddings, indexed_items[\"title\"])"
   ]
  },
  {
   "cell_type": "markdown",
   "metadata": {
    "collapsed": false
   },
   "source": [
    "It makes sense that the original Star Wars, and its later sequel Return of the Jedi have a high similarity. Let's try some other examples:"
   ]
  },
  {
   "cell_type": "code",
   "execution_count": 73,
   "metadata": {},
   "outputs": [
    {
     "name": "stdout",
     "output_type": "stream",
     "text": [
      "Return of the Jedi (1983)\n",
      "Scream (1996)\n",
      "Cosine similarity: 0.776\n"
     ]
    }
   ],
   "source": [
    "print_similarity(181, 288, item_embeddings, indexed_items[\"title\"])"
   ]
  },
  {
   "cell_type": "code",
   "execution_count": 41,
   "metadata": {},
   "outputs": [
    {
     "name": "stdout",
     "output_type": "stream",
     "text": [
      "Return of the Jedi (1983)\n",
      "Toy Story (1995)\n",
      "Cosine similarity: 0.832\n"
     ]
    }
   ],
   "source": [
    "print_similarity(181, 1, item_embeddings, indexed_items[\"title\"])"
   ]
  },
  {
   "cell_type": "code",
   "execution_count": 42,
   "metadata": {},
   "outputs": [
    {
     "name": "stdout",
     "output_type": "stream",
     "text": [
      "Return of the Jedi (1983)\n",
      "Return of the Jedi (1983)\n",
      "Cosine similarity: 1.0\n"
     ]
    }
   ],
   "source": [
    "print_similarity(181, 181, item_embeddings, indexed_items[\"title\"])"
   ]
  },
  {
   "cell_type": "markdown",
   "metadata": {
    "collapsed": false
   },
   "source": [
    "*Quick Exercise*:\n",
    "\n",
    "- Find some other films and compare their similarity. Do the results make sense to you? Can you find a pair of films that are very _dissimilar_?"
   ]
  },
  {
   "cell_type": "code",
   "execution_count": 81,
   "metadata": {
    "collapsed": false
   },
   "outputs": [
    {
     "name": "stdout",
     "output_type": "stream",
     "text": [
      "Toy Story (1995)\n",
      "Army of Darkness (1993)\n",
      "Cosine similarity: 0.763\n"
     ]
    }
   ],
   "source": [
    "# Code to help you search for a movie title\n",
    "partial_title = \"The\"\n",
    "indexed_items[indexed_items['title'].str.contains(partial_title)]\n",
    "\n",
    "# Your code here\n",
    "print_similarity(1, 184, item_embeddings, indexed_items[\"title\"])"
   ]
  },
  {
   "cell_type": "markdown",
   "metadata": {
    "collapsed": false
   },
   "source": [
    "Sometimes, even without knowing anything about a user, we can recommend films by asking them about a film that they do like. The code below compares the similarity of a given film to all others, and returns the most similar films."
   ]
  },
  {
   "cell_type": "code",
   "execution_count": null,
   "metadata": {},
   "outputs": [],
   "source": [
    "def most_similar(item_id, item_embeddings, titles,\n",
    "                 top_n=30):\n",
    "    # Compute the cosine similarity between the item and all other items\n",
    "    sims = cosine_similarity(item_embeddings[item_id].reshape(1, -1),\n",
    "                             item_embeddings).ravel()\n",
    "    \n",
    "    # [::-1] makes it possible to reverse the order of a numpy\n",
    "    # array, this is required because most similar items have\n",
    "    # a larger cosine similarity value\n",
    "    sorted_indexes = np.argsort(sims)[::-1]\n",
    "    idxs = sorted_indexes[0:top_n]\n",
    "    return list(zip(idxs, titles[idxs], sims[idxs]))\n",
    "\n",
    "# Find the most similar films to \"Star Wars\"\n",
    "most_similar(50, item_embeddings, indexed_items[\"title\"], top_n=10)"
   ]
  },
  {
   "cell_type": "code",
   "execution_count": null,
   "metadata": {},
   "outputs": [],
   "source": [
    "# Find the most similar films to \"Star Trek VI: The Undiscovered Country\"\n",
    "most_similar(227, item_embeddings, indexed_items[\"title\"], top_n=10)"
   ]
  },
  {
   "cell_type": "markdown",
   "metadata": {},
   "source": [
    "The similarities do not always make sense: the number of ratings is low and the embedding  does not automatically capture semantic relationships in that context. Better representations arise with higher number of ratings, and less overfitting  in models or maybe better loss function, such as those based on implicit feedback."
   ]
  },
  {
   "cell_type": "markdown",
   "metadata": {},
   "source": [
    "### Visualizing embeddings using TSNE\n",
    "\n",
    "The [t-SNE](https://en.wikipedia.org/wiki/T-distributed_stochastic_neighbor_embedding) algorithm enables us to visualize high dimensional vectors in a 2D space by preserving local neighborhoods. We can use it to get a 2D visualization of the item embeddings and see if similar items are close in the embedding space."
   ]
  },
  {
   "cell_type": "code",
   "execution_count": 86,
   "metadata": {},
   "outputs": [],
   "source": [
    "from sklearn.manifold import TSNE\n",
    "\n",
    "item_tsne = TSNE(learning_rate=\"auto\", init=\"pca\", perplexity=30).fit_transform(item_embeddings)"
   ]
  },
  {
   "cell_type": "code",
   "execution_count": 87,
   "metadata": {},
   "outputs": [
    {
     "data": {
      "image/png": "[encoded data removed]",
      "text/plain": [
       "<Figure size 1000x1000 with 1 Axes>"
      ]
     },
     "metadata": {},
     "output_type": "display_data"
    }
   ],
   "source": [
    "import matplotlib.pyplot as plt\n",
    "\n",
    "plt.figure(figsize=(10, 10))\n",
    "plt.scatter(item_tsne[:, 0], item_tsne[:, 1]);\n",
    "plt.xticks(()); plt.yticks(());\n",
    "plt.show()"
   ]
  },
  {
   "cell_type": "code",
   "execution_count": 88,
   "metadata": {
    "tags": []
   },
   "outputs": [
    {
     "ename": "ValueError",
     "evalue": "Mime type rendering requires nbformat>=4.2.0 but it is not installed",
     "output_type": "error",
     "traceback": [
      "\u001b[1;31m---------------------------------------------------------------------------\u001b[0m",
      "\u001b[1;31mValueError\u001b[0m                                Traceback (most recent call last)",
      "File \u001b[1;32mc:\\Users\\JustinOkeke\\Continuum\\envs\\data_exploration\\Lib\\site-packages\\IPython\\core\\formatters.py:925\u001b[0m, in \u001b[0;36mIPythonDisplayFormatter.__call__\u001b[1;34m(self, obj)\u001b[0m\n\u001b[0;32m    923\u001b[0m method \u001b[38;5;241m=\u001b[39m get_real_method(obj, \u001b[38;5;28mself\u001b[39m\u001b[38;5;241m.\u001b[39mprint_method)\n\u001b[0;32m    924\u001b[0m \u001b[38;5;28;01mif\u001b[39;00m method \u001b[38;5;129;01mis\u001b[39;00m \u001b[38;5;129;01mnot\u001b[39;00m \u001b[38;5;28;01mNone\u001b[39;00m:\n\u001b[1;32m--> 925\u001b[0m     \u001b[43mmethod\u001b[49m\u001b[43m(\u001b[49m\u001b[43m)\u001b[49m\n\u001b[0;32m    926\u001b[0m     \u001b[38;5;28;01mreturn\u001b[39;00m \u001b[38;5;28;01mTrue\u001b[39;00m\n",
      "File \u001b[1;32mc:\\Users\\JustinOkeke\\Continuum\\envs\\data_exploration\\Lib\\site-packages\\plotly\\basedatatypes.py:832\u001b[0m, in \u001b[0;36mBaseFigure._ipython_display_\u001b[1;34m(self)\u001b[0m\n\u001b[0;32m    829\u001b[0m \u001b[38;5;28;01mimport\u001b[39;00m \u001b[38;5;21;01mplotly\u001b[39;00m\u001b[38;5;21;01m.\u001b[39;00m\u001b[38;5;21;01mio\u001b[39;00m \u001b[38;5;28;01mas\u001b[39;00m \u001b[38;5;21;01mpio\u001b[39;00m\n\u001b[0;32m    831\u001b[0m \u001b[38;5;28;01mif\u001b[39;00m pio\u001b[38;5;241m.\u001b[39mrenderers\u001b[38;5;241m.\u001b[39mrender_on_display \u001b[38;5;129;01mand\u001b[39;00m pio\u001b[38;5;241m.\u001b[39mrenderers\u001b[38;5;241m.\u001b[39mdefault:\n\u001b[1;32m--> 832\u001b[0m     \u001b[43mpio\u001b[49m\u001b[38;5;241;43m.\u001b[39;49m\u001b[43mshow\u001b[49m\u001b[43m(\u001b[49m\u001b[38;5;28;43mself\u001b[39;49m\u001b[43m)\u001b[49m\n\u001b[0;32m    833\u001b[0m \u001b[38;5;28;01melse\u001b[39;00m:\n\u001b[0;32m    834\u001b[0m     \u001b[38;5;28mprint\u001b[39m(\u001b[38;5;28mrepr\u001b[39m(\u001b[38;5;28mself\u001b[39m))\n",
      "File \u001b[1;32mc:\\Users\\JustinOkeke\\Continuum\\envs\\data_exploration\\Lib\\site-packages\\plotly\\io\\_renderers.py:394\u001b[0m, in \u001b[0;36mshow\u001b[1;34m(fig, renderer, validate, **kwargs)\u001b[0m\n\u001b[0;32m    389\u001b[0m         \u001b[38;5;28;01mraise\u001b[39;00m \u001b[38;5;167;01mValueError\u001b[39;00m(\n\u001b[0;32m    390\u001b[0m             \u001b[38;5;124m\"\u001b[39m\u001b[38;5;124mMime type rendering requires ipython but it is not installed\u001b[39m\u001b[38;5;124m\"\u001b[39m\n\u001b[0;32m    391\u001b[0m         )\n\u001b[0;32m    393\u001b[0m     \u001b[38;5;28;01mif\u001b[39;00m \u001b[38;5;129;01mnot\u001b[39;00m nbformat \u001b[38;5;129;01mor\u001b[39;00m Version(nbformat\u001b[38;5;241m.\u001b[39m__version__) \u001b[38;5;241m<\u001b[39m Version(\u001b[38;5;124m\"\u001b[39m\u001b[38;5;124m4.2.0\u001b[39m\u001b[38;5;124m\"\u001b[39m):\n\u001b[1;32m--> 394\u001b[0m         \u001b[38;5;28;01mraise\u001b[39;00m \u001b[38;5;167;01mValueError\u001b[39;00m(\n\u001b[0;32m    395\u001b[0m             \u001b[38;5;124m\"\u001b[39m\u001b[38;5;124mMime type rendering requires nbformat>=4.2.0 but it is not installed\u001b[39m\u001b[38;5;124m\"\u001b[39m\n\u001b[0;32m    396\u001b[0m         )\n\u001b[0;32m    398\u001b[0m     ipython_display\u001b[38;5;241m.\u001b[39mdisplay(bundle, raw\u001b[38;5;241m=\u001b[39m\u001b[38;5;28;01mTrue\u001b[39;00m)\n\u001b[0;32m    400\u001b[0m \u001b[38;5;66;03m# external renderers\u001b[39;00m\n",
      "\u001b[1;31mValueError\u001b[0m: Mime type rendering requires nbformat>=4.2.0 but it is not installed"
     ]
    },
    {
     "data": {
      "application/vnd.plotly.v1+json": {
       "config": {
        "plotlyServerURL": "https://plot.ly"
       },
       "data": [
        {
         "customdata": [
          [
           1,
           "Toy Story (1995)",
           452
          ],
          [
           2,
           "GoldenEye (1995)",
           131
          ],
          [
           3,
           "Four Rooms (1995)",
           90
          ],
          [
           4,
           "Get Shorty (1995)",
           209
          ],
          [
           5,
           "Copycat (1995)",
           86
          ],
          [
           6,
           "Shanghai Triad (Yao a yao yao dao waipo qiao) (1995)",
           26
          ],
          [
           7,
           "Twelve Monkeys (1995)",
           392
          ],
          [
           8,
           "Babe (1995)",
           219
          ],
          [
           9,
           "Dead Man Walking (1995)",
           299
          ],
          [
           10,
           "Richard III (1995)",
           89
          ],
          [
           11,
           "Seven (Se7en) (1995)",
           236
          ],
          [
           12,
           "Usual Suspects, The (1995)",
           267
          ],
          [
           13,
           "Mighty Aphrodite (1995)",
           184
          ],
          [
           14,
           "Postino, Il (1994)",
           183
          ],
          [
           15,
           "Mr. Holland's Opus (1995)",
           293
          ],
          [
           16,
           "French Twist (Gazon maudit) (1995)",
           39
          ],
          [
           17,
           "From Dusk Till Dawn (1996)",
           92
          ],
          [
           18,
           "White Balloon, The (1995)",
           10
          ],
          [
           19,
           "Antonia's Line (1995)",
           69
          ],
          [
           20,
           "Angels and Insects (1995)",
           72
          ],
          [
           21,
           "Muppet Treasure Island (1996)",
           84
          ],
          [
           22,
           "Braveheart (1995)",
           297
          ],
          [
           23,
           "Taxi Driver (1976)",
           182
          ],
          [
           24,
           "Rumble in the Bronx (1995)",
           174
          ],
          [
           25,
           "Birdcage, The (1996)",
           293
          ],
          [
           26,
           "Brothers McMullen, The (1995)",
           73
          ],
          [
           27,
           "Bad Boys (1995)",
           57
          ],
          [
           28,
           "Apollo 13 (1995)",
           276
          ],
          [
           29,
           "Batman Forever (1995)",
           114
          ],
          [
           30,
           "Belle de jour (1967)",
           37
          ],
          [
           31,
           "Crimson Tide (1995)",
           154
          ],
          [
           32,
           "Crumb (1994)",
           81
          ],
          [
           33,
           "Desperado (1995)",
           97
          ],
          [
           34,
           "Doom Generation, The (1995)",
           7
          ],
          [
           35,
           "Free Willy 2: The Adventure Home (1995)",
           11
          ],
          [
           36,
           "Mad Love (1995)",
           13
          ],
          [
           37,
           "Nadja (1994)",
           8
          ],
          [
           38,
           "Net, The (1995)",
           120
          ],
          [
           39,
           "Strange Days (1995)",
           87
          ],
          [
           40,
           "To Wong Foo, Thanks for Everything! Julie Newmar (1995)",
           57
          ],
          [
           41,
           "Billy Madison (1995)",
           37
          ],
          [
           42,
           "Clerks (1994)",
           148
          ],
          [
           43,
           "Disclosure (1994)",
           40
          ],
          [
           44,
           "Dolores Claiborne (1994)",
           79
          ],
          [
           45,
           "Eat Drink Man Woman (1994)",
           80
          ],
          [
           46,
           "Exotica (1994)",
           27
          ],
          [
           47,
           "Ed Wood (1994)",
           133
          ],
          [
           48,
           "Hoop Dreams (1994)",
           117
          ],
          [
           49,
           "I.Q. (1994)",
           81
          ],
          [
           50,
           "Star Wars (1977)",
           583
          ],
          [
           51,
           "Legends of the Fall (1994)",
           81
          ],
          [
           52,
           "Madness of King George, The (1994)",
           91
          ],
          [
           53,
           "Natural Born Killers (1994)",
           128
          ],
          [
           54,
           "Outbreak (1995)",
           104
          ],
          [
           55,
           "Professional, The (1994)",
           149
          ],
          [
           56,
           "Pulp Fiction (1994)",
           394
          ],
          [
           57,
           "Priest (1994)",
           40
          ],
          [
           58,
           "Quiz Show (1994)",
           175
          ],
          [
           59,
           "Three Colors: Red (1994)",
           83
          ],
          [
           60,
           "Three Colors: Blue (1993)",
           64
          ],
          [
           61,
           "Three Colors: White (1994)",
           59
          ],
          [
           62,
           "Stargate (1994)",
           127
          ],
          [
           63,
           "Santa Clause, The (1994)",
           82
          ],
          [
           64,
           "Shawshank Redemption, The (1994)",
           283
          ],
          [
           65,
           "What's Eating Gilbert Grape (1993)",
           115
          ],
          [
           66,
           "While You Were Sleeping (1995)",
           162
          ],
          [
           67,
           "Ace Ventura: Pet Detective (1994)",
           103
          ],
          [
           68,
           "Crow, The (1994)",
           134
          ],
          [
           69,
           "Forrest Gump (1994)",
           321
          ],
          [
           70,
           "Four Weddings and a Funeral (1994)",
           251
          ],
          [
           71,
           "Lion King, The (1994)",
           220
          ],
          [
           72,
           "Mask, The (1994)",
           129
          ],
          [
           73,
           "Maverick (1994)",
           128
          ],
          [
           74,
           "Faster Pussycat! Kill! Kill! (1965)",
           7
          ],
          [
           75,
           "Brother Minister: The Assassination of Malcolm X (1994)",
           5
          ],
          [
           76,
           "Carlito's Way (1993)",
           54
          ],
          [
           77,
           "Firm, The (1993)",
           151
          ],
          [
           78,
           "Free Willy (1993)",
           33
          ],
          [
           79,
           "Fugitive, The (1993)",
           336
          ],
          [
           80,
           "Hot Shots! Part Deux (1993)",
           68
          ],
          [
           81,
           "Hudsucker Proxy, The (1994)",
           110
          ],
          [
           82,
           "Jurassic Park (1993)",
           261
          ],
          [
           83,
           "Much Ado About Nothing (1993)",
           176
          ],
          [
           84,
           "Robert A. Heinlein's The Puppet Masters (1994)",
           18
          ],
          [
           85,
           "Ref, The (1994)",
           58
          ],
          [
           86,
           "Remains of the Day, The (1993)",
           150
          ],
          [
           87,
           "Searching for Bobby Fischer (1993)",
           138
          ],
          [
           88,
           "Sleepless in Seattle (1993)",
           213
          ],
          [
           89,
           "Blade Runner (1982)",
           275
          ],
          [
           90,
           "So I Married an Axe Murderer (1993)",
           95
          ],
          [
           91,
           "Nightmare Before Christmas, The (1993)",
           143
          ],
          [
           92,
           "True Romance (1993)",
           104
          ],
          [
           93,
           "Welcome to the Dollhouse (1995)",
           112
          ],
          [
           94,
           "Home Alone (1990)",
           137
          ],
          [
           95,
           "Aladdin (1992)",
           219
          ],
          [
           96,
           "Terminator 2: Judgment Day (1991)",
           295
          ],
          [
           97,
           "Dances with Wolves (1990)",
           256
          ],
          [
           98,
           "Silence of the Lambs, The (1991)",
           390
          ],
          [
           99,
           "Snow White and the Seven Dwarfs (1937)",
           172
          ],
          [
           100,
           "Fargo (1996)",
           508
          ],
          [
           101,
           "Heavy Metal (1981)",
           73
          ],
          [
           102,
           "Aristocats, The (1970)",
           54
          ],
          [
           103,
           "All Dogs Go to Heaven 2 (1996)",
           15
          ],
          [
           104,
           "Theodore Rex (1995)",
           5
          ],
          [
           105,
           "Sgt. Bilko (1996)",
           74
          ],
          [
           106,
           "Diabolique (1996)",
           71
          ],
          [
           107,
           "Moll Flanders (1996)",
           42
          ],
          [
           108,
           "Kids in the Hall: Brain Candy (1996)",
           65
          ],
          [
           109,
           "Mystery Science Theater 3000: The Movie (1996)",
           130
          ],
          [
           110,
           "Operation Dumbo Drop (1995)",
           31
          ],
          [
           111,
           "Truth About Cats & Dogs, The (1996)",
           272
          ],
          [
           112,
           "Flipper (1996)",
           20
          ],
          [
           113,
           "Horseman on the Roof, The (Hussard sur le toit, Le) (1995)",
           9
          ],
          [
           114,
           "Wallace & Gromit: The Best of Aardman Animation (1996)",
           67
          ],
          [
           115,
           "Haunted World of Edward D. Wood Jr., The (1995)",
           15
          ],
          [
           116,
           "Cold Comfort Farm (1995)",
           125
          ],
          [
           117,
           "Rock, The (1996)",
           378
          ],
          [
           118,
           "Twister (1996)",
           293
          ],
          [
           119,
           "Maya Lin: A Strong Clear Vision (1994)",
           4
          ],
          [
           120,
           "Striptease (1996)",
           67
          ],
          [
           121,
           "Independence Day (ID4) (1996)",
           429
          ],
          [
           122,
           "Cable Guy, The (1996)",
           106
          ],
          [
           123,
           "Frighteners, The (1996)",
           115
          ],
          [
           124,
           "Lone Star (1996)",
           187
          ],
          [
           125,
           "Phenomenon (1996)",
           244
          ],
          [
           126,
           "Spitfire Grill, The (1996)",
           97
          ],
          [
           127,
           "Godfather, The (1972)",
           413
          ],
          [
           128,
           "Supercop (1992)",
           65
          ],
          [
           129,
           "Bound (1996)",
           129
          ],
          [
           130,
           "Kansas City (1996)",
           23
          ],
          [
           131,
           "Breakfast at Tiffany's (1961)",
           95
          ],
          [
           132,
           "Wizard of Oz, The (1939)",
           246
          ],
          [
           133,
           "Gone with the Wind (1939)",
           171
          ],
          [
           134,
           "Citizen Kane (1941)",
           198
          ],
          [
           135,
           "2001: A Space Odyssey (1968)",
           259
          ],
          [
           136,
           "Mr. Smith Goes to Washington (1939)",
           105
          ],
          [
           137,
           "Big Night (1996)",
           171
          ],
          [
           138,
           "D3: The Mighty Ducks (1996)",
           19
          ],
          [
           139,
           "Love Bug, The (1969)",
           50
          ],
          [
           140,
           "Homeward Bound: The Incredible Journey (1993)",
           61
          ],
          [
           141,
           "20,000 Leagues Under the Sea (1954)",
           72
          ],
          [
           142,
           "Bedknobs and Broomsticks (1971)",
           57
          ],
          [
           143,
           "Sound of Music, The (1965)",
           222
          ],
          [
           144,
           "Die Hard (1988)",
           243
          ],
          [
           145,
           "Lawnmower Man, The (1992)",
           65
          ],
          [
           146,
           "Unhook the Stars (1996)",
           10
          ],
          [
           147,
           "Long Kiss Goodnight, The (1996)",
           185
          ],
          [
           148,
           "Ghost and the Darkness, The (1996)",
           128
          ],
          [
           149,
           "Jude (1996)",
           23
          ],
          [
           150,
           "Swingers (1996)",
           157
          ],
          [
           151,
           "Willy Wonka and the Chocolate Factory (1971)",
           326
          ],
          [
           152,
           "Sleeper (1973)",
           82
          ],
          [
           153,
           "Fish Called Wanda, A (1988)",
           247
          ],
          [
           154,
           "Monty Python's Life of Brian (1979)",
           174
          ],
          [
           155,
           "Dirty Dancing (1987)",
           98
          ],
          [
           156,
           "Reservoir Dogs (1992)",
           148
          ],
          [
           157,
           "Platoon (1986)",
           127
          ],
          [
           158,
           "Weekend at Bernie's (1989)",
           60
          ],
          [
           159,
           "Basic Instinct (1992)",
           101
          ],
          [
           160,
           "Glengarry Glen Ross (1992)",
           69
          ],
          [
           161,
           "Top Gun (1986)",
           220
          ],
          [
           162,
           "On Golden Pond (1981)",
           106
          ],
          [
           163,
           "Return of the Pink Panther, The (1974)",
           92
          ],
          [
           164,
           "Abyss, The (1989)",
           151
          ],
          [
           165,
           "Jean de Florette (1986)",
           64
          ],
          [
           166,
           "Manon of the Spring (Manon des sources) (1986)",
           58
          ],
          [
           167,
           "Private Benjamin (1980)",
           67
          ],
          [
           168,
           "Monty Python and the Holy Grail (1974)",
           316
          ],
          [
           169,
           "Wrong Trousers, The (1993)",
           118
          ],
          [
           170,
           "Cinema Paradiso (1988)",
           121
          ],
          [
           171,
           "Delicatessen (1991)",
           65
          ],
          [
           172,
           "Empire Strikes Back, The (1980)",
           367
          ],
          [
           173,
           "Princess Bride, The (1987)",
           324
          ],
          [
           174,
           "Raiders of the Lost Ark (1981)",
           420
          ],
          [
           175,
           "Brazil (1985)",
           208
          ],
          [
           176,
           "Aliens (1986)",
           284
          ],
          [
           177,
           "Good, The Bad and The Ugly, The (1966)",
           137
          ],
          [
           178,
           "12 Angry Men (1957)",
           125
          ],
          [
           179,
           "Clockwork Orange, A (1971)",
           221
          ],
          [
           180,
           "Apocalypse Now (1979)",
           221
          ],
          [
           181,
           "Return of the Jedi (1983)",
           507
          ],
          [
           182,
           "GoodFellas (1990)",
           226
          ],
          [
           183,
           "Alien (1979)",
           291
          ],
          [
           184,
           "Army of Darkness (1993)",
           116
          ],
          [
           185,
           "Psycho (1960)",
           239
          ],
          [
           186,
           "Blues Brothers, The (1980)",
           251
          ],
          [
           187,
           "Godfather: Part II, The (1974)",
           209
          ],
          [
           188,
           "Full Metal Jacket (1987)",
           170
          ],
          [
           189,
           "Grand Day Out, A (1992)",
           66
          ],
          [
           190,
           "Henry V (1989)",
           124
          ],
          [
           191,
           "Amadeus (1984)",
           276
          ],
          [
           192,
           "Raging Bull (1980)",
           116
          ],
          [
           193,
           "Right Stuff, The (1983)",
           157
          ],
          [
           194,
           "Sting, The (1973)",
           241
          ],
          [
           195,
           "Terminator, The (1984)",
           301
          ],
          [
           196,
           "Dead Poets Society (1989)",
           251
          ],
          [
           197,
           "Graduate, The (1967)",
           239
          ],
          [
           198,
           "Nikita (La Femme Nikita) (1990)",
           127
          ],
          [
           199,
           "Bridge on the River Kwai, The (1957)",
           165
          ],
          [
           200,
           "Shining, The (1980)",
           206
          ],
          [
           201,
           "Evil Dead II (1987)",
           89
          ],
          [
           202,
           "Groundhog Day (1993)",
           280
          ],
          [
           203,
           "Unforgiven (1992)",
           182
          ],
          [
           204,
           "Back to the Future (1985)",
           350
          ],
          [
           205,
           "Patton (1970)",
           136
          ],
          [
           206,
           "Akira (1988)",
           50
          ],
          [
           207,
           "Cyrano de Bergerac (1990)",
           66
          ],
          [
           208,
           "Young Frankenstein (1974)",
           200
          ],
          [
           209,
           "This Is Spinal Tap (1984)",
           191
          ],
          [
           210,
           "Indiana Jones and the Last Crusade (1989)",
           331
          ],
          [
           211,
           "M*A*S*H (1970)",
           206
          ],
          [
           212,
           "Unbearable Lightness of Being, The (1988)",
           92
          ],
          [
           213,
           "Room with a View, A (1986)",
           134
          ],
          [
           214,
           "Pink Floyd - The Wall (1982)",
           114
          ],
          [
           215,
           "Field of Dreams (1989)",
           212
          ],
          [
           216,
           "When Harry Met Sally... (1989)",
           290
          ],
          [
           217,
           "Bram Stoker's Dracula (1992)",
           120
          ],
          [
           218,
           "Cape Fear (1991)",
           171
          ],
          [
           219,
           "Nightmare on Elm Street, A (1984)",
           111
          ],
          [
           220,
           "Mirror Has Two Faces, The (1996)",
           66
          ],
          [
           221,
           "Breaking the Waves (1996)",
           74
          ],
          [
           222,
           "Star Trek: First Contact (1996)",
           365
          ],
          [
           223,
           "Sling Blade (1996)",
           136
          ],
          [
           224,
           "Ridicule (1996)",
           44
          ],
          [
           225,
           "101 Dalmatians (1996)",
           109
          ],
          [
           226,
           "Die Hard 2 (1990)",
           166
          ],
          [
           227,
           "Star Trek VI: The Undiscovered Country (1991)",
           161
          ],
          [
           228,
           "Star Trek: The Wrath of Khan (1982)",
           244
          ],
          [
           229,
           "Star Trek III: The Search for Spock (1984)",
           171
          ],
          [
           230,
           "Star Trek IV: The Voyage Home (1986)",
           199
          ],
          [
           231,
           "Batman Returns (1992)",
           142
          ],
          [
           232,
           "Young Guns (1988)",
           101
          ],
          [
           233,
           "Under Siege (1992)",
           124
          ],
          [
           234,
           "Jaws (1975)",
           280
          ],
          [
           235,
           "Mars Attacks! (1996)",
           217
          ],
          [
           236,
           "Citizen Ruth (1996)",
           45
          ],
          [
           237,
           "Jerry Maguire (1996)",
           384
          ],
          [
           238,
           "Raising Arizona (1987)",
           256
          ],
          [
           239,
           "Sneakers (1992)",
           150
          ],
          [
           240,
           "Beavis and Butt-head Do America (1996)",
           156
          ],
          [
           241,
           "Last of the Mohicans, The (1992)",
           128
          ],
          [
           242,
           "Kolya (1996)",
           117
          ],
          [
           243,
           "Jungle2Jungle (1997)",
           132
          ],
          [
           244,
           "Smilla's Sense of Snow (1997)",
           48
          ],
          [
           245,
           "Devil's Own, The (1997)",
           240
          ],
          [
           246,
           "Chasing Amy (1997)",
           124
          ],
          [
           247,
           "Turbo: A Power Rangers Movie (1997)",
           5
          ],
          [
           248,
           "Grosse Pointe Blank (1997)",
           160
          ],
          [
           249,
           "Austin Powers: International Man of Mystery (1997)",
           130
          ],
          [
           250,
           "Fifth Element, The (1997)",
           197
          ],
          [
           251,
           "Shall We Dance? (1996)",
           46
          ],
          [
           252,
           "Lost World: Jurassic Park, The (1997)",
           158
          ],
          [
           253,
           "Pillow Book, The (1995)",
           26
          ],
          [
           254,
           "Batman & Robin (1997)",
           62
          ],
          [
           255,
           "My Best Friend's Wedding (1997)",
           172
          ],
          [
           256,
           "When the Cats Away (Chacun cherche son chat) (1996)",
           16
          ],
          [
           257,
           "Men in Black (1997)",
           303
          ],
          [
           258,
           "Contact (1997)",
           509
          ],
          [
           259,
           "George of the Jungle (1997)",
           162
          ],
          [
           260,
           "Event Horizon (1997)",
           127
          ],
          [
           261,
           "Air Bud (1997)",
           43
          ],
          [
           262,
           "In the Company of Men (1997)",
           66
          ],
          [
           263,
           "Steel (1997)",
           19
          ],
          [
           264,
           "Mimic (1997)",
           101
          ],
          [
           265,
           "Hunt for Red October, The (1990)",
           227
          ],
          [
           266,
           "Kull the Conqueror (1997)",
           35
          ],
          [
           267,
           "unknown",
           9
          ],
          [
           268,
           "Chasing Amy (1997)",
           255
          ],
          [
           269,
           "Full Monty, The (1997)",
           315
          ],
          [
           270,
           "Gattaca (1997)",
           136
          ],
          [
           271,
           "Starship Troopers (1997)",
           211
          ],
          [
           272,
           "Good Will Hunting (1997)",
           198
          ],
          [
           273,
           "Heat (1995)",
           223
          ],
          [
           274,
           "Sabrina (1995)",
           190
          ],
          [
           275,
           "Sense and Sensibility (1995)",
           268
          ],
          [
           276,
           "Leaving Las Vegas (1995)",
           298
          ],
          [
           277,
           "Restoration (1995)",
           71
          ],
          [
           278,
           "Bed of Roses (1996)",
           60
          ],
          [
           279,
           "Once Upon a Time... When We Were Colored (1995)",
           28
          ],
          [
           280,
           "Up Close and Personal (1996)",
           85
          ],
          [
           281,
           "River Wild, The (1994)",
           146
          ],
          [
           282,
           "Time to Kill, A (1996)",
           232
          ],
          [
           283,
           "Emma (1996)",
           177
          ],
          [
           284,
           "Tin Cup (1996)",
           193
          ],
          [
           285,
           "Secrets & Lies (1996)",
           162
          ],
          [
           286,
           "English Patient, The (1996)",
           481
          ],
          [
           287,
           "Marvin's Room (1996)",
           78
          ],
          [
           288,
           "Scream (1996)",
           478
          ],
          [
           289,
           "Evita (1996)",
           259
          ],
          [
           290,
           "Fierce Creatures (1997)",
           96
          ],
          [
           291,
           "Absolute Power (1997)",
           127
          ],
          [
           292,
           "Rosewood (1997)",
           114
          ],
          [
           293,
           "Donnie Brasco (1997)",
           147
          ],
          [
           294,
           "Liar Liar (1997)",
           485
          ],
          [
           295,
           "Breakdown (1997)",
           77
          ],
          [
           296,
           "Promesse, La (1996)",
           6
          ],
          [
           297,
           "Ulee's Gold (1997)",
           50
          ],
          [
           298,
           "Face/Off (1997)",
           194
          ],
          [
           299,
           "Hoodlum (1997)",
           73
          ],
          [
           300,
           "Air Force One (1997)",
           431
          ],
          [
           301,
           "In & Out (1997)",
           230
          ],
          [
           302,
           "L.A. Confidential (1997)",
           297
          ],
          [
           303,
           "Ulee's Gold (1997)",
           134
          ],
          [
           304,
           "Fly Away Home (1996)",
           149
          ],
          [
           305,
           "Ice Storm, The (1997)",
           87
          ],
          [
           306,
           "Mrs. Brown (Her Majesty, Mrs. Brown) (1997)",
           96
          ],
          [
           307,
           "Devil's Advocate, The (1997)",
           188
          ],
          [
           308,
           "FairyTale: A True Story (1997)",
           30
          ],
          [
           309,
           "Deceiver (1997)",
           28
          ],
          [
           310,
           "Rainmaker, The (1997)",
           145
          ],
          [
           311,
           "Wings of the Dove, The (1997)",
           75
          ],
          [
           312,
           "Midnight in the Garden of Good and Evil (1997)",
           80
          ],
          [
           313,
           "Titanic (1997)",
           350
          ],
          [
           314,
           "3 Ninjas: High Noon At Mega Mountain (1998)",
           5
          ],
          [
           315,
           "Apt Pupil (1998)",
           160
          ],
          [
           316,
           "As Good As It Gets (1997)",
           112
          ],
          [
           317,
           "In the Name of the Father (1993)",
           102
          ],
          [
           318,
           "Schindler's List (1993)",
           298
          ],
          [
           319,
           "Everyone Says I Love You (1996)",
           168
          ],
          [
           320,
           "Paradise Lost: The Child Murders at Robin Hood Hills (1996)",
           20
          ],
          [
           321,
           "Mother (1996)",
           169
          ],
          [
           322,
           "Murder at 1600 (1997)",
           218
          ],
          [
           323,
           "Dante's Peak (1997)",
           240
          ],
          [
           324,
           "Lost Highway (1997)",
           125
          ],
          [
           325,
           "Crash (1996)",
           128
          ],
          [
           326,
           "G.I. Jane (1997)",
           175
          ],
          [
           327,
           "Cop Land (1997)",
           175
          ],
          [
           328,
           "Conspiracy Theory (1997)",
           295
          ],
          [
           329,
           "Desperate Measures (1998)",
           45
          ],
          [
           330,
           "187 (1997)",
           41
          ],
          [
           331,
           "Edge, The (1997)",
           113
          ],
          [
           332,
           "Kiss the Girls (1997)",
           143
          ],
          [
           333,
           "Game, The (1997)",
           251
          ],
          [
           334,
           "U Turn (1997)",
           64
          ],
          [
           335,
           "How to Be a Player (1997)",
           21
          ],
          [
           336,
           "Playing God (1997)",
           43
          ],
          [
           337,
           "House of Yes, The (1997)",
           18
          ],
          [
           338,
           "Bean (1997)",
           91
          ],
          [
           339,
           "Mad City (1997)",
           47
          ],
          [
           340,
           "Boogie Nights (1997)",
           189
          ],
          [
           341,
           "Critical Care (1997)",
           11
          ],
          [
           342,
           "Man Who Knew Too Little, The (1997)",
           52
          ],
          [
           343,
           "Alien: Resurrection (1997)",
           124
          ],
          [
           344,
           "Apostle, The (1997)",
           55
          ],
          [
           345,
           "Deconstructing Harry (1997)",
           65
          ],
          [
           346,
           "Jackie Brown (1997)",
           126
          ],
          [
           347,
           "Wag the Dog (1997)",
           137
          ],
          [
           348,
           "Desperate Measures (1998)",
           27
          ],
          [
           349,
           "Hard Rain (1998)",
           31
          ],
          [
           350,
           "Fallen (1998)",
           41
          ],
          [
           351,
           "Prophecy II, The (1998)",
           20
          ],
          [
           352,
           "Spice World (1997)",
           26
          ],
          [
           353,
           "Deep Rising (1998)",
           14
          ],
          [
           354,
           "Wedding Singer, The (1998)",
           72
          ],
          [
           355,
           "Sphere (1998)",
           41
          ],
          [
           356,
           "Client, The (1994)",
           97
          ],
          [
           357,
           "One Flew Over the Cuckoo's Nest (1975)",
           264
          ],
          [
           358,
           "Spawn (1997)",
           143
          ],
          [
           359,
           "Assignment, The (1997)",
           18
          ],
          [
           360,
           "Wonderland (1997)",
           10
          ],
          [
           361,
           "Incognito (1997)",
           10
          ],
          [
           362,
           "Blues Brothers 2000 (1998)",
           28
          ],
          [
           363,
           "Sudden Death (1995)",
           47
          ],
          [
           364,
           "Ace Ventura: When Nature Calls (1995)",
           37
          ],
          [
           365,
           "Powder (1995)",
           48
          ],
          [
           366,
           "Dangerous Minds (1995)",
           47
          ],
          [
           367,
           "Clueless (1995)",
           170
          ],
          [
           368,
           "Bio-Dome (1996)",
           31
          ],
          [
           369,
           "Black Sheep (1996)",
           55
          ],
          [
           370,
           "Mary Reilly (1996)",
           39
          ],
          [
           371,
           "Bridges of Madison County, The (1995)",
           67
          ],
          [
           372,
           "Jeffrey (1995)",
           34
          ],
          [
           373,
           "Judge Dredd (1995)",
           39
          ],
          [
           374,
           "Mighty Morphin Power Rangers: The Movie (1995)",
           11
          ],
          [
           375,
           "Showgirls (1995)",
           23
          ],
          [
           376,
           "Houseguest (1994)",
           24
          ],
          [
           377,
           "Heavyweights (1994)",
           13
          ],
          [
           378,
           "Miracle on 34th Street (1994)",
           101
          ],
          [
           379,
           "Tales From the Crypt Presents: Demon Knight (1995)",
           43
          ],
          [
           380,
           "Star Trek: Generations (1994)",
           116
          ],
          [
           381,
           "Muriel's Wedding (1994)",
           100
          ],
          [
           382,
           "Adventures of Priscilla, Queen of the Desert, The (1994)",
           111
          ],
          [
           383,
           "Flintstones, The (1994)",
           31
          ],
          [
           384,
           "Naked Gun 33 1/3: The Final Insult (1994)",
           69
          ],
          [
           385,
           "True Lies (1994)",
           208
          ],
          [
           386,
           "Addams Family Values (1993)",
           87
          ],
          [
           387,
           "Age of Innocence, The (1993)",
           65
          ],
          [
           388,
           "Beverly Hills Cop III (1994)",
           28
          ],
          [
           389,
           "Black Beauty (1994)",
           27
          ],
          [
           390,
           "Fear of a Black Hat (1993)",
           10
          ],
          [
           391,
           "Last Action Hero (1993)",
           59
          ],
          [
           392,
           "Man Without a Face, The (1993)",
           68
          ],
          [
           393,
           "Mrs. Doubtfire (1993)",
           192
          ],
          [
           394,
           "Radioland Murders (1994)",
           12
          ],
          [
           395,
           "Robin Hood: Men in Tights (1993)",
           56
          ],
          [
           396,
           "Serial Mom (1994)",
           54
          ],
          [
           397,
           "Striking Distance (1993)",
           12
          ],
          [
           398,
           "Super Mario Bros. (1993)",
           26
          ],
          [
           399,
           "Three Musketeers, The (1993)",
           89
          ],
          [
           400,
           "Little Rascals, The (1994)",
           18
          ],
          [
           401,
           "Brady Bunch Movie, The (1995)",
           76
          ],
          [
           402,
           "Ghost (1990)",
           170
          ],
          [
           403,
           "Batman (1989)",
           201
          ],
          [
           404,
           "Pinocchio (1940)",
           101
          ],
          [
           405,
           "Mission: Impossible (1996)",
           344
          ],
          [
           406,
           "Thinner (1996)",
           49
          ],
          [
           407,
           "Spy Hard (1996)",
           43
          ],
          [
           408,
           "Close Shave, A (1995)",
           112
          ],
          [
           409,
           "Jack (1996)",
           70
          ],
          [
           410,
           "Kingpin (1996)",
           162
          ],
          [
           411,
           "Nutty Professor, The (1996)",
           163
          ],
          [
           412,
           "Very Brady Sequel, A (1996)",
           93
          ],
          [
           413,
           "Tales from the Crypt Presents: Bordello of Blood (1996)",
           55
          ],
          [
           414,
           "My Favorite Year (1982)",
           62
          ],
          [
           415,
           "Apple Dumpling Gang, The (1975)",
           25
          ],
          [
           416,
           "Old Yeller (1957)",
           64
          ],
          [
           417,
           "Parent Trap, The (1961)",
           73
          ],
          [
           418,
           "Cinderella (1950)",
           129
          ],
          [
           419,
           "Mary Poppins (1964)",
           178
          ],
          [
           420,
           "Alice in Wonderland (1951)",
           81
          ],
          [
           421,
           "William Shakespeare's Romeo and Juliet (1996)",
           106
          ],
          [
           422,
           "Aladdin and the King of Thieves (1996)",
           26
          ],
          [
           423,
           "E.T. the Extra-Terrestrial (1982)",
           300
          ],
          [
           424,
           "Children of the Corn: The Gathering (1996)",
           19
          ],
          [
           425,
           "Bob Roberts (1992)",
           85
          ],
          [
           426,
           "Transformers: The Movie, The (1986)",
           32
          ],
          [
           427,
           "To Kill a Mockingbird (1962)",
           219
          ],
          [
           428,
           "Harold and Maude (1971)",
           121
          ],
          [
           429,
           "Day the Earth Stood Still, The (1951)",
           97
          ],
          [
           430,
           "Duck Soup (1933)",
           93
          ],
          [
           431,
           "Highlander (1986)",
           153
          ],
          [
           432,
           "Fantasia (1940)",
           174
          ],
          [
           433,
           "Heathers (1989)",
           171
          ],
          [
           434,
           "Forbidden Planet (1956)",
           67
          ],
          [
           435,
           "Butch Cassidy and the Sundance Kid (1969)",
           216
          ],
          [
           436,
           "American Werewolf in London, An (1981)",
           99
          ],
          [
           437,
           "Amityville 1992: It's About Time (1992)",
           5
          ],
          [
           438,
           "Amityville 3-D (1983)",
           6
          ],
          [
           439,
           "Amityville: A New Generation (1993)",
           5
          ],
          [
           440,
           "Amityville II: The Possession (1982)",
           14
          ],
          [
           441,
           "Amityville Horror, The (1979)",
           53
          ],
          [
           442,
           "Amityville Curse, The (1990)",
           4
          ],
          [
           443,
           "Birds, The (1963)",
           162
          ],
          [
           444,
           "Blob, The (1958)",
           46
          ],
          [
           445,
           "Body Snatcher, The (1945)",
           22
          ],
          [
           446,
           "Burnt Offerings (1976)",
           9
          ],
          [
           447,
           "Carrie (1976)",
           121
          ],
          [
           448,
           "Omen, The (1976)",
           85
          ],
          [
           449,
           "Star Trek: The Motion Picture (1979)",
           117
          ],
          [
           450,
           "Star Trek V: The Final Frontier (1989)",
           63
          ],
          [
           451,
           "Grease (1978)",
           170
          ],
          [
           452,
           "Jaws 2 (1978)",
           66
          ],
          [
           453,
           "Jaws 3-D (1983)",
           16
          ],
          [
           454,
           "Bastard Out of Carolina (1996)",
           16
          ],
          [
           455,
           "Jackie Chan's First Strike (1996)",
           145
          ],
          [
           456,
           "Beverly Hills Ninja (1997)",
           48
          ],
          [
           457,
           "Free Willy 3: The Rescue (1997)",
           27
          ],
          [
           458,
           "Nixon (1995)",
           90
          ],
          [
           459,
           "Cry, the Beloved Country (1995)",
           24
          ],
          [
           460,
           "Crossing Guard, The (1995)",
           28
          ],
          [
           461,
           "Smoke (1995)",
           74
          ],
          [
           462,
           "Like Water For Chocolate (Como agua para chocolate) (1992)",
           148
          ],
          [
           463,
           "Secret of Roan Inish, The (1994)",
           71
          ],
          [
           464,
           "Vanya on 42nd Street (1994)",
           27
          ],
          [
           465,
           "Jungle Book, The (1994)",
           85
          ],
          [
           466,
           "Red Rock West (1992)",
           52
          ],
          [
           467,
           "Bronx Tale, A (1993)",
           48
          ],
          [
           468,
           "Rudy (1993)",
           64
          ],
          [
           469,
           "Short Cuts (1993)",
           67
          ],
          [
           470,
           "Tombstone (1993)",
           108
          ],
          [
           471,
           "Courage Under Fire (1996)",
           221
          ],
          [
           472,
           "Dragonheart (1996)",
           158
          ],
          [
           473,
           "James and the Giant Peach (1996)",
           126
          ],
          [
           474,
           "Dr. Strangelove or: How I Learned to Stop Worrying and Love the Bomb (1963)",
           194
          ],
          [
           475,
           "Trainspotting (1996)",
           250
          ],
          [
           476,
           "First Wives Club, The (1996)",
           160
          ],
          [
           477,
           "Matilda (1996)",
           95
          ],
          [
           478,
           "Philadelphia Story, The (1940)",
           104
          ],
          [
           479,
           "Vertigo (1958)",
           179
          ],
          [
           480,
           "North by Northwest (1959)",
           179
          ],
          [
           481,
           "Apartment, The (1960)",
           63
          ],
          [
           482,
           "Some Like It Hot (1959)",
           128
          ],
          [
           483,
           "Casablanca (1942)",
           243
          ],
          [
           484,
           "Maltese Falcon, The (1941)",
           138
          ],
          [
           485,
           "My Fair Lady (1964)",
           125
          ],
          [
           486,
           "Sabrina (1954)",
           64
          ],
          [
           487,
           "Roman Holiday (1953)",
           68
          ],
          [
           488,
           "Sunset Blvd. (1950)",
           65
          ],
          [
           489,
           "Notorious (1946)",
           52
          ],
          [
           490,
           "To Catch a Thief (1955)",
           50
          ],
          [
           491,
           "Adventures of Robin Hood, The (1938)",
           67
          ],
          [
           492,
           "East of Eden (1955)",
           59
          ],
          [
           493,
           "Thin Man, The (1934)",
           60
          ],
          [
           494,
           "His Girl Friday (1940)",
           56
          ],
          [
           495,
           "Around the World in 80 Days (1956)",
           59
          ],
          [
           496,
           "It's a Wonderful Life (1946)",
           231
          ],
          [
           497,
           "Bringing Up Baby (1938)",
           68
          ],
          [
           498,
           "African Queen, The (1951)",
           152
          ],
          [
           499,
           "Cat on a Hot Tin Roof (1958)",
           62
          ],
          [
           500,
           "Fly Away Home (1996)",
           31
          ],
          [
           501,
           "Dumbo (1941)",
           123
          ],
          [
           502,
           "Bananas (1971)",
           57
          ],
          [
           503,
           "Candidate, The (1972)",
           39
          ],
          [
           504,
           "Bonnie and Clyde (1967)",
           122
          ],
          [
           505,
           "Dial M for Murder (1954)",
           68
          ],
          [
           506,
           "Rebel Without a Cause (1955)",
           90
          ],
          [
           507,
           "Streetcar Named Desire, A (1951)",
           98
          ],
          [
           508,
           "People vs. Larry Flynt, The (1996)",
           215
          ],
          [
           509,
           "My Left Foot (1989)",
           121
          ],
          [
           510,
           "Magnificent Seven, The (1954)",
           121
          ],
          [
           511,
           "Lawrence of Arabia (1962)",
           173
          ],
          [
           512,
           "Wings of Desire (1987)",
           57
          ],
          [
           513,
           "Third Man, The (1949)",
           72
          ],
          [
           514,
           "Annie Hall (1977)",
           180
          ],
          [
           515,
           "Boot, Das (1981)",
           201
          ],
          [
           516,
           "Local Hero (1983)",
           63
          ],
          [
           517,
           "Manhattan (1979)",
           91
          ],
          [
           518,
           "Miller's Crossing (1990)",
           89
          ],
          [
           519,
           "Treasure of the Sierra Madre, The (1948)",
           80
          ],
          [
           520,
           "Great Escape, The (1963)",
           124
          ],
          [
           521,
           "Deer Hunter, The (1978)",
           120
          ],
          [
           522,
           "Down by Law (1986)",
           35
          ],
          [
           523,
           "Cool Hand Luke (1967)",
           164
          ],
          [
           524,
           "Great Dictator, The (1940)",
           46
          ],
          [
           525,
           "Big Sleep, The (1946)",
           73
          ],
          [
           526,
           "Ben-Hur (1959)",
           124
          ],
          [
           527,
           "Gandhi (1982)",
           195
          ],
          [
           528,
           "Killing Fields, The (1984)",
           121
          ],
          [
           529,
           "My Life as a Dog (Mitt liv som hund) (1985)",
           93
          ],
          [
           530,
           "Man Who Would Be King, The (1975)",
           80
          ],
          [
           531,
           "Shine (1996)",
           129
          ],
          [
           532,
           "Kama Sutra: A Tale of Love (1996)",
           22
          ],
          [
           533,
           "Daytrippers, The (1996)",
           15
          ],
          [
           534,
           "Traveller (1997)",
           13
          ],
          [
           535,
           "Addicted to Love (1997)",
           54
          ],
          [
           536,
           "Ponette (1996)",
           10
          ],
          [
           537,
           "My Own Private Idaho (1991)",
           30
          ],
          [
           538,
           "Anastasia (1997)",
           66
          ],
          [
           539,
           "Mouse Hunt (1997)",
           44
          ],
          [
           540,
           "Money Train (1995)",
           43
          ],
          [
           541,
           "Mortal Kombat (1995)",
           49
          ],
          [
           542,
           "Pocahontas (1995)",
           51
          ],
          [
           543,
           "Misérables, Les (1995)",
           21
          ],
          [
           544,
           "Things to Do in Denver when You're Dead (1995)",
           71
          ],
          [
           545,
           "Vampire in Brooklyn (1995)",
           12
          ],
          [
           546,
           "Broken Arrow (1996)",
           254
          ],
          [
           547,
           "Young Poisoner's Handbook, The (1995)",
           41
          ],
          [
           548,
           "NeverEnding Story III, The (1994)",
           12
          ],
          [
           549,
           "Rob Roy (1995)",
           92
          ],
          [
           550,
           "Die Hard: With a Vengeance (1995)",
           151
          ],
          [
           551,
           "Lord of Illusions (1995)",
           24
          ],
          [
           552,
           "Species (1995)",
           45
          ],
          [
           553,
           "Walk in the Clouds, A (1995)",
           63
          ],
          [
           554,
           "Waterworld (1995)",
           102
          ],
          [
           555,
           "White Man's Burden (1995)",
           10
          ],
          [
           556,
           "Wild Bill (1995)",
           12
          ],
          [
           557,
           "Farinelli: il castrato (1994)",
           17
          ],
          [
           558,
           "Heavenly Creatures (1994)",
           70
          ],
          [
           559,
           "Interview with the Vampire (1994)",
           137
          ],
          [
           560,
           "Kid in King Arthur's Court, A (1995)",
           22
          ],
          [
           561,
           "Mary Shelley's Frankenstein (1994)",
           59
          ],
          [
           562,
           "Quick and the Dead, The (1995)",
           48
          ],
          [
           563,
           "Stephen King's The Langoliers (1995)",
           29
          ],
          [
           564,
           "Tales from the Hood (1995)",
           27
          ],
          [
           565,
           "Village of the Damned (1995)",
           22
          ],
          [
           566,
           "Clear and Present Danger (1994)",
           179
          ],
          [
           567,
           "Wes Craven's New Nightmare (1994)",
           35
          ],
          [
           568,
           "Speed (1994)",
           230
          ],
          [
           569,
           "Wolf (1994)",
           67
          ],
          [
           570,
           "Wyatt Earp (1994)",
           50
          ],
          [
           571,
           "Another Stakeout (1993)",
           28
          ],
          [
           572,
           "Blown Away (1994)",
           29
          ],
          [
           573,
           "Body Snatchers (1993)",
           33
          ],
          [
           574,
           "Boxing Helena (1993)",
           15
          ],
          [
           575,
           "City Slickers II: The Legend of Curly's Gold (1994)",
           44
          ],
          [
           576,
           "Cliffhanger (1993)",
           93
          ],
          [
           577,
           "Coneheads (1993)",
           41
          ],
          [
           578,
           "Demolition Man (1993)",
           92
          ],
          [
           579,
           "Fatal Instinct (1993)",
           19
          ],
          [
           580,
           "Englishman Who Went Up a Hill, But Came Down a Mountain, The (1995)",
           32
          ],
          [
           581,
           "Kalifornia (1993)",
           59
          ],
          [
           582,
           "Piano, The (1993)",
           168
          ],
          [
           583,
           "Romeo Is Bleeding (1993)",
           37
          ],
          [
           584,
           "Secret Garden, The (1993)",
           79
          ],
          [
           585,
           "Son in Law (1993)",
           39
          ],
          [
           586,
           "Terminal Velocity (1994)",
           34
          ],
          [
           587,
           "Hour of the Pig, The (1993)",
           14
          ],
          [
           588,
           "Beauty and the Beast (1991)",
           202
          ],
          [
           589,
           "Wild Bunch, The (1969)",
           43
          ],
          [
           590,
           "Hellraiser: Bloodline (1996)",
           18
          ],
          [
           591,
           "Primal Fear (1996)",
           178
          ],
          [
           592,
           "True Crime (1995)",
           9
          ],
          [
           593,
           "Stalingrad (1993)",
           12
          ],
          [
           594,
           "Heavy (1995)",
           5
          ],
          [
           595,
           "Fan, The (1996)",
           64
          ],
          [
           596,
           "Hunchback of Notre Dame, The (1996)",
           127
          ],
          [
           597,
           "Eraser (1996)",
           206
          ],
          [
           598,
           "Big Squeeze, The (1996)",
           4
          ],
          [
           599,
           "Police Story 4: Project S (Chao ji ji hua) (1993)",
           1
          ],
          [
           600,
           "Daniel Defoe's Robinson Crusoe (1996)",
           2
          ],
          [
           601,
           "For Whom the Bell Tolls (1943)",
           20
          ],
          [
           602,
           "American in Paris, An (1951)",
           50
          ],
          [
           603,
           "Rear Window (1954)",
           209
          ],
          [
           604,
           "It Happened One Night (1934)",
           81
          ],
          [
           605,
           "Meet Me in St. Louis (1944)",
           31
          ],
          [
           606,
           "All About Eve (1950)",
           66
          ],
          [
           607,
           "Rebecca (1940)",
           66
          ],
          [
           608,
           "Spellbound (1945)",
           30
          ],
          [
           609,
           "Father of the Bride (1950)",
           60
          ],
          [
           610,
           "Gigi (1958)",
           41
          ],
          [
           611,
           "Laura (1944)",
           40
          ],
          [
           612,
           "Lost Horizon (1937)",
           34
          ],
          [
           613,
           "My Man Godfrey (1936)",
           27
          ],
          [
           614,
           "Giant (1956)",
           51
          ],
          [
           615,
           "39 Steps, The (1935)",
           59
          ],
          [
           616,
           "Night of the Living Dead (1968)",
           64
          ],
          [
           617,
           "Blue Angel, The (Blaue Engel, Der) (1930)",
           18
          ],
          [
           618,
           "Picnic (1955)",
           18
          ],
          [
           619,
           "Extreme Measures (1996)",
           64
          ],
          [
           620,
           "Chamber, The (1996)",
           43
          ],
          [
           621,
           "Davy Crockett, King of the Wild Frontier (1955)",
           11
          ],
          [
           622,
           "Swiss Family Robinson (1960)",
           39
          ],
          [
           623,
           "Angels in the Outfield (1994)",
           39
          ],
          [
           624,
           "Three Caballeros, The (1945)",
           22
          ],
          [
           625,
           "Sword in the Stone, The (1963)",
           82
          ],
          [
           626,
           "So Dear to My Heart (1949)",
           4
          ],
          [
           627,
           "Robin Hood: Prince of Thieves (1991)",
           75
          ],
          [
           628,
           "Sleepers (1996)",
           169
          ],
          [
           629,
           "Victor/Victoria (1982)",
           77
          ],
          [
           630,
           "Great Race, The (1965)",
           31
          ],
          [
           631,
           "Crying Game, The (1992)",
           119
          ],
          [
           632,
           "Sophie's Choice (1982)",
           58
          ],
          [
           633,
           "Christmas Carol, A (1938)",
           69
          ],
          [
           634,
           "Microcosmos: Le peuple de l'herbe (1996)",
           24
          ],
          [
           635,
           "Fog, The (1980)",
           23
          ],
          [
           636,
           "Escape from New York (1981)",
           91
          ],
          [
           637,
           "Howling, The (1981)",
           38
          ],
          [
           638,
           "Return of Martin Guerre, The (Retour de Martin Guerre, Le) (1982)",
           44
          ],
          [
           639,
           "Tin Drum, The (Blechtrommel, Die) (1979)",
           40
          ],
          [
           640,
           "Cook the Thief His Wife & Her Lover, The (1989)",
           82
          ],
          [
           641,
           "Paths of Glory (1957)",
           33
          ],
          [
           642,
           "Grifters, The (1990)",
           89
          ],
          [
           643,
           "The Innocent (1994)",
           4
          ],
          [
           644,
           "Thin Blue Line, The (1988)",
           35
          ],
          [
           645,
           "Paris Is Burning (1990)",
           27
          ],
          [
           646,
           "Once Upon a Time in the West (1969)",
           38
          ],
          [
           647,
           "Ran (1985)",
           70
          ],
          [
           648,
           "Quiet Man, The (1952)",
           67
          ],
          [
           649,
           "Once Upon a Time in America (1984)",
           50
          ],
          [
           650,
           "Seventh Seal, The (Sjunde inseglet, Det) (1957)",
           72
          ],
          [
           651,
           "Glory (1989)",
           171
          ],
          [
           652,
           "Rosencrantz and Guildenstern Are Dead (1990)",
           90
          ],
          [
           653,
           "Touch of Evil (1958)",
           34
          ],
          [
           654,
           "Chinatown (1974)",
           147
          ],
          [
           655,
           "Stand by Me (1986)",
           227
          ],
          [
           656,
           "M (1931)",
           44
          ],
          [
           657,
           "Manchurian Candidate, The (1962)",
           131
          ],
          [
           658,
           "Pump Up the Volume (1990)",
           79
          ],
          [
           659,
           "Arsenic and Old Lace (1944)",
           115
          ],
          [
           660,
           "Fried Green Tomatoes (1991)",
           153
          ],
          [
           661,
           "High Noon (1952)",
           88
          ],
          [
           662,
           "Somewhere in Time (1980)",
           82
          ],
          [
           663,
           "Being There (1979)",
           116
          ],
          [
           664,
           "Paris, Texas (1984)",
           46
          ],
          [
           665,
           "Alien 3 (1992)",
           100
          ],
          [
           666,
           "Blood For Dracula (Andy Warhol's Dracula) (1974)",
           5
          ],
          [
           667,
           "Audrey Rose (1977)",
           12
          ],
          [
           668,
           "Blood Beach (1981)",
           6
          ],
          [
           669,
           "Body Parts (1991)",
           13
          ],
          [
           670,
           "Body Snatchers (1993)",
           36
          ],
          [
           671,
           "Bride of Frankenstein (1935)",
           46
          ],
          [
           672,
           "Candyman (1992)",
           65
          ],
          [
           673,
           "Cape Fear (1962)",
           86
          ],
          [
           674,
           "Cat People (1982)",
           48
          ],
          [
           675,
           "Nosferatu (Nosferatu, eine Symphonie des Grauens) (1922)",
           54
          ],
          [
           676,
           "Crucible, The (1996)",
           77
          ],
          [
           677,
           "Fire on the Mountain (1996)",
           1
          ],
          [
           678,
           "Volcano (1997)",
           219
          ],
          [
           679,
           "Conan the Barbarian (1981)",
           107
          ],
          [
           680,
           "Kull the Conqueror (1997)",
           34
          ],
          [
           681,
           "Wishmaster (1997)",
           27
          ],
          [
           682,
           "I Know What You Did Last Summer (1997)",
           100
          ],
          [
           683,
           "Rocket Man (1997)",
           49
          ],
          [
           684,
           "In the Line of Fire (1993)",
           169
          ],
          [
           685,
           "Executive Decision (1996)",
           157
          ],
          [
           686,
           "Perfect World, A (1993)",
           50
          ],
          [
           687,
           "McHale's Navy (1997)",
           69
          ],
          [
           688,
           "Leave It to Beaver (1997)",
           44
          ],
          [
           689,
           "Jackal, The (1997)",
           87
          ],
          [
           690,
           "Seven Years in Tibet (1997)",
           155
          ],
          [
           691,
           "Dark City (1998)",
           16
          ],
          [
           692,
           "American President, The (1995)",
           164
          ],
          [
           693,
           "Casino (1995)",
           91
          ],
          [
           694,
           "Persuasion (1995)",
           44
          ],
          [
           695,
           "Kicking and Screaming (1995)",
           13
          ],
          [
           696,
           "City Hall (1996)",
           79
          ],
          [
           697,
           "Basketball Diaries, The (1995)",
           40
          ],
          [
           698,
           "Browning Version, The (1994)",
           10
          ],
          [
           699,
           "Little Women (1994)",
           102
          ],
          [
           700,
           "Miami Rhapsody (1995)",
           15
          ],
          [
           701,
           "Wonderful, Horrible Life of Leni Riefenstahl, The (1993)",
           10
          ],
          [
           702,
           "Barcelona (1994)",
           53
          ],
          [
           703,
           "Widows' Peak (1994)",
           19
          ],
          [
           704,
           "House of the Spirits, The (1993)",
           24
          ],
          [
           705,
           "Singin' in the Rain (1952)",
           137
          ],
          [
           706,
           "Bad Moon (1996)",
           6
          ],
          [
           707,
           "Enchanted April (1991)",
           70
          ],
          [
           708,
           "Sex, Lies, and Videotape (1989)",
           101
          ],
          [
           709,
           "Strictly Ballroom (1992)",
           104
          ],
          [
           710,
           "Better Off Dead... (1985)",
           79
          ],
          [
           711,
           "Substance of Fire, The (1996)",
           1
          ],
          [
           712,
           "Tin Men (1987)",
           51
          ],
          [
           713,
           "Othello (1995)",
           72
          ],
          [
           714,
           "Carrington (1995)",
           13
          ],
          [
           715,
           "To Die For (1995)",
           87
          ],
          [
           716,
           "Home for the Holidays (1995)",
           58
          ],
          [
           717,
           "Juror, The (1996)",
           82
          ],
          [
           718,
           "In the Bleak Midwinter (1995)",
           16
          ],
          [
           719,
           "Canadian Bacon (1994)",
           29
          ],
          [
           720,
           "First Knight (1995)",
           86
          ],
          [
           721,
           "Mallrats (1995)",
           54
          ],
          [
           722,
           "Nine Months (1995)",
           58
          ],
          [
           723,
           "Boys on the Side (1995)",
           34
          ],
          [
           724,
           "Circle of Friends (1995)",
           76
          ],
          [
           725,
           "Exit to Eden (1994)",
           16
          ],
          [
           726,
           "Fluke (1995)",
           14
          ],
          [
           727,
           "Immortal Beloved (1994)",
           63
          ],
          [
           728,
           "Junior (1994)",
           45
          ],
          [
           729,
           "Nell (1994)",
           81
          ],
          [
           730,
           "Queen Margot (Reine Margot, La) (1994)",
           24
          ],
          [
           731,
           "Corrina, Corrina (1994)",
           39
          ],
          [
           732,
           "Dave (1993)",
           180
          ],
          [
           733,
           "Go Fish (1994)",
           15
          ],
          [
           734,
           "Made in America (1993)",
           27
          ],
          [
           735,
           "Philadelphia (1993)",
           137
          ],
          [
           736,
           "Shadowlands (1993)",
           78
          ],
          [
           737,
           "Sirens (1994)",
           59
          ],
          [
           738,
           "Threesome (1994)",
           31
          ],
          [
           739,
           "Pretty Woman (1990)",
           164
          ],
          [
           740,
           "Jane Eyre (1996)",
           63
          ],
          [
           741,
           "Last Supper, The (1995)",
           58
          ],
          [
           742,
           "Ransom (1996)",
           267
          ],
          [
           743,
           "Crow: City of Angels, The (1996)",
           39
          ],
          [
           744,
           "Michael Collins (1996)",
           92
          ],
          [
           745,
           "Ruling Class, The (1972)",
           16
          ],
          [
           746,
           "Real Genius (1985)",
           119
          ],
          [
           747,
           "Benny & Joon (1993)",
           102
          ],
          [
           748,
           "Saint, The (1997)",
           316
          ],
          [
           749,
           "MatchMaker, The (1997)",
           51
          ],
          [
           750,
           "Amistad (1997)",
           124
          ],
          [
           751,
           "Tomorrow Never Dies (1997)",
           180
          ],
          [
           752,
           "Replacement Killers, The (1998)",
           39
          ],
          [
           753,
           "Burnt By the Sun (1994)",
           24
          ],
          [
           754,
           "Red Corner (1997)",
           57
          ],
          [
           755,
           "Jumanji (1995)",
           96
          ],
          [
           756,
           "Father of the Bride Part II (1995)",
           128
          ],
          [
           757,
           "Across the Sea of Time (1995)",
           4
          ],
          [
           758,
           "Lawnmower Man 2: Beyond Cyberspace (1996)",
           21
          ],
          [
           759,
           "Fair Game (1995)",
           11
          ],
          [
           760,
           "Screamers (1995)",
           46
          ],
          [
           761,
           "Nick of Time (1995)",
           44
          ],
          [
           762,
           "Beautiful Girls (1996)",
           115
          ],
          [
           763,
           "Happy Gilmore (1996)",
           149
          ],
          [
           764,
           "If Lucy Fell (1996)",
           29
          ],
          [
           765,
           "Boomerang (1992)",
           32
          ],
          [
           766,
           "Man of the Year (1995)",
           9
          ],
          [
           767,
           "Addiction, The (1995)",
           11
          ],
          [
           768,
           "Casper (1995)",
           52
          ],
          [
           769,
           "Congo (1995)",
           42
          ],
          [
           770,
           "Devil in a Blue Dress (1995)",
           57
          ],
          [
           771,
           "Johnny Mnemonic (1995)",
           41
          ],
          [
           772,
           "Kids (1995)",
           49
          ],
          [
           773,
           "Mute Witness (1994)",
           17
          ],
          [
           774,
           "Prophecy, The (1995)",
           32
          ],
          [
           775,
           "Something to Talk About (1995)",
           26
          ],
          [
           776,
           "Three Wishes (1995)",
           9
          ],
          [
           777,
           "Castle Freak (1995)",
           4
          ],
          [
           778,
           "Don Juan DeMarco (1995)",
           76
          ],
          [
           779,
           "Drop Zone (1994)",
           31
          ],
          [
           780,
           "Dumb & Dumber (1994)",
           69
          ],
          [
           781,
           "French Kiss (1995)",
           84
          ],
          [
           782,
           "Little Odessa (1994)",
           10
          ],
          [
           783,
           "Milk Money (1994)",
           37
          ],
          [
           784,
           "Beyond Bedlam (1993)",
           2
          ],
          [
           785,
           "Only You (1994)",
           39
          ],
          [
           786,
           "Perez Family, The (1995)",
           14
          ],
          [
           787,
           "Roommates (1995)",
           13
          ],
          [
           788,
           "Relative Fear (1994)",
           3
          ],
          [
           789,
           "Swimming with Sharks (1995)",
           47
          ],
          [
           790,
           "Tommy Boy (1995)",
           66
          ],
          [
           791,
           "Baby-Sitters Club, The (1995)",
           10
          ],
          [
           792,
           "Bullets Over Broadway (1994)",
           86
          ],
          [
           793,
           "Crooklyn (1994)",
           10
          ],
          [
           794,
           "It Could Happen to You (1994)",
           46
          ],
          [
           795,
           "Richie Rich (1994)",
           21
          ],
          [
           796,
           "Speechless (1994)",
           36
          ],
          [
           797,
           "Timecop (1994)",
           31
          ],
          [
           798,
           "Bad Company (1995)",
           9
          ],
          [
           799,
           "Boys Life (1995)",
           5
          ],
          [
           800,
           "In the Mouth of Madness (1995)",
           26
          ],
          [
           801,
           "Air Up There, The (1994)",
           16
          ],
          [
           802,
           "Hard Target (1993)",
           40
          ],
          [
           803,
           "Heaven & Earth (1993)",
           9
          ],
          [
           804,
           "Jimmy Hollywood (1994)",
           8
          ],
          [
           805,
           "Manhattan Murder Mystery (1993)",
           27
          ],
          [
           806,
           "Menace II Society (1993)",
           50
          ],
          [
           807,
           "Poetic Justice (1993)",
           9
          ],
          [
           808,
           "Program, The (1993)",
           31
          ],
          [
           809,
           "Rising Sun (1993)",
           43
          ],
          [
           810,
           "Shadow, The (1994)",
           45
          ],
          [
           811,
           "Thirty-Two Short Films About Glenn Gould (1993)",
           18
          ],
          [
           812,
           "Andre (1994)",
           18
          ],
          [
           813,
           "Celluloid Closet, The (1995)",
           56
          ],
          [
           814,
           "Great Day in Harlem, A (1994)",
           1
          ],
          [
           815,
           "One Fine Day (1996)",
           112
          ],
          [
           816,
           "Candyman: Farewell to the Flesh (1995)",
           21
          ],
          [
           817,
           "Frisk (1995)",
           3
          ],
          [
           818,
           "Girl 6 (1996)",
           25
          ],
          [
           819,
           "Eddie (1996)",
           40
          ],
          [
           820,
           "Space Jam (1996)",
           93
          ],
          [
           821,
           "Mrs. Winterbourne (1996)",
           22
          ],
          [
           822,
           "Faces (1968)",
           4
          ],
          [
           823,
           "Mulholland Falls (1996)",
           82
          ],
          [
           824,
           "Great White Hype, The (1996)",
           49
          ],
          [
           825,
           "Arrival, The (1996)",
           83
          ],
          [
           826,
           "Phantom, The (1996)",
           80
          ],
          [
           827,
           "Daylight (1996)",
           57
          ],
          [
           828,
           "Alaska (1996)",
           13
          ],
          [
           829,
           "Fled (1996)",
           34
          ],
          [
           830,
           "Power 98 (1995)",
           1
          ],
          [
           831,
           "Escape from L.A. (1996)",
           91
          ],
          [
           832,
           "Bogus (1996)",
           22
          ],
          [
           833,
           "Bulletproof (1996)",
           49
          ],
          [
           834,
           "Halloween: The Curse of Michael Myers (1995)",
           25
          ],
          [
           835,
           "Gay Divorcee, The (1934)",
           15
          ],
          [
           836,
           "Ninotchka (1939)",
           26
          ],
          [
           837,
           "Meet John Doe (1941)",
           25
          ],
          [
           838,
           "In the Line of Duty 2 (1987)",
           4
          ],
          [
           839,
           "Loch Ness (1995)",
           4
          ],
          [
           840,
           "Last Man Standing (1996)",
           53
          ],
          [
           841,
           "Glimmer Man, The (1996)",
           48
          ],
          [
           842,
           "Pollyanna (1960)",
           27
          ],
          [
           843,
           "Shaggy Dog, The (1959)",
           30
          ],
          [
           844,
           "Freeway (1996)",
           42
          ],
          [
           845,
           "That Thing You Do! (1996)",
           176
          ],
          [
           846,
           "To Gillian on Her 37th Birthday (1996)",
           44
          ],
          [
           847,
           "Looking for Richard (1996)",
           55
          ],
          [
           848,
           "Murder, My Sweet (1944)",
           9
          ],
          [
           849,
           "Days of Thunder (1990)",
           53
          ],
          [
           850,
           "Perfect Candidate, A (1996)",
           4
          ],
          [
           851,
           "Two or Three Things I Know About Her (1966)",
           4
          ],
          [
           852,
           "Bloody Child, The (1996)",
           1
          ],
          [
           853,
           "Braindead (1992)",
           14
          ],
          [
           854,
           "Bad Taste (1987)",
           16
          ],
          [
           855,
           "Diva (1981)",
           66
          ],
          [
           856,
           "Night on Earth (1991)",
           36
          ],
          [
           857,
           "Paris Was a Woman (1995)",
           1
          ],
          [
           858,
           "Amityville: Dollhouse (1996)",
           3
          ],
          [
           859,
           "April Fool's Day (1986)",
           15
          ],
          [
           860,
           "Believers, The (1987)",
           16
          ],
          [
           861,
           "Nosferatu a Venezia (1986)",
           3
          ],
          [
           862,
           "Jingle All the Way (1996)",
           18
          ],
          [
           863,
           "Garden of Finzi-Contini, The (Giardino dei Finzi-Contini, Il) (1970)",
           24
          ],
          [
           864,
           "My Fellow Americans (1996)",
           86
          ],
          [
           865,
           "Ice Storm, The (1997)",
           21
          ],
          [
           866,
           "Michael (1996)",
           119
          ],
          [
           867,
           "Whole Wide World, The (1996)",
           6
          ],
          [
           868,
           "Hearts and Minds (1996)",
           5
          ],
          [
           869,
           "Fools Rush In (1997)",
           24
          ],
          [
           870,
           "Touch (1997)",
           9
          ],
          [
           871,
           "Vegas Vacation (1997)",
           75
          ],
          [
           872,
           "Love Jones (1997)",
           42
          ],
          [
           873,
           "Picture Perfect (1997)",
           81
          ],
          [
           874,
           "Career Girls (1997)",
           39
          ],
          [
           875,
           "She's So Lovely (1997)",
           53
          ],
          [
           876,
           "Money Talks (1997)",
           47
          ],
          [
           877,
           "Excess Baggage (1997)",
           52
          ],
          [
           878,
           "That Darn Cat! (1997)",
           33
          ],
          [
           879,
           "Peacemaker, The (1997)",
           136
          ],
          [
           880,
           "Soul Food (1997)",
           59
          ],
          [
           881,
           "Money Talks (1997)",
           45
          ],
          [
           882,
           "Washington Square (1997)",
           34
          ],
          [
           883,
           "Telling Lies in America (1997)",
           13
          ],
          [
           884,
           "Year of the Horse (1997)",
           7
          ],
          [
           885,
           "Phantoms (1998)",
           13
          ],
          [
           886,
           "Life Less Ordinary, A (1997)",
           53
          ],
          [
           887,
           "Eve's Bayou (1997)",
           64
          ],
          [
           888,
           "One Night Stand (1997)",
           15
          ],
          [
           889,
           "Tango Lesson, The (1997)",
           13
          ],
          [
           890,
           "Mortal Kombat: Annihilation (1997)",
           43
          ],
          [
           891,
           "Bent (1997)",
           6
          ],
          [
           892,
           "Flubber (1997)",
           53
          ],
          [
           893,
           "For Richer or Poorer (1997)",
           14
          ],
          [
           894,
           "Home Alone 3 (1997)",
           19
          ],
          [
           895,
           "Scream 2 (1997)",
           106
          ],
          [
           896,
           "Sweet Hereafter, The (1997)",
           44
          ],
          [
           897,
           "Time Tracers (1995)",
           2
          ],
          [
           898,
           "Postman, The (1997)",
           58
          ],
          [
           899,
           "Winter Guest, The (1997)",
           9
          ],
          [
           900,
           "Kundun (1997)",
           42
          ],
          [
           901,
           "Mr. Magoo (1997)",
           12
          ],
          [
           902,
           "Big Lebowski, The (1998)",
           42
          ],
          [
           903,
           "Afterglow (1997)",
           18
          ],
          [
           904,
           "Ma vie en rose (My Life in Pink) (1997)",
           20
          ],
          [
           905,
           "Great Expectations (1998)",
           27
          ],
          [
           906,
           "Oscar & Lucinda (1997)",
           21
          ],
          [
           907,
           "Vermin (1998)",
           2
          ],
          [
           908,
           "Half Baked (1998)",
           20
          ],
          [
           909,
           "Dangerous Beauty (1998)",
           13
          ],
          [
           910,
           "Nil By Mouth (1997)",
           4
          ],
          [
           911,
           "Twilight (1998)",
           4
          ],
          [
           912,
           "U.S. Marshalls (1998)",
           9
          ],
          [
           913,
           "Love and Death on Long Island (1997)",
           2
          ],
          [
           914,
           "Wild Things (1998)",
           11
          ],
          [
           915,
           "Primary Colors (1998)",
           13
          ],
          [
           916,
           "Lost in Space (1998)",
           18
          ],
          [
           917,
           "Mercury Rising (1998)",
           7
          ],
          [
           918,
           "City of Angels (1998)",
           8
          ],
          [
           919,
           "City of Lost Children, The (1995)",
           96
          ],
          [
           920,
           "Two Bits (1995)",
           5
          ],
          [
           921,
           "Farewell My Concubine (1993)",
           46
          ],
          [
           922,
           "Dead Man (1995)",
           34
          ],
          [
           923,
           "Raise the Red Lantern (1991)",
           58
          ],
          [
           924,
           "White Squall (1996)",
           85
          ],
          [
           925,
           "Unforgettable (1996)",
           34
          ],
          [
           926,
           "Down Periscope (1996)",
           101
          ],
          [
           927,
           "Flower of My Secret, The (Flor de mi secreto, La) (1995)",
           6
          ],
          [
           928,
           "Craft, The (1996)",
           104
          ],
          [
           929,
           "Harriet the Spy (1996)",
           40
          ],
          [
           930,
           "Chain Reaction (1996)",
           80
          ],
          [
           931,
           "Island of Dr. Moreau, The (1996)",
           57
          ],
          [
           932,
           "First Kid (1996)",
           40
          ],
          [
           933,
           "Funeral, The (1996)",
           21
          ],
          [
           934,
           "Preacher's Wife, The (1996)",
           68
          ],
          [
           935,
           "Paradise Road (1997)",
           7
          ],
          [
           936,
           "Brassed Off (1996)",
           32
          ],
          [
           937,
           "Thousand Acres, A (1997)",
           37
          ],
          [
           938,
           "Smile Like Yours, A (1997)",
           25
          ],
          [
           939,
           "Murder in the First (1995)",
           60
          ],
          [
           940,
           "Airheads (1994)",
           32
          ],
          [
           941,
           "With Honors (1994)",
           46
          ],
          [
           942,
           "What's Love Got to Do with It (1993)",
           45
          ],
          [
           943,
           "Killing Zoe (1994)",
           40
          ],
          [
           944,
           "Renaissance Man (1994)",
           43
          ],
          [
           945,
           "Charade (1963)",
           40
          ],
          [
           946,
           "Fox and the Hound, The (1981)",
           61
          ],
          [
           947,
           "Big Blue, The (Grand bleu, Le) (1988)",
           17
          ],
          [
           948,
           "Booty Call (1997)",
           48
          ],
          [
           949,
           "How to Make an American Quilt (1995)",
           71
          ],
          [
           950,
           "Georgia (1995)",
           30
          ],
          [
           951,
           "Indian in the Cupboard, The (1995)",
           39
          ],
          [
           952,
           "Blue in the Face (1995)",
           45
          ],
          [
           953,
           "Unstrung Heroes (1995)",
           22
          ],
          [
           954,
           "Unzipped (1995)",
           11
          ],
          [
           955,
           "Before Sunrise (1995)",
           49
          ],
          [
           956,
           "Nobody's Fool (1994)",
           46
          ],
          [
           957,
           "Pushing Hands (1992)",
           2
          ],
          [
           958,
           "To Live (Huozhe) (1994)",
           14
          ],
          [
           959,
           "Dazed and Confused (1993)",
           64
          ],
          [
           960,
           "Naked (1993)",
           25
          ],
          [
           961,
           "Orlando (1993)",
           34
          ],
          [
           962,
           "Ruby in Paradise (1993)",
           23
          ],
          [
           963,
           "Some Folks Call It a Sling Blade (1993)",
           41
          ],
          [
           964,
           "Month by the Lake, A (1995)",
           9
          ],
          [
           965,
           "Funny Face (1957)",
           21
          ],
          [
           966,
           "Affair to Remember, An (1957)",
           26
          ],
          [
           967,
           "Little Lord Fauntleroy (1936)",
           12
          ],
          [
           968,
           "Inspector General, The (1949)",
           18
          ],
          [
           969,
           "Winnie the Pooh and the Blustery Day (1968)",
           75
          ],
          [
           970,
           "Hear My Song (1991)",
           8
          ],
          [
           971,
           "Mediterraneo (1991)",
           34
          ],
          [
           972,
           "Passion Fish (1992)",
           28
          ],
          [
           973,
           "Grateful Dead (1995)",
           4
          ],
          [
           974,
           "Eye for an Eye (1996)",
           32
          ],
          [
           975,
           "Fear (1996)",
           44
          ],
          [
           976,
           "Solo (1996)",
           12
          ],
          [
           977,
           "Substitute, The (1996)",
           49
          ],
          [
           978,
           "Heaven's Prisoners (1996)",
           27
          ],
          [
           979,
           "Trigger Effect, The (1996)",
           35
          ],
          [
           980,
           "Mother Night (1996)",
           22
          ],
          [
           981,
           "Dangerous Ground (1997)",
           8
          ],
          [
           982,
           "Maximum Risk (1996)",
           20
          ],
          [
           983,
           "Rich Man's Wife, The (1996)",
           15
          ],
          [
           984,
           "Shadow Conspiracy (1997)",
           44
          ],
          [
           985,
           "Blood & Wine (1997)",
           22
          ],
          [
           986,
           "Turbulence (1997)",
           23
          ],
          [
           987,
           "Underworld (1997)",
           4
          ],
          [
           988,
           "Beautician and the Beast, The (1997)",
           86
          ],
          [
           989,
           "Cats Don't Dance (1997)",
           32
          ],
          [
           990,
           "Anna Karenina (1997)",
           33
          ],
          [
           991,
           "Keys to Tulsa (1997)",
           25
          ],
          [
           992,
           "Head Above Water (1996)",
           4
          ],
          [
           993,
           "Hercules (1997)",
           66
          ],
          [
           994,
           "Last Time I Committed Suicide, The (1997)",
           7
          ],
          [
           995,
           "Kiss Me, Guido (1997)",
           31
          ],
          [
           996,
           "Big Green, The (1995)",
           14
          ],
          [
           997,
           "Stuart Saves His Family (1995)",
           16
          ],
          [
           998,
           "Cabin Boy (1994)",
           16
          ],
          [
           999,
           "Clean Slate (1994)",
           10
          ],
          [
           1000,
           "Lightning Jack (1994)",
           10
          ],
          [
           1001,
           "Stupids, The (1996)",
           17
          ],
          [
           1002,
           "Pest, The (1997)",
           8
          ],
          [
           1003,
           "That Darn Cat! (1997)",
           8
          ],
          [
           1004,
           "Geronimo: An American Legend (1993)",
           9
          ],
          [
           1005,
           "Double vie de Véronique, La (Double Life of Veronique, The) (1991)",
           22
          ],
          [
           1006,
           "Until the End of the World (Bis ans Ende der Welt) (1991)",
           23
          ],
          [
           1007,
           "Waiting for Guffman (1996)",
           47
          ],
          [
           1008,
           "I Shot Andy Warhol (1996)",
           37
          ],
          [
           1009,
           "Stealing Beauty (1996)",
           64
          ],
          [
           1010,
           "Basquiat (1996)",
           44
          ],
          [
           1011,
           "2 Days in the Valley (1996)",
           93
          ],
          [
           1012,
           "Private Parts (1997)",
           100
          ],
          [
           1013,
           "Anaconda (1997)",
           38
          ],
          [
           1014,
           "Romy and Michele's High School Reunion (1997)",
           98
          ],
          [
           1015,
           "Shiloh (1997)",
           12
          ],
          [
           1016,
           "Con Air (1997)",
           137
          ],
          [
           1017,
           "Trees Lounge (1996)",
           50
          ],
          [
           1018,
           "Tie Me Up! Tie Me Down! (1990)",
           32
          ],
          [
           1019,
           "Die xue shuang xiong (Killer, The) (1989)",
           31
          ],
          [
           1020,
           "Gaslight (1944)",
           35
          ],
          [
           1021,
           "8 1/2 (1963)",
           38
          ],
          [
           1022,
           "Fast, Cheap & Out of Control (1997)",
           32
          ],
          [
           1023,
           "Fathers' Day (1997)",
           31
          ],
          [
           1024,
           "Mrs. Dalloway (1997)",
           15
          ],
          [
           1025,
           "Fire Down Below (1997)",
           44
          ],
          [
           1026,
           "Lay of the Land, The (1997)",
           4
          ],
          [
           1027,
           "Shooter, The (1995)",
           3
          ],
          [
           1028,
           "Grumpier Old Men (1995)",
           148
          ],
          [
           1029,
           "Jury Duty (1995)",
           14
          ],
          [
           1030,
           "Beverly Hillbillies, The (1993)",
           20
          ],
          [
           1031,
           "Lassie (1994)",
           7
          ],
          [
           1032,
           "Little Big League (1994)",
           16
          ],
          [
           1033,
           "Homeward Bound II: Lost in San Francisco (1996)",
           32
          ],
          [
           1034,
           "Quest, The (1996)",
           27
          ],
          [
           1035,
           "Cool Runnings (1993)",
           68
          ],
          [
           1036,
           "Drop Dead Fred (1991)",
           24
          ],
          [
           1037,
           "Grease 2 (1982)",
           24
          ],
          [
           1038,
           "Switchback (1997)",
           17
          ],
          [
           1039,
           "Hamlet (1996)",
           90
          ],
          [
           1040,
           "Two if by Sea (1996)",
           25
          ],
          [
           1041,
           "Forget Paris (1995)",
           62
          ],
          [
           1042,
           "Just Cause (1995)",
           28
          ],
          [
           1043,
           "Rent-a-Kid (1995)",
           8
          ],
          [
           1044,
           "Paper, The (1994)",
           40
          ],
          [
           1045,
           "Fearless (1993)",
           25
          ],
          [
           1046,
           "Malice (1993)",
           46
          ],
          [
           1047,
           "Multiplicity (1996)",
           134
          ],
          [
           1048,
           "She's the One (1996)",
           73
          ],
          [
           1049,
           "House Arrest (1996)",
           25
          ],
          [
           1050,
           "Ghost and Mrs. Muir, The (1947)",
           43
          ],
          [
           1051,
           "Associate, The (1996)",
           41
          ],
          [
           1052,
           "Dracula: Dead and Loving It (1995)",
           25
          ],
          [
           1053,
           "Now and Then (1995)",
           24
          ],
          [
           1054,
           "Mr. Wrong (1996)",
           23
          ],
          [
           1055,
           "Simple Twist of Fate, A (1994)",
           10
          ],
          [
           1056,
           "Cronos (1992)",
           10
          ],
          [
           1057,
           "Pallbearer, The (1996)",
           22
          ],
          [
           1058,
           "War, The (1994)",
           15
          ],
          [
           1059,
           "Don't Be a Menace to South Central While Drinking Your Juice in the Hood (1996)",
           35
          ],
          [
           1060,
           "Adventures of Pinocchio, The (1996)",
           39
          ],
          [
           1061,
           "Evening Star, The (1996)",
           29
          ],
          [
           1062,
           "Four Days in September (1997)",
           12
          ],
          [
           1063,
           "Little Princess, A (1995)",
           41
          ],
          [
           1064,
           "Crossfire (1947)",
           4
          ],
          [
           1065,
           "Koyaanisqatsi (1983)",
           53
          ],
          [
           1066,
           "Balto (1995)",
           16
          ],
          [
           1067,
           "Bottle Rocket (1996)",
           44
          ],
          [
           1068,
           "Star Maker, The (Uomo delle stelle, L') (1995)",
           12
          ],
          [
           1069,
           "Amateur (1994)",
           18
          ],
          [
           1070,
           "Living in Oblivion (1995)",
           27
          ],
          [
           1071,
           "Party Girl (1995)",
           16
          ],
          [
           1072,
           "Pyromaniac's Love Story, A (1995)",
           7
          ],
          [
           1073,
           "Shallow Grave (1994)",
           66
          ],
          [
           1074,
           "Reality Bites (1994)",
           77
          ],
          [
           1075,
           "Man of No Importance, A (1994)",
           7
          ],
          [
           1076,
           "Pagemaster, The (1994)",
           12
          ],
          [
           1077,
           "Love and a .45 (1994)",
           8
          ],
          [
           1078,
           "Oliver & Company (1988)",
           22
          ],
          [
           1079,
           "Joe's Apartment (1996)",
           45
          ],
          [
           1080,
           "Celestial Clockwork (1994)",
           2
          ],
          [
           1081,
           "Curdled (1996)",
           8
          ],
          [
           1082,
           "Female Perversions (1996)",
           8
          ],
          [
           1083,
           "Albino Alligator (1996)",
           6
          ],
          [
           1084,
           "Anne Frank Remembered (1995)",
           21
          ],
          [
           1085,
           "Carried Away (1996)",
           11
          ],
          [
           1086,
           "It's My Party (1995)",
           21
          ],
          [
           1087,
           "Bloodsport 2 (1995)",
           10
          ],
          [
           1088,
           "Double Team (1997)",
           13
          ],
          [
           1089,
           "Speed 2: Cruise Control (1997)",
           38
          ],
          [
           1090,
           "Sliver (1993)",
           37
          ],
          [
           1091,
           "Pete's Dragon (1977)",
           43
          ],
          [
           1092,
           "Dear God (1996)",
           12
          ],
          [
           1093,
           "Live Nude Girls (1995)",
           23
          ],
          [
           1094,
           "Thin Line Between Love and Hate, A (1996)",
           12
          ],
          [
           1095,
           "High School High (1996)",
           29
          ],
          [
           1096,
           "Commandments (1997)",
           3
          ],
          [
           1097,
           "Hate (Haine, La) (1995)",
           18
          ],
          [
           1098,
           "Flirting With Disaster (1996)",
           42
          ],
          [
           1099,
           "Red Firecracker, Green Firecracker (1994)",
           13
          ],
          [
           1100,
           "What Happened Was... (1994)",
           8
          ],
          [
           1101,
           "Six Degrees of Separation (1993)",
           74
          ],
          [
           1102,
           "Two Much (1996)",
           7
          ],
          [
           1103,
           "Trust (1990)",
           19
          ],
          [
           1104,
           "C'est arrivé près de chez vous (1992)",
           4
          ],
          [
           1105,
           "Firestorm (1998)",
           18
          ],
          [
           1106,
           "Newton Boys, The (1998)",
           4
          ],
          [
           1107,
           "Beyond Rangoon (1995)",
           18
          ],
          [
           1108,
           "Feast of July (1995)",
           5
          ],
          [
           1109,
           "Death and the Maiden (1994)",
           28
          ],
          [
           1110,
           "Tank Girl (1995)",
           41
          ],
          [
           1111,
           "Double Happiness (1994)",
           7
          ],
          [
           1112,
           "Cobb (1994)",
           15
          ],
          [
           1113,
           "Mrs. Parker and the Vicious Circle (1994)",
           22
          ],
          [
           1114,
           "Faithful (1996)",
           10
          ],
          [
           1115,
           "Twelfth Night (1996)",
           29
          ],
          [
           1116,
           "Mark of Zorro, The (1940)",
           13
          ],
          [
           1117,
           "Surviving Picasso (1996)",
           19
          ],
          [
           1118,
           "Up in Smoke (1978)",
           47
          ],
          [
           1119,
           "Some Kind of Wonderful (1987)",
           59
          ],
          [
           1120,
           "I'm Not Rappaport (1996)",
           17
          ],
          [
           1121,
           "Umbrellas of Cherbourg, The (Parapluies de Cherbourg, Les) (1964)",
           21
          ],
          [
           1122,
           "They Made Me a Criminal (1939)",
           1
          ],
          [
           1123,
           "Last Time I Saw Paris, The (1954)",
           3
          ],
          [
           1124,
           "Farewell to Arms, A (1932)",
           12
          ],
          [
           1125,
           "Innocents, The (1961)",
           4
          ],
          [
           1126,
           "Old Man and the Sea, The (1958)",
           32
          ],
          [
           1127,
           "Truman Show, The (1998)",
           11
          ],
          [
           1128,
           "Heidi Fleiss: Hollywood Madam (1995) ",
           13
          ],
          [
           1129,
           "Chungking Express (1994)",
           28
          ],
          [
           1130,
           "Jupiter's Wife (1994)",
           1
          ],
          [
           1131,
           "Safe (1995)",
           13
          ],
          [
           1132,
           "Feeling Minnesota (1996)",
           32
          ],
          [
           1133,
           "Escape to Witch Mountain (1975)",
           30
          ],
          [
           1134,
           "Get on the Bus (1996)",
           38
          ],
          [
           1135,
           "Doors, The (1991)",
           46
          ],
          [
           1136,
           "Ghosts of Mississippi (1996)",
           29
          ],
          [
           1137,
           "Beautiful Thing (1996)",
           29
          ],
          [
           1138,
           "Best Men (1997)",
           5
          ],
          [
           1139,
           "Hackers (1995)",
           33
          ],
          [
           1140,
           "Road to Wellville, The (1994)",
           17
          ],
          [
           1141,
           "War Room, The (1993)",
           9
          ],
          [
           1142,
           "When We Were Kings (1996)",
           44
          ],
          [
           1143,
           "Hard Eight (1996)",
           15
          ],
          [
           1144,
           "Quiet Room, The (1996)",
           3
          ],
          [
           1145,
           "Blue Chips (1994)",
           9
          ],
          [
           1146,
           "Calendar Girl (1993)",
           3
          ],
          [
           1147,
           "My Family (1995)",
           21
          ],
          [
           1148,
           "Tom & Viv (1994)",
           9
          ],
          [
           1149,
           "Walkabout (1971)",
           26
          ],
          [
           1150,
           "Last Dance (1996)",
           9
          ],
          [
           1151,
           "Original Gangstas (1996)",
           7
          ],
          [
           1152,
           "In Love and War (1996)",
           28
          ],
          [
           1153,
           "Backbeat (1993)",
           19
          ],
          [
           1154,
           "Alphaville (1965)",
           12
          ],
          [
           1155,
           "Rendezvous in Paris (Rendez-vous de Paris, Les) (1995)",
           3
          ],
          [
           1156,
           "Cyclo (1995)",
           1
          ],
          [
           1157,
           "Relic, The (1997)",
           25
          ],
          [
           1158,
           "Fille seule, La (A Single Girl) (1995)",
           4
          ],
          [
           1159,
           "Stalker (1979)",
           11
          ],
          [
           1160,
           "Love! Valour! Compassion! (1997)",
           26
          ],
          [
           1161,
           "Palookaville (1996)",
           13
          ],
          [
           1162,
           "Phat Beach (1996)",
           5
          ],
          [
           1163,
           "Portrait of a Lady, The (1996)",
           25
          ],
          [
           1164,
           "Zeus and Roxanne (1997)",
           6
          ],
          [
           1165,
           "Big Bully (1996)",
           14
          ],
          [
           1166,
           "Love & Human Remains (1993)",
           12
          ],
          [
           1167,
           "Sum of Us, The (1994)",
           11
          ],
          [
           1168,
           "Little Buddha (1993)",
           22
          ],
          [
           1169,
           "Fresh (1994)",
           10
          ],
          [
           1170,
           "Spanking the Monkey (1994)",
           27
          ],
          [
           1171,
           "Wild Reeds (1994)",
           14
          ],
          [
           1172,
           "Women, The (1939)",
           15
          ],
          [
           1173,
           "Bliss (1997)",
           7
          ],
          [
           1174,
           "Caught (1996)",
           8
          ],
          [
           1175,
           "Hugo Pool (1997)",
           5
          ],
          [
           1176,
           "Welcome To Sarajevo (1997)",
           22
          ],
          [
           1177,
           "Dunston Checks In (1996)",
           7
          ],
          [
           1178,
           "Major Payne (1994)",
           19
          ],
          [
           1179,
           "Man of the House (1995)",
           9
          ],
          [
           1180,
           "I Love Trouble (1994)",
           10
          ],
          [
           1181,
           "Low Down Dirty Shame, A (1994)",
           10
          ],
          [
           1182,
           "Cops and Robbersons (1994)",
           13
          ],
          [
           1183,
           "Cowboy Way, The (1994)",
           19
          ],
          [
           1184,
           "Endless Summer 2, The (1994)",
           10
          ],
          [
           1185,
           "In the Army Now (1994)",
           18
          ],
          [
           1186,
           "Inkwell, The (1994)",
           3
          ],
          [
           1187,
           "Switchblade Sisters (1975)",
           13
          ],
          [
           1188,
           "Young Guns II (1990)",
           44
          ],
          [
           1189,
           "Prefontaine (1997)",
           3
          ],
          [
           1190,
           "That Old Feeling (1997)",
           11
          ],
          [
           1191,
           "Letter From Death Row, A (1998)",
           3
          ],
          [
           1192,
           "Boys of St. Vincent, The (1993)",
           13
          ],
          [
           1193,
           "Before the Rain (Pred dozhdot) (1994)",
           10
          ],
          [
           1194,
           "Once Were Warriors (1994)",
           31
          ],
          [
           1195,
           "Strawberry and Chocolate (Fresa y chocolate) (1993)",
           11
          ],
          [
           1196,
           "Savage Nights (Nuits fauves, Les) (1992)",
           3
          ],
          [
           1197,
           "Family Thing, A (1996)",
           45
          ],
          [
           1198,
           "Purple Noon (1960)",
           7
          ],
          [
           1199,
           "Cemetery Man (Dellamorte Dellamore) (1994)",
           23
          ],
          [
           1200,
           "Kim (1950)",
           7
          ],
          [
           1201,
           "Marlene Dietrich: Shadow and Light (1996) ",
           1
          ],
          [
           1202,
           "Maybe, Maybe Not (Bewegte Mann, Der) (1994)",
           8
          ],
          [
           1203,
           "Top Hat (1935)",
           21
          ],
          [
           1204,
           "To Be or Not to Be (1942)",
           18
          ],
          [
           1205,
           "Secret Agent, The (1996)",
           6
          ],
          [
           1206,
           "Amos & Andrew (1993)",
           19
          ],
          [
           1207,
           "Jade (1995)",
           17
          ],
          [
           1208,
           "Kiss of Death (1995)",
           20
          ],
          [
           1209,
           "Mixed Nuts (1994)",
           15
          ],
          [
           1210,
           "Virtuosity (1995)",
           38
          ],
          [
           1211,
           "Blue Sky (1994)",
           12
          ],
          [
           1212,
           "Flesh and Bone (1993)",
           6
          ],
          [
           1213,
           "Guilty as Sin (1993)",
           6
          ],
          [
           1214,
           "In the Realm of the Senses (Ai no corrida) (1976)",
           9
          ],
          [
           1215,
           "Barb Wire (1996)",
           30
          ],
          [
           1216,
           "Kissed (1996)",
           6
          ],
          [
           1217,
           "Assassins (1995)",
           39
          ],
          [
           1218,
           "Friday (1995)",
           26
          ],
          [
           1219,
           "Goofy Movie, A (1995)",
           20
          ],
          [
           1220,
           "Higher Learning (1995)",
           30
          ],
          [
           1221,
           "When a Man Loves a Woman (1994)",
           39
          ],
          [
           1222,
           "Judgment Night (1993)",
           25
          ],
          [
           1223,
           "King of the Hill (1993)",
           4
          ],
          [
           1224,
           "Scout, The (1994)",
           12
          ],
          [
           1225,
           "Angus (1995)",
           14
          ],
          [
           1226,
           "Night Falls on Manhattan (1997)",
           32
          ],
          [
           1227,
           "Awfully Big Adventure, An (1995)",
           8
          ],
          [
           1228,
           "Under Siege 2: Dark Territory (1995)",
           48
          ],
          [
           1229,
           "Poison Ivy II (1995)",
           13
          ],
          [
           1230,
           "Ready to Wear (Pret-A-Porter) (1994)",
           18
          ],
          [
           1231,
           "Marked for Death (1990)",
           22
          ],
          [
           1232,
           "Madonna: Truth or Dare (1991)",
           17
          ],
          [
           1233,
           "Nénette et Boni (1996)",
           6
          ],
          [
           1234,
           "Chairman of the Board (1998)",
           8
          ],
          [
           1235,
           "Big Bang Theory, The (1994)",
           1
          ],
          [
           1236,
           "Other Voices, Other Rooms (1997)",
           1
          ],
          [
           1237,
           "Twisted (1996)",
           6
          ],
          [
           1238,
           "Full Speed (1996)",
           8
          ],
          [
           1239,
           "Cutthroat Island (1995)",
           18
          ],
          [
           1240,
           "Ghost in the Shell (Kokaku kidotai) (1995)",
           26
          ],
          [
           1241,
           "Van, The (1996)",
           6
          ],
          [
           1242,
           "Old Lady Who Walked in the Sea, The (Vieille qui marchait dans la mer, La) (1991)",
           5
          ],
          [
           1243,
           "Night Flier (1997)",
           7
          ],
          [
           1244,
           "Metro (1997)",
           36
          ],
          [
           1245,
           "Gridlock'd (1997)",
           19
          ],
          [
           1246,
           "Bushwhacked (1995)",
           7
          ],
          [
           1247,
           "Bad Girls (1994)",
           6
          ],
          [
           1248,
           "Blink (1994)",
           19
          ],
          [
           1249,
           "For Love or Money (1993)",
           12
          ],
          [
           1250,
           "Best of the Best 3: No Turning Back (1995)",
           6
          ],
          [
           1251,
           "A Chef in Love (1996)",
           8
          ],
          [
           1252,
           "Contempt (Mépris, Le) (1963)",
           9
          ],
          [
           1253,
           "Tie That Binds, The (1995)",
           7
          ],
          [
           1254,
           "Gone Fishin' (1997)",
           11
          ],
          [
           1255,
           "Broken English (1996)",
           8
          ],
          [
           1256,
           "Designated Mourner, The (1997)",
           3
          ],
          [
           1257,
           "Designated Mourner, The (1997)",
           4
          ],
          [
           1258,
           "Trial and Error (1997)",
           23
          ],
          [
           1259,
           "Pie in the Sky (1995)",
           4
          ],
          [
           1260,
           "Total Eclipse (1995)",
           4
          ],
          [
           1261,
           "Run of the Country, The (1995)",
           4
          ],
          [
           1262,
           "Walking and Talking (1996)",
           8
          ],
          [
           1263,
           "Foxfire (1996)",
           15
          ],
          [
           1264,
           "Nothing to Lose (1994)",
           7
          ],
          [
           1265,
           "Star Maps (1997)",
           19
          ],
          [
           1266,
           "Bread and Chocolate (Pane e cioccolata) (1973)",
           12
          ],
          [
           1267,
           "Clockers (1995)",
           33
          ],
          [
           1268,
           "Bitter Moon (1992)",
           10
          ],
          [
           1269,
           "Love in the Afternoon (1957)",
           10
          ],
          [
           1270,
           "Life with Mikey (1993)",
           7
          ],
          [
           1271,
           "North (1994)",
           7
          ],
          [
           1272,
           "Talking About Sex (1994)",
           5
          ],
          [
           1273,
           "Color of Night (1994)",
           15
          ],
          [
           1274,
           "Robocop 3 (1993)",
           11
          ],
          [
           1275,
           "Killer (Bulletproof Heart) (1994)",
           4
          ],
          [
           1276,
           "Sunset Park (1996)",
           8
          ],
          [
           1277,
           "Set It Off (1996)",
           19
          ],
          [
           1278,
           "Selena (1997)",
           16
          ],
          [
           1279,
           "Wild America (1997)",
           9
          ],
          [
           1280,
           "Gang Related (1997)",
           16
          ],
          [
           1281,
           "Manny & Lo (1996)",
           13
          ],
          [
           1282,
           "Grass Harp, The (1995)",
           9
          ],
          [
           1283,
           "Out to Sea (1997)",
           19
          ],
          [
           1284,
           "Before and After (1996)",
           26
          ],
          [
           1285,
           "Princess Caraboo (1994)",
           15
          ],
          [
           1286,
           "Shall We Dance? (1937)",
           17
          ],
          [
           1287,
           "Ed (1996)",
           6
          ],
          [
           1288,
           "Denise Calls Up (1995)",
           7
          ],
          [
           1289,
           "Jack and Sarah (1995)",
           7
          ],
          [
           1290,
           "Country Life (1994)",
           2
          ],
          [
           1291,
           "Celtic Pride (1996)",
           15
          ],
          [
           1292,
           "Simple Wish, A (1997)",
           3
          ],
          [
           1293,
           "Star Kid (1997)",
           3
          ],
          [
           1294,
           "Ayn Rand: A Sense of Life (1997)",
           7
          ],
          [
           1295,
           "Kicked in the Head (1997)",
           7
          ],
          [
           1296,
           "Indian Summer (1996)",
           20
          ],
          [
           1297,
           "Love Affair (1994)",
           12
          ],
          [
           1298,
           "Band Wagon, The (1953)",
           9
          ],
          [
           1299,
           "Penny Serenade (1941)",
           8
          ],
          [
           1300,
           "'Til There Was You (1997)",
           9
          ],
          [
           1301,
           "Stripes (1981)",
           5
          ],
          [
           1302,
           "Late Bloomers (1996)",
           5
          ],
          [
           1303,
           "Getaway, The (1994)",
           18
          ],
          [
           1304,
           "New York Cop (1996)",
           2
          ],
          [
           1305,
           "National Lampoon's Senior Trip (1995)",
           7
          ],
          [
           1306,
           "Delta of Venus (1994)",
           2
          ],
          [
           1307,
           "Carmen Miranda: Bananas Is My Business (1994)",
           2
          ],
          [
           1308,
           "Babyfever (1994)",
           2
          ],
          [
           1309,
           "Very Natural Thing, A (1974)",
           1
          ],
          [
           1310,
           "Walk in the Sun, A (1945)",
           1
          ],
          [
           1311,
           "Waiting to Exhale (1995)",
           16
          ],
          [
           1312,
           "Pompatus of Love, The (1996)",
           7
          ],
          [
           1313,
           "Palmetto (1998)",
           14
          ],
          [
           1314,
           "Surviving the Game (1994)",
           11
          ],
          [
           1315,
           "Inventing the Abbotts (1997)",
           23
          ],
          [
           1316,
           "Horse Whisperer, The (1998)",
           7
          ],
          [
           1317,
           "Journey of August King, The (1995)",
           4
          ],
          [
           1318,
           "Catwalk (1995)",
           3
          ],
          [
           1319,
           "Neon Bible, The (1995)",
           4
          ],
          [
           1320,
           "Homage (1995)",
           1
          ],
          [
           1321,
           "Open Season (1996)",
           2
          ],
          [
           1322,
           "Metisse (Café au Lait) (1993)",
           6
          ],
          [
           1323,
           "Wooden Man's Bride, The (Wu Kui) (1994)",
           3
          ],
          [
           1324,
           "Loaded (1994)",
           5
          ],
          [
           1325,
           "August (1996)",
           1
          ],
          [
           1326,
           "Boys (1996)",
           6
          ],
          [
           1327,
           "Captives (1994)",
           3
          ],
          [
           1328,
           "Of Love and Shadows (1994)",
           6
          ],
          [
           1329,
           "Low Life, The (1994)",
           1
          ],
          [
           1330,
           "An Unforgettable Summer (1994)",
           4
          ],
          [
           1331,
           "Last Klezmer: Leopold Kozlowski, His Life and Music, The (1995)",
           4
          ],
          [
           1332,
           "My Life and Times With Antonin Artaud (En compagnie d'Antonin Artaud) (1993)",
           2
          ],
          [
           1333,
           "Midnight Dancers (Sibak) (1994)",
           5
          ],
          [
           1334,
           "Somebody to Love (1994)",
           2
          ],
          [
           1335,
           "American Buffalo (1996)",
           11
          ],
          [
           1336,
           "Kazaam (1996)",
           10
          ],
          [
           1337,
           "Larger Than Life (1996)",
           9
          ],
          [
           1338,
           "Two Deaths (1995)",
           4
          ],
          [
           1339,
           "Stefano Quantestorie (1993)",
           1
          ],
          [
           1340,
           "Crude Oasis, The (1995)",
           1
          ],
          [
           1341,
           "Hedd Wyn (1992)",
           1
          ],
          [
           1342,
           "Convent, The (Convento, O) (1995)",
           2
          ],
          [
           1343,
           "Lotto Land (1995)",
           1
          ],
          [
           1344,
           "Story of Xinghua, The (1993)",
           5
          ],
          [
           1345,
           "Day the Sun Turned Cold, The (Tianguo niezi) (1994)",
           2
          ],
          [
           1346,
           "Dingo (1992)",
           5
          ],
          [
           1347,
           "Ballad of Narayama, The (Narayama Bushiko) (1958)",
           4
          ],
          [
           1348,
           "Every Other Weekend (1990)",
           1
          ],
          [
           1349,
           "Mille bolle blu (1993)",
           1
          ],
          [
           1350,
           "Crows and Sparrows (1949)",
           2
          ],
          [
           1351,
           "Lover's Knot (1996)",
           3
          ],
          [
           1352,
           "Shadow of Angels (Schatten der Engel) (1976)",
           1
          ],
          [
           1353,
           "1-900 (1994)",
           5
          ],
          [
           1354,
           "Venice/Venice (1992)",
           2
          ],
          [
           1355,
           "Infinity (1996)",
           6
          ],
          [
           1356,
           "Ed's Next Move (1996)",
           3
          ],
          [
           1357,
           "For the Moment (1994)",
           3
          ],
          [
           1358,
           "The Deadly Cure (1996)",
           2
          ],
          [
           1359,
           "Boys in Venice (1996)",
           2
          ],
          [
           1360,
           "Sexual Life of the Belgians, The (1994)",
           2
          ],
          [
           1361,
           "Search for One-eye Jimmy, The (1996)",
           3
          ],
          [
           1362,
           "American Strays (1996)",
           2
          ],
          [
           1363,
           "Leopard Son, The (1996)",
           1
          ],
          [
           1364,
           "Bird of Prey (1996)",
           1
          ],
          [
           1365,
           "Johnny 100 Pesos (1993)",
           2
          ],
          [
           1366,
           "JLG/JLG - autoportrait de décembre (1994)",
           1
          ],
          [
           1367,
           "Faust (1994)",
           5
          ],
          [
           1368,
           "Mina Tannenbaum (1994)",
           6
          ],
          [
           1369,
           "Forbidden Christ, The (Cristo proibito, Il) (1950)",
           4
          ],
          [
           1370,
           "I Can't Sleep (J'ai pas sommeil) (1994)",
           3
          ],
          [
           1371,
           "Machine, The (1994)",
           2
          ],
          [
           1372,
           "Stranger, The (1994)",
           3
          ],
          [
           1373,
           "Good Morning (1971)",
           1
          ],
          [
           1374,
           "Falling in Love Again (1980)",
           2
          ],
          [
           1375,
           "Cement Garden, The (1993)",
           10
          ],
          [
           1376,
           "Meet Wally Sparks (1997)",
           7
          ],
          [
           1377,
           "Hotel de Love (1996)",
           4
          ],
          [
           1378,
           "Rhyme & Reason (1997)",
           5
          ],
          [
           1379,
           "Love and Other Catastrophes (1996)",
           7
          ],
          [
           1380,
           "Hollow Reed (1996)",
           6
          ],
          [
           1381,
           "Losing Chase (1996)",
           8
          ],
          [
           1382,
           "Bonheur, Le (1965)",
           4
          ],
          [
           1383,
           "Second Jungle Book: Mowgli & Baloo, The (1997)",
           6
          ],
          [
           1384,
           "Squeeze (1996)",
           3
          ],
          [
           1385,
           "Roseanna's Grave (For Roseanna) (1997)",
           5
          ],
          [
           1386,
           "Tetsuo II: Body Hammer (1992)",
           6
          ],
          [
           1387,
           "Fall (1997)",
           3
          ],
          [
           1388,
           "Gabbeh (1996)",
           6
          ],
          [
           1389,
           "Mondo (1996)",
           3
          ],
          [
           1390,
           "Innocent Sleep, The (1995)",
           2
          ],
          [
           1391,
           "For Ever Mozart (1996)",
           3
          ],
          [
           1392,
           "Locusts, The (1997)",
           5
          ],
          [
           1393,
           "Stag (1997)",
           9
          ],
          [
           1394,
           "Swept from the Sea (1997)",
           7
          ],
          [
           1395,
           "Hurricane Streets (1998)",
           6
          ],
          [
           1396,
           "Stonewall (1995)",
           5
          ],
          [
           1397,
           "Of Human Bondage (1934)",
           5
          ],
          [
           1398,
           "Anna (1996)",
           2
          ],
          [
           1399,
           "Stranger in the House (1997)",
           7
          ],
          [
           1400,
           "Picture Bride (1995)",
           10
          ],
          [
           1401,
           "M. Butterfly (1993)",
           18
          ],
          [
           1402,
           "Ciao, Professore! (1993)",
           4
          ],
          [
           1403,
           "Caro Diario (Dear Diary) (1994)",
           4
          ],
          [
           1404,
           "Withnail and I (1987)",
           13
          ],
          [
           1405,
           "Boy's Life 2 (1997)",
           6
          ],
          [
           1406,
           "When Night Is Falling (1995)",
           5
          ],
          [
           1407,
           "Specialist, The (1994)",
           20
          ],
          [
           1408,
           "Gordy (1995)",
           3
          ],
          [
           1409,
           "Swan Princess, The (1994)",
           7
          ],
          [
           1410,
           "Harlem (1993)",
           4
          ],
          [
           1411,
           "Barbarella (1968)",
           28
          ],
          [
           1412,
           "Land Before Time III: The Time of the Great Giving (1995) (V)",
           6
          ],
          [
           1413,
           "Street Fighter (1994)",
           8
          ],
          [
           1414,
           "Coldblooded (1995)",
           1
          ],
          [
           1415,
           "Next Karate Kid, The (1994)",
           9
          ],
          [
           1416,
           "No Escape (1994)",
           5
          ],
          [
           1417,
           "Turning, The (1992)",
           2
          ],
          [
           1418,
           "Joy Luck Club, The (1993)",
           3
          ],
          [
           1419,
           "Highlander III: The Sorcerer (1994)",
           16
          ],
          [
           1420,
           "Gilligan's Island: The Movie (1998)",
           3
          ],
          [
           1421,
           "My Crazy Life (Mi vida loca) (1993)",
           11
          ],
          [
           1422,
           "Suture (1993)",
           4
          ],
          [
           1423,
           "Walking Dead, The (1995)",
           4
          ],
          [
           1424,
           "I Like It Like That (1994)",
           3
          ],
          [
           1425,
           "I'll Do Anything (1994)",
           10
          ],
          [
           1426,
           "Grace of My Heart (1996)",
           8
          ],
          [
           1427,
           "Drunks (1995)",
           5
          ],
          [
           1428,
           "SubUrbia (1997)",
           12
          ],
          [
           1429,
           "Sliding Doors (1998)",
           4
          ],
          [
           1430,
           "Ill Gotten Gains (1997)",
           3
          ],
          [
           1431,
           "Legal Deceit (1997)",
           5
          ],
          [
           1432,
           "Mighty, The (1998)",
           3
          ],
          [
           1433,
           "Men of Means (1998)",
           2
          ],
          [
           1434,
           "Shooting Fish (1997)",
           10
          ],
          [
           1435,
           "Steal Big, Steal Little (1995)",
           7
          ],
          [
           1436,
           "Mr. Jones (1993)",
           2
          ],
          [
           1437,
           "House Party 3 (1994)",
           9
          ],
          [
           1438,
           "Panther (1995)",
           5
          ],
          [
           1439,
           "Jason's Lyric (1994)",
           8
          ],
          [
           1440,
           "Above the Rim (1994)",
           5
          ],
          [
           1441,
           "Moonlight and Valentino (1995)",
           7
          ],
          [
           1442,
           "Scarlet Letter, The (1995)",
           5
          ],
          [
           1443,
           "8 Seconds (1994)",
           4
          ],
          [
           1444,
           "That Darn Cat! (1965)",
           19
          ],
          [
           1445,
           "Ladybird Ladybird (1994)",
           4
          ],
          [
           1446,
           "Bye Bye, Love (1995)",
           15
          ],
          [
           1447,
           "Century (1993)",
           1
          ],
          [
           1448,
           "My Favorite Season (1993)",
           3
          ],
          [
           1449,
           "Pather Panchali (1955)",
           8
          ],
          [
           1450,
           "Golden Earrings (1947)",
           2
          ],
          [
           1451,
           "Foreign Correspondent (1940)",
           15
          ],
          [
           1452,
           "Lady of Burlesque (1943)",
           1
          ],
          [
           1453,
           "Angel on My Shoulder (1946)",
           1
          ],
          [
           1454,
           "Angel and the Badman (1947)",
           6
          ],
          [
           1455,
           "Outlaw, The (1943)",
           2
          ],
          [
           1456,
           "Beat the Devil (1954)",
           7
          ],
          [
           1457,
           "Love Is All There Is (1996)",
           1
          ],
          [
           1458,
           "Damsel in Distress, A (1937)",
           1
          ],
          [
           1459,
           "Madame Butterfly (1995)",
           7
          ],
          [
           1460,
           "Sleepover (1995)",
           1
          ],
          [
           1461,
           "Here Comes Cookie (1935)",
           1
          ],
          [
           1462,
           "Thieves (Voleurs, Les) (1996)",
           7
          ],
          [
           1463,
           "Boys, Les (1997)",
           3
          ],
          [
           1464,
           "Stars Fell on Henrietta, The (1995)",
           3
          ],
          [
           1465,
           "Last Summer in the Hamptons (1995)",
           3
          ],
          [
           1466,
           "Margaret's Museum (1995)",
           6
          ],
          [
           1467,
           "Saint of Fort Washington, The (1993)",
           2
          ],
          [
           1468,
           "Cure, The (1995)",
           6
          ],
          [
           1469,
           "Tom and Huck (1995)",
           12
          ],
          [
           1470,
           "Gumby: The Movie (1995)",
           5
          ],
          [
           1471,
           "Hideaway (1995)",
           9
          ],
          [
           1472,
           "Visitors, The (Visiteurs, Les) (1993)",
           2
          ],
          [
           1473,
           "Little Princess, The (1939)",
           9
          ],
          [
           1474,
           "Nina Takes a Lover (1994)",
           6
          ],
          [
           1475,
           "Bhaji on the Beach (1993)",
           8
          ],
          [
           1476,
           "Raw Deal (1948)",
           1
          ],
          [
           1477,
           "Nightwatch (1997)",
           2
          ],
          [
           1478,
           "Dead Presidents (1995)",
           18
          ],
          [
           1479,
           "Reckless (1995)",
           8
          ],
          [
           1480,
           "Herbie Rides Again (1974)",
           11
          ],
          [
           1481,
           "S.F.W. (1994)",
           2
          ],
          [
           1482,
           "Gate of Heavenly Peace, The (1995)",
           1
          ],
          [
           1483,
           "Man in the Iron Mask, The (1998)",
           12
          ],
          [
           1484,
           "Jerky Boys, The (1994)",
           3
          ],
          [
           1485,
           "Colonel Chabert, Le (1994)",
           4
          ],
          [
           1486,
           "Girl in the Cadillac (1995)",
           1
          ],
          [
           1487,
           "Even Cowgirls Get the Blues (1993)",
           5
          ],
          [
           1488,
           "Germinal (1993)",
           4
          ],
          [
           1489,
           "Chasers (1994)",
           5
          ],
          [
           1490,
           "Fausto (1993)",
           3
          ],
          [
           1491,
           "Tough and Deadly (1995)",
           2
          ],
          [
           1492,
           "Window to Paris (1994)",
           1
          ],
          [
           1493,
           "Modern Affair, A (1995)",
           1
          ],
          [
           1494,
           "Mostro, Il (1994)",
           1
          ],
          [
           1495,
           "Flirt (1995)",
           5
          ],
          [
           1496,
           "Carpool (1996)",
           5
          ],
          [
           1497,
           "Line King: Al Hirschfeld, The (1996)",
           2
          ],
          [
           1498,
           "Farmer & Chase (1995)",
           1
          ],
          [
           1499,
           "Grosse Fatigue (1994)",
           4
          ],
          [
           1500,
           "Santa with Muscles (1996)",
           2
          ],
          [
           1501,
           "Prisoner of the Mountains (Kavkazsky Plennik) (1996)",
           5
          ],
          [
           1502,
           "Naked in New York (1994)",
           2
          ],
          [
           1503,
           "Gold Diggers: The Secret of Bear Mountain (1995)",
           10
          ],
          [
           1504,
           "Bewegte Mann, Der (1994)",
           3
          ],
          [
           1505,
           "Killer: A Journal of Murder (1995)",
           1
          ],
          [
           1506,
           "Nelly & Monsieur Arnaud (1995)",
           3
          ],
          [
           1507,
           "Three Lives and Only One Death (1996)",
           1
          ],
          [
           1508,
           "Babysitter, The (1995)",
           3
          ],
          [
           1509,
           "Getting Even with Dad (1994)",
           5
          ],
          [
           1510,
           "Mad Dog Time (1996)",
           1
          ],
          [
           1511,
           "Children of the Revolution (1996)",
           5
          ],
          [
           1512,
           "World of Apu, The (Apur Sansar) (1959)",
           6
          ],
          [
           1513,
           "Sprung (1997)",
           3
          ],
          [
           1514,
           "Dream With the Fishes (1997)",
           7
          ],
          [
           1515,
           "Wings of Courage (1995)",
           1
          ],
          [
           1516,
           "Wedding Gift, The (1994)",
           3
          ],
          [
           1517,
           "Race the Sun (1996)",
           5
          ],
          [
           1518,
           "Losing Isaiah (1995)",
           12
          ],
          [
           1519,
           "New Jersey Drive (1995)",
           2
          ],
          [
           1520,
           "Fear, The (1995)",
           1
          ],
          [
           1521,
           "Mr. Wonderful (1993)",
           4
          ],
          [
           1522,
           "Trial by Jury (1994)",
           7
          ],
          [
           1523,
           "Good Man in Africa, A (1994)",
           2
          ],
          [
           1524,
           "Kaspar Hauser (1993)",
           8
          ],
          [
           1525,
           "Object of My Affection, The (1998)",
           1
          ],
          [
           1526,
           "Witness (1985)",
           1
          ],
          [
           1527,
           "Senseless (1998)",
           7
          ],
          [
           1528,
           "Nowhere (1997)",
           3
          ],
          [
           1529,
           "Underground (1995)",
           5
          ],
          [
           1530,
           "Jefferson in Paris (1995)",
           5
          ],
          [
           1531,
           "Far From Home: The Adventures of Yellow Dog (1995)",
           7
          ],
          [
           1532,
           "Foreign Student (1994)",
           2
          ],
          [
           1533,
           "I Don't Want to Talk About It (De eso no se habla) (1993)",
           1
          ],
          [
           1534,
           "Twin Town (1997)",
           6
          ],
          [
           1535,
           "Enfer, L' (1994)",
           4
          ],
          [
           1536,
           "Aiqing wansui (1994)",
           1
          ],
          [
           1537,
           "Cosi (1996)",
           4
          ],
          [
           1538,
           "All Over Me (1997)",
           3
          ],
          [
           1539,
           "Being Human (1993)",
           4
          ],
          [
           1540,
           "Amazing Panda Adventure, The (1995)",
           10
          ],
          [
           1541,
           "Beans of Egypt, Maine, The (1994)",
           2
          ],
          [
           1542,
           "Scarlet Letter, The (1926)",
           2
          ],
          [
           1543,
           "Johns (1996)",
           1
          ],
          [
           1544,
           "It Takes Two (1995)",
           3
          ],
          [
           1545,
           "Frankie Starlight (1995)",
           4
          ],
          [
           1546,
           "Shadows (Cienie) (1988)",
           1
          ],
          [
           1547,
           "Show, The (1995)",
           2
          ],
          [
           1548,
           "The Courtyard (1995)",
           1
          ],
          [
           1549,
           "Dream Man (1995)",
           2
          ],
          [
           1550,
           "Destiny Turns on the Radio (1995)",
           2
          ],
          [
           1551,
           "Glass Shield, The (1994)",
           2
          ],
          [
           1552,
           "Hunted, The (1995)",
           3
          ],
          [
           1553,
           "Underneath, The (1995)",
           4
          ],
          [
           1554,
           "Safe Passage (1994)",
           2
          ],
          [
           1555,
           "Secret Adventures of Tom Thumb, The (1993)",
           5
          ],
          [
           1556,
           "Condition Red (1995)",
           2
          ],
          [
           1557,
           "Yankee Zulu (1994)",
           1
          ],
          [
           1558,
           "Aparajito (1956)",
           7
          ],
          [
           1559,
           "Hostile Intentions (1994)",
           1
          ],
          [
           1560,
           "Clean Slate (Coup de Torchon) (1981)",
           4
          ],
          [
           1561,
           "Tigrero: A Film That Was Never Made (1994)",
           1
          ],
          [
           1562,
           "Eye of Vichy, The (Oeil de Vichy, L') (1993)",
           1
          ],
          [
           1563,
           "Promise, The (Versprechen, Das) (1994)",
           1
          ],
          [
           1564,
           "To Cross the Rubicon (1991)",
           1
          ],
          [
           1565,
           "Daens (1992)",
           1
          ],
          [
           1566,
           "Man from Down Under, The (1943)",
           1
          ],
          [
           1567,
           "Careful (1992)",
           1
          ],
          [
           1568,
           "Vermont Is For Lovers (1992)",
           1
          ],
          [
           1569,
           "Vie est belle, La (Life is Rosey) (1987)",
           1
          ],
          [
           1570,
           "Quartier Mozart (1992)",
           1
          ],
          [
           1571,
           "Touki Bouki (Journey of the Hyena) (1973)",
           1
          ],
          [
           1572,
           "Wend Kuuni (God's Gift) (1982)",
           1
          ],
          [
           1573,
           "Spirits of the Dead (Tre passi nel delirio) (1968)",
           2
          ],
          [
           1574,
           "Pharaoh's Army (1995)",
           1
          ],
          [
           1575,
           "I, Worst of All (Yo, la peor de todas) (1990)",
           1
          ],
          [
           1576,
           "Hungarian Fairy Tale, A (1987)",
           1
          ],
          [
           1577,
           "Death in the Garden (Mort en ce jardin, La) (1956)",
           1
          ],
          [
           1578,
           "Collectionneuse, La (1967)",
           2
          ],
          [
           1579,
           "Baton Rouge (1988)",
           1
          ],
          [
           1580,
           "Liebelei (1933)",
           1
          ],
          [
           1581,
           "Woman in Question, The (1950)",
           1
          ],
          [
           1582,
           "T-Men (1947)",
           1
          ],
          [
           1583,
           "Invitation, The (Zaproszenie) (1986)",
           1
          ],
          [
           1584,
           "Symphonie pastorale, La (1946)",
           1
          ],
          [
           1585,
           "American Dream (1990)",
           2
          ],
          [
           1586,
           "Lashou shentan (1992)",
           1
          ],
          [
           1587,
           "Terror in a Texas Town (1958)",
           1
          ],
          [
           1588,
           "Salut cousin! (1996)",
           2
          ],
          [
           1589,
           "Schizopolis (1996)",
           4
          ],
          [
           1590,
           "To Have, or Not (1995)",
           2
          ],
          [
           1591,
           "Duoluo tianshi (1995)",
           6
          ],
          [
           1592,
           "Magic Hour, The (1998)",
           5
          ],
          [
           1593,
           "Death in Brunswick (1991)",
           1
          ],
          [
           1594,
           "Everest (1998)",
           2
          ],
          [
           1595,
           "Shopping (1994)",
           1
          ],
          [
           1596,
           "Nemesis 2: Nebula (1995)",
           1
          ],
          [
           1597,
           "Romper Stomper (1992)",
           5
          ],
          [
           1598,
           "City of Industry (1997)",
           6
          ],
          [
           1599,
           "Someone Else's America (1995)",
           1
          ],
          [
           1600,
           "Guantanamera (1994)",
           4
          ],
          [
           1601,
           "Office Killer (1997)",
           1
          ],
          [
           1602,
           "Price Above Rubies, A (1998)",
           3
          ],
          [
           1603,
           "Angela (1995)",
           1
          ],
          [
           1604,
           "He Walked by Night (1948)",
           1
          ],
          [
           1605,
           "Love Serenade (1996)",
           4
          ],
          [
           1606,
           "Deceiver (1997)",
           1
          ],
          [
           1607,
           "Hurricane Streets (1998)",
           3
          ],
          [
           1608,
           "Buddy (1997)",
           4
          ],
          [
           1609,
           "B*A*P*S (1997)",
           3
          ],
          [
           1610,
           "Truth or Consequences, N.M. (1997)",
           3
          ],
          [
           1611,
           "Intimate Relations (1996)",
           2
          ],
          [
           1612,
           "Leading Man, The (1996)",
           4
          ],
          [
           1613,
           "Tokyo Fist (1995)",
           1
          ],
          [
           1614,
           "Reluctant Debutante, The (1958)",
           1
          ],
          [
           1615,
           "Warriors of Virtue (1997)",
           10
          ],
          [
           1616,
           "Desert Winds (1995)",
           1
          ],
          [
           1617,
           "Hugo Pool (1997)",
           2
          ],
          [
           1618,
           "King of New York (1990)",
           1
          ],
          [
           1619,
           "All Things Fair (1996)",
           1
          ],
          [
           1620,
           "Sixth Man, The (1997)",
           9
          ],
          [
           1621,
           "Butterfly Kiss (1995)",
           1
          ],
          [
           1622,
           "Paris, France (1993)",
           3
          ],
          [
           1623,
           "Cérémonie, La (1995)",
           3
          ],
          [
           1624,
           "Hush (1998)",
           1
          ],
          [
           1625,
           "Nightwatch (1997)",
           1
          ],
          [
           1626,
           "Nobody Loves Me (Keiner liebt mich) (1994)",
           1
          ],
          [
           1627,
           "Wife, The (1995)",
           1
          ],
          [
           1628,
           "Lamerica (1994)",
           4
          ],
          [
           1629,
           "Nico Icon (1995)",
           2
          ],
          [
           1630,
           "Silence of the Palace, The (Saimt el Qusur) (1994)",
           1
          ],
          [
           1631,
           "Slingshot, The (1993)",
           2
          ],
          [
           1632,
           "Land and Freedom (Tierra y libertad) (1995)",
           1
          ],
          [
           1633,
           "Á köldum klaka (Cold Fever) (1994)",
           1
          ],
          [
           1634,
           "Etz Hadomim Tafus (Under the Domin Tree) (1994)",
           1
          ],
          [
           1635,
           "Two Friends (1986) ",
           1
          ],
          [
           1636,
           "Brothers in Trouble (1995)",
           1
          ],
          [
           1637,
           "Girls Town (1996)",
           1
          ],
          [
           1638,
           "Normal Life (1996)",
           1
          ],
          [
           1639,
           "Bitter Sugar (Azucar Amargo) (1996)",
           3
          ],
          [
           1640,
           "Eighth Day, The (1996)",
           1
          ],
          [
           1641,
           "Dadetown (1995)",
           1
          ],
          [
           1642,
           "Some Mother's Son (1996)",
           2
          ],
          [
           1643,
           "Angel Baby (1995)",
           4
          ],
          [
           1644,
           "Sudden Manhattan (1996)",
           2
          ],
          [
           1645,
           "Butcher Boy, The (1998)",
           1
          ],
          [
           1646,
           "Men With Guns (1997)",
           2
          ],
          [
           1647,
           "Hana-bi (1997)",
           1
          ],
          [
           1648,
           "Niagara, Niagara (1997)",
           1
          ],
          [
           1649,
           "Big One, The (1997)",
           1
          ],
          [
           1650,
           "Butcher Boy, The (1998)",
           1
          ],
          [
           1651,
           "Spanish Prisoner, The (1997)",
           1
          ],
          [
           1652,
           "Temptress Moon (Feng Yue) (1996)",
           3
          ],
          [
           1653,
           "Entertaining Angels: The Dorothy Day Story (1996)",
           1
          ],
          [
           1654,
           "Chairman of the Board (1998)",
           1
          ],
          [
           1655,
           "Favor, The (1994)",
           1
          ],
          [
           1656,
           "Little City (1998)",
           2
          ],
          [
           1657,
           "Target (1995)",
           1
          ],
          [
           1658,
           "Substance of Fire, The (1996)",
           3
          ],
          [
           1659,
           "Getting Away With Murder (1996)",
           1
          ],
          [
           1660,
           "Small Faces (1995)",
           1
          ],
          [
           1661,
           "New Age, The (1994)",
           1
          ],
          [
           1662,
           "Rough Magic (1995)",
           2
          ],
          [
           1663,
           "Nothing Personal (1995)",
           1
          ],
          [
           1664,
           "8 Heads in a Duffel Bag (1997)",
           4
          ],
          [
           1665,
           "Brother's Kiss, A (1997)",
           1
          ],
          [
           1666,
           "Ripe (1996)",
           1
          ],
          [
           1667,
           "Next Step, The (1995)",
           1
          ],
          [
           1668,
           "Wedding Bell Blues (1996)",
           1
          ],
          [
           1669,
           "MURDER and murder (1996)",
           1
          ],
          [
           1670,
           "Tainted (1998)",
           1
          ],
          [
           1671,
           "Further Gesture, A (1996)",
           1
          ],
          [
           1672,
           "Kika (1993)",
           2
          ],
          [
           1673,
           "Mirage (1995)",
           1
          ],
          [
           1674,
           "Mamma Roma (1962)",
           1
          ],
          [
           1675,
           "Sunchaser, The (1996)",
           1
          ],
          [
           1676,
           "War at Home, The (1996)",
           1
          ],
          [
           1677,
           "Sweet Nothing (1995)",
           1
          ],
          [
           1678,
           "Mat' i syn (1997)",
           1
          ],
          [
           1679,
           "B. Monkey (1998)",
           1
          ],
          [
           1680,
           "Sliding Doors (1998)",
           1
          ],
          [
           1681,
           "You So Crazy (1994)",
           1
          ],
          [
           1682,
           "Scream of Stone (Schrei aus Stein) (1991)",
           1
          ]
         ],
         "hovertemplate": "tsne_1=%{x}<br>tsne_2=%{y}<br>item_id=%{customdata[0]}<br>title=%{customdata[1]}<br>popularity=%{marker.color}<extra></extra>",
         "legendgroup": "",
         "marker": {
          "color": [
           452,
           131,
           90,
           209,
           86,
           26,
           392,
           219,
           299,
           89,
           236,
           267,
           184,
           183,
           293,
           39,
           92,
           10,
           69,
           72,
           84,
           297,
           182,
           174,
           293,
           73,
           57,
           276,
           114,
           37,
           154,
           81,
           97,
           7,
           11,
           13,
           8,
           120,
           87,
           57,
           37,
           148,
           40,
           79,
           80,
           27,
           133,
           117,
           81,
           583,
           81,
           91,
           128,
           104,
           149,
           394,
           40,
           175,
           83,
           64,
           59,
           127,
           82,
           283,
           115,
           162,
           103,
           134,
           321,
           251,
           220,
           129,
           128,
           7,
           5,
           54,
           151,
           33,
           336,
           68,
           110,
           261,
           176,
           18,
           58,
           150,
           138,
           213,
           275,
           95,
           143,
           104,
           112,
           137,
           219,
           295,
           256,
           390,
           172,
           508,
           73,
           54,
           15,
           5,
           74,
           71,
           42,
           65,
           130,
           31,
           272,
           20,
           9,
           67,
           15,
           125,
           378,
           293,
           4,
           67,
           429,
           106,
           115,
           187,
           244,
           97,
           413,
           65,
           129,
           23,
           95,
           246,
           171,
           198,
           259,
           105,
           171,
           19,
           50,
           61,
           72,
           57,
           222,
           243,
           65,
           10,
           185,
           128,
           23,
           157,
           326,
           82,
           247,
           174,
           98,
           148,
           127,
           60,
           101,
           69,
           220,
           106,
           92,
           151,
           64,
           58,
           67,
           316,
           118,
           121,
           65,
           367,
           324,
           420,
           208,
           284,
           137,
           125,
           221,
           221,
           507,
           226,
           291,
           116,
           239,
           251,
           209,
           170,
           66,
           124,
           276,
           116,
           157,
           241,
           301,
           251,
           239,
           127,
           165,
           206,
           89,
           280,
           182,
           350,
           136,
           50,
           66,
           200,
           191,
           331,
           206,
           92,
           134,
           114,
           212,
           290,
           120,
           171,
           111,
           66,
           74,
           365,
           136,
           44,
           109,
           166,
           161,
           244,
           171,
           199,
           142,
           101,
           124,
           280,
           217,
           45,
           384,
           256,
           150,
           156,
           128,
           117,
           132,
           48,
           240,
           124,
           5,
           160,
           130,
           197,
           46,
           158,
           26,
           62,
           172,
           16,
           303,
           509,
           162,
           127,
           43,
           66,
           19,
           101,
           227,
           35,
           9,
           255,
           315,
           136,
           211,
           198,
           223,
           190,
           268,
           298,
           71,
           60,
           28,
           85,
           146,
           232,
           177,
           193,
           162,
           481,
           78,
           478,
           259,
           96,
           127,
           114,
           147,
           485,
           77,
           6,
           50,
           194,
           73,
           431,
           230,
           297,
           134,
           149,
           87,
           96,
           188,
           30,
           28,
           145,
           75,
           80,
           350,
           5,
           160,
           112,
           102,
           298,
           168,
           20,
           169,
           218,
           240,
           125,
           128,
           175,
           175,
           295,
           45,
           41,
           113,
           143,
           251,
           64,
           21,
           43,
           18,
           91,
           47,
           189,
           11,
           52,
           124,
           55,
           65,
           126,
           137,
           27,
           31,
           41,
           20,
           26,
           14,
           72,
           41,
           97,
           264,
           143,
           18,
           10,
           10,
           28,
           47,
           37,
           48,
           47,
           170,
           31,
           55,
           39,
           67,
           34,
           39,
           11,
           23,
           24,
           13,
           101,
           43,
           116,
           100,
           111,
           31,
           69,
           208,
           87,
           65,
           28,
           27,
           10,
           59,
           68,
           192,
           12,
           56,
           54,
           12,
           26,
           89,
           18,
           76,
           170,
           201,
           101,
           344,
           49,
           43,
           112,
           70,
           162,
           163,
           93,
           55,
           62,
           25,
           64,
           73,
           129,
           178,
           81,
           106,
           26,
           300,
           19,
           85,
           32,
           219,
           121,
           97,
           93,
           153,
           174,
           171,
           67,
           216,
           99,
           5,
           6,
           5,
           14,
           53,
           4,
           162,
           46,
           22,
           9,
           121,
           85,
           117,
           63,
           170,
           66,
           16,
           16,
           145,
           48,
           27,
           90,
           24,
           28,
           74,
           148,
           71,
           27,
           85,
           52,
           48,
           64,
           67,
           108,
           221,
           158,
           126,
           194,
           250,
           160,
           95,
           104,
           179,
           179,
           63,
           128,
           243,
           138,
           125,
           64,
           68,
           65,
           52,
           50,
           67,
           59,
           60,
           56,
           59,
           231,
           68,
           152,
           62,
           31,
           123,
           57,
           39,
           122,
           68,
           90,
           98,
           215,
           121,
           121,
           173,
           57,
           72,
           180,
           201,
           63,
           91,
           89,
           80,
           124,
           120,
           35,
           164,
           46,
           73,
           124,
           195,
           121,
           93,
           80,
           129,
           22,
           15,
           13,
           54,
           10,
           30,
           66,
           44,
           43,
           49,
           51,
           21,
           71,
           12,
           254,
           41,
           12,
           92,
           151,
           24,
           45,
           63,
           102,
           10,
           12,
           17,
           70,
           137,
           22,
           59,
           48,
           29,
           27,
           22,
           179,
           35,
           230,
           67,
           50,
           28,
           29,
           33,
           15,
           44,
           93,
           41,
           92,
           19,
           32,
           59,
           168,
           37,
           79,
           39,
           34,
           14,
           202,
           43,
           18,
           178,
           9,
           12,
           5,
           64,
           127,
           206,
           4,
           1,
           2,
           20,
           50,
           209,
           81,
           31,
           66,
           66,
           30,
           60,
           41,
           40,
           34,
           27,
           51,
           59,
           64,
           18,
           18,
           64,
           43,
           11,
           39,
           39,
           22,
           82,
           4,
           75,
           169,
           77,
           31,
           119,
           58,
           69,
           24,
           23,
           91,
           38,
           44,
           40,
           82,
           33,
           89,
           4,
           35,
           27,
           38,
           70,
           67,
           50,
           72,
           171,
           90,
           34,
           147,
           227,
           44,
           131,
           79,
           115,
           153,
           88,
           82,
           116,
           46,
           100,
           5,
           12,
           6,
           13,
           36,
           46,
           65,
           86,
           48,
           54,
           77,
           1,
           219,
           107,
           34,
           27,
           100,
           49,
           169,
           157,
           50,
           69,
           44,
           87,
           155,
           16,
           164,
           91,
           44,
           13,
           79,
           40,
           10,
           102,
           15,
           10,
           53,
           19,
           24,
           137,
           6,
           70,
           101,
           104,
           79,
           1,
           51,
           72,
           13,
           87,
           58,
           82,
           16,
           29,
           86,
           54,
           58,
           34,
           76,
           16,
           14,
           63,
           45,
           81,
           24,
           39,
           180,
           15,
           27,
           137,
           78,
           59,
           31,
           164,
           63,
           58,
           267,
           39,
           92,
           16,
           119,
           102,
           316,
           51,
           124,
           180,
           39,
           24,
           57,
           96,
           128,
           4,
           21,
           11,
           46,
           44,
           115,
           149,
           29,
           32,
           9,
           11,
           52,
           42,
           57,
           41,
           49,
           17,
           32,
           26,
           9,
           4,
           76,
           31,
           69,
           84,
           10,
           37,
           2,
           39,
           14,
           13,
           3,
           47,
           66,
           10,
           86,
           10,
           46,
           21,
           36,
           31,
           9,
           5,
           26,
           16,
           40,
           9,
           8,
           27,
           50,
           9,
           31,
           43,
           45,
           18,
           18,
           56,
           1,
           112,
           21,
           3,
           25,
           40,
           93,
           22,
           4,
           82,
           49,
           83,
           80,
           57,
           13,
           34,
           1,
           91,
           22,
           49,
           25,
           15,
           26,
           25,
           4,
           4,
           53,
           48,
           27,
           30,
           42,
           176,
           44,
           55,
           9,
           53,
           4,
           4,
           1,
           14,
           16,
           66,
           36,
           1,
           3,
           15,
           16,
           3,
           18,
           24,
           86,
           21,
           119,
           6,
           5,
           24,
           9,
           75,
           42,
           81,
           39,
           53,
           47,
           52,
           33,
           136,
           59,
           45,
           34,
           13,
           7,
           13,
           53,
           64,
           15,
           13,
           43,
           6,
           53,
           14,
           19,
           106,
           44,
           2,
           58,
           9,
           42,
           12,
           42,
           18,
           20,
           27,
           21,
           2,
           20,
           13,
           4,
           4,
           9,
           2,
           11,
           13,
           18,
           7,
           8,
           96,
           5,
           46,
           34,
           58,
           85,
           34,
           101,
           6,
           104,
           40,
           80,
           57,
           40,
           21,
           68,
           7,
           32,
           37,
           25,
           60,
           32,
           46,
           45,
           40,
           43,
           40,
           61,
           17,
           48,
           71,
           30,
           39,
           45,
           22,
           11,
           49,
           46,
           2,
           14,
           64,
           25,
           34,
           23,
           41,
           9,
           21,
           26,
           12,
           18,
           75,
           8,
           34,
           28,
           4,
           32,
           44,
           12,
           49,
           27,
           35,
           22,
           8,
           20,
           15,
           44,
           22,
           23,
           4,
           86,
           32,
           33,
           25,
           4,
           66,
           7,
           31,
           14,
           16,
           16,
           10,
           10,
           17,
           8,
           8,
           9,
           22,
           23,
           47,
           37,
           64,
           44,
           93,
           100,
           38,
           98,
           12,
           137,
           50,
           32,
           31,
           35,
           38,
           32,
           31,
           15,
           44,
           4,
           3,
           148,
           14,
           20,
           7,
           16,
           32,
           27,
           68,
           24,
           24,
           17,
           90,
           25,
           62,
           28,
           8,
           40,
           25,
           46,
           134,
           73,
           25,
           43,
           41,
           25,
           24,
           23,
           10,
           10,
           22,
           15,
           35,
           39,
           29,
           12,
           41,
           4,
           53,
           16,
           44,
           12,
           18,
           27,
           16,
           7,
           66,
           77,
           7,
           12,
           8,
           22,
           45,
           2,
           8,
           8,
           6,
           21,
           11,
           21,
           10,
           13,
           38,
           37,
           43,
           12,
           23,
           12,
           29,
           3,
           18,
           42,
           13,
           8,
           74,
           7,
           19,
           4,
           18,
           4,
           18,
           5,
           28,
           41,
           7,
           15,
           22,
           10,
           29,
           13,
           19,
           47,
           59,
           17,
           21,
           1,
           3,
           12,
           4,
           32,
           11,
           13,
           28,
           1,
           13,
           32,
           30,
           38,
           46,
           29,
           29,
           5,
           33,
           17,
           9,
           44,
           15,
           3,
           9,
           3,
           21,
           9,
           26,
           9,
           7,
           28,
           19,
           12,
           3,
           1,
           25,
           4,
           11,
           26,
           13,
           5,
           25,
           6,
           14,
           12,
           11,
           22,
           10,
           27,
           14,
           15,
           7,
           8,
           5,
           22,
           7,
           19,
           9,
           10,
           10,
           13,
           19,
           10,
           18,
           3,
           13,
           44,
           3,
           11,
           3,
           13,
           10,
           31,
           11,
           3,
           45,
           7,
           23,
           7,
           1,
           8,
           21,
           18,
           6,
           19,
           17,
           20,
           15,
           38,
           12,
           6,
           6,
           9,
           30,
           6,
           39,
           26,
           20,
           30,
           39,
           25,
           4,
           12,
           14,
           32,
           8,
           48,
           13,
           18,
           22,
           17,
           6,
           8,
           1,
           1,
           6,
           8,
           18,
           26,
           6,
           5,
           7,
           36,
           19,
           7,
           6,
           19,
           12,
           6,
           8,
           9,
           7,
           11,
           8,
           3,
           4,
           23,
           4,
           4,
           4,
           8,
           15,
           7,
           19,
           12,
           33,
           10,
           10,
           7,
           7,
           5,
           15,
           11,
           4,
           8,
           19,
           16,
           9,
           16,
           13,
           9,
           19,
           26,
           15,
           17,
           6,
           7,
           7,
           2,
           15,
           3,
           3,
           7,
           7,
           20,
           12,
           9,
           8,
           9,
           5,
           5,
           18,
           2,
           7,
           2,
           2,
           2,
           1,
           1,
           16,
           7,
           14,
           11,
           23,
           7,
           4,
           3,
           4,
           1,
           2,
           6,
           3,
           5,
           1,
           6,
           3,
           6,
           1,
           4,
           4,
           2,
           5,
           2,
           11,
           10,
           9,
           4,
           1,
           1,
           1,
           2,
           1,
           5,
           2,
           5,
           4,
           1,
           1,
           2,
           3,
           1,
           5,
           2,
           6,
           3,
           3,
           2,
           2,
           2,
           3,
           2,
           1,
           1,
           2,
           1,
           5,
           6,
           4,
           3,
           2,
           3,
           1,
           2,
           10,
           7,
           4,
           5,
           7,
           6,
           8,
           4,
           6,
           3,
           5,
           6,
           3,
           6,
           3,
           2,
           3,
           5,
           9,
           7,
           6,
           5,
           5,
           2,
           7,
           10,
           18,
           4,
           4,
           13,
           6,
           5,
           20,
           3,
           7,
           4,
           28,
           6,
           8,
           1,
           9,
           5,
           2,
           3,
           16,
           3,
           11,
           4,
           4,
           3,
           10,
           8,
           5,
           12,
           4,
           3,
           5,
           3,
           2,
           10,
           7,
           2,
           9,
           5,
           8,
           5,
           7,
           5,
           4,
           19,
           4,
           15,
           1,
           3,
           8,
           2,
           15,
           1,
           1,
           6,
           2,
           7,
           1,
           1,
           7,
           1,
           1,
           7,
           3,
           3,
           3,
           6,
           2,
           6,
           12,
           5,
           9,
           2,
           9,
           6,
           8,
           1,
           2,
           18,
           8,
           11,
           2,
           1,
           12,
           3,
           4,
           1,
           5,
           4,
           5,
           3,
           2,
           1,
           1,
           1,
           5,
           5,
           2,
           1,
           4,
           2,
           5,
           2,
           10,
           3,
           1,
           3,
           1,
           3,
           5,
           1,
           5,
           6,
           3,
           7,
           1,
           3,
           5,
           12,
           2,
           1,
           4,
           7,
           2,
           8,
           1,
           1,
           7,
           3,
           5,
           5,
           7,
           2,
           1,
           6,
           4,
           1,
           4,
           3,
           4,
           10,
           2,
           2,
           1,
           3,
           4,
           1,
           2,
           1,
           2,
           2,
           2,
           3,
           4,
           2,
           5,
           2,
           1,
           7,
           1,
           4,
           1,
           1,
           1,
           1,
           1,
           1,
           1,
           1,
           1,
           1,
           1,
           1,
           2,
           1,
           1,
           1,
           1,
           2,
           1,
           1,
           1,
           1,
           1,
           1,
           2,
           1,
           1,
           2,
           4,
           2,
           6,
           5,
           1,
           2,
           1,
           1,
           5,
           6,
           1,
           4,
           1,
           3,
           1,
           1,
           4,
           1,
           3,
           4,
           3,
           3,
           2,
           4,
           1,
           1,
           10,
           1,
           2,
           1,
           1,
           9,
           1,
           3,
           3,
           1,
           1,
           1,
           1,
           4,
           2,
           1,
           2,
           1,
           1,
           1,
           1,
           1,
           1,
           1,
           3,
           1,
           1,
           2,
           4,
           2,
           1,
           2,
           1,
           1,
           1,
           1,
           1,
           3,
           1,
           1,
           1,
           2,
           1,
           3,
           1,
           1,
           1,
           2,
           1,
           4,
           1,
           1,
           1,
           1,
           1,
           1,
           1,
           2,
           1,
           1,
           1,
           1,
           1,
           1,
           1,
           1,
           1,
           1
          ],
          "coloraxis": "coloraxis",
          "symbol": "circle"
         },
         "mode": "markers",
         "name": "",
         "showlegend": false,
         "type": "scattergl",
         "x": [
          2.8935089111328125,
          4.380533695220947,
          -2.1444754600524902,
          -7.393983840942383,
          7.213744163513184,
          -24.42702865600586,
          -9.354928970336914,
          -10.478679656982422,
          -30.179569244384766,
          -22.106552124023438,
          -7.716839790344238,
          -32.819801330566406,
          -29.864900588989258,
          -28.225496292114258,
          5.511582851409912,
          -15.858071327209473,
          -3.8869059085845947,
          19.805105209350586,
          -23.483530044555664,
          -16.721633911132812,
          18.348161697387695,
          0.22407826781272888,
          -33.99772644042969,
          -7.946091651916504,
          -0.09711715579032898,
          -9.250593185424805,
          5.994258403778076,
          2.230699062347412,
          27.730905532836914,
          -19.760379791259766,
          9.652068138122559,
          -27.4461669921875,
          -19.7264404296875,
          12.355696678161621,
          30.2974853515625,
          24.49758529663086,
          -9.904109954833984,
          21.7485294342041,
          -3.63946270942688,
          21.60308074951172,
          -4.2684221267700195,
          -34.606693267822266,
          8.284453392028809,
          -13.727794647216797,
          -26.77460289001465,
          -14.970126152038574,
          -31.566219329833984,
          -21.51342010498047,
          7.5795817375183105,
          0.15972457826137543,
          8.07534122467041,
          -23.04536247253418,
          -20.29697608947754,
          6.392730236053467,
          -30.342538833618164,
          -35.52193832397461,
          -21.083341598510742,
          -11.637545585632324,
          -25.41982078552246,
          -25.35789680480957,
          -25.114871978759766,
          22.73720359802246,
          11.42604923248291,
          -33.264198303222656,
          -27.447479248046875,
          14.612157821655273,
          0.5842835903167725,
          -4.469489097595215,
          1.7708860635757446,
          -2.1565277576446533,
          6.912174701690674,
          5.143556594848633,
          15.514845848083496,
          -7.052987098693848,
          0.06090441718697548,
          -7.21798849105835,
          14.544260025024414,
          16.676532745361328,
          2.5126357078552246,
          13.15858268737793,
          -16.66748046875,
          4.441774368286133,
          -1.7690216302871704,
          11.465264320373535,
          -3.707886219024658,
          -20.316434860229492,
          2.3594043254852295,
          5.659021854400635,
          -32.53966522216797,
          -6.7538323402404785,
          -32.14876174926758,
          -31.310688018798828,
          -29.447280883789062,
          12.42514705657959,
          3.7247097492218018,
          0.6102612614631653,
          -2.1597092151641846,
          -1.8056508302688599,
          -4.7527289390563965,
          -30.81744956970215,
          5.0700764656066895,
          9.884544372558594,
          31.207801818847656,
          32.66585159301758,
          17.269817352294922,
          11.340078353881836,
          -14.565202713012695,
          -12.593896865844727,
          -6.616855621337891,
          13.18893051147461,
          2.2741425037384033,
          28.7871150970459,
          -26.786413192749023,
          -28.898805618286133,
          4.495748043060303,
          -33.650516510009766,
          1.02046537399292,
          16.01319122314453,
          -25.20030403137207,
          26.8625545501709,
          15.46320629119873,
          19.767192840576172,
          -8.82160758972168,
          -32.2160758972168,
          15.143619537353516,
          0.34618324041366577,
          -19.71930694580078,
          -13.36933708190918,
          -8.38418960571289,
          21.48011589050293,
          -22.286392211914062,
          -13.38892650604248,
          -13.22850227355957,
          -28.090133666992188,
          -18.10849952697754,
          -7.841196537017822,
          -32.113983154296875,
          22.48822593688965,
          15.756908416748047,
          10.204203605651855,
          -0.5007554292678833,
          9.746036529541016,
          2.3307290077209473,
          -2.100043773651123,
          15.775646209716797,
          -0.28009265661239624,
          4.597480297088623,
          19.809001922607422,
          -11.196920394897461,
          -30.433364868164062,
          -31.404842376708984,
          -7.161926746368408,
          -10.643524169921875,
          -30.02056312561035,
          15.979596138000488,
          -34.363765716552734,
          -14.628664016723633,
          22.090124130249023,
          4.666082382202148,
          -36.156578063964844,
          14.263805389404297,
          -5.802886962890625,
          -0.9006228446960449,
          8.339264869689941,
          -23.953275680541992,
          -21.425832748413086,
          11.951692581176758,
          -29.126718521118164,
          -27.541908264160156,
          -22.85455894470215,
          -33.05668640136719,
          0.37784233689308167,
          -1.4948331117630005,
          0.4699036478996277,
          -33.387664794921875,
          -6.435420989990234,
          -6.963884353637695,
          -23.115589141845703,
          -31.8840389251709,
          -30.274980545043945,
          0.3030206263065338,
          -29.439435958862305,
          -6.5318803787231445,
          -8.265108108520508,
          -27.475196838378906,
          -0.7002841234207153,
          -19.678142547607422,
          -35.75646209716797,
          -26.72635269165039,
          -24.657726287841797,
          -22.96246337890625,
          -34.48408889770508,
          -11.661591529846191,
          -8.041200637817383,
          0.03792906552553177,
          -3.304680109024048,
          -23.451372146606445,
          -31.710060119628906,
          -13.511576652526855,
          -30.919292449951172,
          -28.233291625976562,
          0.17834538221359253,
          -10.261884689331055,
          1.640974521636963,
          -1.2079577445983887,
          -30.949478149414062,
          -21.918766021728516,
          -22.92803382873535,
          -23.11264419555664,
          5.350941181182861,
          -13.290046691894531,
          -21.545284271240234,
          -12.480778694152832,
          -9.007448196411133,
          4.895792007446289,
          1.7193191051483154,
          -6.3336710929870605,
          9.237809181213379,
          12.257935523986816,
          -1.7549364566802979,
          -30.24495506286621,
          3.6108291149139404,
          -27.83258628845215,
          -24.948572158813477,
          6.012937068939209,
          10.691018104553223,
          4.910202980041504,
          0.1279110461473465,
          6.161678791046143,
          11.87933349609375,
          16.513517379760742,
          4.2877326011657715,
          10.624738693237305,
          -15.325163841247559,
          -9.418079376220703,
          9.033979415893555,
          2.3763718605041504,
          -32.278221130371094,
          6.604925155639648,
          -36.69706726074219,
          4.3889851570129395,
          -17.419992446899414,
          24.294025421142578,
          -18.583934783935547,
          3.172116279602051,
          -32.33547592163086,
          21.412992477416992,
          -29.39629554748535,
          -6.744213581085205,
          -4.931682109832764,
          -25.288496017456055,
          16.96715545654297,
          -24.723731994628906,
          20.46854019165039,
          5.532318115234375,
          -25.130136489868164,
          2.378952741622925,
          -5.2719807624816895,
          8.849976539611816,
          15.731926918029785,
          28.523393630981445,
          -30.426939010620117,
          35.393985748291016,
          7.774024486541748,
          1.719728708267212,
          17.043212890625,
          -1.6882195472717285,
          -32.392765045166016,
          -31.907596588134766,
          -6.427972316741943,
          2.8878517150878906,
          -10.498058319091797,
          -7.778237819671631,
          13.270854949951172,
          -28.230060577392578,
          -29.565759658813477,
          -2.9451541900634766,
          14.892775535583496,
          -1.745347261428833,
          13.920182228088379,
          5.197811126708984,
          16.166545867919922,
          -27.71114158630371,
          0.06827796250581741,
          -35.90592575073242,
          -31.57420539855957,
          -15.593242645263672,
          -8.400622367858887,
          18.01780891418457,
          9.489070892333984,
          5.917751312255859,
          -16.201282501220703,
          -9.166625022888184,
          18.78468132019043,
          -0.9289981126785278,
          -13.081477165222168,
          -22.776124954223633,
          -8.133102416992188,
          -11.218731880187988,
          16.531978607177734,
          -3.4880759716033936,
          -31.854095458984375,
          -16.003429412841797,
          6.443871974945068,
          -32.58038330078125,
          -26.008838653564453,
          -4.276613235473633,
          -4.810204982757568,
          19.040904998779297,
          5.18356466293335,
          -16.51607894897461,
          2.2375361919403076,
          -0.7387896776199341,
          32.59767532348633,
          -15.926504135131836,
          -15.77088451385498,
          -27.683834075927734,
          -14.014504432678223,
          -14.287304878234863,
          -30.97119140625,
          -8.157365798950195,
          25.083389282226562,
          24.373340606689453,
          -35.88089370727539,
          -1.696274995803833,
          25.920007705688477,
          -4.150185585021973,
          25.939897537231445,
          9.14183521270752,
          0.4460356533527374,
          -3.4852678775787354,
          7.708536624908447,
          -1.4846385717391968,
          -22.7342529296875,
          -12.63118839263916,
          23.225955963134766,
          -2.355236053466797,
          23.081573486328125,
          12.220438957214355,
          -32.10567855834961,
          22.77376365661621,
          14.572060585021973,
          -1.8754534721374512,
          -19.258577346801758,
          -23.440101623535156,
          -12.946928024291992,
          -9.517184257507324,
          10.154373168945312,
          18.035987854003906,
          -20.581106185913086,
          9.678298950195312,
          26.944435119628906,
          20.667051315307617,
          4.058252811431885,
          4.774168968200684,
          0.7968018054962158,
          -23.706562042236328,
          18.33849334716797,
          -17.076160430908203,
          -19.206024169921875,
          4.050508499145508,
          -0.4270975589752197,
          11.322376251220703,
          10.228202819824219,
          4.409576416015625,
          14.332337379455566,
          -4.7957234382629395,
          22.320405960083008,
          -0.23141565918922424,
          27.31297492980957,
          6.133721351623535,
          -19.563018798828125,
          19.713533401489258,
          23.786182403564453,
          20.898704528808594,
          16.638408660888672,
          26.52771759033203,
          5.6177778244018555,
          -17.349048614501953,
          11.609949111938477,
          -16.06912612915039,
          -20.747600555419922,
          24.521554946899414,
          13.360200881958008,
          10.20431900024414,
          -6.654177665710449,
          -18.726682662963867,
          20.0579833984375,
          6.108006477355957,
          -10.822283744812012,
          8.980640411376953,
          12.644689559936523,
          10.447863578796387,
          21.189525604248047,
          16.488079071044922,
          -33.715118408203125,
          11.628304481506348,
          20.412025451660156,
          9.503588676452637,
          12.180715560913086,
          -10.120813369750977,
          8.794936180114746,
          -7.365087509155273,
          -11.234928131103516,
          14.442837715148926,
          24.2395076751709,
          14.352587699890137,
          -27.56187629699707,
          1.562146544456482,
          -7.0490570068359375,
          -5.477616786956787,
          -10.259916305541992,
          3.229830741882324,
          -11.438594818115234,
          11.73919677734375,
          -10.438413619995117,
          10.08518123626709,
          6.850701332092285,
          2.0338947772979736,
          -15.968249320983887,
          3.7442073822021484,
          -10.417012214660645,
          -4.650274753570557,
          31.21831512451172,
          -33.33303451538086,
          -0.45989999175071716,
          -23.035327911376953,
          -29.73390769958496,
          -3.0176048278808594,
          -11.726093292236328,
          8.434144020080566,
          -28.03635597229004,
          -32.543582916259766,
          -2.9540317058563232,
          -4.67110538482666,
          -7.4857401847839355,
          33.495853424072266,
          31.56745147705078,
          32.311798095703125,
          28.908479690551758,
          10.08763313293457,
          28.78685760498047,
          -12.872148513793945,
          -8.060770988464355,
          -14.577580451965332,
          12.119600296020508,
          -9.690740585327148,
          -4.862560749053955,
          -1.2229094505310059,
          13.16653060913086,
          13.87132740020752,
          12.300185203552246,
          19.250425338745117,
          18.89027976989746,
          -21.31650161743164,
          26.181167602539062,
          27.966432571411133,
          -27.221357345581055,
          -1.303321361541748,
          -13.68114948272705,
          -29.644729614257812,
          -22.133440017700195,
          -27.710567474365234,
          -15.919878005981445,
          0.05432701110839844,
          -25.74273109436035,
          -26.52418327331543,
          12.345132827758789,
          -30.95456314086914,
          7.795234203338623,
          -2.5358211994171143,
          6.53482723236084,
          -26.656410217285156,
          -33.01572799682617,
          -35.47441101074219,
          2.6840620040893555,
          -18.92929458618164,
          -22.125782012939453,
          -24.978973388671875,
          -22.562911987304688,
          -26.907424926757812,
          -12.546154975891113,
          -16.545183181762695,
          -18.039247512817383,
          -17.6884822845459,
          -7.108513832092285,
          -32.399635314941406,
          -28.20117950439453,
          -21.4931697845459,
          -20.955785751342773,
          -15.30882453918457,
          -20.432735443115234,
          -19.16402244567871,
          -11.70895767211914,
          -9.684370994567871,
          -10.862210273742676,
          -9.154318809509277,
          -13.852725982666016,
          -20.294252395629883,
          -1.0113776922225952,
          -11.417521476745605,
          -13.750200271606445,
          -14.792282104492188,
          -26.73435401916504,
          -10.433503150939941,
          -16.391845703125,
          -26.187870025634766,
          -30.478031158447266,
          -20.888212203979492,
          -14.255025863647461,
          -30.257009506225586,
          -33.2271842956543,
          -23.997549057006836,
          -30.6677188873291,
          -24.6832332611084,
          -19.1321964263916,
          -30.792579650878906,
          -31.32497787475586,
          -24.675643920898438,
          0.1367247998714447,
          -14.559263229370117,
          -31.31430435180664,
          -11.27042293548584,
          -24.291419982910156,
          -25.224023818969727,
          -11.123600959777832,
          -12.333883285522461,
          -16.53040885925293,
          -29.8059139251709,
          -12.116141319274902,
          -4.848968505859375,
          -24.624250411987305,
          -23.04075813293457,
          -27.225780487060547,
          0.5175268650054932,
          -23.017147064208984,
          -23.157915115356445,
          0.9791976809501648,
          19.34343147277832,
          12.758885383605957,
          6.345625400543213,
          17.797502517700195,
          -17.85295867919922,
          -23.260374069213867,
          28.6787109375,
          13.866562843322754,
          -24.36157989501953,
          18.515338897705078,
          -26.142253875732422,
          11.18319320678711,
          24.597328186035156,
          6.350667953491211,
          21.292659759521484,
          21.90139389038086,
          24.455167770385742,
          -9.726034164428711,
          -18.255462646484375,
          -29.33961296081543,
          2.6037564277648926,
          16.862285614013672,
          7.532336235046387,
          0.053366705775260925,
          24.352094650268555,
          19.19833755493164,
          17.332801818847656,
          8.818953514099121,
          8.132685661315918,
          6.923215389251709,
          7.831162929534912,
          8.052314758300781,
          16.137916564941406,
          8.000701904296875,
          10.81968879699707,
          22.7928466796875,
          19.21104621887207,
          10.53637409210205,
          30.589311599731445,
          12.0485200881958,
          13.423529624938965,
          -19.474271774291992,
          -30.973581314086914,
          -14.295315742492676,
          -22.36662483215332,
          -19.467239379882812,
          18.321819305419922,
          17.23967742919922,
          -13.984941482543945,
          3.046283006668091,
          -34.51095962524414,
          30.075040817260742,
          2.4121615886688232,
          -3.466527223587036,
          -17.701595306396484,
          -7.2628912925720215,
          3.5427818298339844,
          2.8476264476776123,
          12.006441116333008,
          18.987457275390625,
          34.71613311767578,
          -7.489378452301025,
          -0.9156266450881958,
          -11.180634498596191,
          -24.642715454101562,
          -19.854135513305664,
          -18.17315101623535,
          -18.564395904541016,
          -14.182802200317383,
          -23.590694427490234,
          -6.704927921295166,
          -17.65695571899414,
          -24.196516036987305,
          -27.76609992980957,
          -29.123533248901367,
          -0.329755961894989,
          -23.81747055053711,
          -27.284334182739258,
          -4.60882043838501,
          -29.492570877075195,
          -5.509759426116943,
          14.757232666015625,
          -6.980465888977051,
          3.986398458480835,
          21.04398536682129,
          2.6820523738861084,
          11.201658248901367,
          -18.075010299682617,
          7.364414691925049,
          -1.289393424987793,
          5.318331241607666,
          6.432278633117676,
          -14.65821647644043,
          -15.65176010131836,
          -17.47136116027832,
          -1.8694027662277222,
          19.465728759765625,
          -3.6803810596466064,
          -34.276458740234375,
          -16.883100509643555,
          -22.033668518066406,
          -31.75794219970703,
          -26.854507446289062,
          -29.518217086791992,
          8.822830200195312,
          -31.112773895263672,
          -25.2288818359375,
          -29.215526580810547,
          -28.99280548095703,
          -18.486011505126953,
          -25.61659049987793,
          -3.927910566329956,
          -13.479924201965332,
          -32.37862014770508,
          -26.501737594604492,
          -26.882518768310547,
          -8.260140419006348,
          -26.43181037902832,
          -23.130054473876953,
          2.5324411392211914,
          -4.707119941711426,
          2.2280750274658203,
          -26.285097122192383,
          8.083561897277832,
          -22.221908569335938,
          -30.36911964416504,
          3.534393787384033,
          20.83067512512207,
          14.090738296508789,
          -9.644412994384766,
          29.6925106048584,
          -0.07930625230073929,
          -31.43681526184082,
          22.01734161376953,
          5.156667232513428,
          -5.535510540008545,
          -20.910995483398438,
          0.3582685589790344,
          52.061920166015625,
          23.081382751464844,
          -6.246096134185791,
          17.081212997436523,
          21.2993221282959,
          7.989027976989746,
          12.621514320373535,
          2.85783314704895,
          5.522556304931641,
          -1.9998859167099,
          23.88524627685547,
          29.241552352905273,
          0.9053463339805603,
          7.010870456695557,
          -9.744766235351562,
          5.317702293395996,
          -35.21704864501953,
          -22.341705322265625,
          -18.564579010009766,
          -2.1055681705474854,
          3.341001510620117,
          0.8979657888412476,
          -4.562861442565918,
          -14.09582805633545,
          -18.584606170654297,
          -15.017117500305176,
          -19.451749801635742,
          -8.930835723876953,
          -15.565680503845215,
          3.630600929260254,
          -20.714712142944336,
          -15.513529777526855,
          -26.027450561523438,
          6.6527628898620605,
          51.131187438964844,
          -2.6977040767669678,
          -26.942779541015625,
          -13.244317054748535,
          -28.507568359375,
          8.199505805969238,
          19.768863677978516,
          -24.584583282470703,
          15.00407886505127,
          20.6007137298584,
          -7.021846771240234,
          -1.5747722387313843,
          10.302070617675781,
          -5.2718939781188965,
          3.0932326316833496,
          21.96196174621582,
          -15.120963096618652,
          14.876960754394531,
          9.834572792053223,
          -22.81505012512207,
          14.760420799255371,
          3.7895073890686035,
          -16.960735321044922,
          22.59026336669922,
          3.1968984603881836,
          -21.27859115600586,
          -9.013079643249512,
          10.186429023742676,
          8.802017211914062,
          -19.858684539794922,
          -7.723353385925293,
          13.68769645690918,
          23.820138931274414,
          1.396931767463684,
          -19.98456573486328,
          -6.5420732498168945,
          -5.615370273590088,
          26.086275100708008,
          7.609862804412842,
          -23.735952377319336,
          -6.700610160827637,
          4.934345722198486,
          -22.152624130249023,
          3.5836141109466553,
          12.472186088562012,
          23.208980560302734,
          10.038521766662598,
          20.652315139770508,
          26.583192825317383,
          -14.231727600097656,
          0.4506585896015167,
          -8.835809707641602,
          -1.6490319967269897,
          3.092561960220337,
          -1.4251409769058228,
          -10.183629989624023,
          -14.648962020874023,
          9.677167892456055,
          23.0677547454834,
          -11.238396644592285,
          16.041446685791016,
          -31.292037963867188,
          -10.587000846862793,
          8.371345520019531,
          15.091324806213379,
          10.871099472045898,
          20.629589080810547,
          -4.443244457244873,
          25.12822151184082,
          4.060274124145508,
          14.160000801086426,
          -14.485562324523926,
          12.817039489746094,
          49.91217803955078,
          1.9019428491592407,
          -6.887006759643555,
          15.65469741821289,
          51.745216369628906,
          -20.172340393066406,
          6.936922073364258,
          21.492124557495117,
          -31.158145904541016,
          -13.61300277709961,
          10.272964477539062,
          17.725339889526367,
          18.08329963684082,
          13.034014701843262,
          20.39556884765625,
          -19.371856689453125,
          2.061854124069214,
          13.67296028137207,
          19.276416778564453,
          -6.671463966369629,
          24.95987892150879,
          -27.225269317626953,
          -27.693998336791992,
          4.483231544494629,
          11.852948188781738,
          14.938299179077148,
          14.894262313842773,
          -23.780141830444336,
          13.839516639709473,
          -27.680397033691406,
          51.084632873535156,
          11.973519325256348,
          21.481481552124023,
          8.310338973999023,
          -12.395429611206055,
          27.587263107299805,
          4.983413219451904,
          13.189502716064453,
          -10.263410568237305,
          10.429983139038086,
          -11.272300720214844,
          6.014387130737305,
          16.469579696655273,
          22.91950035095215,
          22.02362632751465,
          19.237911224365234,
          33.91899490356445,
          16.97469139099121,
          -7.849538326263428,
          6.709866523742676,
          28.437236785888672,
          -20.54664421081543,
          -17.76390838623047,
          -4.077239990234375,
          24.95775604248047,
          32.052215576171875,
          5.992214202880859,
          24.18993377685547,
          -7.912660598754883,
          -6.575341701507568,
          -22.098434448242188,
          8.458076477050781,
          23.43984031677246,
          -22.16014289855957,
          -29.65530014038086,
          24.082801818847656,
          -24.306184768676758,
          -25.627492904663086,
          33.51723098754883,
          -32.99283981323242,
          -34.15673828125,
          -24.698486328125,
          -27.56879997253418,
          -7.7722272872924805,
          32.559043884277344,
          2.3823094367980957,
          9.50232982635498,
          -8.963406562805176,
          29.825138092041016,
          -3.800044059753418,
          9.39877700805664,
          -32.58552551269531,
          20.98299789428711,
          -15.176366806030273,
          -25.970516204833984,
          11.939827919006348,
          -5.921106815338135,
          25.93940544128418,
          -12.58193302154541,
          8.230917930603027,
          -21.105653762817383,
          -3.759493589401245,
          13.400103569030762,
          8.82831859588623,
          24.849384307861328,
          17.962738037109375,
          -1.8747844696044922,
          14.884038925170898,
          -20.60033416748047,
          -22.080602645874023,
          -4.14475154876709,
          13.306830406188965,
          -3.228523015975952,
          -21.123279571533203,
          2.970653533935547,
          -16.20735740661621,
          19.967966079711914,
          25.773582458496094,
          10.321813583374023,
          6.127772808074951,
          29.001079559326172,
          -1.294011116027832,
          -21.129371643066406,
          29.390430450439453,
          -19.784400939941406,
          -27.200340270996094,
          -23.772459030151367,
          29.610157012939453,
          -23.038610458374023,
          -12.753911972045898,
          -20.36724090576172,
          8.832324028015137,
          5.32721471786499,
          31.220884323120117,
          8.068045616149902,
          -20.243438720703125,
          25.332120895385742,
          19.000097274780273,
          -10.777088165283203,
          33.10818862915039,
          0.9268205165863037,
          -14.47610855102539,
          -21.730817794799805,
          -6.713499069213867,
          8.579977989196777,
          -23.647939682006836,
          -9.101041793823242,
          -23.045522689819336,
          -21.804180145263672,
          -23.374935150146484,
          5.173852443695068,
          1.5205166339874268,
          19.131916046142578,
          32.48264694213867,
          11.704055786132812,
          0.7208287715911865,
          20.250064849853516,
          18.19722557067871,
          17.944686889648438,
          -2.5407626628875732,
          22.878530502319336,
          -24.952356338500977,
          -23.721141815185547,
          -11.122889518737793,
          -4.058531761169434,
          2.052717447280884,
          -11.3290376663208,
          8.7266263961792,
          -10.30211067199707,
          -19.44099235534668,
          19.58908462524414,
          -24.629287719726562,
          -5.101972579956055,
          -18.186561584472656,
          23.412227630615234,
          -4.678339958190918,
          -11.684465408325195,
          17.221755981445312,
          -13.193560600280762,
          -16.16069221496582,
          -3.152590751647949,
          -16.15100860595703,
          -14.541855812072754,
          -10.811800956726074,
          -23.169389724731445,
          -19.72510528564453,
          -18.630250930786133,
          -20.365251541137695,
          -10.531309127807617,
          -23.550342559814453,
          -18.016807556152344,
          -22.56854820251465,
          8.152764320373535,
          4.041938781738281,
          -16.79205322265625,
          -23.06056022644043,
          -18.12274169921875,
          -22.95065689086914,
          -14.4745512008667,
          4.163388729095459,
          17.051551818847656,
          -8.388090133666992,
          24.874692916870117,
          14.356459617614746,
          1.6804133653640747,
          3.6557202339172363,
          -17.537864685058594,
          20.81494903564453,
          21.223543167114258,
          22.724483489990234,
          23.88428497314453,
          -15.440434455871582,
          14.33559799194336,
          31.34601593017578,
          22.584794998168945,
          -0.8221712112426758,
          1.2072807550430298,
          23.985734939575195,
          19.9160213470459,
          -1.4556052684783936,
          -11.086431503295898,
          -19.559772491455078,
          22.929176330566406,
          -6.325300216674805,
          14.714999198913574,
          16.395313262939453,
          12.737771987915039,
          28.212297439575195,
          26.99305534362793,
          29.871191024780273,
          10.263201713562012,
          -14.54297924041748,
          12.554430961608887,
          0.9954150915145874,
          -27.141382217407227,
          1.553228497505188,
          -28.92908477783203,
          -17.71489715576172,
          -9.044044494628906,
          26.815650939941406,
          -4.541427135467529,
          1.6099870204925537,
          15.402640342712402,
          -8.853056907653809,
          -8.272408485412598,
          -24.973453521728516,
          -29.83926010131836,
          -18.481725692749023,
          1.6317522525787354,
          27.06999969482422,
          -21.647666931152344,
          4.101685047149658,
          1.2791266441345215,
          32.72602844238281,
          20.852325439453125,
          26.312326431274414,
          26.667757034301758,
          21.31184959411621,
          22.89324378967285,
          28.938249588012695,
          22.743148803710938,
          6.292217254638672,
          21.799259185791016,
          31.047924041748047,
          7.406875133514404,
          -14.506199836730957,
          21.172460556030273,
          11.250238418579102,
          -0.9850412607192993,
          2.4765942096710205,
          -1.4365452527999878,
          -20.920185089111328,
          -1.1148743629455566,
          18.776931762695312,
          -10.116850852966309,
          21.323453903198242,
          -20.3485164642334,
          1.432978630065918,
          15.969305038452148,
          14.678084373474121,
          24.31552505493164,
          17.270618438720703,
          -16.784196853637695,
          -6.499753952026367,
          9.170278549194336,
          -14.387152671813965,
          -16.270000457763672,
          15.388891220092773,
          -22.04215431213379,
          3.755117893218994,
          -17.35660743713379,
          -20.935710906982422,
          -14.666609764099121,
          -9.653997421264648,
          -15.656831741333008,
          -19.107707977294922,
          -19.66839027404785,
          -3.8903675079345703,
          9.630426406860352,
          -18.13867950439453,
          4.223796844482422,
          -11.844954490661621,
          15.864839553833008,
          -23.633983612060547,
          9.949614524841309,
          20.018817901611328,
          -19.831247329711914,
          -1.6634124517440796,
          10.686016082763672,
          -6.423415184020996,
          -19.1273250579834,
          -28.180919647216797,
          -2.1983649730682373,
          32.96989059448242,
          19.960262298583984,
          26.703582763671875,
          21.863101959228516,
          4.907555103302002,
          10.448613166809082,
          -10.685667037963867,
          27.62543487548828,
          22.36751365661621,
          -8.11265754699707,
          -21.884981155395508,
          -20.639209747314453,
          -19.17009925842285,
          -6.767102241516113,
          -26.209877014160156,
          28.27849578857422,
          -27.950267791748047,
          11.469443321228027,
          18.791284561157227,
          -21.724987030029297,
          -10.17375659942627,
          -14.339579582214355,
          -17.231412887573242,
          2.069690227508545,
          -20.61599349975586,
          8.599523544311523,
          -13.7640962600708,
          -4.026626110076904,
          -18.88884162902832,
          -29.572900772094727,
          -11.362055778503418,
          -21.610387802124023,
          2.7500858306884766,
          4.827640533447266,
          -24.8591365814209,
          -20.014684677124023,
          -10.732885360717773,
          -1.9159513711929321,
          -23.998037338256836,
          -14.153366088867188,
          -12.595245361328125,
          -11.411714553833008,
          -21.533130645751953,
          -30.175024032592773,
          -14.605380058288574,
          -12.108291625976562,
          4.758760929107666,
          0.5363591313362122,
          -0.06938312202692032,
          5.597443103790283,
          -17.91224479675293,
          9.963288307189941,
          12.478334426879883,
          18.66836929321289,
          -14.11276626586914,
          -31.33014488220215,
          -31.165040969848633,
          -23.53774070739746,
          12.230725288391113,
          33.85249328613281,
          -22.893829345703125,
          -9.852399826049805,
          -28.445323944091797,
          -17.674163818359375,
          19.142311096191406,
          2.6081483364105225,
          -12.397392272949219,
          1.4855916500091553,
          51.36836624145508,
          -8.637911796569824,
          12.644219398498535,
          -21.605640411376953,
          -22.7202205657959,
          10.809054374694824,
          -15.384891510009766,
          28.024276733398438,
          3.986726760864258,
          -3.623187303543091,
          26.109573364257812,
          9.029706954956055,
          4.228381156921387,
          3.751943826675415,
          -23.04815673828125,
          -31.578964233398438,
          -13.342209815979004,
          -17.61341667175293,
          10.286632537841797,
          -10.907012939453125,
          -24.317293167114258,
          -20.167707443237305,
          24.648653030395508,
          11.938910484313965,
          22.90320587158203,
          22.272933959960938,
          19.017242431640625,
          14.035480499267578,
          20.677650451660156,
          -14.295527458190918,
          20.860517501831055,
          -14.778156280517578,
          -35.79020690917969,
          -3.238825798034668,
          5.261911869049072,
          10.708117485046387,
          -22.455232620239258,
          -14.44520092010498,
          -23.218244552612305,
          -22.45151710510254,
          -8.80746841430664,
          -8.76416015625,
          -1.5293248891830444,
          -9.21013355255127,
          -6.496541500091553,
          -17.036954879760742,
          50.686309814453125,
          -15.383477210998535,
          -18.379499435424805,
          -33.22460174560547,
          10.527948379516602,
          26.914764404296875,
          8.6796236038208,
          -8.063895225524902,
          17.70941162109375,
          20.705354690551758,
          -14.063108444213867,
          0.5598020553588867,
          13.03082275390625,
          17.70176887512207,
          20.384111404418945,
          -14.740365028381348,
          21.751346588134766,
          -0.9776403903961182,
          6.129134178161621,
          11.570971488952637,
          8.552911758422852,
          -12.013900756835938,
          -9.350362777709961,
          7.385012626647949,
          18.61685562133789,
          -22.78822135925293,
          16.75864028930664,
          21.49167251586914,
          20.372127532958984,
          22.566789627075195,
          13.501466751098633,
          -9.813583374023438,
          -7.3410325050354,
          -13.267117500305176,
          4.92889928817749,
          50.169639587402344,
          4.306783199310303,
          7.332040786743164,
          23.036584854125977,
          -24.87701988220215,
          -20.442325592041016,
          14.805755615234375,
          -1.770772099494934,
          13.73655891418457,
          -30.15176773071289,
          23.15438461303711,
          20.278648376464844,
          -11.333714485168457,
          8.156111717224121,
          31.375328063964844,
          -25.614999771118164,
          -20.891767501831055,
          11.641396522521973,
          20.3985595703125,
          -7.020339012145996,
          -6.350869655609131,
          23.4306583404541,
          15.809379577636719,
          -10.951427459716797,
          15.892909049987793,
          -19.330516815185547,
          -10.374673843383789,
          -13.522279739379883,
          -6.597543716430664,
          -0.96486496925354,
          -15.980661392211914,
          -26.97001838684082,
          -3.943906545639038,
          4.140100479125977,
          23.934303283691406,
          17.89234161376953,
          22.232437133789062,
          25.28577423095703,
          19.08544921875,
          20.123598098754883,
          22.94107437133789,
          -10.715571403503418,
          5.706200122833252,
          18.395233154296875,
          3.5380027294158936,
          -13.068710327148438,
          -17.937192916870117,
          19.27043342590332,
          0.00527283875271678,
          9.370527267456055,
          -17.207359313964844,
          34.40852737426758,
          -13.003280639648438,
          24.539485931396484,
          50.07436752319336,
          -10.685898780822754,
          27.62240219116211,
          -22.096837997436523,
          -1.6434714794158936,
          12.205737113952637,
          -13.007716178894043,
          8.671881675720215,
          -24.097042083740234,
          -14.581840515136719,
          19.938310623168945,
          6.116487979888916,
          -20.914043426513672,
          9.069870948791504,
          48.824588775634766,
          18.418428421020508,
          0.7522804737091064,
          29.488386154174805,
          32.78215789794922,
          51.54808044433594,
          7.931841850280762,
          18.278602600097656,
          6.571277141571045,
          -1.5831693410873413,
          15.318811416625977,
          1.6514209508895874,
          9.292004585266113,
          31.89275550842285,
          21.459043502807617,
          -7.215416431427002,
          32.743804931640625,
          11.914856910705566,
          -7.792142391204834,
          -16.841867446899414,
          22.665935516357422,
          33.78622055053711,
          -20.15625,
          28.84324073791504,
          -19.96354103088379,
          51.28593444824219,
          -12.222846984863281,
          -21.9858341217041,
          20.61642074584961,
          -12.47768783569336,
          33.62416076660156,
          -9.689255714416504,
          31.67951202392578,
          21.752649307250977,
          -1.2514517307281494,
          33.092872619628906,
          32.46210861206055,
          32.17843246459961,
          -13.64799690246582,
          33.394691467285156,
          -25.867935180664062,
          10.405998229980469,
          1.7352094650268555,
          17.141260147094727,
          33.64326858520508,
          49.842262268066406,
          33.73503875732422,
          -8.60151481628418,
          33.54027557373047,
          -17.68886375427246,
          32.89330291748047,
          18.707630157470703,
          -8.415769577026367,
          30.4580020904541,
          -22.007015228271484,
          31.456005096435547,
          21.841732025146484,
          -31.569185256958008,
          33.06807327270508,
          32.99177932739258,
          50.9585075378418,
          30.611875534057617,
          33.202266693115234,
          -26.18040657043457,
          -27.583480834960938,
          -12.798300743103027,
          -21.11903190612793,
          24.082767486572266,
          -23.53678321838379,
          32.84089279174805,
          33.14943313598633,
          -22.597047805786133,
          30.005996704101562,
          -18.10281753540039,
          -12.201220512390137,
          -18.223360061645508,
          -8.257482528686523,
          -25.286609649658203,
          -20.99724578857422,
          27.584423065185547,
          35.06465148925781,
          -17.92242431640625,
          33.69275665283203,
          8.887566566467285,
          -24.50691032409668,
          8.291670799255371,
          8.92700481414795,
          8.185077667236328,
          17.316946029663086,
          11.678760528564453,
          -19.588109970092773,
          -12.274765968322754,
          -22.01175880432129,
          -16.583425521850586,
          -11.35110092163086,
          17.352081298828125,
          -0.107839435338974,
          -4.607769012451172,
          15.330314636230469,
          -6.427670955657959,
          -31.137939453125,
          -29.5014591217041,
          -5.410876750946045,
          22.5897274017334,
          30.484827041625977,
          10.079682350158691,
          16.11150360107422,
          -4.102593421936035,
          22.286510467529297,
          15.540457725524902,
          21.84357452392578,
          21.014026641845703,
          20.89313507080078,
          -4.452854633331299,
          -11.951778411865234,
          15.617290496826172,
          23.86461067199707,
          -12.004456520080566,
          6.125551700592041,
          -6.955541133880615,
          -9.777976989746094,
          -8.378357887268066,
          -0.6892468929290771,
          19.48462677001953,
          -32.284114837646484,
          1.582081913948059,
          7.880790710449219,
          4.028780460357666,
          29.21207046508789,
          6.442470550537109,
          -18.36533546447754,
          -3.9251022338867188,
          18.72321128845215,
          15.055729866027832,
          -9.419093132019043,
          10.243008613586426,
          9.84497356414795,
          8.200227737426758,
          20.712827682495117,
          7.513908863067627,
          15.369508743286133,
          -18.120819091796875,
          14.911930084228516,
          -8.349319458007812,
          51.458927154541016,
          -28.662153244018555,
          -8.363977432250977,
          -20.170303344726562,
          -15.560606956481934,
          49.73011016845703,
          16.391159057617188,
          10.771827697753906,
          -14.888097763061523,
          -8.316193580627441,
          -15.444073677062988,
          -28.869056701660156,
          52.35623550415039,
          18.20868492126465,
          -28.29242515563965,
          25.652557373046875,
          -0.9277178645133972,
          -1.0308386087417603,
          -25.7526798248291,
          -26.185649871826172,
          -0.24876227974891663,
          7.126017093658447,
          22.320484161376953,
          9.210587501525879,
          49.51220703125,
          -12.115395545959473,
          -17.495174407958984,
          -15.810839653015137,
          51.26462173461914,
          8.638051986694336,
          5.416006088256836,
          8.079089164733887,
          18.449932098388672,
          12.98322868347168,
          -8.265246391296387,
          14.701800346374512,
          -0.2996669113636017,
          -7.017547607421875,
          31.604570388793945,
          15.172179222106934,
          -18.274267196655273,
          24.56412696838379,
          12.920727729797363,
          52.67195510864258,
          12.346986770629883,
          52.56709289550781,
          32.608402252197266,
          -7.037674427032471,
          28.00577735900879,
          19.448509216308594,
          11.977874755859375,
          -24.52191925048828,
          -24.035810470581055,
          14.941339492797852,
          34.21071243286133,
          19.107954025268555,
          5.430086612701416,
          49.187747955322266,
          -21.119014739990234,
          6.972564697265625,
          24.311059951782227,
          21.158775329589844,
          20.065532684326172,
          -25.30331039428711,
          -20.377901077270508,
          21.640426635742188,
          -26.152936935424805,
          -29.602741241455078,
          -2.9708800315856934,
          8.74876594543457,
          11.695566177368164,
          8.952908515930176,
          20.25067138671875,
          -11.88406753540039,
          20.006874084472656,
          17.0439395904541,
          -23.166061401367188,
          -29.413999557495117,
          52.9918212890625,
          28.6063175201416,
          -11.749696731567383,
          -29.009029388427734,
          23.453311920166016,
          1.3117681741714478,
          18.754680633544922,
          -12.908186912536621,
          24.032609939575195,
          -18.266626358032227,
          -32.34355926513672,
          -22.482412338256836,
          -12.099406242370605,
          20.394216537475586,
          5.5708723068237305,
          -22.006187438964844,
          6.538424968719482,
          52.32005310058594,
          2.0657060146331787,
          -12.950309753417969,
          33.23123550415039,
          52.21659469604492,
          32.933223724365234,
          33.32926940917969,
          27.541444778442383,
          49.05094528198242,
          -4.450952529907227,
          -10.811095237731934,
          27.542373657226562,
          -14.804952621459961,
          7.941036224365234,
          33.30659866333008,
          -18.048051834106445,
          33.09851837158203,
          -29.141862869262695,
          34.15882110595703,
          33.865848541259766,
          34.05953598022461,
          50.80131149291992,
          34.55224609375,
          51.270721435546875,
          50.85374450683594,
          32.402286529541016,
          34.38660430908203,
          49.896568298339844,
          33.69147491455078,
          33.89033508300781,
          34.838172912597656,
          34.070735931396484,
          32.715911865234375,
          34.0745964050293,
          33.484615325927734,
          -9.139411926269531,
          32.76258850097656,
          33.656890869140625,
          51.95695877075195,
          33.07651138305664,
          50.05959701538086,
          51.44502639770508,
          -9.078913688659668,
          35.07771682739258,
          35.153926849365234,
          9.10429859161377,
          -19.089641571044922,
          9.12098503112793,
          -12.551187515258789,
          -25.35903549194336,
          50.01819610595703,
          2.869032144546509,
          52.58270263671875,
          21.436845779418945,
          -35.75826644897461,
          22.58497428894043,
          -13.222601890563965,
          2.318692684173584,
          30.13021469116211,
          -17.41718864440918,
          50.47179412841797,
          -29.100549697875977,
          8.193497657775879,
          20.941722869873047,
          -23.72573471069336,
          26.73300552368164,
          31.976882934570312,
          -5.055248737335205,
          -11.698716163635254,
          -25.173429489135742,
          4.709924697875977,
          50.383087158203125,
          6.492955684661865,
          51.57324981689453,
          -24.836654663085938,
          51.85810089111328,
          9.506021499633789,
          21.246082305908203,
          31.34340476989746,
          16.513383865356445,
          -18.472248077392578,
          23.948427200317383,
          -1.2126846313476562,
          35.242252349853516,
          -13.237079620361328,
          -21.181259155273438,
          -28.207107543945312,
          -7.798424243927002,
          18.310476303100586,
          -7.84490442276001,
          -7.764455795288086,
          18.662933349609375,
          -7.901337623596191,
          51.52363586425781,
          -8.649250030517578,
          52.935035705566406,
          -8.829360961914062,
          -7.865005016326904,
          49.85819625854492,
          -22.889324188232422,
          -13.739447593688965,
          49.657745361328125,
          52.369808197021484,
          -22.133554458618164,
          -7.799856185913086,
          49.37138748168945,
          -7.980184555053711,
          49.985408782958984,
          50.365413665771484,
          22.67877960205078,
          49.68711853027344,
          53.302982330322266,
          50.46349334716797,
          22.3920955657959,
          -6.964115142822266,
          -13.641982078552246,
          32.35244369506836,
          30.76447868347168,
          30.754060745239258,
          27.530658721923828,
          22.546810150146484,
          -1.1315463781356812,
          51.13573455810547,
          21.691463470458984,
          9.044584274291992,
          9.105669975280762,
          22.334352493286133,
          8.621944427490234,
          31.1212158203125,
          19.94501304626465,
          21.39415168762207,
          -20.085012435913086,
          52.527462005615234,
          21.640554428100586,
          -9.468783378601074,
          30.036087036132812,
          -4.860931873321533,
          23.971067428588867,
          -7.51642370223999,
          -10.612582206726074
         ],
         "xaxis": "x",
         "y": [
          19.789236068725586,
          9.500177383422852,
          8.379097938537598,
          12.542546272277832,
          8.113571166992188,
          -5.639764308929443,
          15.27336311340332,
          16.78122329711914,
          -9.370553016662598,
          -2.437497854232788,
          17.017616271972656,
          -4.128005027770996,
          -12.3433256149292,
          -10.615035057067871,
          9.967507362365723,
          -6.9343109130859375,
          -7.407878875732422,
          -20.32286262512207,
          -9.742012977600098,
          -0.8707795143127441,
          -7.202401638031006,
          17.82615852355957,
          7.7087202072143555,
          11.445561408996582,
          -10.159073829650879,
          -3.8709564208984375,
          11.467071533203125,
          16.277725219726562,
          6.917957782745361,
          3.351724624633789,
          13.618124008178711,
          4.593686103820801,
          19.05122947692871,
          5.373352527618408,
          -24.603252410888672,
          -17.156021118164062,
          -9.127541542053223,
          1.790439486503601,
          -11.848289489746094,
          11.326961517333984,
          -6.25299596786499,
          4.401284694671631,
          -12.215056419372559,
          -8.347476959228516,
          -5.412431240081787,
          5.683870792388916,
          14.690190315246582,
          11.175304412841797,
          3.3433666229248047,
          22.956127166748047,
          12.645156860351562,
          -5.603237152099609,
          -14.222050666809082,
          6.7732625007629395,
          1.8758656978607178,
          6.809919357299805,
          4.873106002807617,
          -3.9451398849487305,
          -7.266357421875,
          -7.3646087646484375,
          -6.199126720428467,
          1.9553380012512207,
          6.2317399978637695,
          -2.628359079360962,
          2.8166537284851074,
          10.019913673400879,
          -16.85582160949707,
          -8.108628273010254,
          18.006484985351562,
          13.354591369628906,
          14.788100242614746,
          -17.540361404418945,
          12.583660125732422,
          6.364724159240723,
          8.877726554870605,
          -13.547818183898926,
          12.966711044311523,
          8.758814811706543,
          17.34000587463379,
          -8.552288055419922,
          14.43982982635498,
          14.748247146606445,
          15.398313522338867,
          1.9479658603668213,
          -13.804845809936523,
          9.32621955871582,
          13.651018142700195,
          17.195852279663086,
          8.164732933044434,
          -11.816844940185547,
          0.3505173325538635,
          3.8328869342803955,
          -10.4937744140625,
          15.94407844543457,
          14.520100593566895,
          22.137739181518555,
          17.743816375732422,
          19.31002426147461,
          16.47174644470215,
          -13.137541770935059,
          -17.29741668701172,
          3.0906295776367188,
          -18.102426528930664,
          -13.869266510009766,
          5.455185890197754,
          -1.838150978088379,
          -5.495048999786377,
          -5.685792922973633,
          -10.092168807983398,
          -12.22850513458252,
          7.919756889343262,
          1.000849723815918,
          -5.169382572174072,
          12.315463066101074,
          8.818880081176758,
          2.493417978286743,
          -5.779956340789795,
          13.82570743560791,
          -1.0426706075668335,
          -2.3976945877075195,
          15.1851167678833,
          -21.315916061401367,
          -13.064485549926758,
          13.106229782104492,
          11.808335304260254,
          -7.55116605758667,
          22.578824996948242,
          -6.430726051330566,
          15.148877143859863,
          -20.159183502197266,
          18.34542465209961,
          18.568883895874023,
          20.524322509765625,
          17.589487075805664,
          21.866764068603516,
          20.561847686767578,
          16.137609481811523,
          5.993683815002441,
          -4.778757572174072,
          -12.743213653564453,
          13.63558578491211,
          2.0989902019500732,
          14.66988754272461,
          20.619457244873047,
          -0.49005115032196045,
          -13.045028686523438,
          10.620285034179688,
          8.89452838897705,
          -5.391326904296875,
          6.036235332489014,
          14.83132553100586,
          15.861700057983398,
          17.855571746826172,
          6.922550201416016,
          10.068005561828613,
          5.015588760375977,
          2.483285665512085,
          -5.305485248565674,
          -2.612865447998047,
          10.166999816894531,
          12.700177192687988,
          13.451685905456543,
          11.856181144714355,
          11.678550720214844,
          -2.142761707305908,
          7.662399768829346,
          -7.932801246643066,
          12.908547401428223,
          -2.7638394832611084,
          9.054636001586914,
          2.443857192993164,
          22.536489486694336,
          21.18079948425293,
          22.404857635498047,
          7.493359088897705,
          18.062549591064453,
          18.07301902770996,
          20.418258666992188,
          8.59476375579834,
          -1.6887246370315552,
          22.954647064208984,
          15.63454818725586,
          18.519227981567383,
          24.916667938232422,
          16.542640686035156,
          20.016996383666992,
          22.514183044433594,
          3.2689239978790283,
          -2.4417648315429688,
          8.622357368469238,
          20.997493743896484,
          7.700719356536865,
          19.246238708496094,
          20.464189529418945,
          21.22993278503418,
          11.091070175170898,
          17.894662857055664,
          -2.928461790084839,
          19.65911293029785,
          15.820463180541992,
          9.718615531921387,
          19.76768684387207,
          13.965331077575684,
          20.696422576904297,
          18.516347885131836,
          0.4492371678352356,
          0.7887338399887085,
          15.603620529174805,
          15.276041984558105,
          20.218305587768555,
          19.476146697998047,
          -4.865111827850342,
          10.21756362915039,
          12.58330249786377,
          17.70578384399414,
          12.575780868530273,
          -6.733347415924072,
          14.058082580566406,
          15.821540832519531,
          -4.181254863739014,
          -9.840222358703613,
          21.321626663208008,
          6.216858386993408,
          3.119215250015259,
          -9.169949531555176,
          15.432838439941406,
          -16.72454261779785,
          21.099239349365234,
          8.697696685791016,
          10.608821868896484,
          -6.717817783355713,
          13.113149642944336,
          15.274445533752441,
          19.026390075683594,
          -13.20733642578125,
          18.307575225830078,
          10.382037162780762,
          9.726861953735352,
          20.617197036743164,
          10.39608097076416,
          6.569313049316406,
          -4.99660062789917,
          6.735888957977295,
          -16.5637264251709,
          3.918574571609497,
          -5.217634677886963,
          -2.46709942817688,
          0.27324068546295166,
          -13.821500778198242,
          -8.831602096557617,
          -0.5454466342926025,
          2.144383430480957,
          -10.96822452545166,
          -0.17348839342594147,
          15.721638679504395,
          5.354093551635742,
          11.278223991394043,
          -18.437334060668945,
          -8.896093368530273,
          -17.79861831665039,
          0.9345611929893494,
          18.343046188354492,
          -14.836557388305664,
          -10.43894100189209,
          18.065277099609375,
          18.22821617126465,
          -8.917048454284668,
          -5.327594757080078,
          -10.24605655670166,
          -17.879417419433594,
          -19.35985565185547,
          -17.387094497680664,
          -14.142115592956543,
          14.411121368408203,
          -6.186484336853027,
          -12.328535079956055,
          9.740835189819336,
          4.783621311187744,
          6.551924228668213,
          10.330397605895996,
          4.459263324737549,
          14.270328521728516,
          -6.849092960357666,
          9.13194465637207,
          5.375764846801758,
          -11.776654243469238,
          -1.1047654151916504,
          -17.692148208618164,
          7.006312847137451,
          21.207172393798828,
          -9.262068748474121,
          7.637247562408447,
          -16.933809280395508,
          13.50979232788086,
          8.92284870147705,
          -10.869205474853516,
          -1.542567253112793,
          -17.010866165161133,
          -9.427898406982422,
          13.414850234985352,
          -19.316707611083984,
          -10.170574188232422,
          1.443399429321289,
          -7.645493030548096,
          -8.776193618774414,
          1.672211766242981,
          -14.609116554260254,
          11.814864158630371,
          7.54929780960083,
          -10.5438232421875,
          -12.130509376525879,
          -8.228065490722656,
          15.697751998901367,
          -20.38015365600586,
          -4.285068988800049,
          -4.070101737976074,
          -4.506431579589844,
          21.4322566986084,
          -3.561675548553467,
          15.94236946105957,
          -11.198914527893066,
          8.227612495422363,
          8.080412864685059,
          11.471415519714355,
          -14.130204200744629,
          9.232828140258789,
          -17.411691665649414,
          9.24709701538086,
          0.8831037878990173,
          -0.8124401569366455,
          -19.204879760742188,
          -8.509921073913574,
          -10.777791976928711,
          -6.862153053283691,
          -8.043487548828125,
          -6.469051361083984,
          -3.154524564743042,
          -0.43993836641311646,
          4.581628799438477,
          -9.34704303741455,
          9.721813201904297,
          -4.332602500915527,
          -12.448851585388184,
          -0.2452729046344757,
          -6.62153959274292,
          -2.6185431480407715,
          -1.6158576011657715,
          -2.676140308380127,
          9.148533821105957,
          -5.730212211608887,
          -6.410457134246826,
          -19.081117630004883,
          -3.069786548614502,
          11.802791595458984,
          -6.991303443908691,
          15.739031791687012,
          18.931373596191406,
          3.457585096359253,
          6.4842023849487305,
          5.664334297180176,
          24.00852394104004,
          5.095083713531494,
          -15.137747764587402,
          -10.862252235412598,
          2.2747535705566406,
          11.79128360748291,
          -2.8379242420196533,
          -0.43150997161865234,
          -14.670701026916504,
          1.993735432624817,
          0.1860431432723999,
          17.927188873291016,
          -4.443303108215332,
          -1.4698255062103271,
          -18.17506980895996,
          -3.5137250423431396,
          3.915802001953125,
          13.337040901184082,
          -14.274065017700195,
          9.630565643310547,
          -6.946926116943359,
          4.960902690887451,
          -10.064802169799805,
          -3.014430046081543,
          13.314462661743164,
          4.943387508392334,
          2.0846872329711914,
          -8.627204895019531,
          11.596911430358887,
          6.023528575897217,
          -17.74192237854004,
          6.306550025939941,
          8.128376007080078,
          10.133482933044434,
          -6.764287948608398,
          11.8624267578125,
          -11.009868621826172,
          1.1814509630203247,
          5.9079203605651855,
          -2.5731351375579834,
          -10.370762825012207,
          -21.40781593322754,
          16.693180084228516,
          21.988021850585938,
          14.112710952758789,
          -13.9778413772583,
          -6.283455848693848,
          -2.729668140411377,
          3.642936944961548,
          -15.696537017822266,
          -13.97689437866211,
          -6.449076175689697,
          -11.338550567626953,
          -2.6310150623321533,
          -9.601036071777344,
          20.520414352416992,
          7.935747146606445,
          13.974878311157227,
          14.629858016967773,
          18.520200729370117,
          6.857672214508057,
          3.46461820602417,
          16.609180450439453,
          -14.349908828735352,
          2.7560722827911377,
          -6.821880340576172,
          20.956558227539062,
          8.390469551086426,
          16.416269302368164,
          15.981205940246582,
          11.544999122619629,
          -0.6005923748016357,
          0.31757983565330505,
          15.220937728881836,
          18.01034164428711,
          9.962639808654785,
          -23.09273338317871,
          -20.85019302368164,
          -23.862831115722656,
          -17.95383071899414,
          -0.15878717601299286,
          -18.30088233947754,
          16.631258010864258,
          -2.4450864791870117,
          16.00657081604004,
          1.208693504333496,
          4.299632549285889,
          6.965013027191162,
          1.9873394966125488,
          -13.058990478515625,
          3.6769912242889404,
          -1.2445271015167236,
          -3.3677027225494385,
          10.717580795288086,
          -10.040729522705078,
          1.8739343881607056,
          -9.360864639282227,
          -9.692063331604004,
          -4.828964710235596,
          -11.237024307250977,
          3.375685930252075,
          9.611027717590332,
          1.1402242183685303,
          8.718186378479004,
          6.359095573425293,
          -4.177123069763184,
          -4.483587265014648,
          7.282947063446045,
          5.021772861480713,
          9.108346939086914,
          -9.300423622131348,
          16.479278564453125,
          -13.012542724609375,
          8.759461402893066,
          7.967890739440918,
          -5.997174263000488,
          -9.545108795166016,
          18.52859115600586,
          18.650300979614258,
          21.4439697265625,
          14.230501174926758,
          18.045331954956055,
          18.35956573486328,
          21.820430755615234,
          16.080738067626953,
          20.88523292541504,
          -2.6618423461914062,
          13.953808784484863,
          9.99663257598877,
          9.93868350982666,
          16.087764739990234,
          15.9362211227417,
          12.243513107299805,
          17.69635581970215,
          19.689138412475586,
          22.079084396362305,
          17.897937774658203,
          20.50078582763672,
          11.24392318725586,
          19.100786209106445,
          21.890655517578125,
          11.517340660095215,
          -2.25996732711792,
          14.412909507751465,
          11.397176742553711,
          12.762344360351562,
          17.691713333129883,
          -12.689532279968262,
          9.946576118469238,
          15.154067039489746,
          -3.5697262287139893,
          6.5796122550964355,
          2.1008148193359375,
          18.1635799407959,
          21.260316848754883,
          3.8288257122039795,
          18.036758422851562,
          6.914450168609619,
          13.955644607543945,
          17.846240997314453,
          2.928781032562256,
          10.767573356628418,
          18.0062198638916,
          8.299559593200684,
          13.413593292236328,
          20.079532623291016,
          19.030487060546875,
          10.51986026763916,
          -6.296065807342529,
          14.136621475219727,
          22.156747817993164,
          -10.967737197875977,
          13.104230880737305,
          7.606867790222168,
          -4.941342830657959,
          13.024360656738281,
          6.427712440490723,
          -9.246870994567871,
          6.380380630493164,
          2.5976758003234863,
          -3.4185290336608887,
          -1.8735792636871338,
          -4.60357141494751,
          -10.259264945983887,
          -15.839916229248047,
          1.1134113073349,
          -9.223109245300293,
          -17.22687339782715,
          2.8120691776275635,
          15.48279857635498,
          -3.7407925128936768,
          2.140017032623291,
          10.597454071044922,
          2.232542037963867,
          -7.4817304611206055,
          -5.369986057281494,
          8.201969146728516,
          4.661258220672607,
          2.193291425704956,
          0.38642561435699463,
          2.418517589569092,
          -2.4483001232147217,
          -3.35305118560791,
          -11.205084800720215,
          -3.0517256259918213,
          10.834748268127441,
          -3.264394998550415,
          15.150272369384766,
          -1.3021507263183594,
          5.088359832763672,
          -4.715572357177734,
          1.137428641319275,
          -6.778829097747803,
          -2.3169918060302734,
          -1.8342429399490356,
          11.263015747070312,
          -12.686275482177734,
          12.785345077514648,
          5.322969436645508,
          -6.772289752960205,
          3.89263916015625,
          8.083625793457031,
          -8.223689079284668,
          4.608445167541504,
          0.07747232913970947,
          -4.312281131744385,
          3.6366326808929443,
          19.28176498413086,
          6.5955047607421875,
          -14.656660079956055,
          11.811742782592773,
          4.163036346435547,
          11.949426651000977,
          1.9614615440368652,
          -5.024003028869629,
          9.60106086730957,
          12.003972053527832,
          -12.813252449035645,
          -20.64797019958496,
          7.172352313995361,
          12.984390258789062,
          9.84142780303955,
          18.87728500366211,
          6.6891865730285645,
          -9.628623008728027,
          14.973846435546875,
          9.939279556274414,
          -0.4935339689254761,
          15.58594799041748,
          13.69920539855957,
          8.654821395874023,
          -0.6974585652351379,
          -4.820334434509277,
          13.03503131866455,
          2.0204885005950928,
          10.77534008026123,
          9.771442413330078,
          9.263415336608887,
          -15.05419921875,
          -2.1252269744873047,
          7.508310317993164,
          -0.5079143047332764,
          8.603907585144043,
          -19.646413803100586,
          -3.8629257678985596,
          10.74180793762207,
          11.06456470489502,
          -9.790813446044922,
          6.691671848297119,
          12.79710865020752,
          7.0774149894714355,
          10.121535301208496,
          13.747721672058105,
          6.785670757293701,
          -20.13059425354004,
          25.162128448486328,
          13.391031265258789,
          11.13440227508545,
          3.4664478302001953,
          6.5658793449401855,
          9.715668678283691,
          5.1309051513671875,
          6.832672595977783,
          12.07781982421875,
          1.5817807912826538,
          6.943212509155273,
          11.14144515991211,
          3.2493083477020264,
          7.570135116577148,
          4.622905254364014,
          19.226383209228516,
          2.7216429710388184,
          4.458404541015625,
          12.565296173095703,
          15.51638126373291,
          12.542726516723633,
          19.128570556640625,
          12.254837036132812,
          20.40961265563965,
          7.856899261474609,
          17.565366744995117,
          6.79526424407959,
          4.517102241516113,
          5.175124168395996,
          -3.702986717224121,
          -11.077674865722656,
          -7.4525065422058105,
          6.980563163757324,
          -14.069791793823242,
          8.97932243347168,
          11.633515357971191,
          -10.501714706420898,
          15.35820484161377,
          23.375699996948242,
          13.763529777526855,
          -10.238924980163574,
          -10.515328407287598,
          3.475050210952759,
          -9.04220199584961,
          18.268692016601562,
          9.664411544799805,
          -8.166686058044434,
          -6.573080062866211,
          16.422639846801758,
          -18.205799102783203,
          8.875929832458496,
          -5.544459819793701,
          -8.81237506866455,
          -5.6464338302612305,
          -6.984414577484131,
          11.443375587463379,
          17.40141487121582,
          7.64420747756958,
          7.290043830871582,
          -12.129949569702148,
          -14.209747314453125,
          5.157433986663818,
          3.2531871795654297,
          -2.8639044761657715,
          -14.620600700378418,
          11.596320152282715,
          -14.720259666442871,
          -2.189333438873291,
          10.201260566711426,
          16.4581298828125,
          -3.3369128704071045,
          -2.3245463371276855,
          6.762888431549072,
          0.4828403890132904,
          20.66168785095215,
          -9.734132766723633,
          2.2269034385681152,
          -6.692618370056152,
          -0.5108522772789001,
          -11.844991683959961,
          -15.023804664611816,
          3.2737529277801514,
          -0.35006338357925415,
          -11.044370651245117,
          6.859528541564941,
          -12.461434364318848,
          -1.5471882820129395,
          -5.614043712615967,
          13.880128860473633,
          2.246767520904541,
          -6.217960834503174,
          24.059791564941406,
          7.137350559234619,
          13.41366195678711,
          11.505911827087402,
          7.0683794021606445,
          18.473552703857422,
          3.7218940258026123,
          -7.87872314453125,
          7.594264984130859,
          6.903899192810059,
          8.831024169921875,
          -13.235427856445312,
          -21.412067413330078,
          -3.962385892868042,
          11.335434913635254,
          13.878265380859375,
          -11.831548690795898,
          -8.100948333740234,
          -1.059532642364502,
          11.560335159301758,
          9.529996871948242,
          9.467272758483887,
          -6.25962495803833,
          -2.6391003131866455,
          -17.76821517944336,
          3.475680112838745,
          -0.12918630242347717,
          4.13148832321167,
          9.497597694396973,
          11.587950706481934,
          5.12108850479126,
          -7.312027454376221,
          -6.663485050201416,
          -10.490448951721191,
          -4.2103142738342285,
          -14.480225563049316,
          -7.365687370300293,
          -2.2156014442443848,
          -1.362131953239441,
          10.539726257324219,
          -12.660246849060059,
          -0.04308576509356499,
          5.414758682250977,
          -2.458806037902832,
          -1.0260900259017944,
          1.8240607976913452,
          2.6594274044036865,
          12.87447452545166,
          -8.438947677612305,
          3.6963536739349365,
          -11.914204597473145,
          8.116157531738281,
          4.237390041351318,
          -2.94038462638855,
          8.54621410369873,
          -8.044862747192383,
          9.852150917053223,
          -8.489331245422363,
          5.54933500289917,
          -6.835227966308594,
          -4.221873760223389,
          -7.86939001083374,
          5.89534330368042,
          1.326013207435608,
          -16.432458877563477,
          12.180037498474121,
          -1.9432085752487183,
          7.945573806762695,
          -2.242375612258911,
          0.47795820236206055,
          -9.912383079528809,
          -16.708520889282227,
          -7.267175197601318,
          -4.022351264953613,
          -1.6060709953308105,
          -1.7315534353256226,
          2.9880547523498535,
          4.4279022216796875,
          7.5864996910095215,
          2.939286470413208,
          -3.1108193397521973,
          1.299272060394287,
          12.290443420410156,
          2.186281442642212,
          -5.178231239318848,
          3.216615676879883,
          -9.879440307617188,
          -10.774436950683594,
          13.096687316894531,
          -14.028005599975586,
          -1.766139030456543,
          -8.758478164672852,
          5.872603893280029,
          -5.463016986846924,
          8.979373931884766,
          5.137659549713135,
          -3.3568809032440186,
          -8.564069747924805,
          -13.455193519592285,
          1.2339484691619873,
          7.17198371887207,
          7.2410664558410645,
          1.7267378568649292,
          -19.700668334960938,
          -10.517342567443848,
          7.945705890655518,
          5.163827896118164,
          5.649847507476807,
          -4.1212849617004395,
          6.563209056854248,
          18.282629013061523,
          -11.735891342163086,
          -20.13212776184082,
          -13.462186813354492,
          0.666383683681488,
          4.491368770599365,
          -4.192537307739258,
          -5.141478538513184,
          23.57264518737793,
          11.640545845031738,
          5.820621490478516,
          7.439918518066406,
          5.357137680053711,
          10.61335277557373,
          11.94044303894043,
          -19.848785400390625,
          6.018950939178467,
          0.20146913826465607,
          -5.02421236038208,
          4.55385160446167,
          7.1695966720581055,
          -23.727407455444336,
          -2.757593870162964,
          -1.3391461372375488,
          6.492819309234619,
          -21.8045597076416,
          5.713347434997559,
          -4.0238142013549805,
          -7.925425052642822,
          6.526381015777588,
          11.222187042236328,
          12.439107894897461,
          10.121674537658691,
          -14.211196899414062,
          -0.5842946767807007,
          -7.809828281402588,
          -7.2562103271484375,
          -7.006199836730957,
          -0.38586530089378357,
          -0.05893540382385254,
          -7.433598518371582,
          2.760575771331787,
          9.354720115661621,
          3.4543838500976562,
          2.1553266048431396,
          -8.360570907592773,
          -7.589654445648193,
          12.342106819152832,
          -5.274390697479248,
          -15.950139999389648,
          1.9136284589767456,
          0.713853657245636,
          -9.188691139221191,
          -6.929965496063232,
          6.089812755584717,
          11.01554012298584,
          -4.453348636627197,
          -11.13504409790039,
          -18.052066802978516,
          2.968977451324463,
          -17.466489791870117,
          -5.620802879333496,
          -8.371781349182129,
          7.104729175567627,
          -17.63580322265625,
          -10.979645729064941,
          2.3751468658447266,
          -3.90690541267395,
          -0.459139883518219,
          -0.12288939952850342,
          -13.14628791809082,
          -4.611186504364014,
          7.483424663543701,
          -22.949501037597656,
          -14.877543449401855,
          1.159611701965332,
          -19.93979835510254,
          -9.450836181640625,
          11.13062858581543,
          -11.880329132080078,
          8.974209785461426,
          9.374021530151367,
          12.775564193725586,
          10.232706069946289,
          0.7158324718475342,
          2.5168516635894775,
          7.968663215637207,
          -10.295823097229004,
          -7.516441345214844,
          4.666620254516602,
          -15.523184776306152,
          13.906658172607422,
          -3.1915507316589355,
          2.4348602294921875,
          -10.79063606262207,
          -1.42534339427948,
          0.6960524916648865,
          6.202644348144531,
          6.026854991912842,
          -3.935525417327881,
          -15.82946491241455,
          -17.83704948425293,
          -6.881959915161133,
          -11.994997024536133,
          -14.927865028381348,
          13.269112586975098,
          17.806474685668945,
          0.3915650248527527,
          -3.615013599395752,
          13.969740867614746,
          4.849326133728027,
          -13.026103973388672,
          8.133328437805176,
          -6.699244499206543,
          -11.785058975219727,
          -16.593442916870117,
          0.15739840269088745,
          5.231994152069092,
          5.91924524307251,
          3.8711135387420654,
          -8.52479076385498,
          0.13068623840808868,
          4.939764022827148,
          -4.592592716217041,
          2.680302619934082,
          4.694307327270508,
          5.718186855316162,
          10.665968894958496,
          3.1316821575164795,
          16.854488372802734,
          1.1090264320373535,
          -2.558556079864502,
          -3.8648760318756104,
          9.876757621765137,
          -0.7799766063690186,
          7.700687885284424,
          2.692976236343384,
          1.6964491605758667,
          -0.7870298624038696,
          -8.165007591247559,
          -12.378158569335938,
          -14.938994407653809,
          -9.264019012451172,
          -8.050673484802246,
          -4.965607166290283,
          -10.171255111694336,
          7.7026896476745605,
          6.82193660736084,
          -10.812040328979492,
          -9.096744537353516,
          -22.338699340820312,
          4.680546283721924,
          -3.8305418491363525,
          -1.6834608316421509,
          -18.49027442932129,
          -14.577133178710938,
          -8.773816108703613,
          -11.540005683898926,
          -9.416499137878418,
          -4.515916347503662,
          2.23797869682312,
          -13.891636848449707,
          3.6162543296813965,
          -10.858213424682617,
          -21.784013748168945,
          1.5913738012313843,
          -20.913726806640625,
          3.847710371017456,
          9.399370193481445,
          19.701566696166992,
          13.607834815979004,
          0.7451695799827576,
          -12.343749046325684,
          1.7471692562103271,
          -7.851689338684082,
          -16.19011116027832,
          -9.209460258483887,
          -12.956953048706055,
          0.0035625488962978125,
          6.132044792175293,
          8.056055068969727,
          -9.160457611083984,
          10.032978057861328,
          13.333966255187988,
          10.452093124389648,
          5.9549407958984375,
          -5.2664031982421875,
          -6.417424201965332,
          -0.7363939881324768,
          1.4296796321868896,
          -24.964597702026367,
          3.4365952014923096,
          -13.595426559448242,
          -5.525139331817627,
          -2.461021900177002,
          -5.62903356552124,
          1.2921589612960815,
          -9.590712547302246,
          3.3319785594940186,
          -3.027353048324585,
          -25.747175216674805,
          -5.239815711975098,
          18.184921264648438,
          1.9680206775665283,
          6.250337600708008,
          -1.3543035984039307,
          -1.8338433504104614,
          -5.622135162353516,
          13.423357009887695,
          5.71693754196167,
          3.5258796215057373,
          -3.7519490718841553,
          0.6444242000579834,
          -0.9453126192092896,
          -4.029863357543945,
          -12.027996063232422,
          9.737458229064941,
          -10.780802726745605,
          0.690096914768219,
          -2.5984556674957275,
          -15.303841590881348,
          4.225803852081299,
          -6.634732246398926,
          2.5973010063171387,
          7.367711544036865,
          -1.4810965061187744,
          18.2730712890625,
          11.055463790893555,
          4.3038554191589355,
          -0.015357094816863537,
          -14.439932823181152,
          1.100043535232544,
          -1.2116224765777588,
          13.580900192260742,
          1.2379316091537476,
          -9.224322319030762,
          4.877039432525635,
          2.8519484996795654,
          12.05373764038086,
          -4.288357734680176,
          -8.447948455810547,
          2.2546582221984863,
          -10.664307594299316,
          3.6592345237731934,
          1.2809666395187378,
          -8.259504318237305,
          -8.212620735168457,
          8.842809677124023,
          -11.917851448059082,
          11.219728469848633,
          -12.882205963134766,
          -12.646153450012207,
          -6.799254417419434,
          2.4891812801361084,
          -5.328944683074951,
          -4.884609699249268,
          7.115830898284912,
          -15.999333381652832,
          -17.770124435424805,
          -7.1432695388793945,
          -2.0365452766418457,
          15.945642471313477,
          6.725184440612793,
          1.2209230661392212,
          -1.1160054206848145,
          -17.585166931152344,
          6.211215496063232,
          -5.433252334594727,
          7.094309329986572,
          -11.52949333190918,
          -0.34365907311439514,
          7.198545455932617,
          -10.824323654174805,
          -0.24983763694763184,
          3.759209156036377,
          7.999271392822266,
          -8.235051155090332,
          -4.8305134773254395,
          -7.699158668518066,
          -3.5065712928771973,
          -14.22288990020752,
          -9.578676223754883,
          12.37161636352539,
          0.8364303708076477,
          -4.610581874847412,
          4.492015361785889,
          8.741485595703125,
          9.649662017822266,
          -1.7703008651733398,
          13.253832817077637,
          -13.179120063781738,
          -5.737495422363281,
          -0.496218740940094,
          9.047035217285156,
          5.651015281677246,
          -10.192471504211426,
          7.569601058959961,
          11.947643280029297,
          1.7215495109558105,
          5.307679176330566,
          5.1354522705078125,
          6.662503242492676,
          -4.211318492889404,
          -15.987703323364258,
          3.8226726055145264,
          -3.5683224201202393,
          8.526518821716309,
          6.2911577224731445,
          7.4202117919921875,
          -26.08498191833496,
          5.720912456512451,
          -7.832071304321289,
          -4.070894241333008,
          1.005398154258728,
          -5.277139186859131,
          9.588591575622559,
          6.09285831451416,
          -12.30457592010498,
          -11.647150039672852,
          -7.6093220710754395,
          -14.053404808044434,
          4.224312782287598,
          1.1733040809631348,
          19.267560958862305,
          7.427358150482178,
          -21.79555320739746,
          -9.37183666229248,
          -12.68394947052002,
          -13.46140193939209,
          18.214773178100586,
          5.236138820648193,
          -2.1247756481170654,
          4.62656831741333,
          5.893246173858643,
          5.753735542297363,
          12.813033103942871,
          1.0918617248535156,
          1.4435077905654907,
          3.8800456523895264,
          7.964543342590332,
          -15.572994232177734,
          -13.223265647888184,
          -1.8619372844696045,
          -1.507716178894043,
          -9.400430679321289,
          -9.17788314819336,
          -8.644567489624023,
          -14.45549488067627,
          -0.12700489163398743,
          13.173791885375977,
          11.273951530456543,
          -5.905663013458252,
          14.271167755126953,
          10.512351989746094,
          1.6625556945800781,
          10.828834533691406,
          1.409697413444519,
          7.97271203994751,
          -6.67202091217041,
          5.154526233673096,
          12.578046798706055,
          6.2239508628845215,
          -2.1736199855804443,
          4.776621341705322,
          -8.660886764526367,
          7.445400238037109,
          8.87696647644043,
          11.807875633239746,
          -0.40442317724227905,
          -5.365401744842529,
          -12.856104850769043,
          -4.5538835525512695,
          -2.70930552482605,
          5.343481063842773,
          1.0971275568008423,
          -13.98646354675293,
          -13.762252807617188,
          -14.614344596862793,
          -19.362009048461914,
          -12.080838203430176,
          5.854211330413818,
          15.381271362304688,
          -1.9806740283966064,
          9.29251766204834,
          -14.982171058654785,
          -0.8243489861488342,
          2.9695825576782227,
          -2.721669912338257,
          -7.105062484741211,
          14.039214134216309,
          -13.466450691223145,
          5.1824517250061035,
          -2.0522773265838623,
          -12.646676063537598,
          -11.005483627319336,
          1.2461886405944824,
          3.5318214893341064,
          4.355026721954346,
          3.8669559955596924,
          -9.824333190917969,
          4.306814193725586,
          0.29875990748405457,
          0.8754483461380005,
          -8.103256225585938,
          -7.9242424964904785,
          -20.740190505981445,
          -11.607054710388184,
          -2.5629937648773193,
          7.831851005554199,
          -2.202432870864868,
          -8.851313591003418,
          1.5972230434417725,
          3.100222587585449,
          -25.513656616210938,
          -1.8657251596450806,
          -3.1523399353027344,
          3.0472795963287354,
          -16.923105239868164,
          0.7972058057785034,
          0.40627676248550415,
          -16.524749755859375,
          -17.2811336517334,
          -11.303140640258789,
          -7.951039791107178,
          2.101780891418457,
          0.25767895579338074,
          7.278036594390869,
          10.424810409545898,
          -4.753047943115234,
          4.926035404205322,
          8.730871200561523,
          5.393739700317383,
          13.86601448059082,
          2.810783863067627,
          -11.799269676208496,
          -19.590412139892578,
          -11.895767211914062,
          -12.066976547241211,
          -13.761153221130371,
          6.333548069000244,
          -15.370755195617676,
          9.323637008666992,
          -5.348299980163574,
          -14.331242561340332,
          -12.232133865356445,
          -6.390573978424072,
          4.460634231567383,
          -4.274652481079102,
          10.003450393676758,
          8.744441032409668,
          -14.752158164978027,
          5.702852249145508,
          -16.985088348388672,
          -11.728647232055664,
          -7.019750118255615,
          -9.878913879394531,
          -6.09796142578125,
          -11.402554512023926,
          0.010359274223446846,
          2.132582664489746,
          -12.709383010864258,
          10.67408275604248,
          -0.2531328499317169,
          -4.3844313621521,
          6.941287040710449,
          0.8249202966690063,
          -1.9818781614303589,
          -10.472609519958496,
          -9.512164115905762,
          3.469149351119995,
          -18.83428955078125,
          -23.072965621948242,
          -9.149679183959961,
          0.8409018516540527,
          -12.873645782470703,
          -0.03089919127523899,
          4.848299980163574,
          -1.227769374847412,
          -7.931891918182373,
          0.677273690700531,
          -14.861865997314453,
          -13.508461952209473,
          1.0465455055236816,
          -14.675603866577148,
          -11.022772789001465,
          -7.388601779937744,
          -0.36932381987571716,
          -13.687313079833984,
          -14.861812591552734,
          0.458832323551178,
          -14.393880844116211,
          -5.618078231811523,
          -11.062378883361816,
          6.511658191680908,
          -3.9953813552856445,
          -14.286713600158691,
          8.12274169921875,
          -14.374241828918457,
          -10.679876327514648,
          -16.9386043548584,
          1.4545183181762695,
          3.4687340259552,
          -14.428933143615723,
          -14.430405616760254,
          -15.166646957397461,
          -10.490155220031738,
          -15.2161865234375,
          -2.6958093643188477,
          -2.8258767127990723,
          -1.045841932296753,
          -17.27473258972168,
          -14.5258150100708,
          -10.800017356872559,
          -15.066926002502441,
          2.2297894954681396,
          -14.078031539916992,
          -1.432794451713562,
          -15.435203552246094,
          2.032581090927124,
          1.7973997592926025,
          -15.186135292053223,
          -6.499517440795898,
          -15.370460510253906,
          -13.059392929077148,
          10.866260528564453,
          -14.862540245056152,
          -14.259620666503906,
          -8.99036979675293,
          -15.681905746459961,
          -14.596991539001465,
          -1.9650564193725586,
          18.528541564941406,
          5.557887554168701,
          -5.5835747718811035,
          -10.868319511413574,
          -4.246408939361572,
          -14.827783584594727,
          -14.887266159057617,
          -0.3636856973171234,
          -16.009763717651367,
          -0.3732249438762665,
          1.2173327207565308,
          3.4876742362976074,
          1.17099130153656,
          -3.302950620651245,
          0.4787046015262604,
          -10.121302604675293,
          -23.120925903320312,
          0.9404426217079163,
          -16.657794952392578,
          -6.00413179397583,
          -0.16835340857505798,
          -5.98153829574585,
          -5.344854831695557,
          -6.06068229675293,
          -8.824334144592285,
          -0.15846820175647736,
          2.098768472671509,
          8.311211585998535,
          5.424004554748535,
          13.673264503479004,
          -3.5570600032806396,
          -18.641071319580078,
          6.024871826171875,
          10.271178245544434,
          -21.172197341918945,
          0.08164701610803604,
          5.651724815368652,
          -10.096895217895508,
          8.559126853942871,
          -7.5617289543151855,
          -19.602733612060547,
          5.204896926879883,
          8.747042655944824,
          2.9474658966064453,
          -15.467750549316406,
          -12.370699882507324,
          -12.060623168945312,
          -0.866901159286499,
          -19.45046615600586,
          -1.171742558479309,
          3.417569160461426,
          -16.324304580688477,
          -17.202028274536133,
          4.302423477172852,
          -0.7879440784454346,
          -4.419766902923584,
          -4.452600479125977,
          6.5369553565979,
          0.5713548064231873,
          -13.840316772460938,
          10.951382637023926,
          -0.8827865719795227,
          9.575672149658203,
          23.943660736083984,
          -16.119108200073242,
          7.702160835266113,
          -3.2118945121765137,
          -6.000124931335449,
          -15.281843185424805,
          -11.008296012878418,
          -7.825087547302246,
          4.010262489318848,
          8.724900245666504,
          -0.009022550657391548,
          -5.994521141052246,
          10.500441551208496,
          -2.94043231010437,
          9.822587966918945,
          0.05450768023729324,
          5.558661460876465,
          -11.091360092163086,
          11.925352096557617,
          5.793565273284912,
          -1.0943925380706787,
          13.51319408416748,
          -11.774877548217773,
          -14.61963176727295,
          -0.5219194293022156,
          12.855361938476562,
          5.618561267852783,
          13.516509056091309,
          2.4678361415863037,
          -9.300004005432129,
          -13.725247383117676,
          10.711955070495605,
          -15.595281600952148,
          3.4992246627807617,
          1.9133193492889404,
          0.20062527060508728,
          -3.5788192749023438,
          0.21305905282497406,
          -0.8806142210960388,
          -0.6396830677986145,
          -0.970007061958313,
          -10.152410507202148,
          17.15811538696289,
          0.16586370766162872,
          -8.877057075500488,
          -8.42087459564209,
          -6.163439750671387,
          1.489698886871338,
          5.405462265014648,
          -3.856088876724243,
          -11.260543823242188,
          16.81365966796875,
          6.6729207038879395,
          3.5216147899627686,
          11.08363151550293,
          -19.64147186279297,
          -21.19512367248535,
          7.615139484405518,
          -7.8292107582092285,
          -10.791047096252441,
          -8.238525390625,
          -9.95061206817627,
          -10.221331596374512,
          -19.710140228271484,
          10.384578704833984,
          -21.788251876831055,
          -11.677769660949707,
          -11.030961990356445,
          10.8430814743042,
          4.577744007110596,
          -21.61647605895996,
          -19.506128311157227,
          -5.740044116973877,
          -1.2288236618041992,
          -10.980480194091797,
          6.039432525634766,
          -2.422532558441162,
          2.917710065841675,
          -12.701864242553711,
          -15.632393836975098,
          5.150243282318115,
          8.928804397583008,
          -12.337547302246094,
          6.542720317840576,
          8.115739822387695,
          10.836922645568848,
          2.5644161701202393,
          8.60878849029541,
          8.745868682861328,
          -5.942637920379639,
          -7.448598384857178,
          -5.711618900299072,
          -15.844743728637695,
          4.061189651489258,
          6.3478684425354,
          -8.386735916137695,
          -12.566975593566895,
          -6.703806400299072,
          -1.6255605220794678,
          -16.07434844970703,
          3.939305067062378,
          -14.978416442871094,
          -7.1533122062683105,
          -17.45765495300293,
          7.230961322784424,
          11.224103927612305,
          0.27343109250068665,
          2.8907291889190674,
          -11.750726699829102,
          12.309020042419434,
          7.754695415496826,
          -2.2140228748321533,
          -9.117192268371582,
          -1.2151436805725098,
          -10.700264930725098,
          -24.569482803344727,
          -11.528518676757812,
          -24.71186065673828,
          -25.416406631469727,
          -27.138683319091797,
          -9.463858604431152,
          -13.504377365112305,
          -8.92837905883789,
          -27.144447326660156,
          -9.819571495056152,
          -1.2595539093017578,
          -25.206205368041992,
          7.688165187835693,
          -24.33965301513672,
          -1.618338942527771,
          -22.28723907470703,
          -22.292396545410156,
          -24.627384185791016,
          -9.781532287597656,
          -22.90291976928711,
          -10.329360008239746,
          -11.590694427490234,
          -24.54296875,
          -23.054216384887695,
          -7.915728569030762,
          -25.20221519470215,
          -22.98585319519043,
          -21.602123260498047,
          -22.104448318481445,
          -24.595434188842773,
          -22.11210060119629,
          -23.983781814575195,
          1.9211910963058472,
          -24.854469299316406,
          -24.869394302368164,
          -9.4786958694458,
          -25.08696174621582,
          -7.3326826095581055,
          -8.23650074005127,
          1.8817309141159058,
          -22.910091400146484,
          -23.027490615844727,
          -5.246555328369141,
          1.0720996856689453,
          -4.999396324157715,
          0.707954466342926,
          1.7359153032302856,
          -8.859890937805176,
          13.633390426635742,
          -8.751917839050293,
          -17.992340087890625,
          11.339852333068848,
          -7.38981819152832,
          -4.719792366027832,
          5.901783466339111,
          -19.647775650024414,
          2.0651230812072754,
          -10.8750581741333,
          2.632490396499634,
          6.009688854217529,
          -16.37976837158203,
          3.40124773979187,
          -10.225783348083496,
          -18.977354049682617,
          -10.812183380126953,
          -7.695673942565918,
          -2.04811954498291,
          5.629250526428223,
          -10.045205116271973,
          6.449941158294678,
          -9.945059776306152,
          -3.918691635131836,
          -7.765610218048096,
          -4.609861373901367,
          9.712620735168457,
          -19.206987380981445,
          -9.661736488342285,
          6.731095790863037,
          -14.900617599487305,
          -6.300014019012451,
          -20.51453971862793,
          -4.593650817871094,
          -11.3837308883667,
          8.725239753723145,
          1.9370278120040894,
          -13.99783992767334,
          2.6615183353424072,
          2.2459468841552734,
          -15.023507118225098,
          2.728726625442505,
          -11.956737518310547,
          2.5463316440582275,
          -8.010674476623535,
          2.7412688732147217,
          2.8428659439086914,
          -9.086174964904785,
          -5.973931312561035,
          -10.134600639343262,
          -9.853706359863281,
          -10.338584899902344,
          3.996861457824707,
          2.4590938091278076,
          -8.884197235107422,
          2.634099006652832,
          -10.290864944458008,
          -10.495261192321777,
          -17.263551712036133,
          -9.134651184082031,
          -9.909286499023438,
          -7.734198093414307,
          -14.866249084472656,
          -12.975257873535156,
          -9.601343154907227,
          -19.760000228881836,
          -19.917259216308594,
          -19.472463607788086,
          -9.815427780151367,
          -11.416773796081543,
          13.071813583374023,
          -7.626908779144287,
          -11.262676239013672,
          -5.720367431640625,
          -5.525968074798584,
          -11.580348014831543,
          -4.916049003601074,
          -18.632104873657227,
          -15.012853622436523,
          -13.955896377563477,
          3.7107009887695312,
          -11.273194313049316,
          -15.542739868164062,
          6.388376235961914,
          -16.576297760009766,
          -13.982756614685059,
          -14.607282638549805,
          -4.364703178405762,
          -7.27723503112793
         ],
         "yaxis": "y"
        }
       ],
       "layout": {
        "coloraxis": {
         "colorbar": {
          "title": {
           "text": "popularity"
          }
         },
         "colorscale": [
          [
           0,
           "#0d0887"
          ],
          [
           0.1111111111111111,
           "#46039f"
          ],
          [
           0.2222222222222222,
           "#7201a8"
          ],
          [
           0.3333333333333333,
           "#9c179e"
          ],
          [
           0.4444444444444444,
           "#bd3786"
          ],
          [
           0.5555555555555556,
           "#d8576b"
          ],
          [
           0.6666666666666666,
           "#ed7953"
          ],
          [
           0.7777777777777778,
           "#fb9f3a"
          ],
          [
           0.8888888888888888,
           "#fdca26"
          ],
          [
           1,
           "#f0f921"
          ]
         ]
        },
        "legend": {
         "tracegroupgap": 0
        },
        "margin": {
         "t": 60
        },
        "template": {
         "data": {
          "bar": [
           {
            "error_x": {
             "color": "#2a3f5f"
            },
            "error_y": {
             "color": "#2a3f5f"
            },
            "marker": {
             "line": {
              "color": "#E5ECF6",
              "width": 0.5
             },
             "pattern": {
              "fillmode": "overlay",
              "size": 10,
              "solidity": 0.2
             }
            },
            "type": "bar"
           }
          ],
          "barpolar": [
           {
            "marker": {
             "line": {
              "color": "#E5ECF6",
              "width": 0.5
             },
             "pattern": {
              "fillmode": "overlay",
              "size": 10,
              "solidity": 0.2
             }
            },
            "type": "barpolar"
           }
          ],
          "carpet": [
           {
            "aaxis": {
             "endlinecolor": "#2a3f5f",
             "gridcolor": "white",
             "linecolor": "white",
             "minorgridcolor": "white",
             "startlinecolor": "#2a3f5f"
            },
            "baxis": {
             "endlinecolor": "#2a3f5f",
             "gridcolor": "white",
             "linecolor": "white",
             "minorgridcolor": "white",
             "startlinecolor": "#2a3f5f"
            },
            "type": "carpet"
           }
          ],
          "choropleth": [
           {
            "colorbar": {
             "outlinewidth": 0,
             "ticks": ""
            },
            "type": "choropleth"
           }
          ],
          "contour": [
           {
            "colorbar": {
             "outlinewidth": 0,
             "ticks": ""
            },
            "colorscale": [
             [
              0,
              "#0d0887"
             ],
             [
              0.1111111111111111,
              "#46039f"
             ],
             [
              0.2222222222222222,
              "#7201a8"
             ],
             [
              0.3333333333333333,
              "#9c179e"
             ],
             [
              0.4444444444444444,
              "#bd3786"
             ],
             [
              0.5555555555555556,
              "#d8576b"
             ],
             [
              0.6666666666666666,
              "#ed7953"
             ],
             [
              0.7777777777777778,
              "#fb9f3a"
             ],
             [
              0.8888888888888888,
              "#fdca26"
             ],
             [
              1,
              "#f0f921"
             ]
            ],
            "type": "contour"
           }
          ],
          "contourcarpet": [
           {
            "colorbar": {
             "outlinewidth": 0,
             "ticks": ""
            },
            "type": "contourcarpet"
           }
          ],
          "heatmap": [
           {
            "colorbar": {
             "outlinewidth": 0,
             "ticks": ""
            },
            "colorscale": [
             [
              0,
              "#0d0887"
             ],
             [
              0.1111111111111111,
              "#46039f"
             ],
             [
              0.2222222222222222,
              "#7201a8"
             ],
             [
              0.3333333333333333,
              "#9c179e"
             ],
             [
              0.4444444444444444,
              "#bd3786"
             ],
             [
              0.5555555555555556,
              "#d8576b"
             ],
             [
              0.6666666666666666,
              "#ed7953"
             ],
             [
              0.7777777777777778,
              "#fb9f3a"
             ],
             [
              0.8888888888888888,
              "#fdca26"
             ],
             [
              1,
              "#f0f921"
             ]
            ],
            "type": "heatmap"
           }
          ],
          "heatmapgl": [
           {
            "colorbar": {
             "outlinewidth": 0,
             "ticks": ""
            },
            "colorscale": [
             [
              0,
              "#0d0887"
             ],
             [
              0.1111111111111111,
              "#46039f"
             ],
             [
              0.2222222222222222,
              "#7201a8"
             ],
             [
              0.3333333333333333,
              "#9c179e"
             ],
             [
              0.4444444444444444,
              "#bd3786"
             ],
             [
              0.5555555555555556,
              "#d8576b"
             ],
             [
              0.6666666666666666,
              "#ed7953"
             ],
             [
              0.7777777777777778,
              "#fb9f3a"
             ],
             [
              0.8888888888888888,
              "#fdca26"
             ],
             [
              1,
              "#f0f921"
             ]
            ],
            "type": "heatmapgl"
           }
          ],
          "histogram": [
           {
            "marker": {
             "pattern": {
              "fillmode": "overlay",
              "size": 10,
              "solidity": 0.2
             }
            },
            "type": "histogram"
           }
          ],
          "histogram2d": [
           {
            "colorbar": {
             "outlinewidth": 0,
             "ticks": ""
            },
            "colorscale": [
             [
              0,
              "#0d0887"
             ],
             [
              0.1111111111111111,
              "#46039f"
             ],
             [
              0.2222222222222222,
              "#7201a8"
             ],
             [
              0.3333333333333333,
              "#9c179e"
             ],
             [
              0.4444444444444444,
              "#bd3786"
             ],
             [
              0.5555555555555556,
              "#d8576b"
             ],
             [
              0.6666666666666666,
              "#ed7953"
             ],
             [
              0.7777777777777778,
              "#fb9f3a"
             ],
             [
              0.8888888888888888,
              "#fdca26"
             ],
             [
              1,
              "#f0f921"
             ]
            ],
            "type": "histogram2d"
           }
          ],
          "histogram2dcontour": [
           {
            "colorbar": {
             "outlinewidth": 0,
             "ticks": ""
            },
            "colorscale": [
             [
              0,
              "#0d0887"
             ],
             [
              0.1111111111111111,
              "#46039f"
             ],
             [
              0.2222222222222222,
              "#7201a8"
             ],
             [
              0.3333333333333333,
              "#9c179e"
             ],
             [
              0.4444444444444444,
              "#bd3786"
             ],
             [
              0.5555555555555556,
              "#d8576b"
             ],
             [
              0.6666666666666666,
              "#ed7953"
             ],
             [
              0.7777777777777778,
              "#fb9f3a"
             ],
             [
              0.8888888888888888,
              "#fdca26"
             ],
             [
              1,
              "#f0f921"
             ]
            ],
            "type": "histogram2dcontour"
           }
          ],
          "mesh3d": [
           {
            "colorbar": {
             "outlinewidth": 0,
             "ticks": ""
            },
            "type": "mesh3d"
           }
          ],
          "parcoords": [
           {
            "line": {
             "colorbar": {
              "outlinewidth": 0,
              "ticks": ""
             }
            },
            "type": "parcoords"
           }
          ],
          "pie": [
           {
            "automargin": true,
            "type": "pie"
           }
          ],
          "scatter": [
           {
            "fillpattern": {
             "fillmode": "overlay",
             "size": 10,
             "solidity": 0.2
            },
            "type": "scatter"
           }
          ],
          "scatter3d": [
           {
            "line": {
             "colorbar": {
              "outlinewidth": 0,
              "ticks": ""
             }
            },
            "marker": {
             "colorbar": {
              "outlinewidth": 0,
              "ticks": ""
             }
            },
            "type": "scatter3d"
           }
          ],
          "scattercarpet": [
           {
            "marker": {
             "colorbar": {
              "outlinewidth": 0,
              "ticks": ""
             }
            },
            "type": "scattercarpet"
           }
          ],
          "scattergeo": [
           {
            "marker": {
             "colorbar": {
              "outlinewidth": 0,
              "ticks": ""
             }
            },
            "type": "scattergeo"
           }
          ],
          "scattergl": [
           {
            "marker": {
             "colorbar": {
              "outlinewidth": 0,
              "ticks": ""
             }
            },
            "type": "scattergl"
           }
          ],
          "scattermapbox": [
           {
            "marker": {
             "colorbar": {
              "outlinewidth": 0,
              "ticks": ""
             }
            },
            "type": "scattermapbox"
           }
          ],
          "scatterpolar": [
           {
            "marker": {
             "colorbar": {
              "outlinewidth": 0,
              "ticks": ""
             }
            },
            "type": "scatterpolar"
           }
          ],
          "scatterpolargl": [
           {
            "marker": {
             "colorbar": {
              "outlinewidth": 0,
              "ticks": ""
             }
            },
            "type": "scatterpolargl"
           }
          ],
          "scatterternary": [
           {
            "marker": {
             "colorbar": {
              "outlinewidth": 0,
              "ticks": ""
             }
            },
            "type": "scatterternary"
           }
          ],
          "surface": [
           {
            "colorbar": {
             "outlinewidth": 0,
             "ticks": ""
            },
            "colorscale": [
             [
              0,
              "#0d0887"
             ],
             [
              0.1111111111111111,
              "#46039f"
             ],
             [
              0.2222222222222222,
              "#7201a8"
             ],
             [
              0.3333333333333333,
              "#9c179e"
             ],
             [
              0.4444444444444444,
              "#bd3786"
             ],
             [
              0.5555555555555556,
              "#d8576b"
             ],
             [
              0.6666666666666666,
              "#ed7953"
             ],
             [
              0.7777777777777778,
              "#fb9f3a"
             ],
             [
              0.8888888888888888,
              "#fdca26"
             ],
             [
              1,
              "#f0f921"
             ]
            ],
            "type": "surface"
           }
          ],
          "table": [
           {
            "cells": {
             "fill": {
              "color": "#EBF0F8"
             },
             "line": {
              "color": "white"
             }
            },
            "header": {
             "fill": {
              "color": "#C8D4E3"
             },
             "line": {
              "color": "white"
             }
            },
            "type": "table"
           }
          ]
         },
         "layout": {
          "annotationdefaults": {
           "arrowcolor": "#2a3f5f",
           "arrowhead": 0,
           "arrowwidth": 1
          },
          "autotypenumbers": "strict",
          "coloraxis": {
           "colorbar": {
            "outlinewidth": 0,
            "ticks": ""
           }
          },
          "colorscale": {
           "diverging": [
            [
             0,
             "#8e0152"
            ],
            [
             0.1,
             "#c51b7d"
            ],
            [
             0.2,
             "#de77ae"
            ],
            [
             0.3,
             "#f1b6da"
            ],
            [
             0.4,
             "#fde0ef"
            ],
            [
             0.5,
             "#f7f7f7"
            ],
            [
             0.6,
             "#e6f5d0"
            ],
            [
             0.7,
             "#b8e186"
            ],
            [
             0.8,
             "#7fbc41"
            ],
            [
             0.9,
             "#4d9221"
            ],
            [
             1,
             "#276419"
            ]
           ],
           "sequential": [
            [
             0,
             "#0d0887"
            ],
            [
             0.1111111111111111,
             "#46039f"
            ],
            [
             0.2222222222222222,
             "#7201a8"
            ],
            [
             0.3333333333333333,
             "#9c179e"
            ],
            [
             0.4444444444444444,
             "#bd3786"
            ],
            [
             0.5555555555555556,
             "#d8576b"
            ],
            [
             0.6666666666666666,
             "#ed7953"
            ],
            [
             0.7777777777777778,
             "#fb9f3a"
            ],
            [
             0.8888888888888888,
             "#fdca26"
            ],
            [
             1,
             "#f0f921"
            ]
           ],
           "sequentialminus": [
            [
             0,
             "#0d0887"
            ],
            [
             0.1111111111111111,
             "#46039f"
            ],
            [
             0.2222222222222222,
             "#7201a8"
            ],
            [
             0.3333333333333333,
             "#9c179e"
            ],
            [
             0.4444444444444444,
             "#bd3786"
            ],
            [
             0.5555555555555556,
             "#d8576b"
            ],
            [
             0.6666666666666666,
             "#ed7953"
            ],
            [
             0.7777777777777778,
             "#fb9f3a"
            ],
            [
             0.8888888888888888,
             "#fdca26"
            ],
            [
             1,
             "#f0f921"
            ]
           ]
          },
          "colorway": [
           "#636efa",
           "#EF553B",
           "#00cc96",
           "#ab63fa",
           "#FFA15A",
           "#19d3f3",
           "#FF6692",
           "#B6E880",
           "#FF97FF",
           "#FECB52"
          ],
          "font": {
           "color": "#2a3f5f"
          },
          "geo": {
           "bgcolor": "white",
           "lakecolor": "white",
           "landcolor": "#E5ECF6",
           "showlakes": true,
           "showland": true,
           "subunitcolor": "white"
          },
          "hoverlabel": {
           "align": "left"
          },
          "hovermode": "closest",
          "mapbox": {
           "style": "light"
          },
          "paper_bgcolor": "white",
          "plot_bgcolor": "#E5ECF6",
          "polar": {
           "angularaxis": {
            "gridcolor": "white",
            "linecolor": "white",
            "ticks": ""
           },
           "bgcolor": "#E5ECF6",
           "radialaxis": {
            "gridcolor": "white",
            "linecolor": "white",
            "ticks": ""
           }
          },
          "scene": {
           "xaxis": {
            "backgroundcolor": "#E5ECF6",
            "gridcolor": "white",
            "gridwidth": 2,
            "linecolor": "white",
            "showbackground": true,
            "ticks": "",
            "zerolinecolor": "white"
           },
           "yaxis": {
            "backgroundcolor": "#E5ECF6",
            "gridcolor": "white",
            "gridwidth": 2,
            "linecolor": "white",
            "showbackground": true,
            "ticks": "",
            "zerolinecolor": "white"
           },
           "zaxis": {
            "backgroundcolor": "#E5ECF6",
            "gridcolor": "white",
            "gridwidth": 2,
            "linecolor": "white",
            "showbackground": true,
            "ticks": "",
            "zerolinecolor": "white"
           }
          },
          "shapedefaults": {
           "line": {
            "color": "#2a3f5f"
           }
          },
          "ternary": {
           "aaxis": {
            "gridcolor": "white",
            "linecolor": "white",
            "ticks": ""
           },
           "baxis": {
            "gridcolor": "white",
            "linecolor": "white",
            "ticks": ""
           },
           "bgcolor": "#E5ECF6",
           "caxis": {
            "gridcolor": "white",
            "linecolor": "white",
            "ticks": ""
           }
          },
          "title": {
           "x": 0.05
          },
          "xaxis": {
           "automargin": true,
           "gridcolor": "white",
           "linecolor": "white",
           "ticks": "",
           "title": {
            "standoff": 15
           },
           "zerolinecolor": "white",
           "zerolinewidth": 2
          },
          "yaxis": {
           "automargin": true,
           "gridcolor": "white",
           "linecolor": "white",
           "ticks": "",
           "title": {
            "standoff": 15
           },
           "zerolinecolor": "white",
           "zerolinewidth": 2
          }
         }
        },
        "xaxis": {
         "anchor": "y",
         "domain": [
          0,
          1
         ],
         "title": {
          "text": "tsne_1"
         }
        },
        "yaxis": {
         "anchor": "x",
         "domain": [
          0,
          1
         ],
         "title": {
          "text": "tsne_2"
         }
        }
       }
      },
      "text/html": [
       "<div>                        <script type=\"text/javascript\">window.PlotlyConfig = {MathJaxConfig: 'local'};</script>\n",
       "        <script charset=\"utf-8\" src=\"https://cdn.plot.ly/plotly-2.34.0.min.js\"></script>                <div id=\"8c55c9de-699e-4f45-8f72-17f7b960c55a\" class=\"plotly-graph-div\" style=\"height:100%; width:100%;\"></div>            <script type=\"text/javascript\">                                    window.PLOTLYENV=window.PLOTLYENV || {};                                    if (document.getElementById(\"8c55c9de-699e-4f45-8f72-17f7b960c55a\")) {                    Plotly.newPlot(                        \"8c55c9de-699e-4f45-8f72-17f7b960c55a\",                        [{\"customdata\":[[1,\"Toy Story (1995)\",452],[2,\"GoldenEye (1995)\",131],[3,\"Four Rooms (1995)\",90],[4,\"Get Shorty (1995)\",209],[5,\"Copycat (1995)\",86],[6,\"Shanghai Triad (Yao a yao yao dao waipo qiao) (1995)\",26],[7,\"Twelve Monkeys (1995)\",392],[8,\"Babe (1995)\",219],[9,\"Dead Man Walking (1995)\",299],[10,\"Richard III (1995)\",89],[11,\"Seven (Se7en) (1995)\",236],[12,\"Usual Suspects, The (1995)\",267],[13,\"Mighty Aphrodite (1995)\",184],[14,\"Postino, Il (1994)\",183],[15,\"Mr. Holland's Opus (1995)\",293],[16,\"French Twist (Gazon maudit) (1995)\",39],[17,\"From Dusk Till Dawn (1996)\",92],[18,\"White Balloon, The (1995)\",10],[19,\"Antonia's Line (1995)\",69],[20,\"Angels and Insects (1995)\",72],[21,\"Muppet Treasure Island (1996)\",84],[22,\"Braveheart (1995)\",297],[23,\"Taxi Driver (1976)\",182],[24,\"Rumble in the Bronx (1995)\",174],[25,\"Birdcage, The (1996)\",293],[26,\"Brothers McMullen, The (1995)\",73],[27,\"Bad Boys (1995)\",57],[28,\"Apollo 13 (1995)\",276],[29,\"Batman Forever (1995)\",114],[30,\"Belle de jour (1967)\",37],[31,\"Crimson Tide (1995)\",154],[32,\"Crumb (1994)\",81],[33,\"Desperado (1995)\",97],[34,\"Doom Generation, The (1995)\",7],[35,\"Free Willy 2: The Adventure Home (1995)\",11],[36,\"Mad Love (1995)\",13],[37,\"Nadja (1994)\",8],[38,\"Net, The (1995)\",120],[39,\"Strange Days (1995)\",87],[40,\"To Wong Foo, Thanks for Everything! Julie Newmar (1995)\",57],[41,\"Billy Madison (1995)\",37],[42,\"Clerks (1994)\",148],[43,\"Disclosure (1994)\",40],[44,\"Dolores Claiborne (1994)\",79],[45,\"Eat Drink Man Woman (1994)\",80],[46,\"Exotica (1994)\",27],[47,\"Ed Wood (1994)\",133],[48,\"Hoop Dreams (1994)\",117],[49,\"I.Q. (1994)\",81],[50,\"Star Wars (1977)\",583],[51,\"Legends of the Fall (1994)\",81],[52,\"Madness of King George, The (1994)\",91],[53,\"Natural Born Killers (1994)\",128],[54,\"Outbreak (1995)\",104],[55,\"Professional, The (1994)\",149],[56,\"Pulp Fiction (1994)\",394],[57,\"Priest (1994)\",40],[58,\"Quiz Show (1994)\",175],[59,\"Three Colors: Red (1994)\",83],[60,\"Three Colors: Blue (1993)\",64],[61,\"Three Colors: White (1994)\",59],[62,\"Stargate (1994)\",127],[63,\"Santa Clause, The (1994)\",82],[64,\"Shawshank Redemption, The (1994)\",283],[65,\"What's Eating Gilbert Grape (1993)\",115],[66,\"While You Were Sleeping (1995)\",162],[67,\"Ace Ventura: Pet Detective (1994)\",103],[68,\"Crow, The (1994)\",134],[69,\"Forrest Gump (1994)\",321],[70,\"Four Weddings and a Funeral (1994)\",251],[71,\"Lion King, The (1994)\",220],[72,\"Mask, The (1994)\",129],[73,\"Maverick (1994)\",128],[74,\"Faster Pussycat! Kill! Kill! (1965)\",7],[75,\"Brother Minister: The Assassination of Malcolm X (1994)\",5],[76,\"Carlito's Way (1993)\",54],[77,\"Firm, The (1993)\",151],[78,\"Free Willy (1993)\",33],[79,\"Fugitive, The (1993)\",336],[80,\"Hot Shots! Part Deux (1993)\",68],[81,\"Hudsucker Proxy, The (1994)\",110],[82,\"Jurassic Park (1993)\",261],[83,\"Much Ado About Nothing (1993)\",176],[84,\"Robert A. Heinlein's The Puppet Masters (1994)\",18],[85,\"Ref, The (1994)\",58],[86,\"Remains of the Day, The (1993)\",150],[87,\"Searching for Bobby Fischer (1993)\",138],[88,\"Sleepless in Seattle (1993)\",213],[89,\"Blade Runner (1982)\",275],[90,\"So I Married an Axe Murderer (1993)\",95],[91,\"Nightmare Before Christmas, The (1993)\",143],[92,\"True Romance (1993)\",104],[93,\"Welcome to the Dollhouse (1995)\",112],[94,\"Home Alone (1990)\",137],[95,\"Aladdin (1992)\",219],[96,\"Terminator 2: Judgment Day (1991)\",295],[97,\"Dances with Wolves (1990)\",256],[98,\"Silence of the Lambs, The (1991)\",390],[99,\"Snow White and the Seven Dwarfs (1937)\",172],[100,\"Fargo (1996)\",508],[101,\"Heavy Metal (1981)\",73],[102,\"Aristocats, The (1970)\",54],[103,\"All Dogs Go to Heaven 2 (1996)\",15],[104,\"Theodore Rex (1995)\",5],[105,\"Sgt. Bilko (1996)\",74],[106,\"Diabolique (1996)\",71],[107,\"Moll Flanders (1996)\",42],[108,\"Kids in the Hall: Brain Candy (1996)\",65],[109,\"Mystery Science Theater 3000: The Movie (1996)\",130],[110,\"Operation Dumbo Drop (1995)\",31],[111,\"Truth About Cats & Dogs, The (1996)\",272],[112,\"Flipper (1996)\",20],[113,\"Horseman on the Roof, The (Hussard sur le toit, Le) (1995)\",9],[114,\"Wallace & Gromit: The Best of Aardman Animation (1996)\",67],[115,\"Haunted World of Edward D. Wood Jr., The (1995)\",15],[116,\"Cold Comfort Farm (1995)\",125],[117,\"Rock, The (1996)\",378],[118,\"Twister (1996)\",293],[119,\"Maya Lin: A Strong Clear Vision (1994)\",4],[120,\"Striptease (1996)\",67],[121,\"Independence Day (ID4) (1996)\",429],[122,\"Cable Guy, The (1996)\",106],[123,\"Frighteners, The (1996)\",115],[124,\"Lone Star (1996)\",187],[125,\"Phenomenon (1996)\",244],[126,\"Spitfire Grill, The (1996)\",97],[127,\"Godfather, The (1972)\",413],[128,\"Supercop (1992)\",65],[129,\"Bound (1996)\",129],[130,\"Kansas City (1996)\",23],[131,\"Breakfast at Tiffany's (1961)\",95],[132,\"Wizard of Oz, The (1939)\",246],[133,\"Gone with the Wind (1939)\",171],[134,\"Citizen Kane (1941)\",198],[135,\"2001: A Space Odyssey (1968)\",259],[136,\"Mr. Smith Goes to Washington (1939)\",105],[137,\"Big Night (1996)\",171],[138,\"D3: The Mighty Ducks (1996)\",19],[139,\"Love Bug, The (1969)\",50],[140,\"Homeward Bound: The Incredible Journey (1993)\",61],[141,\"20,000 Leagues Under the Sea (1954)\",72],[142,\"Bedknobs and Broomsticks (1971)\",57],[143,\"Sound of Music, The (1965)\",222],[144,\"Die Hard (1988)\",243],[145,\"Lawnmower Man, The (1992)\",65],[146,\"Unhook the Stars (1996)\",10],[147,\"Long Kiss Goodnight, The (1996)\",185],[148,\"Ghost and the Darkness, The (1996)\",128],[149,\"Jude (1996)\",23],[150,\"Swingers (1996)\",157],[151,\"Willy Wonka and the Chocolate Factory (1971)\",326],[152,\"Sleeper (1973)\",82],[153,\"Fish Called Wanda, A (1988)\",247],[154,\"Monty Python's Life of Brian (1979)\",174],[155,\"Dirty Dancing (1987)\",98],[156,\"Reservoir Dogs (1992)\",148],[157,\"Platoon (1986)\",127],[158,\"Weekend at Bernie's (1989)\",60],[159,\"Basic Instinct (1992)\",101],[160,\"Glengarry Glen Ross (1992)\",69],[161,\"Top Gun (1986)\",220],[162,\"On Golden Pond (1981)\",106],[163,\"Return of the Pink Panther, The (1974)\",92],[164,\"Abyss, The (1989)\",151],[165,\"Jean de Florette (1986)\",64],[166,\"Manon of the Spring (Manon des sources) (1986)\",58],[167,\"Private Benjamin (1980)\",67],[168,\"Monty Python and the Holy Grail (1974)\",316],[169,\"Wrong Trousers, The (1993)\",118],[170,\"Cinema Paradiso (1988)\",121],[171,\"Delicatessen (1991)\",65],[172,\"Empire Strikes Back, The (1980)\",367],[173,\"Princess Bride, The (1987)\",324],[174,\"Raiders of the Lost Ark (1981)\",420],[175,\"Brazil (1985)\",208],[176,\"Aliens (1986)\",284],[177,\"Good, The Bad and The Ugly, The (1966)\",137],[178,\"12 Angry Men (1957)\",125],[179,\"Clockwork Orange, A (1971)\",221],[180,\"Apocalypse Now (1979)\",221],[181,\"Return of the Jedi (1983)\",507],[182,\"GoodFellas (1990)\",226],[183,\"Alien (1979)\",291],[184,\"Army of Darkness (1993)\",116],[185,\"Psycho (1960)\",239],[186,\"Blues Brothers, The (1980)\",251],[187,\"Godfather: Part II, The (1974)\",209],[188,\"Full Metal Jacket (1987)\",170],[189,\"Grand Day Out, A (1992)\",66],[190,\"Henry V (1989)\",124],[191,\"Amadeus (1984)\",276],[192,\"Raging Bull (1980)\",116],[193,\"Right Stuff, The (1983)\",157],[194,\"Sting, The (1973)\",241],[195,\"Terminator, The (1984)\",301],[196,\"Dead Poets Society (1989)\",251],[197,\"Graduate, The (1967)\",239],[198,\"Nikita (La Femme Nikita) (1990)\",127],[199,\"Bridge on the River Kwai, The (1957)\",165],[200,\"Shining, The (1980)\",206],[201,\"Evil Dead II (1987)\",89],[202,\"Groundhog Day (1993)\",280],[203,\"Unforgiven (1992)\",182],[204,\"Back to the Future (1985)\",350],[205,\"Patton (1970)\",136],[206,\"Akira (1988)\",50],[207,\"Cyrano de Bergerac (1990)\",66],[208,\"Young Frankenstein (1974)\",200],[209,\"This Is Spinal Tap (1984)\",191],[210,\"Indiana Jones and the Last Crusade (1989)\",331],[211,\"M*A*S*H (1970)\",206],[212,\"Unbearable Lightness of Being, The (1988)\",92],[213,\"Room with a View, A (1986)\",134],[214,\"Pink Floyd - The Wall (1982)\",114],[215,\"Field of Dreams (1989)\",212],[216,\"When Harry Met Sally... (1989)\",290],[217,\"Bram Stoker's Dracula (1992)\",120],[218,\"Cape Fear (1991)\",171],[219,\"Nightmare on Elm Street, A (1984)\",111],[220,\"Mirror Has Two Faces, The (1996)\",66],[221,\"Breaking the Waves (1996)\",74],[222,\"Star Trek: First Contact (1996)\",365],[223,\"Sling Blade (1996)\",136],[224,\"Ridicule (1996)\",44],[225,\"101 Dalmatians (1996)\",109],[226,\"Die Hard 2 (1990)\",166],[227,\"Star Trek VI: The Undiscovered Country (1991)\",161],[228,\"Star Trek: The Wrath of Khan (1982)\",244],[229,\"Star Trek III: The Search for Spock (1984)\",171],[230,\"Star Trek IV: The Voyage Home (1986)\",199],[231,\"Batman Returns (1992)\",142],[232,\"Young Guns (1988)\",101],[233,\"Under Siege (1992)\",124],[234,\"Jaws (1975)\",280],[235,\"Mars Attacks! (1996)\",217],[236,\"Citizen Ruth (1996)\",45],[237,\"Jerry Maguire (1996)\",384],[238,\"Raising Arizona (1987)\",256],[239,\"Sneakers (1992)\",150],[240,\"Beavis and Butt-head Do America (1996)\",156],[241,\"Last of the Mohicans, The (1992)\",128],[242,\"Kolya (1996)\",117],[243,\"Jungle2Jungle (1997)\",132],[244,\"Smilla's Sense of Snow (1997)\",48],[245,\"Devil's Own, The (1997)\",240],[246,\"Chasing Amy (1997)\",124],[247,\"Turbo: A Power Rangers Movie (1997)\",5],[248,\"Grosse Pointe Blank (1997)\",160],[249,\"Austin Powers: International Man of Mystery (1997)\",130],[250,\"Fifth Element, The (1997)\",197],[251,\"Shall We Dance? (1996)\",46],[252,\"Lost World: Jurassic Park, The (1997)\",158],[253,\"Pillow Book, The (1995)\",26],[254,\"Batman & Robin (1997)\",62],[255,\"My Best Friend's Wedding (1997)\",172],[256,\"When the Cats Away (Chacun cherche son chat) (1996)\",16],[257,\"Men in Black (1997)\",303],[258,\"Contact (1997)\",509],[259,\"George of the Jungle (1997)\",162],[260,\"Event Horizon (1997)\",127],[261,\"Air Bud (1997)\",43],[262,\"In the Company of Men (1997)\",66],[263,\"Steel (1997)\",19],[264,\"Mimic (1997)\",101],[265,\"Hunt for Red October, The (1990)\",227],[266,\"Kull the Conqueror (1997)\",35],[267,\"unknown\",9],[268,\"Chasing Amy (1997)\",255],[269,\"Full Monty, The (1997)\",315],[270,\"Gattaca (1997)\",136],[271,\"Starship Troopers (1997)\",211],[272,\"Good Will Hunting (1997)\",198],[273,\"Heat (1995)\",223],[274,\"Sabrina (1995)\",190],[275,\"Sense and Sensibility (1995)\",268],[276,\"Leaving Las Vegas (1995)\",298],[277,\"Restoration (1995)\",71],[278,\"Bed of Roses (1996)\",60],[279,\"Once Upon a Time... When We Were Colored (1995)\",28],[280,\"Up Close and Personal (1996)\",85],[281,\"River Wild, The (1994)\",146],[282,\"Time to Kill, A (1996)\",232],[283,\"Emma (1996)\",177],[284,\"Tin Cup (1996)\",193],[285,\"Secrets & Lies (1996)\",162],[286,\"English Patient, The (1996)\",481],[287,\"Marvin's Room (1996)\",78],[288,\"Scream (1996)\",478],[289,\"Evita (1996)\",259],[290,\"Fierce Creatures (1997)\",96],[291,\"Absolute Power (1997)\",127],[292,\"Rosewood (1997)\",114],[293,\"Donnie Brasco (1997)\",147],[294,\"Liar Liar (1997)\",485],[295,\"Breakdown (1997)\",77],[296,\"Promesse, La (1996)\",6],[297,\"Ulee's Gold (1997)\",50],[298,\"Face\\u002fOff (1997)\",194],[299,\"Hoodlum (1997)\",73],[300,\"Air Force One (1997)\",431],[301,\"In & Out (1997)\",230],[302,\"L.A. Confidential (1997)\",297],[303,\"Ulee's Gold (1997)\",134],[304,\"Fly Away Home (1996)\",149],[305,\"Ice Storm, The (1997)\",87],[306,\"Mrs. Brown (Her Majesty, Mrs. Brown) (1997)\",96],[307,\"Devil's Advocate, The (1997)\",188],[308,\"FairyTale: A True Story (1997)\",30],[309,\"Deceiver (1997)\",28],[310,\"Rainmaker, The (1997)\",145],[311,\"Wings of the Dove, The (1997)\",75],[312,\"Midnight in the Garden of Good and Evil (1997)\",80],[313,\"Titanic (1997)\",350],[314,\"3 Ninjas: High Noon At Mega Mountain (1998)\",5],[315,\"Apt Pupil (1998)\",160],[316,\"As Good As It Gets (1997)\",112],[317,\"In the Name of the Father (1993)\",102],[318,\"Schindler's List (1993)\",298],[319,\"Everyone Says I Love You (1996)\",168],[320,\"Paradise Lost: The Child Murders at Robin Hood Hills (1996)\",20],[321,\"Mother (1996)\",169],[322,\"Murder at 1600 (1997)\",218],[323,\"Dante's Peak (1997)\",240],[324,\"Lost Highway (1997)\",125],[325,\"Crash (1996)\",128],[326,\"G.I. Jane (1997)\",175],[327,\"Cop Land (1997)\",175],[328,\"Conspiracy Theory (1997)\",295],[329,\"Desperate Measures (1998)\",45],[330,\"187 (1997)\",41],[331,\"Edge, The (1997)\",113],[332,\"Kiss the Girls (1997)\",143],[333,\"Game, The (1997)\",251],[334,\"U Turn (1997)\",64],[335,\"How to Be a Player (1997)\",21],[336,\"Playing God (1997)\",43],[337,\"House of Yes, The (1997)\",18],[338,\"Bean (1997)\",91],[339,\"Mad City (1997)\",47],[340,\"Boogie Nights (1997)\",189],[341,\"Critical Care (1997)\",11],[342,\"Man Who Knew Too Little, The (1997)\",52],[343,\"Alien: Resurrection (1997)\",124],[344,\"Apostle, The (1997)\",55],[345,\"Deconstructing Harry (1997)\",65],[346,\"Jackie Brown (1997)\",126],[347,\"Wag the Dog (1997)\",137],[348,\"Desperate Measures (1998)\",27],[349,\"Hard Rain (1998)\",31],[350,\"Fallen (1998)\",41],[351,\"Prophecy II, The (1998)\",20],[352,\"Spice World (1997)\",26],[353,\"Deep Rising (1998)\",14],[354,\"Wedding Singer, The (1998)\",72],[355,\"Sphere (1998)\",41],[356,\"Client, The (1994)\",97],[357,\"One Flew Over the Cuckoo's Nest (1975)\",264],[358,\"Spawn (1997)\",143],[359,\"Assignment, The (1997)\",18],[360,\"Wonderland (1997)\",10],[361,\"Incognito (1997)\",10],[362,\"Blues Brothers 2000 (1998)\",28],[363,\"Sudden Death (1995)\",47],[364,\"Ace Ventura: When Nature Calls (1995)\",37],[365,\"Powder (1995)\",48],[366,\"Dangerous Minds (1995)\",47],[367,\"Clueless (1995)\",170],[368,\"Bio-Dome (1996)\",31],[369,\"Black Sheep (1996)\",55],[370,\"Mary Reilly (1996)\",39],[371,\"Bridges of Madison County, The (1995)\",67],[372,\"Jeffrey (1995)\",34],[373,\"Judge Dredd (1995)\",39],[374,\"Mighty Morphin Power Rangers: The Movie (1995)\",11],[375,\"Showgirls (1995)\",23],[376,\"Houseguest (1994)\",24],[377,\"Heavyweights (1994)\",13],[378,\"Miracle on 34th Street (1994)\",101],[379,\"Tales From the Crypt Presents: Demon Knight (1995)\",43],[380,\"Star Trek: Generations (1994)\",116],[381,\"Muriel's Wedding (1994)\",100],[382,\"Adventures of Priscilla, Queen of the Desert, The (1994)\",111],[383,\"Flintstones, The (1994)\",31],[384,\"Naked Gun 33 1\\u002f3: The Final Insult (1994)\",69],[385,\"True Lies (1994)\",208],[386,\"Addams Family Values (1993)\",87],[387,\"Age of Innocence, The (1993)\",65],[388,\"Beverly Hills Cop III (1994)\",28],[389,\"Black Beauty (1994)\",27],[390,\"Fear of a Black Hat (1993)\",10],[391,\"Last Action Hero (1993)\",59],[392,\"Man Without a Face, The (1993)\",68],[393,\"Mrs. Doubtfire (1993)\",192],[394,\"Radioland Murders (1994)\",12],[395,\"Robin Hood: Men in Tights (1993)\",56],[396,\"Serial Mom (1994)\",54],[397,\"Striking Distance (1993)\",12],[398,\"Super Mario Bros. (1993)\",26],[399,\"Three Musketeers, The (1993)\",89],[400,\"Little Rascals, The (1994)\",18],[401,\"Brady Bunch Movie, The (1995)\",76],[402,\"Ghost (1990)\",170],[403,\"Batman (1989)\",201],[404,\"Pinocchio (1940)\",101],[405,\"Mission: Impossible (1996)\",344],[406,\"Thinner (1996)\",49],[407,\"Spy Hard (1996)\",43],[408,\"Close Shave, A (1995)\",112],[409,\"Jack (1996)\",70],[410,\"Kingpin (1996)\",162],[411,\"Nutty Professor, The (1996)\",163],[412,\"Very Brady Sequel, A (1996)\",93],[413,\"Tales from the Crypt Presents: Bordello of Blood (1996)\",55],[414,\"My Favorite Year (1982)\",62],[415,\"Apple Dumpling Gang, The (1975)\",25],[416,\"Old Yeller (1957)\",64],[417,\"Parent Trap, The (1961)\",73],[418,\"Cinderella (1950)\",129],[419,\"Mary Poppins (1964)\",178],[420,\"Alice in Wonderland (1951)\",81],[421,\"William Shakespeare's Romeo and Juliet (1996)\",106],[422,\"Aladdin and the King of Thieves (1996)\",26],[423,\"E.T. the Extra-Terrestrial (1982)\",300],[424,\"Children of the Corn: The Gathering (1996)\",19],[425,\"Bob Roberts (1992)\",85],[426,\"Transformers: The Movie, The (1986)\",32],[427,\"To Kill a Mockingbird (1962)\",219],[428,\"Harold and Maude (1971)\",121],[429,\"Day the Earth Stood Still, The (1951)\",97],[430,\"Duck Soup (1933)\",93],[431,\"Highlander (1986)\",153],[432,\"Fantasia (1940)\",174],[433,\"Heathers (1989)\",171],[434,\"Forbidden Planet (1956)\",67],[435,\"Butch Cassidy and the Sundance Kid (1969)\",216],[436,\"American Werewolf in London, An (1981)\",99],[437,\"Amityville 1992: It's About Time (1992)\",5],[438,\"Amityville 3-D (1983)\",6],[439,\"Amityville: A New Generation (1993)\",5],[440,\"Amityville II: The Possession (1982)\",14],[441,\"Amityville Horror, The (1979)\",53],[442,\"Amityville Curse, The (1990)\",4],[443,\"Birds, The (1963)\",162],[444,\"Blob, The (1958)\",46],[445,\"Body Snatcher, The (1945)\",22],[446,\"Burnt Offerings (1976)\",9],[447,\"Carrie (1976)\",121],[448,\"Omen, The (1976)\",85],[449,\"Star Trek: The Motion Picture (1979)\",117],[450,\"Star Trek V: The Final Frontier (1989)\",63],[451,\"Grease (1978)\",170],[452,\"Jaws 2 (1978)\",66],[453,\"Jaws 3-D (1983)\",16],[454,\"Bastard Out of Carolina (1996)\",16],[455,\"Jackie Chan's First Strike (1996)\",145],[456,\"Beverly Hills Ninja (1997)\",48],[457,\"Free Willy 3: The Rescue (1997)\",27],[458,\"Nixon (1995)\",90],[459,\"Cry, the Beloved Country (1995)\",24],[460,\"Crossing Guard, The (1995)\",28],[461,\"Smoke (1995)\",74],[462,\"Like Water For Chocolate (Como agua para chocolate) (1992)\",148],[463,\"Secret of Roan Inish, The (1994)\",71],[464,\"Vanya on 42nd Street (1994)\",27],[465,\"Jungle Book, The (1994)\",85],[466,\"Red Rock West (1992)\",52],[467,\"Bronx Tale, A (1993)\",48],[468,\"Rudy (1993)\",64],[469,\"Short Cuts (1993)\",67],[470,\"Tombstone (1993)\",108],[471,\"Courage Under Fire (1996)\",221],[472,\"Dragonheart (1996)\",158],[473,\"James and the Giant Peach (1996)\",126],[474,\"Dr. Strangelove or: How I Learned to Stop Worrying and Love the Bomb (1963)\",194],[475,\"Trainspotting (1996)\",250],[476,\"First Wives Club, The (1996)\",160],[477,\"Matilda (1996)\",95],[478,\"Philadelphia Story, The (1940)\",104],[479,\"Vertigo (1958)\",179],[480,\"North by Northwest (1959)\",179],[481,\"Apartment, The (1960)\",63],[482,\"Some Like It Hot (1959)\",128],[483,\"Casablanca (1942)\",243],[484,\"Maltese Falcon, The (1941)\",138],[485,\"My Fair Lady (1964)\",125],[486,\"Sabrina (1954)\",64],[487,\"Roman Holiday (1953)\",68],[488,\"Sunset Blvd. (1950)\",65],[489,\"Notorious (1946)\",52],[490,\"To Catch a Thief (1955)\",50],[491,\"Adventures of Robin Hood, The (1938)\",67],[492,\"East of Eden (1955)\",59],[493,\"Thin Man, The (1934)\",60],[494,\"His Girl Friday (1940)\",56],[495,\"Around the World in 80 Days (1956)\",59],[496,\"It's a Wonderful Life (1946)\",231],[497,\"Bringing Up Baby (1938)\",68],[498,\"African Queen, The (1951)\",152],[499,\"Cat on a Hot Tin Roof (1958)\",62],[500,\"Fly Away Home (1996)\",31],[501,\"Dumbo (1941)\",123],[502,\"Bananas (1971)\",57],[503,\"Candidate, The (1972)\",39],[504,\"Bonnie and Clyde (1967)\",122],[505,\"Dial M for Murder (1954)\",68],[506,\"Rebel Without a Cause (1955)\",90],[507,\"Streetcar Named Desire, A (1951)\",98],[508,\"People vs. Larry Flynt, The (1996)\",215],[509,\"My Left Foot (1989)\",121],[510,\"Magnificent Seven, The (1954)\",121],[511,\"Lawrence of Arabia (1962)\",173],[512,\"Wings of Desire (1987)\",57],[513,\"Third Man, The (1949)\",72],[514,\"Annie Hall (1977)\",180],[515,\"Boot, Das (1981)\",201],[516,\"Local Hero (1983)\",63],[517,\"Manhattan (1979)\",91],[518,\"Miller's Crossing (1990)\",89],[519,\"Treasure of the Sierra Madre, The (1948)\",80],[520,\"Great Escape, The (1963)\",124],[521,\"Deer Hunter, The (1978)\",120],[522,\"Down by Law (1986)\",35],[523,\"Cool Hand Luke (1967)\",164],[524,\"Great Dictator, The (1940)\",46],[525,\"Big Sleep, The (1946)\",73],[526,\"Ben-Hur (1959)\",124],[527,\"Gandhi (1982)\",195],[528,\"Killing Fields, The (1984)\",121],[529,\"My Life as a Dog (Mitt liv som hund) (1985)\",93],[530,\"Man Who Would Be King, The (1975)\",80],[531,\"Shine (1996)\",129],[532,\"Kama Sutra: A Tale of Love (1996)\",22],[533,\"Daytrippers, The (1996)\",15],[534,\"Traveller (1997)\",13],[535,\"Addicted to Love (1997)\",54],[536,\"Ponette (1996)\",10],[537,\"My Own Private Idaho (1991)\",30],[538,\"Anastasia (1997)\",66],[539,\"Mouse Hunt (1997)\",44],[540,\"Money Train (1995)\",43],[541,\"Mortal Kombat (1995)\",49],[542,\"Pocahontas (1995)\",51],[543,\"Mis\\u00e9rables, Les (1995)\",21],[544,\"Things to Do in Denver when You're Dead (1995)\",71],[545,\"Vampire in Brooklyn (1995)\",12],[546,\"Broken Arrow (1996)\",254],[547,\"Young Poisoner's Handbook, The (1995)\",41],[548,\"NeverEnding Story III, The (1994)\",12],[549,\"Rob Roy (1995)\",92],[550,\"Die Hard: With a Vengeance (1995)\",151],[551,\"Lord of Illusions (1995)\",24],[552,\"Species (1995)\",45],[553,\"Walk in the Clouds, A (1995)\",63],[554,\"Waterworld (1995)\",102],[555,\"White Man's Burden (1995)\",10],[556,\"Wild Bill (1995)\",12],[557,\"Farinelli: il castrato (1994)\",17],[558,\"Heavenly Creatures (1994)\",70],[559,\"Interview with the Vampire (1994)\",137],[560,\"Kid in King Arthur's Court, A (1995)\",22],[561,\"Mary Shelley's Frankenstein (1994)\",59],[562,\"Quick and the Dead, The (1995)\",48],[563,\"Stephen King's The Langoliers (1995)\",29],[564,\"Tales from the Hood (1995)\",27],[565,\"Village of the Damned (1995)\",22],[566,\"Clear and Present Danger (1994)\",179],[567,\"Wes Craven's New Nightmare (1994)\",35],[568,\"Speed (1994)\",230],[569,\"Wolf (1994)\",67],[570,\"Wyatt Earp (1994)\",50],[571,\"Another Stakeout (1993)\",28],[572,\"Blown Away (1994)\",29],[573,\"Body Snatchers (1993)\",33],[574,\"Boxing Helena (1993)\",15],[575,\"City Slickers II: The Legend of Curly's Gold (1994)\",44],[576,\"Cliffhanger (1993)\",93],[577,\"Coneheads (1993)\",41],[578,\"Demolition Man (1993)\",92],[579,\"Fatal Instinct (1993)\",19],[580,\"Englishman Who Went Up a Hill, But Came Down a Mountain, The (1995)\",32],[581,\"Kalifornia (1993)\",59],[582,\"Piano, The (1993)\",168],[583,\"Romeo Is Bleeding (1993)\",37],[584,\"Secret Garden, The (1993)\",79],[585,\"Son in Law (1993)\",39],[586,\"Terminal Velocity (1994)\",34],[587,\"Hour of the Pig, The (1993)\",14],[588,\"Beauty and the Beast (1991)\",202],[589,\"Wild Bunch, The (1969)\",43],[590,\"Hellraiser: Bloodline (1996)\",18],[591,\"Primal Fear (1996)\",178],[592,\"True Crime (1995)\",9],[593,\"Stalingrad (1993)\",12],[594,\"Heavy (1995)\",5],[595,\"Fan, The (1996)\",64],[596,\"Hunchback of Notre Dame, The (1996)\",127],[597,\"Eraser (1996)\",206],[598,\"Big Squeeze, The (1996)\",4],[599,\"Police Story 4: Project S (Chao ji ji hua) (1993)\",1],[600,\"Daniel Defoe's Robinson Crusoe (1996)\",2],[601,\"For Whom the Bell Tolls (1943)\",20],[602,\"American in Paris, An (1951)\",50],[603,\"Rear Window (1954)\",209],[604,\"It Happened One Night (1934)\",81],[605,\"Meet Me in St. Louis (1944)\",31],[606,\"All About Eve (1950)\",66],[607,\"Rebecca (1940)\",66],[608,\"Spellbound (1945)\",30],[609,\"Father of the Bride (1950)\",60],[610,\"Gigi (1958)\",41],[611,\"Laura (1944)\",40],[612,\"Lost Horizon (1937)\",34],[613,\"My Man Godfrey (1936)\",27],[614,\"Giant (1956)\",51],[615,\"39 Steps, The (1935)\",59],[616,\"Night of the Living Dead (1968)\",64],[617,\"Blue Angel, The (Blaue Engel, Der) (1930)\",18],[618,\"Picnic (1955)\",18],[619,\"Extreme Measures (1996)\",64],[620,\"Chamber, The (1996)\",43],[621,\"Davy Crockett, King of the Wild Frontier (1955)\",11],[622,\"Swiss Family Robinson (1960)\",39],[623,\"Angels in the Outfield (1994)\",39],[624,\"Three Caballeros, The (1945)\",22],[625,\"Sword in the Stone, The (1963)\",82],[626,\"So Dear to My Heart (1949)\",4],[627,\"Robin Hood: Prince of Thieves (1991)\",75],[628,\"Sleepers (1996)\",169],[629,\"Victor\\u002fVictoria (1982)\",77],[630,\"Great Race, The (1965)\",31],[631,\"Crying Game, The (1992)\",119],[632,\"Sophie's Choice (1982)\",58],[633,\"Christmas Carol, A (1938)\",69],[634,\"Microcosmos: Le peuple de l'herbe (1996)\",24],[635,\"Fog, The (1980)\",23],[636,\"Escape from New York (1981)\",91],[637,\"Howling, The (1981)\",38],[638,\"Return of Martin Guerre, The (Retour de Martin Guerre, Le) (1982)\",44],[639,\"Tin Drum, The (Blechtrommel, Die) (1979)\",40],[640,\"Cook the Thief His Wife & Her Lover, The (1989)\",82],[641,\"Paths of Glory (1957)\",33],[642,\"Grifters, The (1990)\",89],[643,\"The Innocent (1994)\",4],[644,\"Thin Blue Line, The (1988)\",35],[645,\"Paris Is Burning (1990)\",27],[646,\"Once Upon a Time in the West (1969)\",38],[647,\"Ran (1985)\",70],[648,\"Quiet Man, The (1952)\",67],[649,\"Once Upon a Time in America (1984)\",50],[650,\"Seventh Seal, The (Sjunde inseglet, Det) (1957)\",72],[651,\"Glory (1989)\",171],[652,\"Rosencrantz and Guildenstern Are Dead (1990)\",90],[653,\"Touch of Evil (1958)\",34],[654,\"Chinatown (1974)\",147],[655,\"Stand by Me (1986)\",227],[656,\"M (1931)\",44],[657,\"Manchurian Candidate, The (1962)\",131],[658,\"Pump Up the Volume (1990)\",79],[659,\"Arsenic and Old Lace (1944)\",115],[660,\"Fried Green Tomatoes (1991)\",153],[661,\"High Noon (1952)\",88],[662,\"Somewhere in Time (1980)\",82],[663,\"Being There (1979)\",116],[664,\"Paris, Texas (1984)\",46],[665,\"Alien 3 (1992)\",100],[666,\"Blood For Dracula (Andy Warhol's Dracula) (1974)\",5],[667,\"Audrey Rose (1977)\",12],[668,\"Blood Beach (1981)\",6],[669,\"Body Parts (1991)\",13],[670,\"Body Snatchers (1993)\",36],[671,\"Bride of Frankenstein (1935)\",46],[672,\"Candyman (1992)\",65],[673,\"Cape Fear (1962)\",86],[674,\"Cat People (1982)\",48],[675,\"Nosferatu (Nosferatu, eine Symphonie des Grauens) (1922)\",54],[676,\"Crucible, The (1996)\",77],[677,\"Fire on the Mountain (1996)\",1],[678,\"Volcano (1997)\",219],[679,\"Conan the Barbarian (1981)\",107],[680,\"Kull the Conqueror (1997)\",34],[681,\"Wishmaster (1997)\",27],[682,\"I Know What You Did Last Summer (1997)\",100],[683,\"Rocket Man (1997)\",49],[684,\"In the Line of Fire (1993)\",169],[685,\"Executive Decision (1996)\",157],[686,\"Perfect World, A (1993)\",50],[687,\"McHale's Navy (1997)\",69],[688,\"Leave It to Beaver (1997)\",44],[689,\"Jackal, The (1997)\",87],[690,\"Seven Years in Tibet (1997)\",155],[691,\"Dark City (1998)\",16],[692,\"American President, The (1995)\",164],[693,\"Casino (1995)\",91],[694,\"Persuasion (1995)\",44],[695,\"Kicking and Screaming (1995)\",13],[696,\"City Hall (1996)\",79],[697,\"Basketball Diaries, The (1995)\",40],[698,\"Browning Version, The (1994)\",10],[699,\"Little Women (1994)\",102],[700,\"Miami Rhapsody (1995)\",15],[701,\"Wonderful, Horrible Life of Leni Riefenstahl, The (1993)\",10],[702,\"Barcelona (1994)\",53],[703,\"Widows' Peak (1994)\",19],[704,\"House of the Spirits, The (1993)\",24],[705,\"Singin' in the Rain (1952)\",137],[706,\"Bad Moon (1996)\",6],[707,\"Enchanted April (1991)\",70],[708,\"Sex, Lies, and Videotape (1989)\",101],[709,\"Strictly Ballroom (1992)\",104],[710,\"Better Off Dead... (1985)\",79],[711,\"Substance of Fire, The (1996)\",1],[712,\"Tin Men (1987)\",51],[713,\"Othello (1995)\",72],[714,\"Carrington (1995)\",13],[715,\"To Die For (1995)\",87],[716,\"Home for the Holidays (1995)\",58],[717,\"Juror, The (1996)\",82],[718,\"In the Bleak Midwinter (1995)\",16],[719,\"Canadian Bacon (1994)\",29],[720,\"First Knight (1995)\",86],[721,\"Mallrats (1995)\",54],[722,\"Nine Months (1995)\",58],[723,\"Boys on the Side (1995)\",34],[724,\"Circle of Friends (1995)\",76],[725,\"Exit to Eden (1994)\",16],[726,\"Fluke (1995)\",14],[727,\"Immortal Beloved (1994)\",63],[728,\"Junior (1994)\",45],[729,\"Nell (1994)\",81],[730,\"Queen Margot (Reine Margot, La) (1994)\",24],[731,\"Corrina, Corrina (1994)\",39],[732,\"Dave (1993)\",180],[733,\"Go Fish (1994)\",15],[734,\"Made in America (1993)\",27],[735,\"Philadelphia (1993)\",137],[736,\"Shadowlands (1993)\",78],[737,\"Sirens (1994)\",59],[738,\"Threesome (1994)\",31],[739,\"Pretty Woman (1990)\",164],[740,\"Jane Eyre (1996)\",63],[741,\"Last Supper, The (1995)\",58],[742,\"Ransom (1996)\",267],[743,\"Crow: City of Angels, The (1996)\",39],[744,\"Michael Collins (1996)\",92],[745,\"Ruling Class, The (1972)\",16],[746,\"Real Genius (1985)\",119],[747,\"Benny & Joon (1993)\",102],[748,\"Saint, The (1997)\",316],[749,\"MatchMaker, The (1997)\",51],[750,\"Amistad (1997)\",124],[751,\"Tomorrow Never Dies (1997)\",180],[752,\"Replacement Killers, The (1998)\",39],[753,\"Burnt By the Sun (1994)\",24],[754,\"Red Corner (1997)\",57],[755,\"Jumanji (1995)\",96],[756,\"Father of the Bride Part II (1995)\",128],[757,\"Across the Sea of Time (1995)\",4],[758,\"Lawnmower Man 2: Beyond Cyberspace (1996)\",21],[759,\"Fair Game (1995)\",11],[760,\"Screamers (1995)\",46],[761,\"Nick of Time (1995)\",44],[762,\"Beautiful Girls (1996)\",115],[763,\"Happy Gilmore (1996)\",149],[764,\"If Lucy Fell (1996)\",29],[765,\"Boomerang (1992)\",32],[766,\"Man of the Year (1995)\",9],[767,\"Addiction, The (1995)\",11],[768,\"Casper (1995)\",52],[769,\"Congo (1995)\",42],[770,\"Devil in a Blue Dress (1995)\",57],[771,\"Johnny Mnemonic (1995)\",41],[772,\"Kids (1995)\",49],[773,\"Mute Witness (1994)\",17],[774,\"Prophecy, The (1995)\",32],[775,\"Something to Talk About (1995)\",26],[776,\"Three Wishes (1995)\",9],[777,\"Castle Freak (1995)\",4],[778,\"Don Juan DeMarco (1995)\",76],[779,\"Drop Zone (1994)\",31],[780,\"Dumb & Dumber (1994)\",69],[781,\"French Kiss (1995)\",84],[782,\"Little Odessa (1994)\",10],[783,\"Milk Money (1994)\",37],[784,\"Beyond Bedlam (1993)\",2],[785,\"Only You (1994)\",39],[786,\"Perez Family, The (1995)\",14],[787,\"Roommates (1995)\",13],[788,\"Relative Fear (1994)\",3],[789,\"Swimming with Sharks (1995)\",47],[790,\"Tommy Boy (1995)\",66],[791,\"Baby-Sitters Club, The (1995)\",10],[792,\"Bullets Over Broadway (1994)\",86],[793,\"Crooklyn (1994)\",10],[794,\"It Could Happen to You (1994)\",46],[795,\"Richie Rich (1994)\",21],[796,\"Speechless (1994)\",36],[797,\"Timecop (1994)\",31],[798,\"Bad Company (1995)\",9],[799,\"Boys Life (1995)\",5],[800,\"In the Mouth of Madness (1995)\",26],[801,\"Air Up There, The (1994)\",16],[802,\"Hard Target (1993)\",40],[803,\"Heaven & Earth (1993)\",9],[804,\"Jimmy Hollywood (1994)\",8],[805,\"Manhattan Murder Mystery (1993)\",27],[806,\"Menace II Society (1993)\",50],[807,\"Poetic Justice (1993)\",9],[808,\"Program, The (1993)\",31],[809,\"Rising Sun (1993)\",43],[810,\"Shadow, The (1994)\",45],[811,\"Thirty-Two Short Films About Glenn Gould (1993)\",18],[812,\"Andre (1994)\",18],[813,\"Celluloid Closet, The (1995)\",56],[814,\"Great Day in Harlem, A (1994)\",1],[815,\"One Fine Day (1996)\",112],[816,\"Candyman: Farewell to the Flesh (1995)\",21],[817,\"Frisk (1995)\",3],[818,\"Girl 6 (1996)\",25],[819,\"Eddie (1996)\",40],[820,\"Space Jam (1996)\",93],[821,\"Mrs. Winterbourne (1996)\",22],[822,\"Faces (1968)\",4],[823,\"Mulholland Falls (1996)\",82],[824,\"Great White Hype, The (1996)\",49],[825,\"Arrival, The (1996)\",83],[826,\"Phantom, The (1996)\",80],[827,\"Daylight (1996)\",57],[828,\"Alaska (1996)\",13],[829,\"Fled (1996)\",34],[830,\"Power 98 (1995)\",1],[831,\"Escape from L.A. (1996)\",91],[832,\"Bogus (1996)\",22],[833,\"Bulletproof (1996)\",49],[834,\"Halloween: The Curse of Michael Myers (1995)\",25],[835,\"Gay Divorcee, The (1934)\",15],[836,\"Ninotchka (1939)\",26],[837,\"Meet John Doe (1941)\",25],[838,\"In the Line of Duty 2 (1987)\",4],[839,\"Loch Ness (1995)\",4],[840,\"Last Man Standing (1996)\",53],[841,\"Glimmer Man, The (1996)\",48],[842,\"Pollyanna (1960)\",27],[843,\"Shaggy Dog, The (1959)\",30],[844,\"Freeway (1996)\",42],[845,\"That Thing You Do! (1996)\",176],[846,\"To Gillian on Her 37th Birthday (1996)\",44],[847,\"Looking for Richard (1996)\",55],[848,\"Murder, My Sweet (1944)\",9],[849,\"Days of Thunder (1990)\",53],[850,\"Perfect Candidate, A (1996)\",4],[851,\"Two or Three Things I Know About Her (1966)\",4],[852,\"Bloody Child, The (1996)\",1],[853,\"Braindead (1992)\",14],[854,\"Bad Taste (1987)\",16],[855,\"Diva (1981)\",66],[856,\"Night on Earth (1991)\",36],[857,\"Paris Was a Woman (1995)\",1],[858,\"Amityville: Dollhouse (1996)\",3],[859,\"April Fool's Day (1986)\",15],[860,\"Believers, The (1987)\",16],[861,\"Nosferatu a Venezia (1986)\",3],[862,\"Jingle All the Way (1996)\",18],[863,\"Garden of Finzi-Contini, The (Giardino dei Finzi-Contini, Il) (1970)\",24],[864,\"My Fellow Americans (1996)\",86],[865,\"Ice Storm, The (1997)\",21],[866,\"Michael (1996)\",119],[867,\"Whole Wide World, The (1996)\",6],[868,\"Hearts and Minds (1996)\",5],[869,\"Fools Rush In (1997)\",24],[870,\"Touch (1997)\",9],[871,\"Vegas Vacation (1997)\",75],[872,\"Love Jones (1997)\",42],[873,\"Picture Perfect (1997)\",81],[874,\"Career Girls (1997)\",39],[875,\"She's So Lovely (1997)\",53],[876,\"Money Talks (1997)\",47],[877,\"Excess Baggage (1997)\",52],[878,\"That Darn Cat! (1997)\",33],[879,\"Peacemaker, The (1997)\",136],[880,\"Soul Food (1997)\",59],[881,\"Money Talks (1997)\",45],[882,\"Washington Square (1997)\",34],[883,\"Telling Lies in America (1997)\",13],[884,\"Year of the Horse (1997)\",7],[885,\"Phantoms (1998)\",13],[886,\"Life Less Ordinary, A (1997)\",53],[887,\"Eve's Bayou (1997)\",64],[888,\"One Night Stand (1997)\",15],[889,\"Tango Lesson, The (1997)\",13],[890,\"Mortal Kombat: Annihilation (1997)\",43],[891,\"Bent (1997)\",6],[892,\"Flubber (1997)\",53],[893,\"For Richer or Poorer (1997)\",14],[894,\"Home Alone 3 (1997)\",19],[895,\"Scream 2 (1997)\",106],[896,\"Sweet Hereafter, The (1997)\",44],[897,\"Time Tracers (1995)\",2],[898,\"Postman, The (1997)\",58],[899,\"Winter Guest, The (1997)\",9],[900,\"Kundun (1997)\",42],[901,\"Mr. Magoo (1997)\",12],[902,\"Big Lebowski, The (1998)\",42],[903,\"Afterglow (1997)\",18],[904,\"Ma vie en rose (My Life in Pink) (1997)\",20],[905,\"Great Expectations (1998)\",27],[906,\"Oscar & Lucinda (1997)\",21],[907,\"Vermin (1998)\",2],[908,\"Half Baked (1998)\",20],[909,\"Dangerous Beauty (1998)\",13],[910,\"Nil By Mouth (1997)\",4],[911,\"Twilight (1998)\",4],[912,\"U.S. Marshalls (1998)\",9],[913,\"Love and Death on Long Island (1997)\",2],[914,\"Wild Things (1998)\",11],[915,\"Primary Colors (1998)\",13],[916,\"Lost in Space (1998)\",18],[917,\"Mercury Rising (1998)\",7],[918,\"City of Angels (1998)\",8],[919,\"City of Lost Children, The (1995)\",96],[920,\"Two Bits (1995)\",5],[921,\"Farewell My Concubine (1993)\",46],[922,\"Dead Man (1995)\",34],[923,\"Raise the Red Lantern (1991)\",58],[924,\"White Squall (1996)\",85],[925,\"Unforgettable (1996)\",34],[926,\"Down Periscope (1996)\",101],[927,\"Flower of My Secret, The (Flor de mi secreto, La) (1995)\",6],[928,\"Craft, The (1996)\",104],[929,\"Harriet the Spy (1996)\",40],[930,\"Chain Reaction (1996)\",80],[931,\"Island of Dr. Moreau, The (1996)\",57],[932,\"First Kid (1996)\",40],[933,\"Funeral, The (1996)\",21],[934,\"Preacher's Wife, The (1996)\",68],[935,\"Paradise Road (1997)\",7],[936,\"Brassed Off (1996)\",32],[937,\"Thousand Acres, A (1997)\",37],[938,\"Smile Like Yours, A (1997)\",25],[939,\"Murder in the First (1995)\",60],[940,\"Airheads (1994)\",32],[941,\"With Honors (1994)\",46],[942,\"What's Love Got to Do with It (1993)\",45],[943,\"Killing Zoe (1994)\",40],[944,\"Renaissance Man (1994)\",43],[945,\"Charade (1963)\",40],[946,\"Fox and the Hound, The (1981)\",61],[947,\"Big Blue, The (Grand bleu, Le) (1988)\",17],[948,\"Booty Call (1997)\",48],[949,\"How to Make an American Quilt (1995)\",71],[950,\"Georgia (1995)\",30],[951,\"Indian in the Cupboard, The (1995)\",39],[952,\"Blue in the Face (1995)\",45],[953,\"Unstrung Heroes (1995)\",22],[954,\"Unzipped (1995)\",11],[955,\"Before Sunrise (1995)\",49],[956,\"Nobody's Fool (1994)\",46],[957,\"Pushing Hands (1992)\",2],[958,\"To Live (Huozhe) (1994)\",14],[959,\"Dazed and Confused (1993)\",64],[960,\"Naked (1993)\",25],[961,\"Orlando (1993)\",34],[962,\"Ruby in Paradise (1993)\",23],[963,\"Some Folks Call It a Sling Blade (1993)\",41],[964,\"Month by the Lake, A (1995)\",9],[965,\"Funny Face (1957)\",21],[966,\"Affair to Remember, An (1957)\",26],[967,\"Little Lord Fauntleroy (1936)\",12],[968,\"Inspector General, The (1949)\",18],[969,\"Winnie the Pooh and the Blustery Day (1968)\",75],[970,\"Hear My Song (1991)\",8],[971,\"Mediterraneo (1991)\",34],[972,\"Passion Fish (1992)\",28],[973,\"Grateful Dead (1995)\",4],[974,\"Eye for an Eye (1996)\",32],[975,\"Fear (1996)\",44],[976,\"Solo (1996)\",12],[977,\"Substitute, The (1996)\",49],[978,\"Heaven's Prisoners (1996)\",27],[979,\"Trigger Effect, The (1996)\",35],[980,\"Mother Night (1996)\",22],[981,\"Dangerous Ground (1997)\",8],[982,\"Maximum Risk (1996)\",20],[983,\"Rich Man's Wife, The (1996)\",15],[984,\"Shadow Conspiracy (1997)\",44],[985,\"Blood & Wine (1997)\",22],[986,\"Turbulence (1997)\",23],[987,\"Underworld (1997)\",4],[988,\"Beautician and the Beast, The (1997)\",86],[989,\"Cats Don't Dance (1997)\",32],[990,\"Anna Karenina (1997)\",33],[991,\"Keys to Tulsa (1997)\",25],[992,\"Head Above Water (1996)\",4],[993,\"Hercules (1997)\",66],[994,\"Last Time I Committed Suicide, The (1997)\",7],[995,\"Kiss Me, Guido (1997)\",31],[996,\"Big Green, The (1995)\",14],[997,\"Stuart Saves His Family (1995)\",16],[998,\"Cabin Boy (1994)\",16],[999,\"Clean Slate (1994)\",10],[1000,\"Lightning Jack (1994)\",10],[1001,\"Stupids, The (1996)\",17],[1002,\"Pest, The (1997)\",8],[1003,\"That Darn Cat! (1997)\",8],[1004,\"Geronimo: An American Legend (1993)\",9],[1005,\"Double vie de V\\u00e9ronique, La (Double Life of Veronique, The) (1991)\",22],[1006,\"Until the End of the World (Bis ans Ende der Welt) (1991)\",23],[1007,\"Waiting for Guffman (1996)\",47],[1008,\"I Shot Andy Warhol (1996)\",37],[1009,\"Stealing Beauty (1996)\",64],[1010,\"Basquiat (1996)\",44],[1011,\"2 Days in the Valley (1996)\",93],[1012,\"Private Parts (1997)\",100],[1013,\"Anaconda (1997)\",38],[1014,\"Romy and Michele's High School Reunion (1997)\",98],[1015,\"Shiloh (1997)\",12],[1016,\"Con Air (1997)\",137],[1017,\"Trees Lounge (1996)\",50],[1018,\"Tie Me Up! Tie Me Down! (1990)\",32],[1019,\"Die xue shuang xiong (Killer, The) (1989)\",31],[1020,\"Gaslight (1944)\",35],[1021,\"8 1\\u002f2 (1963)\",38],[1022,\"Fast, Cheap & Out of Control (1997)\",32],[1023,\"Fathers' Day (1997)\",31],[1024,\"Mrs. Dalloway (1997)\",15],[1025,\"Fire Down Below (1997)\",44],[1026,\"Lay of the Land, The (1997)\",4],[1027,\"Shooter, The (1995)\",3],[1028,\"Grumpier Old Men (1995)\",148],[1029,\"Jury Duty (1995)\",14],[1030,\"Beverly Hillbillies, The (1993)\",20],[1031,\"Lassie (1994)\",7],[1032,\"Little Big League (1994)\",16],[1033,\"Homeward Bound II: Lost in San Francisco (1996)\",32],[1034,\"Quest, The (1996)\",27],[1035,\"Cool Runnings (1993)\",68],[1036,\"Drop Dead Fred (1991)\",24],[1037,\"Grease 2 (1982)\",24],[1038,\"Switchback (1997)\",17],[1039,\"Hamlet (1996)\",90],[1040,\"Two if by Sea (1996)\",25],[1041,\"Forget Paris (1995)\",62],[1042,\"Just Cause (1995)\",28],[1043,\"Rent-a-Kid (1995)\",8],[1044,\"Paper, The (1994)\",40],[1045,\"Fearless (1993)\",25],[1046,\"Malice (1993)\",46],[1047,\"Multiplicity (1996)\",134],[1048,\"She's the One (1996)\",73],[1049,\"House Arrest (1996)\",25],[1050,\"Ghost and Mrs. Muir, The (1947)\",43],[1051,\"Associate, The (1996)\",41],[1052,\"Dracula: Dead and Loving It (1995)\",25],[1053,\"Now and Then (1995)\",24],[1054,\"Mr. Wrong (1996)\",23],[1055,\"Simple Twist of Fate, A (1994)\",10],[1056,\"Cronos (1992)\",10],[1057,\"Pallbearer, The (1996)\",22],[1058,\"War, The (1994)\",15],[1059,\"Don't Be a Menace to South Central While Drinking Your Juice in the Hood (1996)\",35],[1060,\"Adventures of Pinocchio, The (1996)\",39],[1061,\"Evening Star, The (1996)\",29],[1062,\"Four Days in September (1997)\",12],[1063,\"Little Princess, A (1995)\",41],[1064,\"Crossfire (1947)\",4],[1065,\"Koyaanisqatsi (1983)\",53],[1066,\"Balto (1995)\",16],[1067,\"Bottle Rocket (1996)\",44],[1068,\"Star Maker, The (Uomo delle stelle, L') (1995)\",12],[1069,\"Amateur (1994)\",18],[1070,\"Living in Oblivion (1995)\",27],[1071,\"Party Girl (1995)\",16],[1072,\"Pyromaniac's Love Story, A (1995)\",7],[1073,\"Shallow Grave (1994)\",66],[1074,\"Reality Bites (1994)\",77],[1075,\"Man of No Importance, A (1994)\",7],[1076,\"Pagemaster, The (1994)\",12],[1077,\"Love and a .45 (1994)\",8],[1078,\"Oliver & Company (1988)\",22],[1079,\"Joe's Apartment (1996)\",45],[1080,\"Celestial Clockwork (1994)\",2],[1081,\"Curdled (1996)\",8],[1082,\"Female Perversions (1996)\",8],[1083,\"Albino Alligator (1996)\",6],[1084,\"Anne Frank Remembered (1995)\",21],[1085,\"Carried Away (1996)\",11],[1086,\"It's My Party (1995)\",21],[1087,\"Bloodsport 2 (1995)\",10],[1088,\"Double Team (1997)\",13],[1089,\"Speed 2: Cruise Control (1997)\",38],[1090,\"Sliver (1993)\",37],[1091,\"Pete's Dragon (1977)\",43],[1092,\"Dear God (1996)\",12],[1093,\"Live Nude Girls (1995)\",23],[1094,\"Thin Line Between Love and Hate, A (1996)\",12],[1095,\"High School High (1996)\",29],[1096,\"Commandments (1997)\",3],[1097,\"Hate (Haine, La) (1995)\",18],[1098,\"Flirting With Disaster (1996)\",42],[1099,\"Red Firecracker, Green Firecracker (1994)\",13],[1100,\"What Happened Was... (1994)\",8],[1101,\"Six Degrees of Separation (1993)\",74],[1102,\"Two Much (1996)\",7],[1103,\"Trust (1990)\",19],[1104,\"C'est arriv\\u00e9 pr\\u00e8s de chez vous (1992)\",4],[1105,\"Firestorm (1998)\",18],[1106,\"Newton Boys, The (1998)\",4],[1107,\"Beyond Rangoon (1995)\",18],[1108,\"Feast of July (1995)\",5],[1109,\"Death and the Maiden (1994)\",28],[1110,\"Tank Girl (1995)\",41],[1111,\"Double Happiness (1994)\",7],[1112,\"Cobb (1994)\",15],[1113,\"Mrs. Parker and the Vicious Circle (1994)\",22],[1114,\"Faithful (1996)\",10],[1115,\"Twelfth Night (1996)\",29],[1116,\"Mark of Zorro, The (1940)\",13],[1117,\"Surviving Picasso (1996)\",19],[1118,\"Up in Smoke (1978)\",47],[1119,\"Some Kind of Wonderful (1987)\",59],[1120,\"I'm Not Rappaport (1996)\",17],[1121,\"Umbrellas of Cherbourg, The (Parapluies de Cherbourg, Les) (1964)\",21],[1122,\"They Made Me a Criminal (1939)\",1],[1123,\"Last Time I Saw Paris, The (1954)\",3],[1124,\"Farewell to Arms, A (1932)\",12],[1125,\"Innocents, The (1961)\",4],[1126,\"Old Man and the Sea, The (1958)\",32],[1127,\"Truman Show, The (1998)\",11],[1128,\"Heidi Fleiss: Hollywood Madam (1995) \",13],[1129,\"Chungking Express (1994)\",28],[1130,\"Jupiter's Wife (1994)\",1],[1131,\"Safe (1995)\",13],[1132,\"Feeling Minnesota (1996)\",32],[1133,\"Escape to Witch Mountain (1975)\",30],[1134,\"Get on the Bus (1996)\",38],[1135,\"Doors, The (1991)\",46],[1136,\"Ghosts of Mississippi (1996)\",29],[1137,\"Beautiful Thing (1996)\",29],[1138,\"Best Men (1997)\",5],[1139,\"Hackers (1995)\",33],[1140,\"Road to Wellville, The (1994)\",17],[1141,\"War Room, The (1993)\",9],[1142,\"When We Were Kings (1996)\",44],[1143,\"Hard Eight (1996)\",15],[1144,\"Quiet Room, The (1996)\",3],[1145,\"Blue Chips (1994)\",9],[1146,\"Calendar Girl (1993)\",3],[1147,\"My Family (1995)\",21],[1148,\"Tom & Viv (1994)\",9],[1149,\"Walkabout (1971)\",26],[1150,\"Last Dance (1996)\",9],[1151,\"Original Gangstas (1996)\",7],[1152,\"In Love and War (1996)\",28],[1153,\"Backbeat (1993)\",19],[1154,\"Alphaville (1965)\",12],[1155,\"Rendezvous in Paris (Rendez-vous de Paris, Les) (1995)\",3],[1156,\"Cyclo (1995)\",1],[1157,\"Relic, The (1997)\",25],[1158,\"Fille seule, La (A Single Girl) (1995)\",4],[1159,\"Stalker (1979)\",11],[1160,\"Love! Valour! Compassion! (1997)\",26],[1161,\"Palookaville (1996)\",13],[1162,\"Phat Beach (1996)\",5],[1163,\"Portrait of a Lady, The (1996)\",25],[1164,\"Zeus and Roxanne (1997)\",6],[1165,\"Big Bully (1996)\",14],[1166,\"Love & Human Remains (1993)\",12],[1167,\"Sum of Us, The (1994)\",11],[1168,\"Little Buddha (1993)\",22],[1169,\"Fresh (1994)\",10],[1170,\"Spanking the Monkey (1994)\",27],[1171,\"Wild Reeds (1994)\",14],[1172,\"Women, The (1939)\",15],[1173,\"Bliss (1997)\",7],[1174,\"Caught (1996)\",8],[1175,\"Hugo Pool (1997)\",5],[1176,\"Welcome To Sarajevo (1997)\",22],[1177,\"Dunston Checks In (1996)\",7],[1178,\"Major Payne (1994)\",19],[1179,\"Man of the House (1995)\",9],[1180,\"I Love Trouble (1994)\",10],[1181,\"Low Down Dirty Shame, A (1994)\",10],[1182,\"Cops and Robbersons (1994)\",13],[1183,\"Cowboy Way, The (1994)\",19],[1184,\"Endless Summer 2, The (1994)\",10],[1185,\"In the Army Now (1994)\",18],[1186,\"Inkwell, The (1994)\",3],[1187,\"Switchblade Sisters (1975)\",13],[1188,\"Young Guns II (1990)\",44],[1189,\"Prefontaine (1997)\",3],[1190,\"That Old Feeling (1997)\",11],[1191,\"Letter From Death Row, A (1998)\",3],[1192,\"Boys of St. Vincent, The (1993)\",13],[1193,\"Before the Rain (Pred dozhdot) (1994)\",10],[1194,\"Once Were Warriors (1994)\",31],[1195,\"Strawberry and Chocolate (Fresa y chocolate) (1993)\",11],[1196,\"Savage Nights (Nuits fauves, Les) (1992)\",3],[1197,\"Family Thing, A (1996)\",45],[1198,\"Purple Noon (1960)\",7],[1199,\"Cemetery Man (Dellamorte Dellamore) (1994)\",23],[1200,\"Kim (1950)\",7],[1201,\"Marlene Dietrich: Shadow and Light (1996) \",1],[1202,\"Maybe, Maybe Not (Bewegte Mann, Der) (1994)\",8],[1203,\"Top Hat (1935)\",21],[1204,\"To Be or Not to Be (1942)\",18],[1205,\"Secret Agent, The (1996)\",6],[1206,\"Amos & Andrew (1993)\",19],[1207,\"Jade (1995)\",17],[1208,\"Kiss of Death (1995)\",20],[1209,\"Mixed Nuts (1994)\",15],[1210,\"Virtuosity (1995)\",38],[1211,\"Blue Sky (1994)\",12],[1212,\"Flesh and Bone (1993)\",6],[1213,\"Guilty as Sin (1993)\",6],[1214,\"In the Realm of the Senses (Ai no corrida) (1976)\",9],[1215,\"Barb Wire (1996)\",30],[1216,\"Kissed (1996)\",6],[1217,\"Assassins (1995)\",39],[1218,\"Friday (1995)\",26],[1219,\"Goofy Movie, A (1995)\",20],[1220,\"Higher Learning (1995)\",30],[1221,\"When a Man Loves a Woman (1994)\",39],[1222,\"Judgment Night (1993)\",25],[1223,\"King of the Hill (1993)\",4],[1224,\"Scout, The (1994)\",12],[1225,\"Angus (1995)\",14],[1226,\"Night Falls on Manhattan (1997)\",32],[1227,\"Awfully Big Adventure, An (1995)\",8],[1228,\"Under Siege 2: Dark Territory (1995)\",48],[1229,\"Poison Ivy II (1995)\",13],[1230,\"Ready to Wear (Pret-A-Porter) (1994)\",18],[1231,\"Marked for Death (1990)\",22],[1232,\"Madonna: Truth or Dare (1991)\",17],[1233,\"N\\u00e9nette et Boni (1996)\",6],[1234,\"Chairman of the Board (1998)\",8],[1235,\"Big Bang Theory, The (1994)\",1],[1236,\"Other Voices, Other Rooms (1997)\",1],[1237,\"Twisted (1996)\",6],[1238,\"Full Speed (1996)\",8],[1239,\"Cutthroat Island (1995)\",18],[1240,\"Ghost in the Shell (Kokaku kidotai) (1995)\",26],[1241,\"Van, The (1996)\",6],[1242,\"Old Lady Who Walked in the Sea, The (Vieille qui marchait dans la mer, La) (1991)\",5],[1243,\"Night Flier (1997)\",7],[1244,\"Metro (1997)\",36],[1245,\"Gridlock'd (1997)\",19],[1246,\"Bushwhacked (1995)\",7],[1247,\"Bad Girls (1994)\",6],[1248,\"Blink (1994)\",19],[1249,\"For Love or Money (1993)\",12],[1250,\"Best of the Best 3: No Turning Back (1995)\",6],[1251,\"A Chef in Love (1996)\",8],[1252,\"Contempt (M\\u00e9pris, Le) (1963)\",9],[1253,\"Tie That Binds, The (1995)\",7],[1254,\"Gone Fishin' (1997)\",11],[1255,\"Broken English (1996)\",8],[1256,\"Designated Mourner, The (1997)\",3],[1257,\"Designated Mourner, The (1997)\",4],[1258,\"Trial and Error (1997)\",23],[1259,\"Pie in the Sky (1995)\",4],[1260,\"Total Eclipse (1995)\",4],[1261,\"Run of the Country, The (1995)\",4],[1262,\"Walking and Talking (1996)\",8],[1263,\"Foxfire (1996)\",15],[1264,\"Nothing to Lose (1994)\",7],[1265,\"Star Maps (1997)\",19],[1266,\"Bread and Chocolate (Pane e cioccolata) (1973)\",12],[1267,\"Clockers (1995)\",33],[1268,\"Bitter Moon (1992)\",10],[1269,\"Love in the Afternoon (1957)\",10],[1270,\"Life with Mikey (1993)\",7],[1271,\"North (1994)\",7],[1272,\"Talking About Sex (1994)\",5],[1273,\"Color of Night (1994)\",15],[1274,\"Robocop 3 (1993)\",11],[1275,\"Killer (Bulletproof Heart) (1994)\",4],[1276,\"Sunset Park (1996)\",8],[1277,\"Set It Off (1996)\",19],[1278,\"Selena (1997)\",16],[1279,\"Wild America (1997)\",9],[1280,\"Gang Related (1997)\",16],[1281,\"Manny & Lo (1996)\",13],[1282,\"Grass Harp, The (1995)\",9],[1283,\"Out to Sea (1997)\",19],[1284,\"Before and After (1996)\",26],[1285,\"Princess Caraboo (1994)\",15],[1286,\"Shall We Dance? (1937)\",17],[1287,\"Ed (1996)\",6],[1288,\"Denise Calls Up (1995)\",7],[1289,\"Jack and Sarah (1995)\",7],[1290,\"Country Life (1994)\",2],[1291,\"Celtic Pride (1996)\",15],[1292,\"Simple Wish, A (1997)\",3],[1293,\"Star Kid (1997)\",3],[1294,\"Ayn Rand: A Sense of Life (1997)\",7],[1295,\"Kicked in the Head (1997)\",7],[1296,\"Indian Summer (1996)\",20],[1297,\"Love Affair (1994)\",12],[1298,\"Band Wagon, The (1953)\",9],[1299,\"Penny Serenade (1941)\",8],[1300,\"'Til There Was You (1997)\",9],[1301,\"Stripes (1981)\",5],[1302,\"Late Bloomers (1996)\",5],[1303,\"Getaway, The (1994)\",18],[1304,\"New York Cop (1996)\",2],[1305,\"National Lampoon's Senior Trip (1995)\",7],[1306,\"Delta of Venus (1994)\",2],[1307,\"Carmen Miranda: Bananas Is My Business (1994)\",2],[1308,\"Babyfever (1994)\",2],[1309,\"Very Natural Thing, A (1974)\",1],[1310,\"Walk in the Sun, A (1945)\",1],[1311,\"Waiting to Exhale (1995)\",16],[1312,\"Pompatus of Love, The (1996)\",7],[1313,\"Palmetto (1998)\",14],[1314,\"Surviving the Game (1994)\",11],[1315,\"Inventing the Abbotts (1997)\",23],[1316,\"Horse Whisperer, The (1998)\",7],[1317,\"Journey of August King, The (1995)\",4],[1318,\"Catwalk (1995)\",3],[1319,\"Neon Bible, The (1995)\",4],[1320,\"Homage (1995)\",1],[1321,\"Open Season (1996)\",2],[1322,\"Metisse (Caf\\u00e9 au Lait) (1993)\",6],[1323,\"Wooden Man's Bride, The (Wu Kui) (1994)\",3],[1324,\"Loaded (1994)\",5],[1325,\"August (1996)\",1],[1326,\"Boys (1996)\",6],[1327,\"Captives (1994)\",3],[1328,\"Of Love and Shadows (1994)\",6],[1329,\"Low Life, The (1994)\",1],[1330,\"An Unforgettable Summer (1994)\",4],[1331,\"Last Klezmer: Leopold Kozlowski, His Life and Music, The (1995)\",4],[1332,\"My Life and Times With Antonin Artaud (En compagnie d'Antonin Artaud) (1993)\",2],[1333,\"Midnight Dancers (Sibak) (1994)\",5],[1334,\"Somebody to Love (1994)\",2],[1335,\"American Buffalo (1996)\",11],[1336,\"Kazaam (1996)\",10],[1337,\"Larger Than Life (1996)\",9],[1338,\"Two Deaths (1995)\",4],[1339,\"Stefano Quantestorie (1993)\",1],[1340,\"Crude Oasis, The (1995)\",1],[1341,\"Hedd Wyn (1992)\",1],[1342,\"Convent, The (Convento, O) (1995)\",2],[1343,\"Lotto Land (1995)\",1],[1344,\"Story of Xinghua, The (1993)\",5],[1345,\"Day the Sun Turned Cold, The (Tianguo niezi) (1994)\",2],[1346,\"Dingo (1992)\",5],[1347,\"Ballad of Narayama, The (Narayama Bushiko) (1958)\",4],[1348,\"Every Other Weekend (1990)\",1],[1349,\"Mille bolle blu (1993)\",1],[1350,\"Crows and Sparrows (1949)\",2],[1351,\"Lover's Knot (1996)\",3],[1352,\"Shadow of Angels (Schatten der Engel) (1976)\",1],[1353,\"1-900 (1994)\",5],[1354,\"Venice\\u002fVenice (1992)\",2],[1355,\"Infinity (1996)\",6],[1356,\"Ed's Next Move (1996)\",3],[1357,\"For the Moment (1994)\",3],[1358,\"The Deadly Cure (1996)\",2],[1359,\"Boys in Venice (1996)\",2],[1360,\"Sexual Life of the Belgians, The (1994)\",2],[1361,\"Search for One-eye Jimmy, The (1996)\",3],[1362,\"American Strays (1996)\",2],[1363,\"Leopard Son, The (1996)\",1],[1364,\"Bird of Prey (1996)\",1],[1365,\"Johnny 100 Pesos (1993)\",2],[1366,\"JLG\\u002fJLG - autoportrait de d\\u00e9cembre (1994)\",1],[1367,\"Faust (1994)\",5],[1368,\"Mina Tannenbaum (1994)\",6],[1369,\"Forbidden Christ, The (Cristo proibito, Il) (1950)\",4],[1370,\"I Can't Sleep (J'ai pas sommeil) (1994)\",3],[1371,\"Machine, The (1994)\",2],[1372,\"Stranger, The (1994)\",3],[1373,\"Good Morning (1971)\",1],[1374,\"Falling in Love Again (1980)\",2],[1375,\"Cement Garden, The (1993)\",10],[1376,\"Meet Wally Sparks (1997)\",7],[1377,\"Hotel de Love (1996)\",4],[1378,\"Rhyme & Reason (1997)\",5],[1379,\"Love and Other Catastrophes (1996)\",7],[1380,\"Hollow Reed (1996)\",6],[1381,\"Losing Chase (1996)\",8],[1382,\"Bonheur, Le (1965)\",4],[1383,\"Second Jungle Book: Mowgli & Baloo, The (1997)\",6],[1384,\"Squeeze (1996)\",3],[1385,\"Roseanna's Grave (For Roseanna) (1997)\",5],[1386,\"Tetsuo II: Body Hammer (1992)\",6],[1387,\"Fall (1997)\",3],[1388,\"Gabbeh (1996)\",6],[1389,\"Mondo (1996)\",3],[1390,\"Innocent Sleep, The (1995)\",2],[1391,\"For Ever Mozart (1996)\",3],[1392,\"Locusts, The (1997)\",5],[1393,\"Stag (1997)\",9],[1394,\"Swept from the Sea (1997)\",7],[1395,\"Hurricane Streets (1998)\",6],[1396,\"Stonewall (1995)\",5],[1397,\"Of Human Bondage (1934)\",5],[1398,\"Anna (1996)\",2],[1399,\"Stranger in the House (1997)\",7],[1400,\"Picture Bride (1995)\",10],[1401,\"M. Butterfly (1993)\",18],[1402,\"Ciao, Professore! (1993)\",4],[1403,\"Caro Diario (Dear Diary) (1994)\",4],[1404,\"Withnail and I (1987)\",13],[1405,\"Boy's Life 2 (1997)\",6],[1406,\"When Night Is Falling (1995)\",5],[1407,\"Specialist, The (1994)\",20],[1408,\"Gordy (1995)\",3],[1409,\"Swan Princess, The (1994)\",7],[1410,\"Harlem (1993)\",4],[1411,\"Barbarella (1968)\",28],[1412,\"Land Before Time III: The Time of the Great Giving (1995) (V)\",6],[1413,\"Street Fighter (1994)\",8],[1414,\"Coldblooded (1995)\",1],[1415,\"Next Karate Kid, The (1994)\",9],[1416,\"No Escape (1994)\",5],[1417,\"Turning, The (1992)\",2],[1418,\"Joy Luck Club, The (1993)\",3],[1419,\"Highlander III: The Sorcerer (1994)\",16],[1420,\"Gilligan's Island: The Movie (1998)\",3],[1421,\"My Crazy Life (Mi vida loca) (1993)\",11],[1422,\"Suture (1993)\",4],[1423,\"Walking Dead, The (1995)\",4],[1424,\"I Like It Like That (1994)\",3],[1425,\"I'll Do Anything (1994)\",10],[1426,\"Grace of My Heart (1996)\",8],[1427,\"Drunks (1995)\",5],[1428,\"SubUrbia (1997)\",12],[1429,\"Sliding Doors (1998)\",4],[1430,\"Ill Gotten Gains (1997)\",3],[1431,\"Legal Deceit (1997)\",5],[1432,\"Mighty, The (1998)\",3],[1433,\"Men of Means (1998)\",2],[1434,\"Shooting Fish (1997)\",10],[1435,\"Steal Big, Steal Little (1995)\",7],[1436,\"Mr. Jones (1993)\",2],[1437,\"House Party 3 (1994)\",9],[1438,\"Panther (1995)\",5],[1439,\"Jason's Lyric (1994)\",8],[1440,\"Above the Rim (1994)\",5],[1441,\"Moonlight and Valentino (1995)\",7],[1442,\"Scarlet Letter, The (1995)\",5],[1443,\"8 Seconds (1994)\",4],[1444,\"That Darn Cat! (1965)\",19],[1445,\"Ladybird Ladybird (1994)\",4],[1446,\"Bye Bye, Love (1995)\",15],[1447,\"Century (1993)\",1],[1448,\"My Favorite Season (1993)\",3],[1449,\"Pather Panchali (1955)\",8],[1450,\"Golden Earrings (1947)\",2],[1451,\"Foreign Correspondent (1940)\",15],[1452,\"Lady of Burlesque (1943)\",1],[1453,\"Angel on My Shoulder (1946)\",1],[1454,\"Angel and the Badman (1947)\",6],[1455,\"Outlaw, The (1943)\",2],[1456,\"Beat the Devil (1954)\",7],[1457,\"Love Is All There Is (1996)\",1],[1458,\"Damsel in Distress, A (1937)\",1],[1459,\"Madame Butterfly (1995)\",7],[1460,\"Sleepover (1995)\",1],[1461,\"Here Comes Cookie (1935)\",1],[1462,\"Thieves (Voleurs, Les) (1996)\",7],[1463,\"Boys, Les (1997)\",3],[1464,\"Stars Fell on Henrietta, The (1995)\",3],[1465,\"Last Summer in the Hamptons (1995)\",3],[1466,\"Margaret's Museum (1995)\",6],[1467,\"Saint of Fort Washington, The (1993)\",2],[1468,\"Cure, The (1995)\",6],[1469,\"Tom and Huck (1995)\",12],[1470,\"Gumby: The Movie (1995)\",5],[1471,\"Hideaway (1995)\",9],[1472,\"Visitors, The (Visiteurs, Les) (1993)\",2],[1473,\"Little Princess, The (1939)\",9],[1474,\"Nina Takes a Lover (1994)\",6],[1475,\"Bhaji on the Beach (1993)\",8],[1476,\"Raw Deal (1948)\",1],[1477,\"Nightwatch (1997)\",2],[1478,\"Dead Presidents (1995)\",18],[1479,\"Reckless (1995)\",8],[1480,\"Herbie Rides Again (1974)\",11],[1481,\"S.F.W. (1994)\",2],[1482,\"Gate of Heavenly Peace, The (1995)\",1],[1483,\"Man in the Iron Mask, The (1998)\",12],[1484,\"Jerky Boys, The (1994)\",3],[1485,\"Colonel Chabert, Le (1994)\",4],[1486,\"Girl in the Cadillac (1995)\",1],[1487,\"Even Cowgirls Get the Blues (1993)\",5],[1488,\"Germinal (1993)\",4],[1489,\"Chasers (1994)\",5],[1490,\"Fausto (1993)\",3],[1491,\"Tough and Deadly (1995)\",2],[1492,\"Window to Paris (1994)\",1],[1493,\"Modern Affair, A (1995)\",1],[1494,\"Mostro, Il (1994)\",1],[1495,\"Flirt (1995)\",5],[1496,\"Carpool (1996)\",5],[1497,\"Line King: Al Hirschfeld, The (1996)\",2],[1498,\"Farmer & Chase (1995)\",1],[1499,\"Grosse Fatigue (1994)\",4],[1500,\"Santa with Muscles (1996)\",2],[1501,\"Prisoner of the Mountains (Kavkazsky Plennik) (1996)\",5],[1502,\"Naked in New York (1994)\",2],[1503,\"Gold Diggers: The Secret of Bear Mountain (1995)\",10],[1504,\"Bewegte Mann, Der (1994)\",3],[1505,\"Killer: A Journal of Murder (1995)\",1],[1506,\"Nelly & Monsieur Arnaud (1995)\",3],[1507,\"Three Lives and Only One Death (1996)\",1],[1508,\"Babysitter, The (1995)\",3],[1509,\"Getting Even with Dad (1994)\",5],[1510,\"Mad Dog Time (1996)\",1],[1511,\"Children of the Revolution (1996)\",5],[1512,\"World of Apu, The (Apur Sansar) (1959)\",6],[1513,\"Sprung (1997)\",3],[1514,\"Dream With the Fishes (1997)\",7],[1515,\"Wings of Courage (1995)\",1],[1516,\"Wedding Gift, The (1994)\",3],[1517,\"Race the Sun (1996)\",5],[1518,\"Losing Isaiah (1995)\",12],[1519,\"New Jersey Drive (1995)\",2],[1520,\"Fear, The (1995)\",1],[1521,\"Mr. Wonderful (1993)\",4],[1522,\"Trial by Jury (1994)\",7],[1523,\"Good Man in Africa, A (1994)\",2],[1524,\"Kaspar Hauser (1993)\",8],[1525,\"Object of My Affection, The (1998)\",1],[1526,\"Witness (1985)\",1],[1527,\"Senseless (1998)\",7],[1528,\"Nowhere (1997)\",3],[1529,\"Underground (1995)\",5],[1530,\"Jefferson in Paris (1995)\",5],[1531,\"Far From Home: The Adventures of Yellow Dog (1995)\",7],[1532,\"Foreign Student (1994)\",2],[1533,\"I Don't Want to Talk About It (De eso no se habla) (1993)\",1],[1534,\"Twin Town (1997)\",6],[1535,\"Enfer, L' (1994)\",4],[1536,\"Aiqing wansui (1994)\",1],[1537,\"Cosi (1996)\",4],[1538,\"All Over Me (1997)\",3],[1539,\"Being Human (1993)\",4],[1540,\"Amazing Panda Adventure, The (1995)\",10],[1541,\"Beans of Egypt, Maine, The (1994)\",2],[1542,\"Scarlet Letter, The (1926)\",2],[1543,\"Johns (1996)\",1],[1544,\"It Takes Two (1995)\",3],[1545,\"Frankie Starlight (1995)\",4],[1546,\"Shadows (Cienie) (1988)\",1],[1547,\"Show, The (1995)\",2],[1548,\"The Courtyard (1995)\",1],[1549,\"Dream Man (1995)\",2],[1550,\"Destiny Turns on the Radio (1995)\",2],[1551,\"Glass Shield, The (1994)\",2],[1552,\"Hunted, The (1995)\",3],[1553,\"Underneath, The (1995)\",4],[1554,\"Safe Passage (1994)\",2],[1555,\"Secret Adventures of Tom Thumb, The (1993)\",5],[1556,\"Condition Red (1995)\",2],[1557,\"Yankee Zulu (1994)\",1],[1558,\"Aparajito (1956)\",7],[1559,\"Hostile Intentions (1994)\",1],[1560,\"Clean Slate (Coup de Torchon) (1981)\",4],[1561,\"Tigrero: A Film That Was Never Made (1994)\",1],[1562,\"Eye of Vichy, The (Oeil de Vichy, L') (1993)\",1],[1563,\"Promise, The (Versprechen, Das) (1994)\",1],[1564,\"To Cross the Rubicon (1991)\",1],[1565,\"Daens (1992)\",1],[1566,\"Man from Down Under, The (1943)\",1],[1567,\"Careful (1992)\",1],[1568,\"Vermont Is For Lovers (1992)\",1],[1569,\"Vie est belle, La (Life is Rosey) (1987)\",1],[1570,\"Quartier Mozart (1992)\",1],[1571,\"Touki Bouki (Journey of the Hyena) (1973)\",1],[1572,\"Wend Kuuni (God's Gift) (1982)\",1],[1573,\"Spirits of the Dead (Tre passi nel delirio) (1968)\",2],[1574,\"Pharaoh's Army (1995)\",1],[1575,\"I, Worst of All (Yo, la peor de todas) (1990)\",1],[1576,\"Hungarian Fairy Tale, A (1987)\",1],[1577,\"Death in the Garden (Mort en ce jardin, La) (1956)\",1],[1578,\"Collectionneuse, La (1967)\",2],[1579,\"Baton Rouge (1988)\",1],[1580,\"Liebelei (1933)\",1],[1581,\"Woman in Question, The (1950)\",1],[1582,\"T-Men (1947)\",1],[1583,\"Invitation, The (Zaproszenie) (1986)\",1],[1584,\"Symphonie pastorale, La (1946)\",1],[1585,\"American Dream (1990)\",2],[1586,\"Lashou shentan (1992)\",1],[1587,\"Terror in a Texas Town (1958)\",1],[1588,\"Salut cousin! (1996)\",2],[1589,\"Schizopolis (1996)\",4],[1590,\"To Have, or Not (1995)\",2],[1591,\"Duoluo tianshi (1995)\",6],[1592,\"Magic Hour, The (1998)\",5],[1593,\"Death in Brunswick (1991)\",1],[1594,\"Everest (1998)\",2],[1595,\"Shopping (1994)\",1],[1596,\"Nemesis 2: Nebula (1995)\",1],[1597,\"Romper Stomper (1992)\",5],[1598,\"City of Industry (1997)\",6],[1599,\"Someone Else's America (1995)\",1],[1600,\"Guantanamera (1994)\",4],[1601,\"Office Killer (1997)\",1],[1602,\"Price Above Rubies, A (1998)\",3],[1603,\"Angela (1995)\",1],[1604,\"He Walked by Night (1948)\",1],[1605,\"Love Serenade (1996)\",4],[1606,\"Deceiver (1997)\",1],[1607,\"Hurricane Streets (1998)\",3],[1608,\"Buddy (1997)\",4],[1609,\"B*A*P*S (1997)\",3],[1610,\"Truth or Consequences, N.M. (1997)\",3],[1611,\"Intimate Relations (1996)\",2],[1612,\"Leading Man, The (1996)\",4],[1613,\"Tokyo Fist (1995)\",1],[1614,\"Reluctant Debutante, The (1958)\",1],[1615,\"Warriors of Virtue (1997)\",10],[1616,\"Desert Winds (1995)\",1],[1617,\"Hugo Pool (1997)\",2],[1618,\"King of New York (1990)\",1],[1619,\"All Things Fair (1996)\",1],[1620,\"Sixth Man, The (1997)\",9],[1621,\"Butterfly Kiss (1995)\",1],[1622,\"Paris, France (1993)\",3],[1623,\"C\\u00e9r\\u00e9monie, La (1995)\",3],[1624,\"Hush (1998)\",1],[1625,\"Nightwatch (1997)\",1],[1626,\"Nobody Loves Me (Keiner liebt mich) (1994)\",1],[1627,\"Wife, The (1995)\",1],[1628,\"Lamerica (1994)\",4],[1629,\"Nico Icon (1995)\",2],[1630,\"Silence of the Palace, The (Saimt el Qusur) (1994)\",1],[1631,\"Slingshot, The (1993)\",2],[1632,\"Land and Freedom (Tierra y libertad) (1995)\",1],[1633,\"\\u00c1 k\\u00f6ldum klaka (Cold Fever) (1994)\",1],[1634,\"Etz Hadomim Tafus (Under the Domin Tree) (1994)\",1],[1635,\"Two Friends (1986) \",1],[1636,\"Brothers in Trouble (1995)\",1],[1637,\"Girls Town (1996)\",1],[1638,\"Normal Life (1996)\",1],[1639,\"Bitter Sugar (Azucar Amargo) (1996)\",3],[1640,\"Eighth Day, The (1996)\",1],[1641,\"Dadetown (1995)\",1],[1642,\"Some Mother's Son (1996)\",2],[1643,\"Angel Baby (1995)\",4],[1644,\"Sudden Manhattan (1996)\",2],[1645,\"Butcher Boy, The (1998)\",1],[1646,\"Men With Guns (1997)\",2],[1647,\"Hana-bi (1997)\",1],[1648,\"Niagara, Niagara (1997)\",1],[1649,\"Big One, The (1997)\",1],[1650,\"Butcher Boy, The (1998)\",1],[1651,\"Spanish Prisoner, The (1997)\",1],[1652,\"Temptress Moon (Feng Yue) (1996)\",3],[1653,\"Entertaining Angels: The Dorothy Day Story (1996)\",1],[1654,\"Chairman of the Board (1998)\",1],[1655,\"Favor, The (1994)\",1],[1656,\"Little City (1998)\",2],[1657,\"Target (1995)\",1],[1658,\"Substance of Fire, The (1996)\",3],[1659,\"Getting Away With Murder (1996)\",1],[1660,\"Small Faces (1995)\",1],[1661,\"New Age, The (1994)\",1],[1662,\"Rough Magic (1995)\",2],[1663,\"Nothing Personal (1995)\",1],[1664,\"8 Heads in a Duffel Bag (1997)\",4],[1665,\"Brother's Kiss, A (1997)\",1],[1666,\"Ripe (1996)\",1],[1667,\"Next Step, The (1995)\",1],[1668,\"Wedding Bell Blues (1996)\",1],[1669,\"MURDER and murder (1996)\",1],[1670,\"Tainted (1998)\",1],[1671,\"Further Gesture, A (1996)\",1],[1672,\"Kika (1993)\",2],[1673,\"Mirage (1995)\",1],[1674,\"Mamma Roma (1962)\",1],[1675,\"Sunchaser, The (1996)\",1],[1676,\"War at Home, The (1996)\",1],[1677,\"Sweet Nothing (1995)\",1],[1678,\"Mat' i syn (1997)\",1],[1679,\"B. Monkey (1998)\",1],[1680,\"Sliding Doors (1998)\",1],[1681,\"You So Crazy (1994)\",1],[1682,\"Scream of Stone (Schrei aus Stein) (1991)\",1]],\"hovertemplate\":\"tsne_1=%{x}\\u003cbr\\u003etsne_2=%{y}\\u003cbr\\u003eitem_id=%{customdata[0]}\\u003cbr\\u003etitle=%{customdata[1]}\\u003cbr\\u003epopularity=%{marker.color}\\u003cextra\\u003e\\u003c\\u002fextra\\u003e\",\"legendgroup\":\"\",\"marker\":{\"color\":[452,131,90,209,86,26,392,219,299,89,236,267,184,183,293,39,92,10,69,72,84,297,182,174,293,73,57,276,114,37,154,81,97,7,11,13,8,120,87,57,37,148,40,79,80,27,133,117,81,583,81,91,128,104,149,394,40,175,83,64,59,127,82,283,115,162,103,134,321,251,220,129,128,7,5,54,151,33,336,68,110,261,176,18,58,150,138,213,275,95,143,104,112,137,219,295,256,390,172,508,73,54,15,5,74,71,42,65,130,31,272,20,9,67,15,125,378,293,4,67,429,106,115,187,244,97,413,65,129,23,95,246,171,198,259,105,171,19,50,61,72,57,222,243,65,10,185,128,23,157,326,82,247,174,98,148,127,60,101,69,220,106,92,151,64,58,67,316,118,121,65,367,324,420,208,284,137,125,221,221,507,226,291,116,239,251,209,170,66,124,276,116,157,241,301,251,239,127,165,206,89,280,182,350,136,50,66,200,191,331,206,92,134,114,212,290,120,171,111,66,74,365,136,44,109,166,161,244,171,199,142,101,124,280,217,45,384,256,150,156,128,117,132,48,240,124,5,160,130,197,46,158,26,62,172,16,303,509,162,127,43,66,19,101,227,35,9,255,315,136,211,198,223,190,268,298,71,60,28,85,146,232,177,193,162,481,78,478,259,96,127,114,147,485,77,6,50,194,73,431,230,297,134,149,87,96,188,30,28,145,75,80,350,5,160,112,102,298,168,20,169,218,240,125,128,175,175,295,45,41,113,143,251,64,21,43,18,91,47,189,11,52,124,55,65,126,137,27,31,41,20,26,14,72,41,97,264,143,18,10,10,28,47,37,48,47,170,31,55,39,67,34,39,11,23,24,13,101,43,116,100,111,31,69,208,87,65,28,27,10,59,68,192,12,56,54,12,26,89,18,76,170,201,101,344,49,43,112,70,162,163,93,55,62,25,64,73,129,178,81,106,26,300,19,85,32,219,121,97,93,153,174,171,67,216,99,5,6,5,14,53,4,162,46,22,9,121,85,117,63,170,66,16,16,145,48,27,90,24,28,74,148,71,27,85,52,48,64,67,108,221,158,126,194,250,160,95,104,179,179,63,128,243,138,125,64,68,65,52,50,67,59,60,56,59,231,68,152,62,31,123,57,39,122,68,90,98,215,121,121,173,57,72,180,201,63,91,89,80,124,120,35,164,46,73,124,195,121,93,80,129,22,15,13,54,10,30,66,44,43,49,51,21,71,12,254,41,12,92,151,24,45,63,102,10,12,17,70,137,22,59,48,29,27,22,179,35,230,67,50,28,29,33,15,44,93,41,92,19,32,59,168,37,79,39,34,14,202,43,18,178,9,12,5,64,127,206,4,1,2,20,50,209,81,31,66,66,30,60,41,40,34,27,51,59,64,18,18,64,43,11,39,39,22,82,4,75,169,77,31,119,58,69,24,23,91,38,44,40,82,33,89,4,35,27,38,70,67,50,72,171,90,34,147,227,44,131,79,115,153,88,82,116,46,100,5,12,6,13,36,46,65,86,48,54,77,1,219,107,34,27,100,49,169,157,50,69,44,87,155,16,164,91,44,13,79,40,10,102,15,10,53,19,24,137,6,70,101,104,79,1,51,72,13,87,58,82,16,29,86,54,58,34,76,16,14,63,45,81,24,39,180,15,27,137,78,59,31,164,63,58,267,39,92,16,119,102,316,51,124,180,39,24,57,96,128,4,21,11,46,44,115,149,29,32,9,11,52,42,57,41,49,17,32,26,9,4,76,31,69,84,10,37,2,39,14,13,3,47,66,10,86,10,46,21,36,31,9,5,26,16,40,9,8,27,50,9,31,43,45,18,18,56,1,112,21,3,25,40,93,22,4,82,49,83,80,57,13,34,1,91,22,49,25,15,26,25,4,4,53,48,27,30,42,176,44,55,9,53,4,4,1,14,16,66,36,1,3,15,16,3,18,24,86,21,119,6,5,24,9,75,42,81,39,53,47,52,33,136,59,45,34,13,7,13,53,64,15,13,43,6,53,14,19,106,44,2,58,9,42,12,42,18,20,27,21,2,20,13,4,4,9,2,11,13,18,7,8,96,5,46,34,58,85,34,101,6,104,40,80,57,40,21,68,7,32,37,25,60,32,46,45,40,43,40,61,17,48,71,30,39,45,22,11,49,46,2,14,64,25,34,23,41,9,21,26,12,18,75,8,34,28,4,32,44,12,49,27,35,22,8,20,15,44,22,23,4,86,32,33,25,4,66,7,31,14,16,16,10,10,17,8,8,9,22,23,47,37,64,44,93,100,38,98,12,137,50,32,31,35,38,32,31,15,44,4,3,148,14,20,7,16,32,27,68,24,24,17,90,25,62,28,8,40,25,46,134,73,25,43,41,25,24,23,10,10,22,15,35,39,29,12,41,4,53,16,44,12,18,27,16,7,66,77,7,12,8,22,45,2,8,8,6,21,11,21,10,13,38,37,43,12,23,12,29,3,18,42,13,8,74,7,19,4,18,4,18,5,28,41,7,15,22,10,29,13,19,47,59,17,21,1,3,12,4,32,11,13,28,1,13,32,30,38,46,29,29,5,33,17,9,44,15,3,9,3,21,9,26,9,7,28,19,12,3,1,25,4,11,26,13,5,25,6,14,12,11,22,10,27,14,15,7,8,5,22,7,19,9,10,10,13,19,10,18,3,13,44,3,11,3,13,10,31,11,3,45,7,23,7,1,8,21,18,6,19,17,20,15,38,12,6,6,9,30,6,39,26,20,30,39,25,4,12,14,32,8,48,13,18,22,17,6,8,1,1,6,8,18,26,6,5,7,36,19,7,6,19,12,6,8,9,7,11,8,3,4,23,4,4,4,8,15,7,19,12,33,10,10,7,7,5,15,11,4,8,19,16,9,16,13,9,19,26,15,17,6,7,7,2,15,3,3,7,7,20,12,9,8,9,5,5,18,2,7,2,2,2,1,1,16,7,14,11,23,7,4,3,4,1,2,6,3,5,1,6,3,6,1,4,4,2,5,2,11,10,9,4,1,1,1,2,1,5,2,5,4,1,1,2,3,1,5,2,6,3,3,2,2,2,3,2,1,1,2,1,5,6,4,3,2,3,1,2,10,7,4,5,7,6,8,4,6,3,5,6,3,6,3,2,3,5,9,7,6,5,5,2,7,10,18,4,4,13,6,5,20,3,7,4,28,6,8,1,9,5,2,3,16,3,11,4,4,3,10,8,5,12,4,3,5,3,2,10,7,2,9,5,8,5,7,5,4,19,4,15,1,3,8,2,15,1,1,6,2,7,1,1,7,1,1,7,3,3,3,6,2,6,12,5,9,2,9,6,8,1,2,18,8,11,2,1,12,3,4,1,5,4,5,3,2,1,1,1,5,5,2,1,4,2,5,2,10,3,1,3,1,3,5,1,5,6,3,7,1,3,5,12,2,1,4,7,2,8,1,1,7,3,5,5,7,2,1,6,4,1,4,3,4,10,2,2,1,3,4,1,2,1,2,2,2,3,4,2,5,2,1,7,1,4,1,1,1,1,1,1,1,1,1,1,1,1,2,1,1,1,1,2,1,1,1,1,1,1,2,1,1,2,4,2,6,5,1,2,1,1,5,6,1,4,1,3,1,1,4,1,3,4,3,3,2,4,1,1,10,1,2,1,1,9,1,3,3,1,1,1,1,4,2,1,2,1,1,1,1,1,1,1,3,1,1,2,4,2,1,2,1,1,1,1,1,3,1,1,1,2,1,3,1,1,1,2,1,4,1,1,1,1,1,1,1,2,1,1,1,1,1,1,1,1,1,1],\"coloraxis\":\"coloraxis\",\"symbol\":\"circle\"},\"mode\":\"markers\",\"name\":\"\",\"showlegend\":false,\"x\":[2.8935089111328125,4.380533695220947,-2.1444754600524902,-7.393983840942383,7.213744163513184,-24.42702865600586,-9.354928970336914,-10.478679656982422,-30.179569244384766,-22.106552124023438,-7.716839790344238,-32.819801330566406,-29.864900588989258,-28.225496292114258,5.511582851409912,-15.858071327209473,-3.8869059085845947,19.805105209350586,-23.483530044555664,-16.721633911132812,18.348161697387695,0.22407826781272888,-33.99772644042969,-7.946091651916504,-0.09711715579032898,-9.250593185424805,5.994258403778076,2.230699062347412,27.730905532836914,-19.760379791259766,9.652068138122559,-27.4461669921875,-19.7264404296875,12.355696678161621,30.2974853515625,24.49758529663086,-9.904109954833984,21.7485294342041,-3.63946270942688,21.60308074951172,-4.2684221267700195,-34.606693267822266,8.284453392028809,-13.727794647216797,-26.77460289001465,-14.970126152038574,-31.566219329833984,-21.51342010498047,7.5795817375183105,0.15972457826137543,8.07534122467041,-23.04536247253418,-20.29697608947754,6.392730236053467,-30.342538833618164,-35.52193832397461,-21.083341598510742,-11.637545585632324,-25.41982078552246,-25.35789680480957,-25.114871978759766,22.73720359802246,11.42604923248291,-33.264198303222656,-27.447479248046875,14.612157821655273,0.5842835903167725,-4.469489097595215,1.7708860635757446,-2.1565277576446533,6.912174701690674,5.143556594848633,15.514845848083496,-7.052987098693848,0.06090441718697548,-7.21798849105835,14.544260025024414,16.676532745361328,2.5126357078552246,13.15858268737793,-16.66748046875,4.441774368286133,-1.7690216302871704,11.465264320373535,-3.707886219024658,-20.316434860229492,2.3594043254852295,5.659021854400635,-32.53966522216797,-6.7538323402404785,-32.14876174926758,-31.310688018798828,-29.447280883789062,12.42514705657959,3.7247097492218018,0.6102612614631653,-2.1597092151641846,-1.8056508302688599,-4.7527289390563965,-30.81744956970215,5.0700764656066895,9.884544372558594,31.207801818847656,32.66585159301758,17.269817352294922,11.340078353881836,-14.565202713012695,-12.593896865844727,-6.616855621337891,13.18893051147461,2.2741425037384033,28.7871150970459,-26.786413192749023,-28.898805618286133,4.495748043060303,-33.650516510009766,1.02046537399292,16.01319122314453,-25.20030403137207,26.8625545501709,15.46320629119873,19.767192840576172,-8.82160758972168,-32.2160758972168,15.143619537353516,0.34618324041366577,-19.71930694580078,-13.36933708190918,-8.38418960571289,21.48011589050293,-22.286392211914062,-13.38892650604248,-13.22850227355957,-28.090133666992188,-18.10849952697754,-7.841196537017822,-32.113983154296875,22.48822593688965,15.756908416748047,10.204203605651855,-0.5007554292678833,9.746036529541016,2.3307290077209473,-2.100043773651123,15.775646209716797,-0.28009265661239624,4.597480297088623,19.809001922607422,-11.196920394897461,-30.433364868164062,-31.404842376708984,-7.161926746368408,-10.643524169921875,-30.02056312561035,15.979596138000488,-34.363765716552734,-14.628664016723633,22.090124130249023,4.666082382202148,-36.156578063964844,14.263805389404297,-5.802886962890625,-0.9006228446960449,8.339264869689941,-23.953275680541992,-21.425832748413086,11.951692581176758,-29.126718521118164,-27.541908264160156,-22.85455894470215,-33.05668640136719,0.37784233689308167,-1.4948331117630005,0.4699036478996277,-33.387664794921875,-6.435420989990234,-6.963884353637695,-23.115589141845703,-31.8840389251709,-30.274980545043945,0.3030206263065338,-29.439435958862305,-6.5318803787231445,-8.265108108520508,-27.475196838378906,-0.7002841234207153,-19.678142547607422,-35.75646209716797,-26.72635269165039,-24.657726287841797,-22.96246337890625,-34.48408889770508,-11.661591529846191,-8.041200637817383,0.03792906552553177,-3.304680109024048,-23.451372146606445,-31.710060119628906,-13.511576652526855,-30.919292449951172,-28.233291625976562,0.17834538221359253,-10.261884689331055,1.640974521636963,-1.2079577445983887,-30.949478149414062,-21.918766021728516,-22.92803382873535,-23.11264419555664,5.350941181182861,-13.290046691894531,-21.545284271240234,-12.480778694152832,-9.007448196411133,4.895792007446289,1.7193191051483154,-6.3336710929870605,9.237809181213379,12.257935523986816,-1.7549364566802979,-30.24495506286621,3.6108291149139404,-27.83258628845215,-24.948572158813477,6.012937068939209,10.691018104553223,4.910202980041504,0.1279110461473465,6.161678791046143,11.87933349609375,16.513517379760742,4.2877326011657715,10.624738693237305,-15.325163841247559,-9.418079376220703,9.033979415893555,2.3763718605041504,-32.278221130371094,6.604925155639648,-36.69706726074219,4.3889851570129395,-17.419992446899414,24.294025421142578,-18.583934783935547,3.172116279602051,-32.33547592163086,21.412992477416992,-29.39629554748535,-6.744213581085205,-4.931682109832764,-25.288496017456055,16.96715545654297,-24.723731994628906,20.46854019165039,5.532318115234375,-25.130136489868164,2.378952741622925,-5.2719807624816895,8.849976539611816,15.731926918029785,28.523393630981445,-30.426939010620117,35.393985748291016,7.774024486541748,1.719728708267212,17.043212890625,-1.6882195472717285,-32.392765045166016,-31.907596588134766,-6.427972316741943,2.8878517150878906,-10.498058319091797,-7.778237819671631,13.270854949951172,-28.230060577392578,-29.565759658813477,-2.9451541900634766,14.892775535583496,-1.745347261428833,13.920182228088379,5.197811126708984,16.166545867919922,-27.71114158630371,0.06827796250581741,-35.90592575073242,-31.57420539855957,-15.593242645263672,-8.400622367858887,18.01780891418457,9.489070892333984,5.917751312255859,-16.201282501220703,-9.166625022888184,18.78468132019043,-0.9289981126785278,-13.081477165222168,-22.776124954223633,-8.133102416992188,-11.218731880187988,16.531978607177734,-3.4880759716033936,-31.854095458984375,-16.003429412841797,6.443871974945068,-32.58038330078125,-26.008838653564453,-4.276613235473633,-4.810204982757568,19.040904998779297,5.18356466293335,-16.51607894897461,2.2375361919403076,-0.7387896776199341,32.59767532348633,-15.926504135131836,-15.77088451385498,-27.683834075927734,-14.014504432678223,-14.287304878234863,-30.97119140625,-8.157365798950195,25.083389282226562,24.373340606689453,-35.88089370727539,-1.696274995803833,25.920007705688477,-4.150185585021973,25.939897537231445,9.14183521270752,0.4460356533527374,-3.4852678775787354,7.708536624908447,-1.4846385717391968,-22.7342529296875,-12.63118839263916,23.225955963134766,-2.355236053466797,23.081573486328125,12.220438957214355,-32.10567855834961,22.77376365661621,14.572060585021973,-1.8754534721374512,-19.258577346801758,-23.440101623535156,-12.946928024291992,-9.517184257507324,10.154373168945312,18.035987854003906,-20.581106185913086,9.678298950195312,26.944435119628906,20.667051315307617,4.058252811431885,4.774168968200684,0.7968018054962158,-23.706562042236328,18.33849334716797,-17.076160430908203,-19.206024169921875,4.050508499145508,-0.4270975589752197,11.322376251220703,10.228202819824219,4.409576416015625,14.332337379455566,-4.7957234382629395,22.320405960083008,-0.23141565918922424,27.31297492980957,6.133721351623535,-19.563018798828125,19.713533401489258,23.786182403564453,20.898704528808594,16.638408660888672,26.52771759033203,5.6177778244018555,-17.349048614501953,11.609949111938477,-16.06912612915039,-20.747600555419922,24.521554946899414,13.360200881958008,10.20431900024414,-6.654177665710449,-18.726682662963867,20.0579833984375,6.108006477355957,-10.822283744812012,8.980640411376953,12.644689559936523,10.447863578796387,21.189525604248047,16.488079071044922,-33.715118408203125,11.628304481506348,20.412025451660156,9.503588676452637,12.180715560913086,-10.120813369750977,8.794936180114746,-7.365087509155273,-11.234928131103516,14.442837715148926,24.2395076751709,14.352587699890137,-27.56187629699707,1.562146544456482,-7.0490570068359375,-5.477616786956787,-10.259916305541992,3.229830741882324,-11.438594818115234,11.73919677734375,-10.438413619995117,10.08518123626709,6.850701332092285,2.0338947772979736,-15.968249320983887,3.7442073822021484,-10.417012214660645,-4.650274753570557,31.21831512451172,-33.33303451538086,-0.45989999175071716,-23.035327911376953,-29.73390769958496,-3.0176048278808594,-11.726093292236328,8.434144020080566,-28.03635597229004,-32.543582916259766,-2.9540317058563232,-4.67110538482666,-7.4857401847839355,33.495853424072266,31.56745147705078,32.311798095703125,28.908479690551758,10.08763313293457,28.78685760498047,-12.872148513793945,-8.060770988464355,-14.577580451965332,12.119600296020508,-9.690740585327148,-4.862560749053955,-1.2229094505310059,13.16653060913086,13.87132740020752,12.300185203552246,19.250425338745117,18.89027976989746,-21.31650161743164,26.181167602539062,27.966432571411133,-27.221357345581055,-1.303321361541748,-13.68114948272705,-29.644729614257812,-22.133440017700195,-27.710567474365234,-15.919878005981445,0.05432701110839844,-25.74273109436035,-26.52418327331543,12.345132827758789,-30.95456314086914,7.795234203338623,-2.5358211994171143,6.53482723236084,-26.656410217285156,-33.01572799682617,-35.47441101074219,2.6840620040893555,-18.92929458618164,-22.125782012939453,-24.978973388671875,-22.562911987304688,-26.907424926757812,-12.546154975891113,-16.545183181762695,-18.039247512817383,-17.6884822845459,-7.108513832092285,-32.399635314941406,-28.20117950439453,-21.4931697845459,-20.955785751342773,-15.30882453918457,-20.432735443115234,-19.16402244567871,-11.70895767211914,-9.684370994567871,-10.862210273742676,-9.154318809509277,-13.852725982666016,-20.294252395629883,-1.0113776922225952,-11.417521476745605,-13.750200271606445,-14.792282104492188,-26.73435401916504,-10.433503150939941,-16.391845703125,-26.187870025634766,-30.478031158447266,-20.888212203979492,-14.255025863647461,-30.257009506225586,-33.2271842956543,-23.997549057006836,-30.6677188873291,-24.6832332611084,-19.1321964263916,-30.792579650878906,-31.32497787475586,-24.675643920898438,0.1367247998714447,-14.559263229370117,-31.31430435180664,-11.27042293548584,-24.291419982910156,-25.224023818969727,-11.123600959777832,-12.333883285522461,-16.53040885925293,-29.8059139251709,-12.116141319274902,-4.848968505859375,-24.624250411987305,-23.04075813293457,-27.225780487060547,0.5175268650054932,-23.017147064208984,-23.157915115356445,0.9791976809501648,19.34343147277832,12.758885383605957,6.345625400543213,17.797502517700195,-17.85295867919922,-23.260374069213867,28.6787109375,13.866562843322754,-24.36157989501953,18.515338897705078,-26.142253875732422,11.18319320678711,24.597328186035156,6.350667953491211,21.292659759521484,21.90139389038086,24.455167770385742,-9.726034164428711,-18.255462646484375,-29.33961296081543,2.6037564277648926,16.862285614013672,7.532336235046387,0.053366705775260925,24.352094650268555,19.19833755493164,17.332801818847656,8.818953514099121,8.132685661315918,6.923215389251709,7.831162929534912,8.052314758300781,16.137916564941406,8.000701904296875,10.81968879699707,22.7928466796875,19.21104621887207,10.53637409210205,30.589311599731445,12.0485200881958,13.423529624938965,-19.474271774291992,-30.973581314086914,-14.295315742492676,-22.36662483215332,-19.467239379882812,18.321819305419922,17.23967742919922,-13.984941482543945,3.046283006668091,-34.51095962524414,30.075040817260742,2.4121615886688232,-3.466527223587036,-17.701595306396484,-7.2628912925720215,3.5427818298339844,2.8476264476776123,12.006441116333008,18.987457275390625,34.71613311767578,-7.489378452301025,-0.9156266450881958,-11.180634498596191,-24.642715454101562,-19.854135513305664,-18.17315101623535,-18.564395904541016,-14.182802200317383,-23.590694427490234,-6.704927921295166,-17.65695571899414,-24.196516036987305,-27.76609992980957,-29.123533248901367,-0.329755961894989,-23.81747055053711,-27.284334182739258,-4.60882043838501,-29.492570877075195,-5.509759426116943,14.757232666015625,-6.980465888977051,3.986398458480835,21.04398536682129,2.6820523738861084,11.201658248901367,-18.075010299682617,7.364414691925049,-1.289393424987793,5.318331241607666,6.432278633117676,-14.65821647644043,-15.65176010131836,-17.47136116027832,-1.8694027662277222,19.465728759765625,-3.6803810596466064,-34.276458740234375,-16.883100509643555,-22.033668518066406,-31.75794219970703,-26.854507446289062,-29.518217086791992,8.822830200195312,-31.112773895263672,-25.2288818359375,-29.215526580810547,-28.99280548095703,-18.486011505126953,-25.61659049987793,-3.927910566329956,-13.479924201965332,-32.37862014770508,-26.501737594604492,-26.882518768310547,-8.260140419006348,-26.43181037902832,-23.130054473876953,2.5324411392211914,-4.707119941711426,2.2280750274658203,-26.285097122192383,8.083561897277832,-22.221908569335938,-30.36911964416504,3.534393787384033,20.83067512512207,14.090738296508789,-9.644412994384766,29.6925106048584,-0.07930625230073929,-31.43681526184082,22.01734161376953,5.156667232513428,-5.535510540008545,-20.910995483398438,0.3582685589790344,52.061920166015625,23.081382751464844,-6.246096134185791,17.081212997436523,21.2993221282959,7.989027976989746,12.621514320373535,2.85783314704895,5.522556304931641,-1.9998859167099,23.88524627685547,29.241552352905273,0.9053463339805603,7.010870456695557,-9.744766235351562,5.317702293395996,-35.21704864501953,-22.341705322265625,-18.564579010009766,-2.1055681705474854,3.341001510620117,0.8979657888412476,-4.562861442565918,-14.09582805633545,-18.584606170654297,-15.017117500305176,-19.451749801635742,-8.930835723876953,-15.565680503845215,3.630600929260254,-20.714712142944336,-15.513529777526855,-26.027450561523438,6.6527628898620605,51.131187438964844,-2.6977040767669678,-26.942779541015625,-13.244317054748535,-28.507568359375,8.199505805969238,19.768863677978516,-24.584583282470703,15.00407886505127,20.6007137298584,-7.021846771240234,-1.5747722387313843,10.302070617675781,-5.2718939781188965,3.0932326316833496,21.96196174621582,-15.120963096618652,14.876960754394531,9.834572792053223,-22.81505012512207,14.760420799255371,3.7895073890686035,-16.960735321044922,22.59026336669922,3.1968984603881836,-21.27859115600586,-9.013079643249512,10.186429023742676,8.802017211914062,-19.858684539794922,-7.723353385925293,13.68769645690918,23.820138931274414,1.396931767463684,-19.98456573486328,-6.5420732498168945,-5.615370273590088,26.086275100708008,7.609862804412842,-23.735952377319336,-6.700610160827637,4.934345722198486,-22.152624130249023,3.5836141109466553,12.472186088562012,23.208980560302734,10.038521766662598,20.652315139770508,26.583192825317383,-14.231727600097656,0.4506585896015167,-8.835809707641602,-1.6490319967269897,3.092561960220337,-1.4251409769058228,-10.183629989624023,-14.648962020874023,9.677167892456055,23.0677547454834,-11.238396644592285,16.041446685791016,-31.292037963867188,-10.587000846862793,8.371345520019531,15.091324806213379,10.871099472045898,20.629589080810547,-4.443244457244873,25.12822151184082,4.060274124145508,14.160000801086426,-14.485562324523926,12.817039489746094,49.91217803955078,1.9019428491592407,-6.887006759643555,15.65469741821289,51.745216369628906,-20.172340393066406,6.936922073364258,21.492124557495117,-31.158145904541016,-13.61300277709961,10.272964477539062,17.725339889526367,18.08329963684082,13.034014701843262,20.39556884765625,-19.371856689453125,2.061854124069214,13.67296028137207,19.276416778564453,-6.671463966369629,24.95987892150879,-27.225269317626953,-27.693998336791992,4.483231544494629,11.852948188781738,14.938299179077148,14.894262313842773,-23.780141830444336,13.839516639709473,-27.680397033691406,51.084632873535156,11.973519325256348,21.481481552124023,8.310338973999023,-12.395429611206055,27.587263107299805,4.983413219451904,13.189502716064453,-10.263410568237305,10.429983139038086,-11.272300720214844,6.014387130737305,16.469579696655273,22.91950035095215,22.02362632751465,19.237911224365234,33.91899490356445,16.97469139099121,-7.849538326263428,6.709866523742676,28.437236785888672,-20.54664421081543,-17.76390838623047,-4.077239990234375,24.95775604248047,32.052215576171875,5.992214202880859,24.18993377685547,-7.912660598754883,-6.575341701507568,-22.098434448242188,8.458076477050781,23.43984031677246,-22.16014289855957,-29.65530014038086,24.082801818847656,-24.306184768676758,-25.627492904663086,33.51723098754883,-32.99283981323242,-34.15673828125,-24.698486328125,-27.56879997253418,-7.7722272872924805,32.559043884277344,2.3823094367980957,9.50232982635498,-8.963406562805176,29.825138092041016,-3.800044059753418,9.39877700805664,-32.58552551269531,20.98299789428711,-15.176366806030273,-25.970516204833984,11.939827919006348,-5.921106815338135,25.93940544128418,-12.58193302154541,8.230917930603027,-21.105653762817383,-3.759493589401245,13.400103569030762,8.82831859588623,24.849384307861328,17.962738037109375,-1.8747844696044922,14.884038925170898,-20.60033416748047,-22.080602645874023,-4.14475154876709,13.306830406188965,-3.228523015975952,-21.123279571533203,2.970653533935547,-16.20735740661621,19.967966079711914,25.773582458496094,10.321813583374023,6.127772808074951,29.001079559326172,-1.294011116027832,-21.129371643066406,29.390430450439453,-19.784400939941406,-27.200340270996094,-23.772459030151367,29.610157012939453,-23.038610458374023,-12.753911972045898,-20.36724090576172,8.832324028015137,5.32721471786499,31.220884323120117,8.068045616149902,-20.243438720703125,25.332120895385742,19.000097274780273,-10.777088165283203,33.10818862915039,0.9268205165863037,-14.47610855102539,-21.730817794799805,-6.713499069213867,8.579977989196777,-23.647939682006836,-9.101041793823242,-23.045522689819336,-21.804180145263672,-23.374935150146484,5.173852443695068,1.5205166339874268,19.131916046142578,32.48264694213867,11.704055786132812,0.7208287715911865,20.250064849853516,18.19722557067871,17.944686889648438,-2.5407626628875732,22.878530502319336,-24.952356338500977,-23.721141815185547,-11.122889518737793,-4.058531761169434,2.052717447280884,-11.3290376663208,8.7266263961792,-10.30211067199707,-19.44099235534668,19.58908462524414,-24.629287719726562,-5.101972579956055,-18.186561584472656,23.412227630615234,-4.678339958190918,-11.684465408325195,17.221755981445312,-13.193560600280762,-16.16069221496582,-3.152590751647949,-16.15100860595703,-14.541855812072754,-10.811800956726074,-23.169389724731445,-19.72510528564453,-18.630250930786133,-20.365251541137695,-10.531309127807617,-23.550342559814453,-18.016807556152344,-22.56854820251465,8.152764320373535,4.041938781738281,-16.79205322265625,-23.06056022644043,-18.12274169921875,-22.95065689086914,-14.4745512008667,4.163388729095459,17.051551818847656,-8.388090133666992,24.874692916870117,14.356459617614746,1.6804133653640747,3.6557202339172363,-17.537864685058594,20.81494903564453,21.223543167114258,22.724483489990234,23.88428497314453,-15.440434455871582,14.33559799194336,31.34601593017578,22.584794998168945,-0.8221712112426758,1.2072807550430298,23.985734939575195,19.9160213470459,-1.4556052684783936,-11.086431503295898,-19.559772491455078,22.929176330566406,-6.325300216674805,14.714999198913574,16.395313262939453,12.737771987915039,28.212297439575195,26.99305534362793,29.871191024780273,10.263201713562012,-14.54297924041748,12.554430961608887,0.9954150915145874,-27.141382217407227,1.553228497505188,-28.92908477783203,-17.71489715576172,-9.044044494628906,26.815650939941406,-4.541427135467529,1.6099870204925537,15.402640342712402,-8.853056907653809,-8.272408485412598,-24.973453521728516,-29.83926010131836,-18.481725692749023,1.6317522525787354,27.06999969482422,-21.647666931152344,4.101685047149658,1.2791266441345215,32.72602844238281,20.852325439453125,26.312326431274414,26.667757034301758,21.31184959411621,22.89324378967285,28.938249588012695,22.743148803710938,6.292217254638672,21.799259185791016,31.047924041748047,7.406875133514404,-14.506199836730957,21.172460556030273,11.250238418579102,-0.9850412607192993,2.4765942096710205,-1.4365452527999878,-20.920185089111328,-1.1148743629455566,18.776931762695312,-10.116850852966309,21.323453903198242,-20.3485164642334,1.432978630065918,15.969305038452148,14.678084373474121,24.31552505493164,17.270618438720703,-16.784196853637695,-6.499753952026367,9.170278549194336,-14.387152671813965,-16.270000457763672,15.388891220092773,-22.04215431213379,3.755117893218994,-17.35660743713379,-20.935710906982422,-14.666609764099121,-9.653997421264648,-15.656831741333008,-19.107707977294922,-19.66839027404785,-3.8903675079345703,9.630426406860352,-18.13867950439453,4.223796844482422,-11.844954490661621,15.864839553833008,-23.633983612060547,9.949614524841309,20.018817901611328,-19.831247329711914,-1.6634124517440796,10.686016082763672,-6.423415184020996,-19.1273250579834,-28.180919647216797,-2.1983649730682373,32.96989059448242,19.960262298583984,26.703582763671875,21.863101959228516,4.907555103302002,10.448613166809082,-10.685667037963867,27.62543487548828,22.36751365661621,-8.11265754699707,-21.884981155395508,-20.639209747314453,-19.17009925842285,-6.767102241516113,-26.209877014160156,28.27849578857422,-27.950267791748047,11.469443321228027,18.791284561157227,-21.724987030029297,-10.17375659942627,-14.339579582214355,-17.231412887573242,2.069690227508545,-20.61599349975586,8.599523544311523,-13.7640962600708,-4.026626110076904,-18.88884162902832,-29.572900772094727,-11.362055778503418,-21.610387802124023,2.7500858306884766,4.827640533447266,-24.8591365814209,-20.014684677124023,-10.732885360717773,-1.9159513711929321,-23.998037338256836,-14.153366088867188,-12.595245361328125,-11.411714553833008,-21.533130645751953,-30.175024032592773,-14.605380058288574,-12.108291625976562,4.758760929107666,0.5363591313362122,-0.06938312202692032,5.597443103790283,-17.91224479675293,9.963288307189941,12.478334426879883,18.66836929321289,-14.11276626586914,-31.33014488220215,-31.165040969848633,-23.53774070739746,12.230725288391113,33.85249328613281,-22.893829345703125,-9.852399826049805,-28.445323944091797,-17.674163818359375,19.142311096191406,2.6081483364105225,-12.397392272949219,1.4855916500091553,51.36836624145508,-8.637911796569824,12.644219398498535,-21.605640411376953,-22.7202205657959,10.809054374694824,-15.384891510009766,28.024276733398438,3.986726760864258,-3.623187303543091,26.109573364257812,9.029706954956055,4.228381156921387,3.751943826675415,-23.04815673828125,-31.578964233398438,-13.342209815979004,-17.61341667175293,10.286632537841797,-10.907012939453125,-24.317293167114258,-20.167707443237305,24.648653030395508,11.938910484313965,22.90320587158203,22.272933959960938,19.017242431640625,14.035480499267578,20.677650451660156,-14.295527458190918,20.860517501831055,-14.778156280517578,-35.79020690917969,-3.238825798034668,5.261911869049072,10.708117485046387,-22.455232620239258,-14.44520092010498,-23.218244552612305,-22.45151710510254,-8.80746841430664,-8.76416015625,-1.5293248891830444,-9.21013355255127,-6.496541500091553,-17.036954879760742,50.686309814453125,-15.383477210998535,-18.379499435424805,-33.22460174560547,10.527948379516602,26.914764404296875,8.6796236038208,-8.063895225524902,17.70941162109375,20.705354690551758,-14.063108444213867,0.5598020553588867,13.03082275390625,17.70176887512207,20.384111404418945,-14.740365028381348,21.751346588134766,-0.9776403903961182,6.129134178161621,11.570971488952637,8.552911758422852,-12.013900756835938,-9.350362777709961,7.385012626647949,18.61685562133789,-22.78822135925293,16.75864028930664,21.49167251586914,20.372127532958984,22.566789627075195,13.501466751098633,-9.813583374023438,-7.3410325050354,-13.267117500305176,4.92889928817749,50.169639587402344,4.306783199310303,7.332040786743164,23.036584854125977,-24.87701988220215,-20.442325592041016,14.805755615234375,-1.770772099494934,13.73655891418457,-30.15176773071289,23.15438461303711,20.278648376464844,-11.333714485168457,8.156111717224121,31.375328063964844,-25.614999771118164,-20.891767501831055,11.641396522521973,20.3985595703125,-7.020339012145996,-6.350869655609131,23.4306583404541,15.809379577636719,-10.951427459716797,15.892909049987793,-19.330516815185547,-10.374673843383789,-13.522279739379883,-6.597543716430664,-0.96486496925354,-15.980661392211914,-26.97001838684082,-3.943906545639038,4.140100479125977,23.934303283691406,17.89234161376953,22.232437133789062,25.28577423095703,19.08544921875,20.123598098754883,22.94107437133789,-10.715571403503418,5.706200122833252,18.395233154296875,3.5380027294158936,-13.068710327148438,-17.937192916870117,19.27043342590332,0.00527283875271678,9.370527267456055,-17.207359313964844,34.40852737426758,-13.003280639648438,24.539485931396484,50.07436752319336,-10.685898780822754,27.62240219116211,-22.096837997436523,-1.6434714794158936,12.205737113952637,-13.007716178894043,8.671881675720215,-24.097042083740234,-14.581840515136719,19.938310623168945,6.116487979888916,-20.914043426513672,9.069870948791504,48.824588775634766,18.418428421020508,0.7522804737091064,29.488386154174805,32.78215789794922,51.54808044433594,7.931841850280762,18.278602600097656,6.571277141571045,-1.5831693410873413,15.318811416625977,1.6514209508895874,9.292004585266113,31.89275550842285,21.459043502807617,-7.215416431427002,32.743804931640625,11.914856910705566,-7.792142391204834,-16.841867446899414,22.665935516357422,33.78622055053711,-20.15625,28.84324073791504,-19.96354103088379,51.28593444824219,-12.222846984863281,-21.9858341217041,20.61642074584961,-12.47768783569336,33.62416076660156,-9.689255714416504,31.67951202392578,21.752649307250977,-1.2514517307281494,33.092872619628906,32.46210861206055,32.17843246459961,-13.64799690246582,33.394691467285156,-25.867935180664062,10.405998229980469,1.7352094650268555,17.141260147094727,33.64326858520508,49.842262268066406,33.73503875732422,-8.60151481628418,33.54027557373047,-17.68886375427246,32.89330291748047,18.707630157470703,-8.415769577026367,30.4580020904541,-22.007015228271484,31.456005096435547,21.841732025146484,-31.569185256958008,33.06807327270508,32.99177932739258,50.9585075378418,30.611875534057617,33.202266693115234,-26.18040657043457,-27.583480834960938,-12.798300743103027,-21.11903190612793,24.082767486572266,-23.53678321838379,32.84089279174805,33.14943313598633,-22.597047805786133,30.005996704101562,-18.10281753540039,-12.201220512390137,-18.223360061645508,-8.257482528686523,-25.286609649658203,-20.99724578857422,27.584423065185547,35.06465148925781,-17.92242431640625,33.69275665283203,8.887566566467285,-24.50691032409668,8.291670799255371,8.92700481414795,8.185077667236328,17.316946029663086,11.678760528564453,-19.588109970092773,-12.274765968322754,-22.01175880432129,-16.583425521850586,-11.35110092163086,17.352081298828125,-0.107839435338974,-4.607769012451172,15.330314636230469,-6.427670955657959,-31.137939453125,-29.5014591217041,-5.410876750946045,22.5897274017334,30.484827041625977,10.079682350158691,16.11150360107422,-4.102593421936035,22.286510467529297,15.540457725524902,21.84357452392578,21.014026641845703,20.89313507080078,-4.452854633331299,-11.951778411865234,15.617290496826172,23.86461067199707,-12.004456520080566,6.125551700592041,-6.955541133880615,-9.777976989746094,-8.378357887268066,-0.6892468929290771,19.48462677001953,-32.284114837646484,1.582081913948059,7.880790710449219,4.028780460357666,29.21207046508789,6.442470550537109,-18.36533546447754,-3.9251022338867188,18.72321128845215,15.055729866027832,-9.419093132019043,10.243008613586426,9.84497356414795,8.200227737426758,20.712827682495117,7.513908863067627,15.369508743286133,-18.120819091796875,14.911930084228516,-8.349319458007812,51.458927154541016,-28.662153244018555,-8.363977432250977,-20.170303344726562,-15.560606956481934,49.73011016845703,16.391159057617188,10.771827697753906,-14.888097763061523,-8.316193580627441,-15.444073677062988,-28.869056701660156,52.35623550415039,18.20868492126465,-28.29242515563965,25.652557373046875,-0.9277178645133972,-1.0308386087417603,-25.7526798248291,-26.185649871826172,-0.24876227974891663,7.126017093658447,22.320484161376953,9.210587501525879,49.51220703125,-12.115395545959473,-17.495174407958984,-15.810839653015137,51.26462173461914,8.638051986694336,5.416006088256836,8.079089164733887,18.449932098388672,12.98322868347168,-8.265246391296387,14.701800346374512,-0.2996669113636017,-7.017547607421875,31.604570388793945,15.172179222106934,-18.274267196655273,24.56412696838379,12.920727729797363,52.67195510864258,12.346986770629883,52.56709289550781,32.608402252197266,-7.037674427032471,28.00577735900879,19.448509216308594,11.977874755859375,-24.52191925048828,-24.035810470581055,14.941339492797852,34.21071243286133,19.107954025268555,5.430086612701416,49.187747955322266,-21.119014739990234,6.972564697265625,24.311059951782227,21.158775329589844,20.065532684326172,-25.30331039428711,-20.377901077270508,21.640426635742188,-26.152936935424805,-29.602741241455078,-2.9708800315856934,8.74876594543457,11.695566177368164,8.952908515930176,20.25067138671875,-11.88406753540039,20.006874084472656,17.0439395904541,-23.166061401367188,-29.413999557495117,52.9918212890625,28.6063175201416,-11.749696731567383,-29.009029388427734,23.453311920166016,1.3117681741714478,18.754680633544922,-12.908186912536621,24.032609939575195,-18.266626358032227,-32.34355926513672,-22.482412338256836,-12.099406242370605,20.394216537475586,5.5708723068237305,-22.006187438964844,6.538424968719482,52.32005310058594,2.0657060146331787,-12.950309753417969,33.23123550415039,52.21659469604492,32.933223724365234,33.32926940917969,27.541444778442383,49.05094528198242,-4.450952529907227,-10.811095237731934,27.542373657226562,-14.804952621459961,7.941036224365234,33.30659866333008,-18.048051834106445,33.09851837158203,-29.141862869262695,34.15882110595703,33.865848541259766,34.05953598022461,50.80131149291992,34.55224609375,51.270721435546875,50.85374450683594,32.402286529541016,34.38660430908203,49.896568298339844,33.69147491455078,33.89033508300781,34.838172912597656,34.070735931396484,32.715911865234375,34.0745964050293,33.484615325927734,-9.139411926269531,32.76258850097656,33.656890869140625,51.95695877075195,33.07651138305664,50.05959701538086,51.44502639770508,-9.078913688659668,35.07771682739258,35.153926849365234,9.10429859161377,-19.089641571044922,9.12098503112793,-12.551187515258789,-25.35903549194336,50.01819610595703,2.869032144546509,52.58270263671875,21.436845779418945,-35.75826644897461,22.58497428894043,-13.222601890563965,2.318692684173584,30.13021469116211,-17.41718864440918,50.47179412841797,-29.100549697875977,8.193497657775879,20.941722869873047,-23.72573471069336,26.73300552368164,31.976882934570312,-5.055248737335205,-11.698716163635254,-25.173429489135742,4.709924697875977,50.383087158203125,6.492955684661865,51.57324981689453,-24.836654663085938,51.85810089111328,9.506021499633789,21.246082305908203,31.34340476989746,16.513383865356445,-18.472248077392578,23.948427200317383,-1.2126846313476562,35.242252349853516,-13.237079620361328,-21.181259155273438,-28.207107543945312,-7.798424243927002,18.310476303100586,-7.84490442276001,-7.764455795288086,18.662933349609375,-7.901337623596191,51.52363586425781,-8.649250030517578,52.935035705566406,-8.829360961914062,-7.865005016326904,49.85819625854492,-22.889324188232422,-13.739447593688965,49.657745361328125,52.369808197021484,-22.133554458618164,-7.799856185913086,49.37138748168945,-7.980184555053711,49.985408782958984,50.365413665771484,22.67877960205078,49.68711853027344,53.302982330322266,50.46349334716797,22.3920955657959,-6.964115142822266,-13.641982078552246,32.35244369506836,30.76447868347168,30.754060745239258,27.530658721923828,22.546810150146484,-1.1315463781356812,51.13573455810547,21.691463470458984,9.044584274291992,9.105669975280762,22.334352493286133,8.621944427490234,31.1212158203125,19.94501304626465,21.39415168762207,-20.085012435913086,52.527462005615234,21.640554428100586,-9.468783378601074,30.036087036132812,-4.860931873321533,23.971067428588867,-7.51642370223999,-10.612582206726074],\"xaxis\":\"x\",\"y\":[19.789236068725586,9.500177383422852,8.379097938537598,12.542546272277832,8.113571166992188,-5.639764308929443,15.27336311340332,16.78122329711914,-9.370553016662598,-2.437497854232788,17.017616271972656,-4.128005027770996,-12.3433256149292,-10.615035057067871,9.967507362365723,-6.9343109130859375,-7.407878875732422,-20.32286262512207,-9.742012977600098,-0.8707795143127441,-7.202401638031006,17.82615852355957,7.7087202072143555,11.445561408996582,-10.159073829650879,-3.8709564208984375,11.467071533203125,16.277725219726562,6.917957782745361,3.351724624633789,13.618124008178711,4.593686103820801,19.05122947692871,5.373352527618408,-24.603252410888672,-17.156021118164062,-9.127541542053223,1.790439486503601,-11.848289489746094,11.326961517333984,-6.25299596786499,4.401284694671631,-12.215056419372559,-8.347476959228516,-5.412431240081787,5.683870792388916,14.690190315246582,11.175304412841797,3.3433666229248047,22.956127166748047,12.645156860351562,-5.603237152099609,-14.222050666809082,6.7732625007629395,1.8758656978607178,6.809919357299805,4.873106002807617,-3.9451398849487305,-7.266357421875,-7.3646087646484375,-6.199126720428467,1.9553380012512207,6.2317399978637695,-2.628359079360962,2.8166537284851074,10.019913673400879,-16.85582160949707,-8.108628273010254,18.006484985351562,13.354591369628906,14.788100242614746,-17.540361404418945,12.583660125732422,6.364724159240723,8.877726554870605,-13.547818183898926,12.966711044311523,8.758814811706543,17.34000587463379,-8.552288055419922,14.43982982635498,14.748247146606445,15.398313522338867,1.9479658603668213,-13.804845809936523,9.32621955871582,13.651018142700195,17.195852279663086,8.164732933044434,-11.816844940185547,0.3505173325538635,3.8328869342803955,-10.4937744140625,15.94407844543457,14.520100593566895,22.137739181518555,17.743816375732422,19.31002426147461,16.47174644470215,-13.137541770935059,-17.29741668701172,3.0906295776367188,-18.102426528930664,-13.869266510009766,5.455185890197754,-1.838150978088379,-5.495048999786377,-5.685792922973633,-10.092168807983398,-12.22850513458252,7.919756889343262,1.000849723815918,-5.169382572174072,12.315463066101074,8.818880081176758,2.493417978286743,-5.779956340789795,13.82570743560791,-1.0426706075668335,-2.3976945877075195,15.1851167678833,-21.315916061401367,-13.064485549926758,13.106229782104492,11.808335304260254,-7.55116605758667,22.578824996948242,-6.430726051330566,15.148877143859863,-20.159183502197266,18.34542465209961,18.568883895874023,20.524322509765625,17.589487075805664,21.866764068603516,20.561847686767578,16.137609481811523,5.993683815002441,-4.778757572174072,-12.743213653564453,13.63558578491211,2.0989902019500732,14.66988754272461,20.619457244873047,-0.49005115032196045,-13.045028686523438,10.620285034179688,8.89452838897705,-5.391326904296875,6.036235332489014,14.83132553100586,15.861700057983398,17.855571746826172,6.922550201416016,10.068005561828613,5.015588760375977,2.483285665512085,-5.305485248565674,-2.612865447998047,10.166999816894531,12.700177192687988,13.451685905456543,11.856181144714355,11.678550720214844,-2.142761707305908,7.662399768829346,-7.932801246643066,12.908547401428223,-2.7638394832611084,9.054636001586914,2.443857192993164,22.536489486694336,21.18079948425293,22.404857635498047,7.493359088897705,18.062549591064453,18.07301902770996,20.418258666992188,8.59476375579834,-1.6887246370315552,22.954647064208984,15.63454818725586,18.519227981567383,24.916667938232422,16.542640686035156,20.016996383666992,22.514183044433594,3.2689239978790283,-2.4417648315429688,8.622357368469238,20.997493743896484,7.700719356536865,19.246238708496094,20.464189529418945,21.22993278503418,11.091070175170898,17.894662857055664,-2.928461790084839,19.65911293029785,15.820463180541992,9.718615531921387,19.76768684387207,13.965331077575684,20.696422576904297,18.516347885131836,0.4492371678352356,0.7887338399887085,15.603620529174805,15.276041984558105,20.218305587768555,19.476146697998047,-4.865111827850342,10.21756362915039,12.58330249786377,17.70578384399414,12.575780868530273,-6.733347415924072,14.058082580566406,15.821540832519531,-4.181254863739014,-9.840222358703613,21.321626663208008,6.216858386993408,3.119215250015259,-9.169949531555176,15.432838439941406,-16.72454261779785,21.099239349365234,8.697696685791016,10.608821868896484,-6.717817783355713,13.113149642944336,15.274445533752441,19.026390075683594,-13.20733642578125,18.307575225830078,10.382037162780762,9.726861953735352,20.617197036743164,10.39608097076416,6.569313049316406,-4.99660062789917,6.735888957977295,-16.5637264251709,3.918574571609497,-5.217634677886963,-2.46709942817688,0.27324068546295166,-13.821500778198242,-8.831602096557617,-0.5454466342926025,2.144383430480957,-10.96822452545166,-0.17348839342594147,15.721638679504395,5.354093551635742,11.278223991394043,-18.437334060668945,-8.896093368530273,-17.79861831665039,0.9345611929893494,18.343046188354492,-14.836557388305664,-10.43894100189209,18.065277099609375,18.22821617126465,-8.917048454284668,-5.327594757080078,-10.24605655670166,-17.879417419433594,-19.35985565185547,-17.387094497680664,-14.142115592956543,14.411121368408203,-6.186484336853027,-12.328535079956055,9.740835189819336,4.783621311187744,6.551924228668213,10.330397605895996,4.459263324737549,14.270328521728516,-6.849092960357666,9.13194465637207,5.375764846801758,-11.776654243469238,-1.1047654151916504,-17.692148208618164,7.006312847137451,21.207172393798828,-9.262068748474121,7.637247562408447,-16.933809280395508,13.50979232788086,8.92284870147705,-10.869205474853516,-1.542567253112793,-17.010866165161133,-9.427898406982422,13.414850234985352,-19.316707611083984,-10.170574188232422,1.443399429321289,-7.645493030548096,-8.776193618774414,1.672211766242981,-14.609116554260254,11.814864158630371,7.54929780960083,-10.5438232421875,-12.130509376525879,-8.228065490722656,15.697751998901367,-20.38015365600586,-4.285068988800049,-4.070101737976074,-4.506431579589844,21.4322566986084,-3.561675548553467,15.94236946105957,-11.198914527893066,8.227612495422363,8.080412864685059,11.471415519714355,-14.130204200744629,9.232828140258789,-17.411691665649414,9.24709701538086,0.8831037878990173,-0.8124401569366455,-19.204879760742188,-8.509921073913574,-10.777791976928711,-6.862153053283691,-8.043487548828125,-6.469051361083984,-3.154524564743042,-0.43993836641311646,4.581628799438477,-9.34704303741455,9.721813201904297,-4.332602500915527,-12.448851585388184,-0.2452729046344757,-6.62153959274292,-2.6185431480407715,-1.6158576011657715,-2.676140308380127,9.148533821105957,-5.730212211608887,-6.410457134246826,-19.081117630004883,-3.069786548614502,11.802791595458984,-6.991303443908691,15.739031791687012,18.931373596191406,3.457585096359253,6.4842023849487305,5.664334297180176,24.00852394104004,5.095083713531494,-15.137747764587402,-10.862252235412598,2.2747535705566406,11.79128360748291,-2.8379242420196533,-0.43150997161865234,-14.670701026916504,1.993735432624817,0.1860431432723999,17.927188873291016,-4.443303108215332,-1.4698255062103271,-18.17506980895996,-3.5137250423431396,3.915802001953125,13.337040901184082,-14.274065017700195,9.630565643310547,-6.946926116943359,4.960902690887451,-10.064802169799805,-3.014430046081543,13.314462661743164,4.943387508392334,2.0846872329711914,-8.627204895019531,11.596911430358887,6.023528575897217,-17.74192237854004,6.306550025939941,8.128376007080078,10.133482933044434,-6.764287948608398,11.8624267578125,-11.009868621826172,1.1814509630203247,5.9079203605651855,-2.5731351375579834,-10.370762825012207,-21.40781593322754,16.693180084228516,21.988021850585938,14.112710952758789,-13.9778413772583,-6.283455848693848,-2.729668140411377,3.642936944961548,-15.696537017822266,-13.97689437866211,-6.449076175689697,-11.338550567626953,-2.6310150623321533,-9.601036071777344,20.520414352416992,7.935747146606445,13.974878311157227,14.629858016967773,18.520200729370117,6.857672214508057,3.46461820602417,16.609180450439453,-14.349908828735352,2.7560722827911377,-6.821880340576172,20.956558227539062,8.390469551086426,16.416269302368164,15.981205940246582,11.544999122619629,-0.6005923748016357,0.31757983565330505,15.220937728881836,18.01034164428711,9.962639808654785,-23.09273338317871,-20.85019302368164,-23.862831115722656,-17.95383071899414,-0.15878717601299286,-18.30088233947754,16.631258010864258,-2.4450864791870117,16.00657081604004,1.208693504333496,4.299632549285889,6.965013027191162,1.9873394966125488,-13.058990478515625,3.6769912242889404,-1.2445271015167236,-3.3677027225494385,10.717580795288086,-10.040729522705078,1.8739343881607056,-9.360864639282227,-9.692063331604004,-4.828964710235596,-11.237024307250977,3.375685930252075,9.611027717590332,1.1402242183685303,8.718186378479004,6.359095573425293,-4.177123069763184,-4.483587265014648,7.282947063446045,5.021772861480713,9.108346939086914,-9.300423622131348,16.479278564453125,-13.012542724609375,8.759461402893066,7.967890739440918,-5.997174263000488,-9.545108795166016,18.52859115600586,18.650300979614258,21.4439697265625,14.230501174926758,18.045331954956055,18.35956573486328,21.820430755615234,16.080738067626953,20.88523292541504,-2.6618423461914062,13.953808784484863,9.99663257598877,9.93868350982666,16.087764739990234,15.9362211227417,12.243513107299805,17.69635581970215,19.689138412475586,22.079084396362305,17.897937774658203,20.50078582763672,11.24392318725586,19.100786209106445,21.890655517578125,11.517340660095215,-2.25996732711792,14.412909507751465,11.397176742553711,12.762344360351562,17.691713333129883,-12.689532279968262,9.946576118469238,15.154067039489746,-3.5697262287139893,6.5796122550964355,2.1008148193359375,18.1635799407959,21.260316848754883,3.8288257122039795,18.036758422851562,6.914450168609619,13.955644607543945,17.846240997314453,2.928781032562256,10.767573356628418,18.0062198638916,8.299559593200684,13.413593292236328,20.079532623291016,19.030487060546875,10.51986026763916,-6.296065807342529,14.136621475219727,22.156747817993164,-10.967737197875977,13.104230880737305,7.606867790222168,-4.941342830657959,13.024360656738281,6.427712440490723,-9.246870994567871,6.380380630493164,2.5976758003234863,-3.4185290336608887,-1.8735792636871338,-4.60357141494751,-10.259264945983887,-15.839916229248047,1.1134113073349,-9.223109245300293,-17.22687339782715,2.8120691776275635,15.48279857635498,-3.7407925128936768,2.140017032623291,10.597454071044922,2.232542037963867,-7.4817304611206055,-5.369986057281494,8.201969146728516,4.661258220672607,2.193291425704956,0.38642561435699463,2.418517589569092,-2.4483001232147217,-3.35305118560791,-11.205084800720215,-3.0517256259918213,10.834748268127441,-3.264394998550415,15.150272369384766,-1.3021507263183594,5.088359832763672,-4.715572357177734,1.137428641319275,-6.778829097747803,-2.3169918060302734,-1.8342429399490356,11.263015747070312,-12.686275482177734,12.785345077514648,5.322969436645508,-6.772289752960205,3.89263916015625,8.083625793457031,-8.223689079284668,4.608445167541504,0.07747232913970947,-4.312281131744385,3.6366326808929443,19.28176498413086,6.5955047607421875,-14.656660079956055,11.811742782592773,4.163036346435547,11.949426651000977,1.9614615440368652,-5.024003028869629,9.60106086730957,12.003972053527832,-12.813252449035645,-20.64797019958496,7.172352313995361,12.984390258789062,9.84142780303955,18.87728500366211,6.6891865730285645,-9.628623008728027,14.973846435546875,9.939279556274414,-0.4935339689254761,15.58594799041748,13.69920539855957,8.654821395874023,-0.6974585652351379,-4.820334434509277,13.03503131866455,2.0204885005950928,10.77534008026123,9.771442413330078,9.263415336608887,-15.05419921875,-2.1252269744873047,7.508310317993164,-0.5079143047332764,8.603907585144043,-19.646413803100586,-3.8629257678985596,10.74180793762207,11.06456470489502,-9.790813446044922,6.691671848297119,12.79710865020752,7.0774149894714355,10.121535301208496,13.747721672058105,6.785670757293701,-20.13059425354004,25.162128448486328,13.391031265258789,11.13440227508545,3.4664478302001953,6.5658793449401855,9.715668678283691,5.1309051513671875,6.832672595977783,12.07781982421875,1.5817807912826538,6.943212509155273,11.14144515991211,3.2493083477020264,7.570135116577148,4.622905254364014,19.226383209228516,2.7216429710388184,4.458404541015625,12.565296173095703,15.51638126373291,12.542726516723633,19.128570556640625,12.254837036132812,20.40961265563965,7.856899261474609,17.565366744995117,6.79526424407959,4.517102241516113,5.175124168395996,-3.702986717224121,-11.077674865722656,-7.4525065422058105,6.980563163757324,-14.069791793823242,8.97932243347168,11.633515357971191,-10.501714706420898,15.35820484161377,23.375699996948242,13.763529777526855,-10.238924980163574,-10.515328407287598,3.475050210952759,-9.04220199584961,18.268692016601562,9.664411544799805,-8.166686058044434,-6.573080062866211,16.422639846801758,-18.205799102783203,8.875929832458496,-5.544459819793701,-8.81237506866455,-5.6464338302612305,-6.984414577484131,11.443375587463379,17.40141487121582,7.64420747756958,7.290043830871582,-12.129949569702148,-14.209747314453125,5.157433986663818,3.2531871795654297,-2.8639044761657715,-14.620600700378418,11.596320152282715,-14.720259666442871,-2.189333438873291,10.201260566711426,16.4581298828125,-3.3369128704071045,-2.3245463371276855,6.762888431549072,0.4828403890132904,20.66168785095215,-9.734132766723633,2.2269034385681152,-6.692618370056152,-0.5108522772789001,-11.844991683959961,-15.023804664611816,3.2737529277801514,-0.35006338357925415,-11.044370651245117,6.859528541564941,-12.461434364318848,-1.5471882820129395,-5.614043712615967,13.880128860473633,2.246767520904541,-6.217960834503174,24.059791564941406,7.137350559234619,13.41366195678711,11.505911827087402,7.0683794021606445,18.473552703857422,3.7218940258026123,-7.87872314453125,7.594264984130859,6.903899192810059,8.831024169921875,-13.235427856445312,-21.412067413330078,-3.962385892868042,11.335434913635254,13.878265380859375,-11.831548690795898,-8.100948333740234,-1.059532642364502,11.560335159301758,9.529996871948242,9.467272758483887,-6.25962495803833,-2.6391003131866455,-17.76821517944336,3.475680112838745,-0.12918630242347717,4.13148832321167,9.497597694396973,11.587950706481934,5.12108850479126,-7.312027454376221,-6.663485050201416,-10.490448951721191,-4.2103142738342285,-14.480225563049316,-7.365687370300293,-2.2156014442443848,-1.362131953239441,10.539726257324219,-12.660246849060059,-0.04308576509356499,5.414758682250977,-2.458806037902832,-1.0260900259017944,1.8240607976913452,2.6594274044036865,12.87447452545166,-8.438947677612305,3.6963536739349365,-11.914204597473145,8.116157531738281,4.237390041351318,-2.94038462638855,8.54621410369873,-8.044862747192383,9.852150917053223,-8.489331245422363,5.54933500289917,-6.835227966308594,-4.221873760223389,-7.86939001083374,5.89534330368042,1.326013207435608,-16.432458877563477,12.180037498474121,-1.9432085752487183,7.945573806762695,-2.242375612258911,0.47795820236206055,-9.912383079528809,-16.708520889282227,-7.267175197601318,-4.022351264953613,-1.6060709953308105,-1.7315534353256226,2.9880547523498535,4.4279022216796875,7.5864996910095215,2.939286470413208,-3.1108193397521973,1.299272060394287,12.290443420410156,2.186281442642212,-5.178231239318848,3.216615676879883,-9.879440307617188,-10.774436950683594,13.096687316894531,-14.028005599975586,-1.766139030456543,-8.758478164672852,5.872603893280029,-5.463016986846924,8.979373931884766,5.137659549713135,-3.3568809032440186,-8.564069747924805,-13.455193519592285,1.2339484691619873,7.17198371887207,7.2410664558410645,1.7267378568649292,-19.700668334960938,-10.517342567443848,7.945705890655518,5.163827896118164,5.649847507476807,-4.1212849617004395,6.563209056854248,18.282629013061523,-11.735891342163086,-20.13212776184082,-13.462186813354492,0.666383683681488,4.491368770599365,-4.192537307739258,-5.141478538513184,23.57264518737793,11.640545845031738,5.820621490478516,7.439918518066406,5.357137680053711,10.61335277557373,11.94044303894043,-19.848785400390625,6.018950939178467,0.20146913826465607,-5.02421236038208,4.55385160446167,7.1695966720581055,-23.727407455444336,-2.757593870162964,-1.3391461372375488,6.492819309234619,-21.8045597076416,5.713347434997559,-4.0238142013549805,-7.925425052642822,6.526381015777588,11.222187042236328,12.439107894897461,10.121674537658691,-14.211196899414062,-0.5842946767807007,-7.809828281402588,-7.2562103271484375,-7.006199836730957,-0.38586530089378357,-0.05893540382385254,-7.433598518371582,2.760575771331787,9.354720115661621,3.4543838500976562,2.1553266048431396,-8.360570907592773,-7.589654445648193,12.342106819152832,-5.274390697479248,-15.950139999389648,1.9136284589767456,0.713853657245636,-9.188691139221191,-6.929965496063232,6.089812755584717,11.01554012298584,-4.453348636627197,-11.13504409790039,-18.052066802978516,2.968977451324463,-17.466489791870117,-5.620802879333496,-8.371781349182129,7.104729175567627,-17.63580322265625,-10.979645729064941,2.3751468658447266,-3.90690541267395,-0.459139883518219,-0.12288939952850342,-13.14628791809082,-4.611186504364014,7.483424663543701,-22.949501037597656,-14.877543449401855,1.159611701965332,-19.93979835510254,-9.450836181640625,11.13062858581543,-11.880329132080078,8.974209785461426,9.374021530151367,12.775564193725586,10.232706069946289,0.7158324718475342,2.5168516635894775,7.968663215637207,-10.295823097229004,-7.516441345214844,4.666620254516602,-15.523184776306152,13.906658172607422,-3.1915507316589355,2.4348602294921875,-10.79063606262207,-1.42534339427948,0.6960524916648865,6.202644348144531,6.026854991912842,-3.935525417327881,-15.82946491241455,-17.83704948425293,-6.881959915161133,-11.994997024536133,-14.927865028381348,13.269112586975098,17.806474685668945,0.3915650248527527,-3.615013599395752,13.969740867614746,4.849326133728027,-13.026103973388672,8.133328437805176,-6.699244499206543,-11.785058975219727,-16.593442916870117,0.15739840269088745,5.231994152069092,5.91924524307251,3.8711135387420654,-8.52479076385498,0.13068623840808868,4.939764022827148,-4.592592716217041,2.680302619934082,4.694307327270508,5.718186855316162,10.665968894958496,3.1316821575164795,16.854488372802734,1.1090264320373535,-2.558556079864502,-3.8648760318756104,9.876757621765137,-0.7799766063690186,7.700687885284424,2.692976236343384,1.6964491605758667,-0.7870298624038696,-8.165007591247559,-12.378158569335938,-14.938994407653809,-9.264019012451172,-8.050673484802246,-4.965607166290283,-10.171255111694336,7.7026896476745605,6.82193660736084,-10.812040328979492,-9.096744537353516,-22.338699340820312,4.680546283721924,-3.8305418491363525,-1.6834608316421509,-18.49027442932129,-14.577133178710938,-8.773816108703613,-11.540005683898926,-9.416499137878418,-4.515916347503662,2.23797869682312,-13.891636848449707,3.6162543296813965,-10.858213424682617,-21.784013748168945,1.5913738012313843,-20.913726806640625,3.847710371017456,9.399370193481445,19.701566696166992,13.607834815979004,0.7451695799827576,-12.343749046325684,1.7471692562103271,-7.851689338684082,-16.19011116027832,-9.209460258483887,-12.956953048706055,0.0035625488962978125,6.132044792175293,8.056055068969727,-9.160457611083984,10.032978057861328,13.333966255187988,10.452093124389648,5.9549407958984375,-5.2664031982421875,-6.417424201965332,-0.7363939881324768,1.4296796321868896,-24.964597702026367,3.4365952014923096,-13.595426559448242,-5.525139331817627,-2.461021900177002,-5.62903356552124,1.2921589612960815,-9.590712547302246,3.3319785594940186,-3.027353048324585,-25.747175216674805,-5.239815711975098,18.184921264648438,1.9680206775665283,6.250337600708008,-1.3543035984039307,-1.8338433504104614,-5.622135162353516,13.423357009887695,5.71693754196167,3.5258796215057373,-3.7519490718841553,0.6444242000579834,-0.9453126192092896,-4.029863357543945,-12.027996063232422,9.737458229064941,-10.780802726745605,0.690096914768219,-2.5984556674957275,-15.303841590881348,4.225803852081299,-6.634732246398926,2.5973010063171387,7.367711544036865,-1.4810965061187744,18.2730712890625,11.055463790893555,4.3038554191589355,-0.015357094816863537,-14.439932823181152,1.100043535232544,-1.2116224765777588,13.580900192260742,1.2379316091537476,-9.224322319030762,4.877039432525635,2.8519484996795654,12.05373764038086,-4.288357734680176,-8.447948455810547,2.2546582221984863,-10.664307594299316,3.6592345237731934,1.2809666395187378,-8.259504318237305,-8.212620735168457,8.842809677124023,-11.917851448059082,11.219728469848633,-12.882205963134766,-12.646153450012207,-6.799254417419434,2.4891812801361084,-5.328944683074951,-4.884609699249268,7.115830898284912,-15.999333381652832,-17.770124435424805,-7.1432695388793945,-2.0365452766418457,15.945642471313477,6.725184440612793,1.2209230661392212,-1.1160054206848145,-17.585166931152344,6.211215496063232,-5.433252334594727,7.094309329986572,-11.52949333190918,-0.34365907311439514,7.198545455932617,-10.824323654174805,-0.24983763694763184,3.759209156036377,7.999271392822266,-8.235051155090332,-4.8305134773254395,-7.699158668518066,-3.5065712928771973,-14.22288990020752,-9.578676223754883,12.37161636352539,0.8364303708076477,-4.610581874847412,4.492015361785889,8.741485595703125,9.649662017822266,-1.7703008651733398,13.253832817077637,-13.179120063781738,-5.737495422363281,-0.496218740940094,9.047035217285156,5.651015281677246,-10.192471504211426,7.569601058959961,11.947643280029297,1.7215495109558105,5.307679176330566,5.1354522705078125,6.662503242492676,-4.211318492889404,-15.987703323364258,3.8226726055145264,-3.5683224201202393,8.526518821716309,6.2911577224731445,7.4202117919921875,-26.08498191833496,5.720912456512451,-7.832071304321289,-4.070894241333008,1.005398154258728,-5.277139186859131,9.588591575622559,6.09285831451416,-12.30457592010498,-11.647150039672852,-7.6093220710754395,-14.053404808044434,4.224312782287598,1.1733040809631348,19.267560958862305,7.427358150482178,-21.79555320739746,-9.37183666229248,-12.68394947052002,-13.46140193939209,18.214773178100586,5.236138820648193,-2.1247756481170654,4.62656831741333,5.893246173858643,5.753735542297363,12.813033103942871,1.0918617248535156,1.4435077905654907,3.8800456523895264,7.964543342590332,-15.572994232177734,-13.223265647888184,-1.8619372844696045,-1.507716178894043,-9.400430679321289,-9.17788314819336,-8.644567489624023,-14.45549488067627,-0.12700489163398743,13.173791885375977,11.273951530456543,-5.905663013458252,14.271167755126953,10.512351989746094,1.6625556945800781,10.828834533691406,1.409697413444519,7.97271203994751,-6.67202091217041,5.154526233673096,12.578046798706055,6.2239508628845215,-2.1736199855804443,4.776621341705322,-8.660886764526367,7.445400238037109,8.87696647644043,11.807875633239746,-0.40442317724227905,-5.365401744842529,-12.856104850769043,-4.5538835525512695,-2.70930552482605,5.343481063842773,1.0971275568008423,-13.98646354675293,-13.762252807617188,-14.614344596862793,-19.362009048461914,-12.080838203430176,5.854211330413818,15.381271362304688,-1.9806740283966064,9.29251766204834,-14.982171058654785,-0.8243489861488342,2.9695825576782227,-2.721669912338257,-7.105062484741211,14.039214134216309,-13.466450691223145,5.1824517250061035,-2.0522773265838623,-12.646676063537598,-11.005483627319336,1.2461886405944824,3.5318214893341064,4.355026721954346,3.8669559955596924,-9.824333190917969,4.306814193725586,0.29875990748405457,0.8754483461380005,-8.103256225585938,-7.9242424964904785,-20.740190505981445,-11.607054710388184,-2.5629937648773193,7.831851005554199,-2.202432870864868,-8.851313591003418,1.5972230434417725,3.100222587585449,-25.513656616210938,-1.8657251596450806,-3.1523399353027344,3.0472795963287354,-16.923105239868164,0.7972058057785034,0.40627676248550415,-16.524749755859375,-17.2811336517334,-11.303140640258789,-7.951039791107178,2.101780891418457,0.25767895579338074,7.278036594390869,10.424810409545898,-4.753047943115234,4.926035404205322,8.730871200561523,5.393739700317383,13.86601448059082,2.810783863067627,-11.799269676208496,-19.590412139892578,-11.895767211914062,-12.066976547241211,-13.761153221130371,6.333548069000244,-15.370755195617676,9.323637008666992,-5.348299980163574,-14.331242561340332,-12.232133865356445,-6.390573978424072,4.460634231567383,-4.274652481079102,10.003450393676758,8.744441032409668,-14.752158164978027,5.702852249145508,-16.985088348388672,-11.728647232055664,-7.019750118255615,-9.878913879394531,-6.09796142578125,-11.402554512023926,0.010359274223446846,2.132582664489746,-12.709383010864258,10.67408275604248,-0.2531328499317169,-4.3844313621521,6.941287040710449,0.8249202966690063,-1.9818781614303589,-10.472609519958496,-9.512164115905762,3.469149351119995,-18.83428955078125,-23.072965621948242,-9.149679183959961,0.8409018516540527,-12.873645782470703,-0.03089919127523899,4.848299980163574,-1.227769374847412,-7.931891918182373,0.677273690700531,-14.861865997314453,-13.508461952209473,1.0465455055236816,-14.675603866577148,-11.022772789001465,-7.388601779937744,-0.36932381987571716,-13.687313079833984,-14.861812591552734,0.458832323551178,-14.393880844116211,-5.618078231811523,-11.062378883361816,6.511658191680908,-3.9953813552856445,-14.286713600158691,8.12274169921875,-14.374241828918457,-10.679876327514648,-16.9386043548584,1.4545183181762695,3.4687340259552,-14.428933143615723,-14.430405616760254,-15.166646957397461,-10.490155220031738,-15.2161865234375,-2.6958093643188477,-2.8258767127990723,-1.045841932296753,-17.27473258972168,-14.5258150100708,-10.800017356872559,-15.066926002502441,2.2297894954681396,-14.078031539916992,-1.432794451713562,-15.435203552246094,2.032581090927124,1.7973997592926025,-15.186135292053223,-6.499517440795898,-15.370460510253906,-13.059392929077148,10.866260528564453,-14.862540245056152,-14.259620666503906,-8.99036979675293,-15.681905746459961,-14.596991539001465,-1.9650564193725586,18.528541564941406,5.557887554168701,-5.5835747718811035,-10.868319511413574,-4.246408939361572,-14.827783584594727,-14.887266159057617,-0.3636856973171234,-16.009763717651367,-0.3732249438762665,1.2173327207565308,3.4876742362976074,1.17099130153656,-3.302950620651245,0.4787046015262604,-10.121302604675293,-23.120925903320312,0.9404426217079163,-16.657794952392578,-6.00413179397583,-0.16835340857505798,-5.98153829574585,-5.344854831695557,-6.06068229675293,-8.824334144592285,-0.15846820175647736,2.098768472671509,8.311211585998535,5.424004554748535,13.673264503479004,-3.5570600032806396,-18.641071319580078,6.024871826171875,10.271178245544434,-21.172197341918945,0.08164701610803604,5.651724815368652,-10.096895217895508,8.559126853942871,-7.5617289543151855,-19.602733612060547,5.204896926879883,8.747042655944824,2.9474658966064453,-15.467750549316406,-12.370699882507324,-12.060623168945312,-0.866901159286499,-19.45046615600586,-1.171742558479309,3.417569160461426,-16.324304580688477,-17.202028274536133,4.302423477172852,-0.7879440784454346,-4.419766902923584,-4.452600479125977,6.5369553565979,0.5713548064231873,-13.840316772460938,10.951382637023926,-0.8827865719795227,9.575672149658203,23.943660736083984,-16.119108200073242,7.702160835266113,-3.2118945121765137,-6.000124931335449,-15.281843185424805,-11.008296012878418,-7.825087547302246,4.010262489318848,8.724900245666504,-0.009022550657391548,-5.994521141052246,10.500441551208496,-2.94043231010437,9.822587966918945,0.05450768023729324,5.558661460876465,-11.091360092163086,11.925352096557617,5.793565273284912,-1.0943925380706787,13.51319408416748,-11.774877548217773,-14.61963176727295,-0.5219194293022156,12.855361938476562,5.618561267852783,13.516509056091309,2.4678361415863037,-9.300004005432129,-13.725247383117676,10.711955070495605,-15.595281600952148,3.4992246627807617,1.9133193492889404,0.20062527060508728,-3.5788192749023438,0.21305905282497406,-0.8806142210960388,-0.6396830677986145,-0.970007061958313,-10.152410507202148,17.15811538696289,0.16586370766162872,-8.877057075500488,-8.42087459564209,-6.163439750671387,1.489698886871338,5.405462265014648,-3.856088876724243,-11.260543823242188,16.81365966796875,6.6729207038879395,3.5216147899627686,11.08363151550293,-19.64147186279297,-21.19512367248535,7.615139484405518,-7.8292107582092285,-10.791047096252441,-8.238525390625,-9.95061206817627,-10.221331596374512,-19.710140228271484,10.384578704833984,-21.788251876831055,-11.677769660949707,-11.030961990356445,10.8430814743042,4.577744007110596,-21.61647605895996,-19.506128311157227,-5.740044116973877,-1.2288236618041992,-10.980480194091797,6.039432525634766,-2.422532558441162,2.917710065841675,-12.701864242553711,-15.632393836975098,5.150243282318115,8.928804397583008,-12.337547302246094,6.542720317840576,8.115739822387695,10.836922645568848,2.5644161701202393,8.60878849029541,8.745868682861328,-5.942637920379639,-7.448598384857178,-5.711618900299072,-15.844743728637695,4.061189651489258,6.3478684425354,-8.386735916137695,-12.566975593566895,-6.703806400299072,-1.6255605220794678,-16.07434844970703,3.939305067062378,-14.978416442871094,-7.1533122062683105,-17.45765495300293,7.230961322784424,11.224103927612305,0.27343109250068665,2.8907291889190674,-11.750726699829102,12.309020042419434,7.754695415496826,-2.2140228748321533,-9.117192268371582,-1.2151436805725098,-10.700264930725098,-24.569482803344727,-11.528518676757812,-24.71186065673828,-25.416406631469727,-27.138683319091797,-9.463858604431152,-13.504377365112305,-8.92837905883789,-27.144447326660156,-9.819571495056152,-1.2595539093017578,-25.206205368041992,7.688165187835693,-24.33965301513672,-1.618338942527771,-22.28723907470703,-22.292396545410156,-24.627384185791016,-9.781532287597656,-22.90291976928711,-10.329360008239746,-11.590694427490234,-24.54296875,-23.054216384887695,-7.915728569030762,-25.20221519470215,-22.98585319519043,-21.602123260498047,-22.104448318481445,-24.595434188842773,-22.11210060119629,-23.983781814575195,1.9211910963058472,-24.854469299316406,-24.869394302368164,-9.4786958694458,-25.08696174621582,-7.3326826095581055,-8.23650074005127,1.8817309141159058,-22.910091400146484,-23.027490615844727,-5.246555328369141,1.0720996856689453,-4.999396324157715,0.707954466342926,1.7359153032302856,-8.859890937805176,13.633390426635742,-8.751917839050293,-17.992340087890625,11.339852333068848,-7.38981819152832,-4.719792366027832,5.901783466339111,-19.647775650024414,2.0651230812072754,-10.8750581741333,2.632490396499634,6.009688854217529,-16.37976837158203,3.40124773979187,-10.225783348083496,-18.977354049682617,-10.812183380126953,-7.695673942565918,-2.04811954498291,5.629250526428223,-10.045205116271973,6.449941158294678,-9.945059776306152,-3.918691635131836,-7.765610218048096,-4.609861373901367,9.712620735168457,-19.206987380981445,-9.661736488342285,6.731095790863037,-14.900617599487305,-6.300014019012451,-20.51453971862793,-4.593650817871094,-11.3837308883667,8.725239753723145,1.9370278120040894,-13.99783992767334,2.6615183353424072,2.2459468841552734,-15.023507118225098,2.728726625442505,-11.956737518310547,2.5463316440582275,-8.010674476623535,2.7412688732147217,2.8428659439086914,-9.086174964904785,-5.973931312561035,-10.134600639343262,-9.853706359863281,-10.338584899902344,3.996861457824707,2.4590938091278076,-8.884197235107422,2.634099006652832,-10.290864944458008,-10.495261192321777,-17.263551712036133,-9.134651184082031,-9.909286499023438,-7.734198093414307,-14.866249084472656,-12.975257873535156,-9.601343154907227,-19.760000228881836,-19.917259216308594,-19.472463607788086,-9.815427780151367,-11.416773796081543,13.071813583374023,-7.626908779144287,-11.262676239013672,-5.720367431640625,-5.525968074798584,-11.580348014831543,-4.916049003601074,-18.632104873657227,-15.012853622436523,-13.955896377563477,3.7107009887695312,-11.273194313049316,-15.542739868164062,6.388376235961914,-16.576297760009766,-13.982756614685059,-14.607282638549805,-4.364703178405762,-7.27723503112793],\"yaxis\":\"y\",\"type\":\"scattergl\"}],                        {\"template\":{\"data\":{\"histogram2dcontour\":[{\"type\":\"histogram2dcontour\",\"colorbar\":{\"outlinewidth\":0,\"ticks\":\"\"},\"colorscale\":[[0.0,\"#0d0887\"],[0.1111111111111111,\"#46039f\"],[0.2222222222222222,\"#7201a8\"],[0.3333333333333333,\"#9c179e\"],[0.4444444444444444,\"#bd3786\"],[0.5555555555555556,\"#d8576b\"],[0.6666666666666666,\"#ed7953\"],[0.7777777777777778,\"#fb9f3a\"],[0.8888888888888888,\"#fdca26\"],[1.0,\"#f0f921\"]]}],\"choropleth\":[{\"type\":\"choropleth\",\"colorbar\":{\"outlinewidth\":0,\"ticks\":\"\"}}],\"histogram2d\":[{\"type\":\"histogram2d\",\"colorbar\":{\"outlinewidth\":0,\"ticks\":\"\"},\"colorscale\":[[0.0,\"#0d0887\"],[0.1111111111111111,\"#46039f\"],[0.2222222222222222,\"#7201a8\"],[0.3333333333333333,\"#9c179e\"],[0.4444444444444444,\"#bd3786\"],[0.5555555555555556,\"#d8576b\"],[0.6666666666666666,\"#ed7953\"],[0.7777777777777778,\"#fb9f3a\"],[0.8888888888888888,\"#fdca26\"],[1.0,\"#f0f921\"]]}],\"heatmap\":[{\"type\":\"heatmap\",\"colorbar\":{\"outlinewidth\":0,\"ticks\":\"\"},\"colorscale\":[[0.0,\"#0d0887\"],[0.1111111111111111,\"#46039f\"],[0.2222222222222222,\"#7201a8\"],[0.3333333333333333,\"#9c179e\"],[0.4444444444444444,\"#bd3786\"],[0.5555555555555556,\"#d8576b\"],[0.6666666666666666,\"#ed7953\"],[0.7777777777777778,\"#fb9f3a\"],[0.8888888888888888,\"#fdca26\"],[1.0,\"#f0f921\"]]}],\"heatmapgl\":[{\"type\":\"heatmapgl\",\"colorbar\":{\"outlinewidth\":0,\"ticks\":\"\"},\"colorscale\":[[0.0,\"#0d0887\"],[0.1111111111111111,\"#46039f\"],[0.2222222222222222,\"#7201a8\"],[0.3333333333333333,\"#9c179e\"],[0.4444444444444444,\"#bd3786\"],[0.5555555555555556,\"#d8576b\"],[0.6666666666666666,\"#ed7953\"],[0.7777777777777778,\"#fb9f3a\"],[0.8888888888888888,\"#fdca26\"],[1.0,\"#f0f921\"]]}],\"contourcarpet\":[{\"type\":\"contourcarpet\",\"colorbar\":{\"outlinewidth\":0,\"ticks\":\"\"}}],\"contour\":[{\"type\":\"contour\",\"colorbar\":{\"outlinewidth\":0,\"ticks\":\"\"},\"colorscale\":[[0.0,\"#0d0887\"],[0.1111111111111111,\"#46039f\"],[0.2222222222222222,\"#7201a8\"],[0.3333333333333333,\"#9c179e\"],[0.4444444444444444,\"#bd3786\"],[0.5555555555555556,\"#d8576b\"],[0.6666666666666666,\"#ed7953\"],[0.7777777777777778,\"#fb9f3a\"],[0.8888888888888888,\"#fdca26\"],[1.0,\"#f0f921\"]]}],\"surface\":[{\"type\":\"surface\",\"colorbar\":{\"outlinewidth\":0,\"ticks\":\"\"},\"colorscale\":[[0.0,\"#0d0887\"],[0.1111111111111111,\"#46039f\"],[0.2222222222222222,\"#7201a8\"],[0.3333333333333333,\"#9c179e\"],[0.4444444444444444,\"#bd3786\"],[0.5555555555555556,\"#d8576b\"],[0.6666666666666666,\"#ed7953\"],[0.7777777777777778,\"#fb9f3a\"],[0.8888888888888888,\"#fdca26\"],[1.0,\"#f0f921\"]]}],\"mesh3d\":[{\"type\":\"mesh3d\",\"colorbar\":{\"outlinewidth\":0,\"ticks\":\"\"}}],\"scatter\":[{\"fillpattern\":{\"fillmode\":\"overlay\",\"size\":10,\"solidity\":0.2},\"type\":\"scatter\"}],\"parcoords\":[{\"type\":\"parcoords\",\"line\":{\"colorbar\":{\"outlinewidth\":0,\"ticks\":\"\"}}}],\"scatterpolargl\":[{\"type\":\"scatterpolargl\",\"marker\":{\"colorbar\":{\"outlinewidth\":0,\"ticks\":\"\"}}}],\"bar\":[{\"error_x\":{\"color\":\"#2a3f5f\"},\"error_y\":{\"color\":\"#2a3f5f\"},\"marker\":{\"line\":{\"color\":\"#E5ECF6\",\"width\":0.5},\"pattern\":{\"fillmode\":\"overlay\",\"size\":10,\"solidity\":0.2}},\"type\":\"bar\"}],\"scattergeo\":[{\"type\":\"scattergeo\",\"marker\":{\"colorbar\":{\"outlinewidth\":0,\"ticks\":\"\"}}}],\"scatterpolar\":[{\"type\":\"scatterpolar\",\"marker\":{\"colorbar\":{\"outlinewidth\":0,\"ticks\":\"\"}}}],\"histogram\":[{\"marker\":{\"pattern\":{\"fillmode\":\"overlay\",\"size\":10,\"solidity\":0.2}},\"type\":\"histogram\"}],\"scattergl\":[{\"type\":\"scattergl\",\"marker\":{\"colorbar\":{\"outlinewidth\":0,\"ticks\":\"\"}}}],\"scatter3d\":[{\"type\":\"scatter3d\",\"line\":{\"colorbar\":{\"outlinewidth\":0,\"ticks\":\"\"}},\"marker\":{\"colorbar\":{\"outlinewidth\":0,\"ticks\":\"\"}}}],\"scattermapbox\":[{\"type\":\"scattermapbox\",\"marker\":{\"colorbar\":{\"outlinewidth\":0,\"ticks\":\"\"}}}],\"scatterternary\":[{\"type\":\"scatterternary\",\"marker\":{\"colorbar\":{\"outlinewidth\":0,\"ticks\":\"\"}}}],\"scattercarpet\":[{\"type\":\"scattercarpet\",\"marker\":{\"colorbar\":{\"outlinewidth\":0,\"ticks\":\"\"}}}],\"carpet\":[{\"aaxis\":{\"endlinecolor\":\"#2a3f5f\",\"gridcolor\":\"white\",\"linecolor\":\"white\",\"minorgridcolor\":\"white\",\"startlinecolor\":\"#2a3f5f\"},\"baxis\":{\"endlinecolor\":\"#2a3f5f\",\"gridcolor\":\"white\",\"linecolor\":\"white\",\"minorgridcolor\":\"white\",\"startlinecolor\":\"#2a3f5f\"},\"type\":\"carpet\"}],\"table\":[{\"cells\":{\"fill\":{\"color\":\"#EBF0F8\"},\"line\":{\"color\":\"white\"}},\"header\":{\"fill\":{\"color\":\"#C8D4E3\"},\"line\":{\"color\":\"white\"}},\"type\":\"table\"}],\"barpolar\":[{\"marker\":{\"line\":{\"color\":\"#E5ECF6\",\"width\":0.5},\"pattern\":{\"fillmode\":\"overlay\",\"size\":10,\"solidity\":0.2}},\"type\":\"barpolar\"}],\"pie\":[{\"automargin\":true,\"type\":\"pie\"}]},\"layout\":{\"autotypenumbers\":\"strict\",\"colorway\":[\"#636efa\",\"#EF553B\",\"#00cc96\",\"#ab63fa\",\"#FFA15A\",\"#19d3f3\",\"#FF6692\",\"#B6E880\",\"#FF97FF\",\"#FECB52\"],\"font\":{\"color\":\"#2a3f5f\"},\"hovermode\":\"closest\",\"hoverlabel\":{\"align\":\"left\"},\"paper_bgcolor\":\"white\",\"plot_bgcolor\":\"#E5ECF6\",\"polar\":{\"bgcolor\":\"#E5ECF6\",\"angularaxis\":{\"gridcolor\":\"white\",\"linecolor\":\"white\",\"ticks\":\"\"},\"radialaxis\":{\"gridcolor\":\"white\",\"linecolor\":\"white\",\"ticks\":\"\"}},\"ternary\":{\"bgcolor\":\"#E5ECF6\",\"aaxis\":{\"gridcolor\":\"white\",\"linecolor\":\"white\",\"ticks\":\"\"},\"baxis\":{\"gridcolor\":\"white\",\"linecolor\":\"white\",\"ticks\":\"\"},\"caxis\":{\"gridcolor\":\"white\",\"linecolor\":\"white\",\"ticks\":\"\"}},\"coloraxis\":{\"colorbar\":{\"outlinewidth\":0,\"ticks\":\"\"}},\"colorscale\":{\"sequential\":[[0.0,\"#0d0887\"],[0.1111111111111111,\"#46039f\"],[0.2222222222222222,\"#7201a8\"],[0.3333333333333333,\"#9c179e\"],[0.4444444444444444,\"#bd3786\"],[0.5555555555555556,\"#d8576b\"],[0.6666666666666666,\"#ed7953\"],[0.7777777777777778,\"#fb9f3a\"],[0.8888888888888888,\"#fdca26\"],[1.0,\"#f0f921\"]],\"sequentialminus\":[[0.0,\"#0d0887\"],[0.1111111111111111,\"#46039f\"],[0.2222222222222222,\"#7201a8\"],[0.3333333333333333,\"#9c179e\"],[0.4444444444444444,\"#bd3786\"],[0.5555555555555556,\"#d8576b\"],[0.6666666666666666,\"#ed7953\"],[0.7777777777777778,\"#fb9f3a\"],[0.8888888888888888,\"#fdca26\"],[1.0,\"#f0f921\"]],\"diverging\":[[0,\"#8e0152\"],[0.1,\"#c51b7d\"],[0.2,\"#de77ae\"],[0.3,\"#f1b6da\"],[0.4,\"#fde0ef\"],[0.5,\"#f7f7f7\"],[0.6,\"#e6f5d0\"],[0.7,\"#b8e186\"],[0.8,\"#7fbc41\"],[0.9,\"#4d9221\"],[1,\"#276419\"]]},\"xaxis\":{\"gridcolor\":\"white\",\"linecolor\":\"white\",\"ticks\":\"\",\"title\":{\"standoff\":15},\"zerolinecolor\":\"white\",\"automargin\":true,\"zerolinewidth\":2},\"yaxis\":{\"gridcolor\":\"white\",\"linecolor\":\"white\",\"ticks\":\"\",\"title\":{\"standoff\":15},\"zerolinecolor\":\"white\",\"automargin\":true,\"zerolinewidth\":2},\"scene\":{\"xaxis\":{\"backgroundcolor\":\"#E5ECF6\",\"gridcolor\":\"white\",\"linecolor\":\"white\",\"showbackground\":true,\"ticks\":\"\",\"zerolinecolor\":\"white\",\"gridwidth\":2},\"yaxis\":{\"backgroundcolor\":\"#E5ECF6\",\"gridcolor\":\"white\",\"linecolor\":\"white\",\"showbackground\":true,\"ticks\":\"\",\"zerolinecolor\":\"white\",\"gridwidth\":2},\"zaxis\":{\"backgroundcolor\":\"#E5ECF6\",\"gridcolor\":\"white\",\"linecolor\":\"white\",\"showbackground\":true,\"ticks\":\"\",\"zerolinecolor\":\"white\",\"gridwidth\":2}},\"shapedefaults\":{\"line\":{\"color\":\"#2a3f5f\"}},\"annotationdefaults\":{\"arrowcolor\":\"#2a3f5f\",\"arrowhead\":0,\"arrowwidth\":1},\"geo\":{\"bgcolor\":\"white\",\"landcolor\":\"#E5ECF6\",\"subunitcolor\":\"white\",\"showland\":true,\"showlakes\":true,\"lakecolor\":\"white\"},\"title\":{\"x\":0.05},\"mapbox\":{\"style\":\"light\"}}},\"xaxis\":{\"anchor\":\"y\",\"domain\":[0.0,1.0],\"title\":{\"text\":\"tsne_1\"}},\"yaxis\":{\"anchor\":\"x\",\"domain\":[0.0,1.0],\"title\":{\"text\":\"tsne_2\"}},\"coloraxis\":{\"colorbar\":{\"title\":{\"text\":\"popularity\"}},\"colorscale\":[[0.0,\"#0d0887\"],[0.1111111111111111,\"#46039f\"],[0.2222222222222222,\"#7201a8\"],[0.3333333333333333,\"#9c179e\"],[0.4444444444444444,\"#bd3786\"],[0.5555555555555556,\"#d8576b\"],[0.6666666666666666,\"#ed7953\"],[0.7777777777777778,\"#fb9f3a\"],[0.8888888888888888,\"#fdca26\"],[1.0,\"#f0f921\"]]},\"legend\":{\"tracegroupgap\":0},\"margin\":{\"t\":60}},                        {\"responsive\": true}                    )                };                            </script>        </div>"
      ],
      "text/plain": [
       "Figure({\n",
       "    'data': [{'customdata': array([[1, 'Toy Story (1995)', 452],\n",
       "                                   [2, 'GoldenEye (1995)', 131],\n",
       "                                   [3, 'Four Rooms (1995)', 90],\n",
       "                                   ...,\n",
       "                                   [1680, 'Sliding Doors (1998)', 1],\n",
       "                                   [1681, 'You So Crazy (1994)', 1],\n",
       "                                   [1682, 'Scream of Stone (Schrei aus Stein) (1991)', 1]], dtype=object),\n",
       "              'hovertemplate': ('tsne_1=%{x}<br>tsne_2=%{y}<br>' ... '%{marker.color}<extra></extra>'),\n",
       "              'legendgroup': '',\n",
       "              'marker': {'color': array([452, 131,  90, ...,   1,   1,   1]),\n",
       "                         'coloraxis': 'coloraxis',\n",
       "                         'symbol': 'circle'},\n",
       "              'mode': 'markers',\n",
       "              'name': '',\n",
       "              'showlegend': False,\n",
       "              'type': 'scattergl',\n",
       "              'x': array([  2.893509 ,   4.3805337,  -2.1444755, ...,  23.971067 ,  -7.5164237,\n",
       "                          -10.612582 ], dtype=float32),\n",
       "              'xaxis': 'x',\n",
       "              'y': array([ 19.789236,   9.500177,   8.379098, ..., -14.607283,  -4.364703,\n",
       "                           -7.277235], dtype=float32),\n",
       "              'yaxis': 'y'}],\n",
       "    'layout': {'coloraxis': {'colorbar': {'title': {'text': 'popularity'}},\n",
       "                             'colorscale': [[0.0, '#0d0887'], [0.1111111111111111,\n",
       "                                            '#46039f'], [0.2222222222222222,\n",
       "                                            '#7201a8'], [0.3333333333333333,\n",
       "                                            '#9c179e'], [0.4444444444444444,\n",
       "                                            '#bd3786'], [0.5555555555555556,\n",
       "                                            '#d8576b'], [0.6666666666666666,\n",
       "                                            '#ed7953'], [0.7777777777777778,\n",
       "                                            '#fb9f3a'], [0.8888888888888888,\n",
       "                                            '#fdca26'], [1.0, '#f0f921']]},\n",
       "               'legend': {'tracegroupgap': 0},\n",
       "               'margin': {'t': 60},\n",
       "               'template': '...',\n",
       "               'xaxis': {'anchor': 'y', 'domain': [0.0, 1.0], 'title': {'text': 'tsne_1'}},\n",
       "               'yaxis': {'anchor': 'x', 'domain': [0.0, 1.0], 'title': {'text': 'tsne_2'}}}\n",
       "})"
      ]
     },
     "execution_count": 88,
     "metadata": {},
     "output_type": "execute_result"
    }
   ],
   "source": [
    "import plotly.express as px\n",
    "\n",
    "tsne_df = pd.DataFrame(item_tsne, columns=[\"tsne_1\", \"tsne_2\"])\n",
    "tsne_df[\"item_id\"] = np.arange(item_tsne.shape[0])\n",
    "tsne_df = tsne_df.merge(items.reset_index())\n",
    "\n",
    "px.scatter(tsne_df, x=\"tsne_1\", y=\"tsne_2\",\n",
    "           color=\"popularity\",\n",
    "           hover_data=[\"item_id\", \"title\", \"popularity\"])"
   ]
  },
  {
   "cell_type": "markdown",
   "metadata": {},
   "source": [
    "### Exercises\n",
    "\n",
    " - Add another layer to the neural network and retrain, compare train/test error.\n",
    " - Try adding more dropout and change layer sizes.\n"
   ]
  },
  {
   "cell_type": "markdown",
   "metadata": {},
   "source": [
    "### A recommendation function for a given user\n",
    "\n",
    "Once the model is trained, the system can be used to recommend a few items for a user that they haven't seen before. The following code does that.\n",
    "\n",
    "- we use the `model.predict` to compute the ratings a user would have given to all items\n",
    "- we build a function that sorts these items and excludes those the user has already seen."
   ]
  },
  {
   "cell_type": "code",
   "execution_count": null,
   "metadata": {
    "scrolled": true
   },
   "outputs": [],
   "source": [
    "def recommend(user_id, top_n=10):\n",
    "    item_ids = range(1, items['item_id'].max())\n",
    "    seen_mask = all_ratings[\"user_id\"] == user_id\n",
    "    seen_movies = set(all_ratings[seen_mask][\"item_id\"])\n",
    "    item_ids = list(filter(lambda x: x not in seen_movies, item_ids))\n",
    "\n",
    "    user = np.zeros_like(item_ids)\n",
    "    user[:len(item_ids)] = user_id\n",
    "    items_ = np.array(item_ids)\n",
    "    ratings = model.predict([user, items_]).flatten()\n",
    "    top_items = ratings.argsort()[-top_n:][::-1]\n",
    "    return [(indexed_items.loc[item_id][\"title\"], ratings[item_id]) for item_id in top_items]"
   ]
  },
  {
   "cell_type": "code",
   "execution_count": null,
   "metadata": {},
   "outputs": [],
   "source": [
    "for title, pred_rating in recommend(5):\n",
    "    print(\"    %0.1f: %s\" % (pred_rating, title))"
   ]
  },
  {
   "cell_type": "markdown",
   "metadata": {
    "collapsed": false
   },
   "source": [
    "### Exercises\n",
    "\n",
    "- Try modifying our neural network to improve recommendation. You could try adding more layers, or using a different loss function. \n",
    "- Your goal is to improve the Mean Absolute Error on the test set. Show the results of your best model."
   ]
  },
  {
   "cell_type": "code",
   "execution_count": null,
   "metadata": {
    "collapsed": false
   },
   "outputs": [],
   "source": [
    "# Extend and improve the model below\n",
    "class RegressionModel(Model):\n",
    "    def __init__(self, embedding_size, max_user_id, max_item_id):\n",
    "        super().__init__()\n",
    "\n",
    "        self.user_embedding = Embedding(output_dim=embedding_size,\n",
    "                                        input_dim=max_user_id + 1,\n",
    "                                        input_length=1,\n",
    "                                        name='user_embedding')\n",
    "        self.item_embedding = Embedding(output_dim=embedding_size,\n",
    "                                        input_dim=max_item_id + 1,\n",
    "                                        input_length=1,\n",
    "                                        name='item_embedding')\n",
    "\n",
    "        # The following two layers don't have parameters.\n",
    "        self.flatten = Flatten()\n",
    "        self.dot = Dot(axes=1)\n",
    "\n",
    "    def call(self, inputs):\n",
    "        user_inputs = inputs[0]\n",
    "        item_inputs = inputs[1]\n",
    "\n",
    "        user_vecs = self.flatten(self.user_embedding(user_inputs))\n",
    "        item_vecs = self.flatten(self.item_embedding(item_inputs))\n",
    "\n",
    "        y = self.dot([user_vecs, item_vecs])\n",
    "        return y\n",
    "\n",
    "\n",
    "model = RegressionModel(embedding_size=64, max_user_id=all_ratings['user_id'].max(), max_item_id=all_ratings['item_id'].max())\n",
    "model.compile(optimizer=\"adam\", loss='mae')"
   ]
  },
  {
   "cell_type": "code",
   "execution_count": null,
   "metadata": {
    "collapsed": false
   },
   "outputs": [],
   "source": [
    "# Training the model\n",
    "history = model.fit([user_id_train, item_id_train], rating_train,\n",
    "                    batch_size=64, epochs=10, validation_split=0.1,\n",
    "                    shuffle=True)"
   ]
  }
 ],
 "metadata": {
  "kernelspec": {
   "display_name": "data_exploration",
   "language": "python",
   "name": "python3"
  },
  "language_info": {
   "codemirror_mode": {
    "name": "ipython",
    "version": 3
   },
   "file_extension": ".py",
   "mimetype": "text/x-python",
   "name": "python",
   "nbconvert_exporter": "python",
   "pygments_lexer": "ipython3",
   "version": "3.12.4"
  }
 },
 "nbformat": 4,
 "nbformat_minor": 4
}
