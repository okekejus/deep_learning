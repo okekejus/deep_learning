{
 "cells": [
  {
   "cell_type": "markdown",
   "id": "7c6788aef474ca12",
   "metadata": {
    "collapsed": false,
    "id": "7c6788aef474ca12"
   },
   "source": [
    "# Text Generation with Recurrent Neural Networks (RNNs)\n",
    "\n",
    "In this assignment, you'll build upon your understanding of RNNs and Keras to develop a word-level text generation model.  Your goal is to train a model that learns the stylistic nuances of a chosen corpus and generates new, original text segments that echo the source material's essence.\n",
    "\n",
    "**Datasets**\n",
    "\n",
    "We've provided several intriguing text corpora to get you started:\n",
    "\n",
    "*   Mark Twain\n",
    "*   Charles Dickens\n",
    "*   William Shakespeare\n",
    "\n",
    "**Feel free to explore!**  If you have a particular passion for another author, genre, or a specific text, you're encouraged to use your own dataset of raw text."
   ]
  },
  {
   "cell_type": "code",
   "execution_count": 1,
   "id": "2d0bfedcfe52aedc",
   "metadata": {
    "colab": {
     "base_uri": "https://localhost:8080/"
    },
    "id": "2d0bfedcfe52aedc",
    "outputId": "eef898b3-cf85-43d1-9715-30194b9932d3"
   },
   "outputs": [
    {
     "name": "stdout",
     "output_type": "stream",
     "text": [
      "No GPU available. If you're on Colab, go to Runtime > Change runtime and select a GPU hardware accelerator.\n"
     ]
    }
   ],
   "source": [
    "# Check if we have a GPU available\n",
    "import tensorflow as tf\n",
    "if tf.test.gpu_device_name():\n",
    "    print('Default GPU Device: {}'.format(tf.test.gpu_device_name()))\n",
    "else:\n",
    "    print(\"No GPU available. If you're on Colab, go to Runtime > Change runtime and select a GPU hardware accelerator.\")"
   ]
  },
  {
   "cell_type": "code",
   "execution_count": 2,
   "id": "9c28c497f620b775",
   "metadata": {
    "ExecuteTime": {
     "end_time": "2024-02-08T21:30:44.959803Z",
     "start_time": "2024-02-08T21:30:44.701343Z"
    },
    "id": "9c28c497f620b775"
   },
   "outputs": [],
   "source": [
    "def download_file(url, file_path):\n",
    "    import requests\n",
    "    r = requests.get(url)\n",
    "    with open(file_path, 'wb') as f:\n",
    "        f.write(r.content)\n",
    "\n",
    "def load_dataset(file_path, fraction=1.0):\n",
    "    with open(file_path, 'r', encoding='utf-8') as f:\n",
    "        raw_text = f.read()\n",
    "    return raw_text[:int(fraction * len(raw_text))]\n",
    "\n",
    "dataset = 'shakespeare.txt' # Other options are mark_twain.txt, charles_dickens.txt\n",
    "\n",
    "download_file(f'https://github.com/UofT-DSI/deep_learning/raw/main/assignments/downloaded_books/' + dataset, dataset)\n",
    "\n",
    "# Load chosen dataset. NOTE: If Colab is running out of memory, change the `fraction` parameter to a value between 0 and 1 to load less data.\n",
    "text = load_dataset(dataset, fraction=0.1)"
   ]
  },
  {
   "cell_type": "markdown",
   "id": "dab51c764031e606",
   "metadata": {
    "collapsed": false,
    "id": "dab51c764031e606"
   },
   "source": [
    "# 1. Data Preparation (Complete or Incomplete)\n",
    "\n",
    "Before we can begin training an RNN model, we need to prepare the dataset. This involves cleaning the text, tokenizing words, and creating sequences the model can be trained on.\n",
    "\n",
    "## 1.1 Data Exploration\n",
    "\n",
    "Print the first 1000 characters of the dataset. Report the dataset's size and the number of unique characters it contains."
   ]
  },
  {
   "cell_type": "code",
   "execution_count": null,
   "id": "BunkZmdkl0Wn",
   "metadata": {
    "colab": {
     "base_uri": "https://localhost:8080/"
    },
    "id": "BunkZmdkl0Wn",
    "outputId": "e429a49a-9334-4484-bd6b-2ce40c8298c1"
   },
   "outputs": [
    {
     "name": "stdout",
     "output_type": "stream",
     "text": [
      "\n",
      "\n",
      "\n",
      "\n",
      "\n",
      "\n",
      "\n",
      "<!DOCTYPE html>\n",
      "<html\n",
      "  lang=\"en\"\n",
      "  \n",
      "  data-color-mode=\"auto\" data-light-theme=\"light\" data-dark-theme=\"dark\"\n",
      "  data-a11y-animated-images=\"system\" data-a11y-link-underlines=\"true\"\n",
      "  \n",
      "  >\n",
      "\n",
      "\n",
      "\n",
      "  <head>\n",
      "    <meta charset=\"utf-8\">\n",
      "  <link rel=\"dns-prefetch\" href=\"https://github.githubassets.com\">\n",
      "  <link rel=\"dns-prefetch\" href=\"https://avatars.githubusercontent.com\">\n",
      "  <link rel=\"dns-prefetch\" href=\"https://github-cloud.s3.amazonaws.com\">\n",
      "  <link rel=\"dns-prefetch\" href=\"https://user-images.githubusercontent.com/\">\n",
      "  <link rel=\"preconnect\" href=\"https://github.githubassets.com\" crossorigin>\n",
      "  <link rel=\"preconnect\" href=\"https://avatars.githubusercontent.com\">\n",
      "\n",
      "      <link rel=\"preload\" href=\"https://github.githubassets.com/assets/global-banner-disable-f988792be49f.js\" as=\"script\" crossorigin>\n",
      "\n",
      "  <link rel=\"preload\" href=\"https://github.githubassets.com/assets/mona-sans-d1bf285e9b9b.woff2\" as=\"font\" type=\"font/woff2\" crossorigin>\n",
      "\n",
      "\n",
      "  <link crossorigin=\"anonymous\" media=\"all\" rel=\"st\n"
     ]
    }
   ],
   "source": [
    "# Your code here\n",
    "# First 1000 characters\n",
    "print(text[0:1000])"
   ]
  },
  {
   "cell_type": "code",
   "execution_count": 7,
   "id": "8c1a77f7",
   "metadata": {},
   "outputs": [
    {
     "data": {
      "text/plain": [
       "27056"
      ]
     },
     "execution_count": 7,
     "metadata": {},
     "output_type": "execute_result"
    }
   ],
   "source": [
    "text.__sizeof__()"
   ]
  },
  {
   "cell_type": "code",
   "execution_count": 11,
   "id": "2ecafdd4",
   "metadata": {},
   "outputs": [
    {
     "name": "stdout",
     "output_type": "stream",
     "text": [
      "The text has 88 unique characters.\n"
     ]
    }
   ],
   "source": [
    "unique = set(text)\n",
    "unique_char = len(unique)\n",
    "\n",
    "print(f\"The text has {unique_char} unique characters.\")"
   ]
  },
  {
   "cell_type": "markdown",
   "id": "3ae1639f5ecfe587",
   "metadata": {
    "collapsed": false,
    "id": "3ae1639f5ecfe587"
   },
   "source": [
    "## 1.2 Text Pre-Processing\n",
    "\n",
    "To prepare the dataset for training, we need to clean the text and create a numerical representation the model can interpret. Perform the following pre-processing steps:\n",
    "\n",
    "*   Convert the entire text to lowercase.\n",
    "*   Use the `Tokenizer` class from the `keras.preprocessing.text` module to tokenize the text. You should fit the tokenizer on the text and then convert the text to a sequence of numbers. You can use the `texts_to_sequences` method to do this.\n",
    "\n",
    "**Note**:\n",
    "* You'll need to specify an appropriate size for the vocabulary. The number of words in the list of most common words can serve as a guide - does it seem like a reasonable vocabulary size?\n",
    "* Some of the words will be excluded from the vocabulary, as they don't appear often enough. It's important to provide a value for `oov_token` when creating the Tokenizer instance, so that these words can be represented as \"unknown\"."
   ]
  },
  {
   "cell_type": "code",
   "execution_count": null,
   "id": "4f73b2a7",
   "metadata": {},
   "outputs": [
    {
     "data": {
      "text/plain": [
       "'\\n\\n\\n\\n\\n\\n\\n<!doctype html>\\n<html\\n  lang=\"en\"\\n  \\n  data-color-mode=\"auto\" data-light-theme=\"light\" data-dark-theme=\"dark\"\\n  data-a11y-animated-images=\"system\" data-a11y-link-underlines=\"true\"\\n  \\n  >\\n\\n\\n\\n  <head>\\n    <meta charset=\"utf-8\">\\n  <link rel=\"dns-prefetch\" href=\"https://github.githubassets.com\">\\n  <link rel=\"dns-prefetch\" href=\"https://avatars.githubusercontent.com\">\\n  <link rel=\"dns-prefetch\" href=\"https://github-cloud.s3.amazonaws.com\">\\n  <link rel=\"dns-prefetch\" href=\"https://user-images.githubusercontent.com/\">\\n  <link rel=\"preconnect\" href=\"https://github.githubassets.com\" crossorigin>\\n  <link rel=\"preconnect\" href=\"https://avatars.githubusercontent.com\">\\n\\n      <link rel=\"preload\" href=\"https://github.githubassets.com/assets/global-banner-disable-f988792be49f.js\" as=\"script\" crossorigin>\\n\\n  <link rel=\"preload\" href=\"https://github.githubassets.com/assets/mona-sans-d1bf285e9b9b.woff2\" as=\"font\" type=\"font/woff2\" crossorigin>\\n\\n\\n  <link crossorigin=\"anonymous\" media=\"all\" rel=\"stylesheet\" href=\"https://github.githubassets.com/assets/light-3e154969b9f9.css\" /><link crossorigin=\"anonymous\" media=\"all\" rel=\"stylesheet\" href=\"https://github.githubassets.com/assets/dark-9c5b7a476542.css\" /><link data-color-theme=\"dark_dimmed\" crossorigin=\"anonymous\" media=\"all\" rel=\"stylesheet\" data-href=\"https://github.githubassets.com/assets/dark_dimmed-afda8eb0fb33.css\" /><link data-color-theme=\"dark_high_contrast\" crossorigin=\"anonymous\" media=\"all\" rel=\"stylesheet\" data-href=\"https://github.githubassets.com/assets/dark_high_contrast-2494e44ccdc5.css\" /><link data-color-theme=\"dark_colorblind\" crossorigin=\"anonymous\" media=\"all\" rel=\"stylesheet\" data-href=\"https://github.githubassets.com/assets/dark_colorblind-56fff47acadc.css\" /><link data-color-theme=\"light_colorblind\" crossorigin=\"anonymous\" media=\"all\" rel=\"stylesheet\" data-href=\"https://github.githubassets.com/assets/light_colorblind-71cd4cc132ec.css\" /><link data-color-theme=\"light_high_contrast\" crossorigin=\"anonymous\" media=\"all\" rel=\"stylesheet\" data-href=\"https://github.githubassets.com/assets/light_high_contrast-fd5499848985.css\" /><link data-color-theme=\"light_tritanopia\" crossorigin=\"anonymous\" media=\"all\" rel=\"stylesheet\" data-href=\"https://github.githubassets.com/assets/light_tritanopia-31d17ba3e139.css\" /><link data-color-theme=\"dark_tritanopia\" crossorigin=\"anonymous\" media=\"all\" rel=\"stylesheet\" data-href=\"https://github.githubassets.com/assets/dark_tritanopia-68d6b2c79663.css\" />\\n\\n    <link crossorigin=\"anonymous\" media=\"all\" rel=\"stylesheet\" href=\"https://github.githubassets.com/assets/primer-primitives-4cf0d59ab51a.css\" />\\n    <link crossorigin=\"anonymous\" media=\"all\" rel=\"stylesheet\" href=\"https://github.githubassets.com/assets/primer-af846850481e.css\" />\\n    <link crossorigin=\"anonymous\" media=\"all\" rel=\"stylesheet\" href=\"https://github.githubassets.com/assets/global-8b10f05a77e6.css\" />\\n    <link crossorigin=\"anonymous\" media=\"all\" rel=\"stylesheet\" href=\"https://github.githubassets.com/assets/github-2f6e722088eb.css\" />\\n  <link crossorigin=\"anonymous\" media=\"all\" rel=\"stylesheet\" href=\"https://github.githubassets.com/assets/repository-9c77ed90200e.css\" />\\n\\n  \\n\\n\\n  <script type=\"application/json\" id=\"client-env\">{\"locale\":\"en\",\"featureflags\":[\"copilot_immersive_title_favicon\",\"copilot_new_references_ui\",\"copilot_beta_features_opt_in\",\"copilot_chat_static_thread_suggestions\",\"copilot_conversational_ux_history_refs\",\"copilot_implicit_context\",\"copilot_smell_icebreaker_ux\",\"experimentation_azure_variant_endpoint\",\"failbot_handle_non_errors\",\"geojson_azure_maps\",\"ghost_pilot_confidence_truncation_25\",\"ghost_pilot_confidence_truncation_40\",\"hovercard_accessibility\",\"issues_react_new_timeline\",\"issues_react_avatar_refactor\",\"issues_react_remove_placeholders\",\"issues_react_blur_item_picker_on_close\",\"marketing_pages_search_explore_provider\",\"react_keyboard_shortcuts_dialog\",\"remove_child_patch\",\"sample_network_conn_type\",\"site_metered_billing_update\",\"lifecycle_label_name_updates\"]}</script>\\n<script crossorigin=\"anonymous\" defer=\"defer\" type=\"application/javascript\" src=\"https://github.githubassets.com/assets/wp-runtime-54d03e99b237.js\"></script>\\n<script crossorigin=\"anonymous\" defer=\"defer\" type=\"application/javascript\" src=\"https://github.githubassets.com/assets/vendors-node_modules_oddbird_popover-polyfill_dist_popover_js-aff936e590ed.js\"></script>\\n<script crossorigin=\"anonymous\" defer=\"defer\" type=\"application/javascript\" src=\"https://github.githubassets.com/assets/vendors-node_modules_github_arianotify-polyfill_arianotify-polyfill_js-node_modules_github_mi-3abb8f-3f7d38a7b47d.js\"></script>\\n<script crossorigin=\"anonymous\" defer=\"defer\" type=\"application/javascript\" src=\"https://github.githubassets.com/assets/ui_packages_failbot_failbot_ts-93b6a0551aa9.js\"></script>\\n<script crossorigin=\"anonymous\" defer=\"defer\" type=\"application/javascript\" src=\"https://github.githubassets.com/assets/environment-7b93e0f0c8ff.js\"></script>\\n<script crossorigin=\"anonymous\" defer=\"defer\" type=\"application/javascript\" src=\"https://github.githubassets.com/assets/vendors-node_modules_primer_behaviors_dist_esm_index_mjs-4aa4b0e95669.js\"></script>\\n<script crossorigin=\"anonymous\" defer=\"defer\" type=\"application/javascript\" src=\"https://github.githubassets.com/assets/vendors-node_modules_github_selector-observer_dist_index_esm_js-f690fd9ae3d5.js\"></script>\\n<script crossorigin=\"anonymous\" defer=\"defer\" type=\"application/javascript\" src=\"https://github.githubassets.com/assets/vendors-node_modules_github_relative-time-element_dist_index_js-6d3967acd51c.js\"></script>\\n<script crossorigin=\"anonymous\" defer=\"defer\" type=\"application/javascript\" src=\"https://github.githubassets.com/assets/vendors-node_modules_github_combobox-nav_dist_index_js-node_modules_github_g-emoji-element_di-6ce195-53781cbc550f.js\"></script>\\n<script crossorigin=\"anonymous\" defer=\"defer\" type=\"application/javascript\" src=\"https://github.githubassets.com/assets/vendors-node_modules_github_auto-complete-element_dist_index_js-node_modules_github_catalyst_-8e9f78-a74b4e0a8a6b.js\"></script>\\n<script crossorigin=\"anonymous\" defer=\"defer\" type=\"application/javascript\" src=\"https://github.githubassets.com/assets/vendors-node_modules_github_text-expander-element_dist_index_js-f5498b8d4e5d.js\"></script>\\n<script crossorigin=\"anonymous\" defer=\"defer\" type=\"application/javascript\" src=\"https://github.githubassets.com/assets/vendors-node_modules_github_filter-input-element_dist_index_js-node_modules_github_remote-inp-b5f1d7-492b5042c841.js\"></script>\\n<script crossorigin=\"anonymous\" defer=\"defer\" type=\"application/javascript\" src=\"https://github.githubassets.com/assets/vendors-node_modules_github_file-attachment-element_dist_index_js-node_modules_primer_view-co-381a4f-a11b2f0361af.js\"></script>\\n<script crossorigin=\"anonymous\" defer=\"defer\" type=\"application/javascript\" src=\"https://github.githubassets.com/assets/github-elements-aa9238e3dc93.js\"></script>\\n<script crossorigin=\"anonymous\" defer=\"defer\" type=\"application/javascript\" src=\"https://github.githubassets.com/assets/element-registry-477414219299.js\"></script>\\n<script crossorigin=\"anonymous\" defer=\"defer\" type=\"application/javascript\" src=\"https://github.githubassets.com/assets/vendors-node_modules_braintree_browser-detection_dist_browser-detection_js-node_modules_githu-bb80ec-634de60bacfa.js\"></script>\\n<script crossorigin=\"anonymous\" defer=\"defer\" type=\"application/javascript\" src=\"https://github.githubassets.com/assets/vendors-node_modules_lit-html_lit-html_js-ce7225a304c5.js\"></script>\\n<script crossorigin=\"anonymous\" defer=\"defer\" type=\"application/javascript\" src=\"https://github.githubassets.com/assets/vendors-node_modules_github_mini-throttle_dist_index_js-node_modules_morphdom_dist_morphdom-e-7c534c-f8a5485c982a.js\"></script>\\n<script crossorigin=\"anonymous\" defer=\"defer\" type=\"application/javascript\" src=\"https://github.githubassets.com/assets/vendors-node_modules_github_turbo_dist_turbo_es2017-esm_js-d2aff86c7695.js\"></script>\\n<script crossorigin=\"anonymous\" defer=\"defer\" type=\"application/javascript\" src=\"https://github.githubassets.com/assets/vendors-node_modules_github_remote-form_dist_index_js-node_modules_delegated-events_dist_inde-893f9f-6cf3320416b8.js\"></script>\\n<script crossorigin=\"anonymous\" defer=\"defer\" type=\"application/javascript\" src=\"https://github.githubassets.com/assets/vendors-node_modules_color-convert_index_js-0e07cc183eed.js\"></script>\\n<script crossorigin=\"anonymous\" defer=\"defer\" type=\"application/javascript\" src=\"https://github.githubassets.com/assets/vendors-node_modules_github_quote-selection_dist_index_js-node_modules_github_session-resume_-69cfcc-ceb1758d1876.js\"></script>\\n<script crossorigin=\"anonymous\" defer=\"defer\" type=\"application/javascript\" src=\"https://github.githubassets.com/assets/ui_packages_updatable-content_updatable-content_ts-3f0e021c7215.js\"></script>\\n<script crossorigin=\"anonymous\" defer=\"defer\" type=\"application/javascript\" src=\"https://github.githubassets.com/assets/app_assets_modules_github_behaviors_task-list_ts-app_assets_modules_github_sso_ts-ui_packages-900dde-24e9d16a679d.js\"></script>\\n<script crossorigin=\"anonymous\" defer=\"defer\" type=\"application/javascript\" src=\"https://github.githubassets.com/assets/app_assets_modules_github_sticky-scroll-into-view_ts-7cbef09a422c.js\"></script>\\n<script crossorigin=\"anonymous\" defer=\"defer\" type=\"application/javascript\" src=\"https://github.githubassets.com/assets/app_assets_modules_github_behaviors_ajax-error_ts-app_assets_modules_github_behaviors_include-d0d0a6-0e9fa537dc4f.js\"></script>\\n<script crossorigin=\"anonymous\" defer=\"defer\" type=\"application/javascript\" src=\"https://github.githubassets.com/assets/app_assets_modules_github_behaviors_commenting_edit_ts-app_assets_modules_github_behaviors_ht-83c235-fb43816ab83c.js\"></script>\\n<script crossorigin=\"anonymous\" defer=\"defer\" type=\"application/javascript\" src=\"https://github.githubassets.com/assets/behaviors-5631d4370dcb.js\"></script>\\n<script crossorigin=\"anonymous\" defer=\"defer\" type=\"application/javascript\" src=\"https://github.githubassets.com/assets/vendors-node_modules_delegated-events_dist_index_js-node_modules_github_catalyst_lib_index_js-f6223d90c7ba.js\"></script>\\n<script crossorigin=\"anonymous\" defer=\"defer\" type=\"application/javascript\" src=\"https://github.githubassets.com/assets/notifications-global-3366f6b6298e.js\"></script>\\n  \\n\\n  <title>page not found · github · github</title>\\n\\n\\n\\n  <meta name=\"route-pattern\" content=\"/:user_id/:repository/raw/*name(/*path)\" data-turbo-transient>\\n  <meta name=\"route-controller\" content=\"blob\" data-turbo-transient>\\n  <meta name=\"route-action\" content=\"raw\" data-turbo-transient>\\n\\n    \\n  <meta name=\"current-catalog-service-hash\" content=\"f3abb0cc802f3d7b95fc8762b94bdcb13bf39634c40c357301c4aa1d67a256fb\">\\n\\n\\n  <meta name=\"request-id\" content=\"c9ed:3357ab:cdab9f:1280a5c:674f36fd\" data-turbo-transient=\"true\" /><meta name=\"html-safe-nonce\" content=\"bf40e2cef53468089c95d0d904b1303a8834a9af28f789efb53f7edb8bfed26c\" data-turbo-transient=\"true\" /><meta name=\"visitor-payload\" content=\"eyjyzwzlcnjlcii6bnvsbcwicmvxdwvzdf9pzci6ikm5ruq6mzm1n0fcoknequi5rjoxmjgwqtvdojy3neyznkzeiiwidmlzaxrvcl9pzci6ijmymju1ntg5mjm5mzyymty4mzailcjyzwdpb25fzwrnzsi6imlhzcisinjlz2lvbl9yzw5kzxiioijpywqifq==\" data-turbo-transient=\"true\" /><meta name=\"visitor-hmac\" content=\"1d4af37aca0f0724f1e07d1504283f878bf97c05c038a32d4a0211e25f900ddd\" data-turbo-transient=\"true\" />\\n\\n\\n    <meta name=\"hovercard-subject-tag\" content=\"repository:720526626\" data-turbo-transient>\\n\\n\\n  <meta name=\"github-keyboard-shortcuts\" content=\"copilot\" data-turbo-transient=\"true\" />\\n  \\n\\n  <meta name=\"selected-link\" value=\"/uoft-dsi/deep_learning/raw/main/assignments/downloaded_books/shakespeare.txt\" data-turbo-transient>\\n  <link rel=\"assets\" href=\"https://github.githubassets.com/\">\\n\\n    <meta name=\"google-site-verification\" content=\"apib7-x98h0j5cpqhwwsmm6dnu4gmodroqxlidzdx9i\">\\n\\n<meta name=\"octolytics-url\" content=\"https://collector.github.com/github/collect\" />\\n\\n  \\n\\n  \\n\\n\\n\\n\\n    <meta name=\"user-login\" content=\"\">\\n\\n  \\n\\n    <meta name=\"viewport\" content=\"width=device-width\">\\n\\n    \\n\\n      <meta name=\"description\" content=\"github is where people build software. more than 100 million people use github to discover, fork, and contribute to over 420 million projects.\">\\n\\n      <link rel=\"search\" type=\"application/opensearchdescription+xml\" href=\"/opensearch.xml\" title=\"github\">\\n\\n    <link rel=\"fluid-icon\" href=\"https://github.com/fluidicon.png\" title=\"github\">\\n    <meta property=\"fb:app_id\" content=\"1401488693436528\">\\n    <meta name=\"apple-itunes-app\" content=\"app-id=1477376905, app-argument=https://github.com/uoft-dsi/deep_learning/raw/main/assignments/downloaded_books/shakespeare.txt\" />\\n\\n      <meta property=\"og:url\" content=\"https://github.com\">\\n  <meta property=\"og:site_name\" content=\"github\">\\n  <meta property=\"og:title\" content=\"build software better, together\">\\n  <meta property=\"og:description\" content=\"github is where people build software. more than 100 million people use github to discover, fork, and contribute to over 420 million projects.\">\\n  <meta property=\"og:image\" content=\"https://github.githubassets.com/assets/github-logo-55c5b9a1fe52.png\">\\n  <meta property=\"og:image:type\" content=\"image/png\">\\n  <meta property=\"og:image:width\" content=\"1200\">\\n  <meta property=\"og:image:height\" content=\"1200\">\\n  <meta property=\"og:image\" content=\"https://github.githubassets.com/assets/github-mark-57519b92ca4e.png\">\\n  <meta property=\"og:image:type\" content=\"image/png\">\\n  <meta property=\"og:image:width\" content=\"1200\">\\n  <meta property=\"og:image:height\" content=\"620\">\\n  <meta property=\"og:image\" content=\"https://github.githubassets.com/assets/github-octocat-13c86b8b336d.png\">\\n  <meta property=\"og:image:type\" content=\"image/png\">\\n  <meta property=\"og:image:width\" content=\"1200\">\\n  <meta property=\"og:image:height\" content=\"620\">\\n\\n  <meta property=\"twitter:site\" content=\"github\">\\n  <meta property=\"twitter:site:id\" content=\"13334762\">\\n  <meta property=\"twitter:creator\" content=\"github\">\\n  <meta property=\"twitter:creator:id\" content=\"13334762\">\\n  <meta property=\"twitter:card\" content=\"summary_large_image\">\\n  <meta property=\"twitter:title\" content=\"github\">\\n  <meta property=\"twitter:description\" content=\"github is where people build software. more than 100 million people use github to discover, fork, and contribute to over 420 million projects.\">\\n  <meta property=\"twitter:image\" content=\"https://github.githubassets.com/assets/github-logo-55c5b9a1fe52.png\">\\n  <meta property=\"twitter:image:width\" content=\"1200\">\\n  <meta property=\"twitter:image:height\" content=\"1200\">\\n\\n\\n\\n\\n      <meta name=\"hostname\" content=\"github.com\">\\n\\n\\n\\n        <meta name=\"expected-hostname\" content=\"github.com\">\\n\\n\\n  <meta http-equiv=\"x-pjax-version\" content=\"a3fccbbc47e59efe5da179856996add616f03e34d3398e2c6cd7ed1869365f99\" data-turbo-track=\"reload\">\\n  <meta http-equiv=\"x-pjax-csp-version\" content=\"ace39c3b6632770952207593607e6e0be0db363435a8b877b1f96abe6430f345\" data-turbo-track=\"reload\">\\n  <meta http-equiv=\"x-pjax-css-version\" content=\"3adbaefc258174e49a9472f62ba4ed262e7c0112f9e7266a3e927bd7b898716f\" data-turbo-track=\"reload\">\\n  <meta http-equiv=\"x-pjax-js-version\" content=\"4beabdd0fbb99b09cd036910100c0444b454c234ffa1d1e7fa9530b1077bb7ab\" data-turbo-track=\"reload\">\\n\\n  <meta name=\"turbo-cache-control\" content=\"no-preview\" data-turbo-transient=\"\">\\n\\n      <link crossorigin=\"anonymous\" media=\"all\" rel=\"stylesheet\" href=\"https://github.githubassets.com/assets/site-0293a3496b30.css\" />\\n  <link crossorigin=\"anonymous\" media=\"all\" rel=\"stylesheet\" href=\"https://github.githubassets.com/assets/error-4eb12c8f65b5.css\" />\\n  <meta name=\"is_logged_out_page\" content=\"true\">\\n  \\n  \\n\\n\\n\\n      <link rel=\"canonical\" href=\"https://github.com/uoft-dsi/deep_learning/raw/main/assignments/downloaded_books/shakespeare.txt\" data-turbo-transient>\\n\\n\\n    <meta name=\"turbo-body-classes\" content=\"logged-out env-production page-responsive min-height-full d-flex flex-column\">\\n\\n\\n  <meta name=\"browser-stats-url\" content=\"https://api.github.com/_private/browser/stats\">\\n\\n  <meta name=\"browser-errors-url\" content=\"https://api.github.com/_private/browser/errors\">\\n\\n  <link rel=\"mask-icon\" href=\"https://github.githubassets.com/assets/pinned-octocat-093da3e6fa40.svg\" color=\"#000000\">\\n  <link rel=\"alternate icon\" class=\"js-site-favicon\" type=\"image/png\" href=\"https://github.githubassets.com/favicons/favicon.png\">\\n  <link rel=\"icon\" class=\"js-site-favicon\" type=\"image/svg+xml\" href=\"https://github.githubassets.com/favicons/favicon.svg\" data-base-href=\"https://github.githubassets.com/favicons/favicon\">\\n\\n<meta name=\"theme-color\" content=\"#1e2327\">\\n<meta name=\"color-scheme\" content=\"light dark\" />\\n\\n\\n  <link rel=\"manifest\" href=\"/manifest.json\" crossorigin=\"use-credentials\">\\n\\n  </head>\\n\\n  <body class=\"logged-out env-production page-responsive min-height-full d-flex flex-column\" style=\"word-wrap: break-word;\">\\n    <div data-turbo-body class=\"logged-out env-production page-responsive min-height-full d-flex flex-column\" style=\"word-wrap: break-word;\">\\n      \\n\\n\\n    <div class=\"position-relative header-wrapper js-header-wrapper \">\\n      <a href=\"#start-of-content\" data-skip-target-assigned=\"false\" class=\"px-2 py-4 color-bg-accent-emphasis color-fg-on-emphasis show-on-focus js-skip-to-content\">skip to content</a>\\n\\n      <span data-view-component=\"true\" class=\"progress-pjax-loader progress position-fixed width-full\">\\n    <span style=\"width: 0%;\" data-view-component=\"true\" class=\"progress-item progress-pjax-loader-bar left-0 top-0 color-bg-accent-emphasis\"></span>\\n</span>      \\n      \\n      <script crossorigin=\"anonymous\" defer=\"defer\" type=\"application/javascript\" src=\"https://github.githubassets.com/assets/primer-react-765944243383.js\"></script>\\n<script crossorigin=\"anonymous\" defer=\"defer\" type=\"application/javascript\" src=\"https://github.githubassets.com/assets/react-core-cd0a67881543.js\"></script>\\n<script crossorigin=\"anonymous\" defer=\"defer\" type=\"application/javascript\" src=\"https://github.githubassets.com/assets/react-lib-7b7b5264f6c1.js\"></script>\\n<script crossorigin=\"anonymous\" defer=\"defer\" type=\"application/javascript\" src=\"https://github.githubassets.com/assets/octicons-react-45c3a19dd792.js\"></script>\\n<script crossorigin=\"anonymous\" defer=\"defer\" type=\"application/javascript\" src=\"https://github.githubassets.com/assets/vendors-node_modules_tanstack_query-core_build_modern_queryclient_js-e40bb86d3e93.js\"></script>\\n<script crossorigin=\"anonymous\" defer=\"defer\" type=\"application/javascript\" src=\"https://github.githubassets.com/assets/vendors-node_modules_emotion_is-prop-valid_dist_emotion-is-prop-valid_esm_js-node_modules_emo-37e3d5-31653d7f2342.js\"></script>\\n<script crossorigin=\"anonymous\" defer=\"defer\" type=\"application/javascript\" src=\"https://github.githubassets.com/assets/vendors-node_modules_github_mini-throttle_dist_index_js-node_modules_stacktrace-parser_dist_s-e7dcdd-074052b7d26b.js\"></script>\\n<script crossorigin=\"anonymous\" defer=\"defer\" type=\"application/javascript\" src=\"https://github.githubassets.com/assets/vendors-node_modules_oddbird_popover-polyfill_dist_popover-fn_js-4896ddd4b7bb.js\"></script>\\n<script crossorigin=\"anonymous\" defer=\"defer\" type=\"application/javascript\" src=\"https://github.githubassets.com/assets/ui_packages_ui-commands_ui-commands_ts-3f8e5a72ee96.js\"></script>\\n<script crossorigin=\"anonymous\" defer=\"defer\" type=\"application/javascript\" src=\"https://github.githubassets.com/assets/keyboard-shortcuts-dialog-a6c605212a80.js\"></script>\\n<link crossorigin=\"anonymous\" media=\"all\" rel=\"stylesheet\" href=\"https://github.githubassets.com/assets/primer-react.9fa170e9435ed4b922b9.module.css\" />\\n\\n<react-partial\\n  partial-name=\"keyboard-shortcuts-dialog\"\\n  data-ssr=\"false\"\\n  data-attempted-ssr=\"false\"\\n>\\n  \\n  <script type=\"application/json\" data-target=\"react-partial.embeddeddata\">{\"props\":{\"docsurl\":\"https://docs.github.com/get-started/accessibility/keyboard-shortcuts\"}}</script>\\n  <div data-target=\"react-partial.reactroot\"></div>\\n</react-partial>\\n\\n\\n\\n\\n      \\n\\n          \\n\\n              \\n<script crossorigin=\"anonymous\" defer=\"defer\" type=\"application/javascript\" src=\"https://github.githubassets.com/assets/vendors-node_modules_github_remote-form_dist_index_js-node_modules_delegated-events_dist_inde-94fd67-9df03b4ed507.js\"></script>\\n<script crossorigin=\"anonymous\" defer=\"defer\" type=\"application/javascript\" src=\"https://github.githubassets.com/assets/sessions-8fa3b694f335.js\"></script>\\n<header class=\"headermktg header-logged-out js-details-container js-header details f4 py-3\" role=\"banner\" data-is-top=\"true\" data-color-mode=light data-light-theme=light data-dark-theme=dark>\\n  <h2 class=\"sr-only\">navigation menu</h2>\\n\\n  <button type=\"button\" class=\"headermktg-backdrop d-lg-none border-0 position-fixed top-0 left-0 width-full height-full js-details-target\" aria-label=\"toggle navigation\">\\n    <span class=\"d-none\">toggle navigation</span>\\n  </button>\\n\\n  <div class=\"d-flex flex-column flex-lg-row flex-items-center px-3 px-md-4 px-lg-5 height-full position-relative z-1\">\\n    <div class=\"d-flex flex-justify-between flex-items-center width-full width-lg-auto\">\\n      <div class=\"flex-1\">\\n        <button aria-label=\"toggle navigation\" aria-expanded=\"false\" type=\"button\" data-view-component=\"true\" class=\"js-details-target js-nav-padding-recalculate js-header-menu-toggle button--link button--medium button d-lg-none color-fg-inherit p-1\">  <span class=\"button-content\">\\n    <span class=\"button-label\"><div class=\"headermenu-toggle-bar rounded my-1\"></div>\\n            <div class=\"headermenu-toggle-bar rounded my-1\"></div>\\n            <div class=\"headermenu-toggle-bar rounded my-1\"></div></span>\\n  </span>\\n</button>\\n      </div>\\n\\n      <a class=\"mr-lg-3 color-fg-inherit flex-order-2 js-prevent-focus-on-mobile-nav\"\\n        href=\"/\"\\n        aria-label=\"homepage\"\\n        data-analytics-event=\"{&quot;category&quot;:&quot;marketing nav&quot;,&quot;action&quot;:&quot;click to go to homepage&quot;,&quot;label&quot;:&quot;ref_page:marketing;ref_cta:logomark;ref_loc:header&quot;}\">\\n        <svg height=\"32\" aria-hidden=\"true\" viewbox=\"0 0 24 24\" version=\"1.1\" width=\"32\" data-view-component=\"true\" class=\"octicon octicon-mark-github\">\\n    <path d=\"m12.5.75c6.146.75 1 5.896 1 12.25c0 5.089 3.292 9.387 7.863 10.91.575.101.79-.244.79-.546 0-.273-.014-1.178-.014-2.142-2.889.532-3.636-.704-3.866-1.35-.13-.331-.69-1.352-1.18-1.625-.402-.216-.977-.748-.014-.762.906-.014 1.553.834 1.769 1.179 1.035 1.74 2.688 1.25 3.349.948.1-.747.402-1.25.733-1.538-2.559-.287-5.232-1.279-5.232-5.678 0-1.25.445-2.285 1.178-3.09-.115-.288-.517-1.467.115-3.048 0 0 .963-.302 3.163 1.179.92-.259 1.897-.388 2.875-.388.977 0 1.955.13 2.875.388 2.2-1.495 3.162-1.179 3.162-1.179.633 1.581.23 2.76.115 3.048.733.805 1.179 1.825 1.179 3.09 0 4.413-2.688 5.39-5.247 5.678.417.36.776 1.05.776 2.128 0 1.538-.014 2.774-.014 3.162 0 .302.216.662.79.547c20.709 21.637 24 17.324 24 12.25 24 5.896 18.854.75 12.5.75z\"></path>\\n</svg>\\n      </a>\\n\\n      <div class=\"flex-1 flex-order-2 text-right\">\\n          <a\\n            href=\"/login?return_to=https%3a%2f%2fgithub.com%2fuoft-dsi%2fdeep_learning%2fraw%2fmain%2fassignments%2fdownloaded_books%2fshakespeare.txt\"\\n            class=\"headermenu-link headermenu-button d-inline-flex d-lg-none flex-order-1 f5 no-underline border color-border-default rounded-2 px-2 py-1 color-fg-inherit js-prevent-focus-on-mobile-nav\"\\n            data-hydro-click=\"{&quot;event_type&quot;:&quot;authentication.click&quot;,&quot;payload&quot;:{&quot;location_in_page&quot;:&quot;site header menu&quot;,&quot;repository_id&quot;:null,&quot;auth_type&quot;:&quot;sign_up&quot;,&quot;originating_url&quot;:&quot;https://github.com/uoft-dsi/deep_learning/raw/main/assignments/downloaded_books/shakespeare.txt&quot;,&quot;user_id&quot;:null}}\" data-hydro-click-hmac=\"8b7f6fbb0f51b902944dd034499d485e4c248ad8976dcee05f30451a57a5bdaf\"\\n            data-analytics-event=\"{&quot;category&quot;:&quot;marketing nav&quot;,&quot;action&quot;:&quot;click to sign in&quot;,&quot;label&quot;:&quot;ref_page:marketing;ref_cta:sign in;ref_loc:header&quot;}\"\\n          >\\n            sign in\\n          </a>\\n      </div>\\n    </div>\\n\\n\\n    <div class=\"headermenu js-header-menu height-fit position-lg-relative d-lg-flex flex-column flex-auto top-0\">\\n      <div class=\"headermenu-wrapper d-flex flex-column flex-self-start flex-lg-row flex-auto rounded rounded-lg-0\">\\n          <nav class=\"headermenu-nav\" aria-label=\"global\">\\n            <ul class=\"d-lg-flex list-style-none\">\\n                <li class=\"headermenu-item position-relative flex-wrap flex-justify-between flex-items-center d-block d-lg-flex flex-lg-nowrap flex-lg-items-center js-details-container js-header-menu-item\">\\n      <button type=\"button\" class=\"headermenu-link border-0 width-full width-lg-auto px-0 px-lg-2 py-lg-2 no-wrap d-flex flex-items-center flex-justify-between js-details-target\" aria-expanded=\"false\">\\n        product\\n        <svg opacity=\"0.5\" aria-hidden=\"true\" height=\"16\" viewbox=\"0 0 16 16\" version=\"1.1\" width=\"16\" data-view-component=\"true\" class=\"octicon octicon-chevron-down headermenu-icon ml-1\">\\n    <path d=\"m12.78 5.22a.749.749 0 0 1 0 1.06l-4.25 4.25a.749.749 0 0 1-1.06 0l3.22 6.28a.749.749 0 1 1 1.06-1.06l8 8.939l3.72-3.719a.749.749 0 0 1 1.06 0z\"></path>\\n</svg>\\n      </button>\\n      <div class=\"headermenu-dropdown dropdown-menu rounded m-0 p-0 pt-2 pt-lg-4 position-relative position-lg-absolute left-0 left-lg-n3 pb-2 pb-lg-4 d-lg-flex flex-wrap dropdown-menu-wide\">\\n          <div class=\"headermenu-column px-lg-4 border-lg-right mb-4 mb-lg-0 pr-lg-7\">\\n              <div class=\"border-bottom pb-3 pb-lg-0 border-lg-bottom-0\">\\n                <ul class=\"list-style-none f5\" >\\n                    <li>\\n  <a class=\"headermenu-dropdown-link d-block no-underline position-relative py-2 link--secondary d-flex flex-items-center link--has-description pb-lg-3\" data-analytics-event=\"{&quot;location&quot;:&quot;navbar&quot;,&quot;action&quot;:&quot;github_copilot&quot;,&quot;context&quot;:&quot;product&quot;,&quot;tag&quot;:&quot;link&quot;,&quot;label&quot;:&quot;github_copilot_link_product_navbar&quot;}\" href=\"https://github.com/features/copilot\">\\n      <svg aria-hidden=\"true\" height=\"24\" viewbox=\"0 0 24 24\" version=\"1.1\" width=\"24\" data-view-component=\"true\" class=\"octicon octicon-copilot color-fg-subtle mr-3\">\\n    <path d=\"m23.922 16.992c-.861 1.495-5.859 5.023-11.922 5.023-6.063 0-11.061-3.528-11.922-5.023a.641.641 0 0 1 0 16.736v-2.869a.841.841 0 0 1 .053-.22c.372-.935 1.347-2.292 2.605-2.656.167-.429.414-1.055.644-1.517a10.195 10.195 0 0 1-.052-1.086c0-1.331.282-2.499 1.132-3.368.397-.406.89-.717 1.474-.952 1.399-1.136 3.392-2.093 6.122-2.093 2.731 0 4.767.957 6.166 2.093.584.235 1.077.546 1.474.952.85.869 1.132 2.037 1.132 3.368 0 .368-.014.733-.052 1.086.23.462.477 1.088.644 1.517 1.258.364 2.233 1.721 2.605 2.656a.832.832 0 0 1 .053'"
      ]
     },
     "execution_count": 12,
     "metadata": {},
     "output_type": "execute_result"
    }
   ],
   "source": [
    "text = text.lower()"
   ]
  },
  {
   "cell_type": "code",
   "execution_count": 14,
   "id": "4d0d30cd98ea453c",
   "metadata": {
    "id": "4d0d30cd98ea453c"
   },
   "outputs": [
    {
     "name": "stdout",
     "output_type": "stream",
     "text": [
      "Tokenized sequence: [[366, 114, 114, 367, 231, 15, 37, 232, 93, 15, 53, 55, 53, 15, 50, 55, 50, 15, 233, 368, 234, 369, 15, 233, 19, 370, 42, 235, 14, 371, 372, 236, 19, 28, 137, 138, 24, 4, 1, 9, 2, 19, 28, 137, 138, 24, 4, 237, 179, 2, 19, 28, 137, 138, 24, 4, 1, 373, 374, 375, 2, 19, 28, 137, 138, 24, 4, 139, 234, 179, 2, 19, 28, 238, 24, 4, 1, 9, 2, 11, 19, 28, 238, 24, 4, 237, 179, 2, 19, 28, 239, 24, 4, 1, 9, 2, 8, 140, 240, 376, 377, 6, 241, 3, 11, 19, 28, 239, 24, 4, 1, 9, 2, 8, 378, 379, 380, 242, 241, 243, 16, 243, 242, 11, 19, 11, 13, 43, 44, 28, 45, 24, 4, 1, 9, 2, 8, 53, 381, 40, 19, 11, 13, 43, 44, 28, 45, 24, 4, 1, 9, 2, 8, 50, 382, 40, 19, 15, 37, 55, 50, 244, 11, 13, 43, 44, 28, 45, 15, 24, 4, 1, 9, 2, 8, 50, 244, 383, 40, 19, 15, 37, 55, 50, 141, 142, 11, 13, 43, 44, 28, 45, 15, 24, 4, 1, 9, 2, 8, 50, 141, 142, 384, 40, 19, 15, 37, 55, 50, 143, 11, 13, 43, 44, 28, 45, 15, 24, 4, 1, 9, 2, 8, 50, 143, 385, 40, 19, 15, 37, 55, 53, 143, 11, 13, 43, 44, 28, 45, 15, 24, 4, 1, 9, 2, 8, 53, 143, 386, 40, 19, 15, 37, 55, 53, 141, 142, 11, 13, 43, 44, 28, 45, 15, 24, 4, 1, 9, 2, 8, 53, 141, 142, 387, 40, 19, 15, 37, 55, 53, 144, 11, 13, 43, 44, 28, 45, 15, 24, 4, 1, 9, 2, 8, 53, 144, 388, 40, 19, 15, 37, 55, 50, 144, 11, 13, 43, 44, 28, 45, 15, 24, 4, 1, 9, 2, 8, 50, 144, 389, 40, 19, 11, 13, 43, 44, 28, 45, 24, 4, 1, 9, 2, 8, 94, 390, 391, 40, 19, 11, 13, 43, 44, 28, 45, 24, 4, 1, 9, 2, 8, 94, 392, 40, 19, 11, 13, 43, 44, 28, 45, 24, 4, 1, 9, 2, 8, 140, 393, 40, 19, 11, 13, 43, 44, 28, 45, 24, 4, 1, 9, 2, 8, 1, 394, 40, 19, 11, 13, 43, 44, 28, 45, 24, 4, 1, 9, 2, 8, 145, 395, 40, 3, 16, 18, 180, 65, 396, 146, 397, 231, 398, 56, 399, 79, 95, 56, 245, 400, 80, 56, 401, 246, 402, 115, 56, 403, 404, 405, 406, 56, 407, 247, 408, 409, 56, 410, 248, 56, 411, 412, 247, 413, 249, 414, 415, 181, 416, 417, 182, 418, 249, 419, 250, 251, 252, 253, 96, 250, 251, 252, 253, 420, 254, 255, 147, 51, 245, 421, 147, 51, 422, 423, 147, 51, 256, 424, 147, 51, 425, 148, 426, 116, 427, 117, 428, 257, 429, 430, 51, 118, 119, 183, 256, 431, 432, 433, 434, 435, 16, 66, 436, 437, 438, 439, 67, 29, 440, 3, 3, 11, 13, 5, 5, 16, 18, 21, 22, 4, 1, 9, 2, 8, 441, 442, 443, 6, 3, 3, 11, 13, 5, 5, 16, 18, 21, 22, 4, 1, 9, 2, 8, 32, 26, 20, 258, 149, 150, 33, 149, 6, 444, 6, 3, 3, 11, 13, 5, 5, 16, 18, 21, 22, 4, 1, 9, 2, 8, 32, 26, 20, 1, 259, 150, 259, 150, 6, 26, 20, 1, 445, 446, 447, 6, 3, 3, 11, 13, 5, 5, 16, 18, 21, 22, 4, 1, 9, 2, 8, 80, 151, 181, 181, 72, 448, 6, 3, 3, 11, 13, 5, 5, 16, 18, 21, 22, 4, 1, 9, 2, 8, 449, 450, 6, 3, 3, 11, 13, 5, 5, 16, 18, 21, 22, 4, 1, 9, 2, 8, 32, 26, 20, 94, 81, 33, 152, 46, 451, 452, 6, 3, 3, 11, 13, 5, 5, 16, 18, 21, 22, 4, 1, 9, 2, 8, 32, 26, 20, 1, 453, 454, 33, 46, 152, 6, 455, 6, 3, 3, 11, 13, 5, 5, 16, 18, 21, 22, 4, 1, 9, 2, 8, 32, 26, 20, 1, 82, 456, 83, 33, 46, 6, 457, 6, 3, 3, 11, 13, 5, 5, 16, 18, 21, 22, 4, 1, 9, 2, 8, 32, 26, 20, 1, 458, 73, 33, 46, 6, 26, 20, 1, 459, 460, 83, 461, 462, 463, 6, 3, 3, 11, 13, 5, 5, 16, 18, 21, 22, 4, 1, 9, 2, 8, 32, 26, 20, 1, 93, 464, 83, 33, 46, 6, 26, 20, 1, 260, 465, 466, 6, 3, 3, 11, 13, 5, 5, 16, 18, 21, 22, 4, 1, 9, 2, 8, 32, 26, 20, 1, 261, 467, 83, 33, 46, 6, 468, 6, 3, 3, 11, 13, 5, 5, 16, 18, 21, 22, 4, 1, 9, 2, 8, 32, 26, 20, 1, 469, 470, 83, 33, 46, 6, 26, 20, 1, 184, 471, 472, 473, 6, 3, 3, 11, 13, 5, 5, 16, 18, 21, 22, 4, 1, 9, 2, 8, 32, 26, 20, 1, 474, 475, 83, 33, 46, 6, 26, 20, 94, 74, 476, 477, 478, 6, 3, 3, 11, 13, 5, 5, 16, 18, 21, 22, 4, 1, 9, 2, 8, 1, 479, 480, 6, 3, 3, 11, 13, 5, 5, 16, 18, 21, 22, 4, 1, 9, 2, 8, 83, 481, 482, 6, 3, 3, 11, 13, 5, 5, 16, 18, 21, 22, 4, 1, 9, 2, 8, 32, 26, 20, 483, 97, 262, 33, 97, 262, 6, 26, 20, 484, 485, 486, 6, 3, 3, 11, 13, 5, 5, 16, 18, 21, 22, 4, 1, 9, 2, 8, 32, 26, 20, 263, 114, 263, 114, 6, 487, 6, 3, 3, 11, 13, 5, 5, 16, 18, 21, 22, 4, 1, 9, 2, 8, 32, 26, 20, 1, 264, 265, 33, 46, 6, 26, 20, 266, 33, 266, 488, 489, 490, 6, 3, 3, 11, 13, 5, 5, 16, 18, 21, 22, 4, 1, 9, 2, 8, 32, 26, 20, 1, 38, 33, 38, 491, 152, 6, 492, 6, 3, 3, 11, 13, 5, 5, 16, 18, 21, 22, 4, 1, 9, 2, 8, 32, 26, 20, 1, 184, 267, 33, 46, 6, 26, 20, 185, 186, 33, 268, 493, 494, 6, 3, 3, 11, 13, 5, 5, 16, 18, 21, 22, 4, 1, 9, 2, 8, 32, 26, 20, 37, 495, 46, 6, 496, 6, 3, 3, 11, 13, 5, 5, 16, 18, 21, 22, 4, 1, 9, 2, 8, 32, 26, 20, 1, 497, 498, 33, 46, 6, 26, 20, 1, 499, 500, 501, 502, 6, 3, 3, 11, 13, 5, 5, 16, 18, 21, 22, 4, 1, 9, 2, 8, 80, 151, 269, 12, 269, 12, 72, 503, 6, 3, 3, 11, 13, 5, 5, 16, 18, 21, 22, 4, 1, 9, 2, 8, 59, 8, 20, 1, 81, 504, 187, 72, 59, 8, 20, 1, 505, 72, 80, 151, 506, 507, 6, 3, 3, 11, 13, 5, 5, 16, 18, 21, 22, 4, 1, 9, 2, 8, 59, 8, 20, 1, 508, 509, 510, 74, 72, 511, 6, 3, 3, 11, 13, 5, 5, 16, 18, 21, 22, 4, 1, 9, 2, 8, 59, 8, 20, 1, 81, 512, 270, 72, 59, 8, 20, 1, 81, 513, 514, 515, 6, 3, 3, 11, 13, 5, 5, 16, 18, 21, 22, 4, 1, 9, 2, 8, 59, 8, 20, 1, 81, 516, 517, 72, 59, 8, 20, 1, 81, 518, 519, 520, 6, 3, 3, 11, 13, 5, 5, 16, 18, 21, 22, 4, 1, 9, 2, 8, 81, 521, 6, 3, 3, 11, 13, 5, 5, 16, 18, 21, 22, 4, 1, 9, 2, 8, 32, 26, 20, 185, 186, 33, 46, 6, 26, 20, 1, 260, 271, 46, 6, 522, 6, 3, 3, 11, 13, 5, 5, 16, 18, 21, 22, 4, 1, 9, 2, 8, 523, 140, 524, 6, 3, 79, 75, 525, 526, 272, 1, 272, 1, 79, 14, 29, 188, 527, 12, 139, 65, 145, 98, 29, 99, 15, 38, 57, 14, 29, 188, 528, 12, 529, 15, 38, 57, 14, 29, 188, 153, 12, 98, 15, 38, 57, 14, 29, 530, 531, 532, 533, 12, 534, 14, 29, 535, 65, 12, 536, 537, 538, 539, 540, 15, 38, 57, 42, 14, 29, 114, 541, 542, 12, 543, 15, 38, 57, 42, 14, 29, 273, 274, 12, 544, 15, 38, 57, 42, 14, 29, 273, 275, 12, 545, 15, 38, 57, 42, 14, 29, 254, 546, 276, 12, 145, 547, 15, 38, 57, 14, 29, 1, 118, 119, 12, 56, 15, 38, 57, 42, 14, 29, 548, 19, 549, 154, 120, 155, 121, 98, 156, 157, 158, 122, 159, 123, 15, 38, 57, 19, 28, 8, 24, 4, 1, 9, 2, 14, 29, 550, 66, 551, 12, 552, 553, 14, 29, 554, 124, 12, 4, 555, 1, 2, 1, 556, 14, 29, 139, 277, 12, 14, 29, 557, 12, 47, 558, 47, 14, 29, 160, 12, 1, 84, 189, 100, 125, 161, 190, 191, 192, 101, 100, 162, 1, 58, 193, 194, 195, 196, 58, 197, 198, 101, 199, 19, 28, 257, 16, 18, 559, 200, 24, 560, 200, 79, 1, 19, 28, 561, 126, 24, 4, 1, 2, 562, 61, 79, 1, 14, 31, 563, 59, 65, 12, 564, 14, 29, 565, 566, 59, 12, 59, 65, 567, 59, 568, 4, 1, 2, 154, 120, 155, 121, 98, 156, 157, 158, 122, 159, 123, 14, 31, 48, 124, 12, 4, 1, 2, 14, 31, 48, 66, 29, 12, 1, 14, 31, 48, 79, 12, 125, 161, 569, 570, 14, 31, 48, 160, 12, 1, 84, 189, 100, 125, 161, 190, 191, 192, 101, 100, 162, 1, 58, 193, 194, 195, 196, 58, 197, 198, 101, 199, 14, 31, 48, 39, 12, 4, 1, 9, 2, 8, 1, 278, 279, 61, 14, 31, 48, 39, 16, 12, 39, 61, 14, 31, 48, 39, 47, 12, 102, 14, 31, 48, 39, 54, 12, 102, 14, 31, 48, 39, 12, 4, 1, 9, 2, 8, 1, 280, 571, 61, 14, 31, 48, 39, 16, 12, 39, 61, 14, 31, 48, 39, 47, 12, 102, 14, 31, 48, 39, 54, 12, 281, 14, 31, 48, 39, 12, 4, 1, 9, 2, 8, 1, 282, 572, 61, 14, 31, 48, 39, 16, 12, 39, 61, 14, 31, 48, 39, 47, 12, 102, 14, 31, 48, 39, 54, 12, 281, 14, 31, 62, 66, 12, 1, 14, 31, 62, 66, 65, 12, 283, 14, 31, 62, 284, 12, 1, 14, 31, 62, 284, 65, 12, 283, 14, 31, 62, 573, 12, 574, 575, 39, 14, 31, 62, 79, 12, 1, 14, 31, 62, 160, 12, 1, 84, 189, 100, 125, 161, 190, 191, 192, 101, 100, 162, 1, 58, 193, 194, 195, 196, 58, 197, 198, 101, 199, 14, 31, 62, 39, 12, 4, 1, 9, 2, 8, 1, 278, 279, 61, 14, 31, 62, 39, 47, 12, 102, 14, 31, 62, 39, 54, 12, 102, 14, 29, 285, 12, 1, 2, 14, 29, 576, 285, 12, 1, 2, 14, 163, 164, 165, 103, 85, 12, 577, 15, 38, 166, 167, 14, 163, 164, 165, 103, 578, 85, 12, 579, 15, 38, 166, 167, 14, 163, 164, 165, 103, 40, 85, 12, 580, 15, 38, 166, 167, 14, 163, 164, 165, 103, 6, 85, 12, 581, 15, 38, 166, 167, 14, 29, 38, 582, 583, 12, 168, 584, 15, 38, 57, 19, 11, 13, 43, 44, 28, 45, 24, 4, 1, 9, 2, 8, 66, 585, 40, 19, 11, 13, 43, 44, 28, 45, 24, 4, 1, 9, 2, 8, 270, 586, 40, 14, 29, 84, 127, 128, 75, 12, 42, 19, 28, 587, 24, 4, 1, 2, 154, 120, 155, 121, 98, 156, 157, 158, 122, 159, 123, 15, 38, 57, 14, 29, 38, 201, 588, 12, 127, 128, 146, 202, 75, 203, 204, 54, 68, 35, 23, 23, 86, 14, 29, 97, 286, 124, 12, 4, 287, 1, 2, 288, 97, 286, 14, 29, 97, 182, 124, 12, 4, 287, 1, 2, 288, 97, 182, 19, 28, 589, 126, 24, 4, 1, 9, 2, 8, 590, 282, 591, 76, 37, 592, 19, 28, 593, 126, 25, 6, 66, 95, 16, 39, 61, 24, 4, 1, 9, 2, 205, 95, 61, 19, 28, 126, 25, 6, 66, 95, 16, 39, 76, 200, 24, 4, 1, 9, 2, 205, 95, 76, 15, 594, 24, 4, 1, 9, 2, 205, 95, 14, 29, 55, 37, 12, 595, 14, 29, 37, 596, 12, 53, 50, 19, 28, 289, 24, 289, 180, 11, 162, 597, 235, 201, 25, 127, 128, 146, 202, 75, 203, 204, 54, 68, 35, 23, 23, 86, 129, 169, 130, 290, 169, 36, 15, 38, 201, 25, 127, 128, 146, 202, 75, 203, 204, 54, 68, 35, 23, 23, 86, 129, 169, 130, 290, 169, 36, 25, 69, 82, 60, 206, 6, 60, 206, 87, 24, 291, 598, 12, 15, 207, 104, 599, 131, 25, 77, 27, 132, 63, 37, 292, 293, 208, 37, 133, 116, 208, 600, 116, 209, 6, 207, 58, 12, 207, 58, 12, 87, 64, 15, 74, 105, 42, 25, 170, 103, 294, 170, 69, 295, 47, 68, 64, 129, 47, 17, 15, 74, 105, 42, 25, 170, 148, 170, 103, 294, 171, 172, 17, 173, 17, 37, 292, 293, 208, 64, 64, 3, 11, 13, 5, 5, 16, 18, 21, 22, 4, 1, 9, 2, 8, 94, 51, 601, 6, 3, 3, 11, 13, 5, 5, 16, 18, 21, 22, 4, 1, 9, 2, 8, 51, 296, 602, 6, 3, 3, 11, 13, 5, 5, 16, 18, 21, 22, 4, 1, 9, 2, 8, 51, 271, 603, 6, 3, 3, 11, 13, 5, 5, 16, 18, 21, 22, 4, 1, 9, 2, 8, 604, 51, 605, 6, 3, 3, 11, 13, 5, 5, 16, 18, 21, 22, 4, 1, 9, 2, 8, 32, 26, 20, 606, 607, 296, 125, 608, 609, 6, 610, 6, 3, 3, 11, 13, 5, 5, 16, 18, 21, 22, 4, 1, 9, 2, 8, 32, 26, 20, 297, 84, 298, 299, 33, 297, 84, 298, 299, 152, 6, 26, 20, 611, 612, 613, 6, 3, 3, 11, 13, 5, 5, 16, 18, 21, 22, 4, 1, 9, 2, 8, 32, 26, 20, 1, 264, 265, 33, 46, 6, 26, 20, 614, 615, 33, 616, 617, 618, 6, 3, 3, 11, 13, 5, 5, 16, 18, 21, 22, 4, 1, 9, 2, 8, 32, 26, 20, 258, 149, 150, 33, 149, 619, 6, 620, 6, 3, 3, 11, 13, 5, 5, 16, 18, 21, 22, 4, 1, 9, 2, 8, 80, 151, 80, 300, 80, 300, 72, 621, 6, 3, 3, 11, 13, 5, 5, 16, 18, 21, 22, 4, 1, 9, 2, 8, 118, 119, 183, 622, 6, 3, 19, 11, 13, 43, 44, 28, 45, 24, 4, 1, 9, 2, 8, 94, 51, 623, 624, 40, 51, 134, 134, 29, 118, 119, 183, 15, 301, 131, 15, 625, 301, 131, 3, 16, 18, 180, 15, 104, 51, 134, 626, 627, 628, 4, 629, 1, 2, 630, 631, 255, 118, 119, 3, 36, 15, 104, 51, 134, 632, 36, 51, 134, 3, 11, 13, 5, 5, 16, 18, 21, 22, 4, 1, 9, 2, 8, 32, 26, 20, 1, 184, 267, 33, 46, 6, 26, 20, 185, 186, 33, 268, 633, 634, 6, 3, 3, 11, 13, 5, 5, 16, 18, 21, 22, 4, 1, 9, 2, 8, 635, 636, 6, 3, 60, 25, 302, 60, 127, 128, 6, 106, 303, 6, 60, 106, 637, 132, 34, 638, 240, 15, 84, 173, 42, 15, 37, 232, 53, 15, 53, 55, 53, 15, 50, 55, 50, 304, 25, 639, 640, 174, 88, 304, 49, 16, 49, 25, 302, 641, 35, 30, 107, 89, 17, 69, 295, 173, 17, 172, 17, 47, 68, 54, 68, 6, 106, 104, 70, 67, 90, 174, 64, 25, 35, 107, 90, 174, 64, 49, 36, 25, 35, 23, 23, 86, 23, 30, 305, 23, 108, 109, 77, 34, 77, 642, 63, 77, 30, 41, 54, 68, 69, 82, 643, 7, 36, 25, 35, 23, 23, 210, 211, 23, 108, 109, 47, 68, 47, 30, 93, 36, 25, 23, 7, 49, 70, 67, 90, 174, 70, 306, 131, 16, 49, 15, 74, 105, 42, 25, 6, 106, 104, 6, 73, 644, 645, 6, 60, 88, 90, 49, 19, 49, 646, 49, 35, 30, 107, 37, 133, 212, 307, 7, 64, 25, 49, 12, 64, 25, 49, 67, 36, 25, 52, 90, 171, 91, 213, 7, 36, 36, 25, 52, 90, 171, 91, 213, 7, 36, 36, 25, 52, 90, 171, 91, 213, 7, 36, 64, 64, 49, 36, 87, 25, 308, 30, 34, 37, 133, 212, 23, 214, 27, 6, 309, 209, 116, 310, 73, 24, 70, 67, 311, 15, 215, 175, 10, 312, 10, 10, 117, 73, 10, 10, 153, 10, 10, 135, 58, 647, 58, 311, 10, 10, 67, 10, 10, 110, 75, 117, 110, 313, 648, 110, 314, 60, 10, 76, 54, 315, 70, 216, 42, 217, 17, 17, 71, 71, 85, 7, 7, 47, 315, 15, 74, 105, 42, 25, 111, 111, 280, 1, 99, 35, 316, 41, 649, 650, 317, 7, 41, 318, 7, 218, 651, 41, 652, 34, 319, 653, 654, 320, 655, 321, 656, 657, 658, 219, 659, 219, 322, 17, 660, 92, 7, 323, 92, 27, 661, 27, 662, 663, 34, 664, 665, 34, 666, 7, 667, 324, 325, 668, 7, 669, 7, 326, 7, 670, 327, 328, 329, 671, 92, 672, 673, 92, 7, 674, 675, 7, 676, 7, 112, 7, 677, 7, 678, 27, 330, 7, 96, 34, 679, 680, 7, 681, 327, 7, 96, 220, 7, 331, 27, 682, 683, 41, 332, 7, 684, 41, 332, 41, 333, 17, 7, 96, 685, 27, 686, 7, 323, 34, 334, 221, 687, 335, 7, 688, 221, 34, 336, 17, 17, 689, 337, 34, 690, 7, 112, 691, 692, 7, 693, 222, 27, 338, 222, 329, 17, 7, 694, 324, 27, 338, 222, 27, 27, 7, 339, 34, 223, 7, 112, 34, 223, 7, 112, 695, 7, 696, 340, 27, 697, 221, 34, 336, 220, 698, 7, 112, 7, 699, 7, 112, 34, 334, 17, 63, 700, 27, 330, 41, 701, 41, 702, 41, 333, 703, 704, 341, 7, 705, 341, 27, 706, 17, 7, 331, 92, 27, 707, 92, 34, 223, 17, 337, 328, 708, 219, 709, 710, 711, 712, 71, 713, 714, 71, 218, 96, 71, 41, 318, 326, 715, 317, 218, 41, 716, 99, 76, 87, 36, 25, 23, 7, 23, 214, 27, 261, 342, 87, 24, 277, 717, 58, 4, 718, 719, 720, 2, 721, 120, 722, 121, 723, 724, 725, 726, 122, 727, 123, 25, 52, 19, 52, 49, 35, 728, 23, 35, 30, 107, 23, 214, 7, 343, 168, 344, 89, 37, 89, 729, 91, 27, 77, 27, 132, 7, 37, 133, 212, 6, 309, 209, 116, 310, 73, 15, 345, 135, 10, 175, 16, 10, 10, 730, 135, 10, 10, 274, 10, 10, 346, 115, 75, 10, 10, 66, 60, 88, 10, 10, 145, 65, 10, 347, 10, 731, 16, 10, 10, 176, 732, 10, 10, 733, 124, 10, 10, 4, 1, 2, 154, 120, 155, 121, 98, 156, 157, 158, 122, 159, 123, 10, 10, 139, 65, 10, 347, 15, 345, 135, 275, 734, 15, 215, 175, 10, 312, 10, 10, 117, 73, 10, 10, 153, 10, 10, 135, 58, 176, 115, 10, 10, 67, 10, 10, 110, 75, 117, 110, 313, 176, 115, 110, 314, 60, 10, 176, 115, 87, 36, 36, 36, 25, 52, 6, 60, 88, 54, 735, 69, 30, 82, 35, 30, 23, 23, 86, 23, 93, 173, 17, 36, 25, 52, 206, 35, 23, 23, 86, 23, 736, 291, 23, 30, 305, 23, 93, 91, 91, 30, 17, 73, 25, 52, 73, 70, 67, 140, 348, 25, 35, 30, 23, 187, 129, 107, 349, 25, 52, 148, 69, 82, 23, 130, 23, 210, 211, 23, 108, 109, 35, 350, 35, 30, 23, 23, 30, 737, 23, 30, 108, 109, 6, 106, 303, 6, 60, 88, 148, 49, 16, 49, 25, 52, 19, 89, 17, 47, 68, 47, 30, 93, 77, 17, 77, 30, 27, 132, 30, 27, 168, 130, 35, 23, 23, 108, 109, 23, 210, 211, 6, 106, 104, 70, 306, 131, 224, 76, 738, 17, 41, 70, 216, 42, 54, 113, 217, 17, 17, 113, 113, 85, 7, 7, 47, 113, 15, 74, 105, 42, 25, 111, 111, 739, 740, 52, 126, 741, 7, 99, 35, 316, 742, 41, 743, 78, 78, 17, 17, 7, 17, 7, 744, 63, 96, 63, 745, 78, 78, 17, 17, 7, 7, 225, 746, 747, 177, 748, 78, 78, 17, 7, 7, 7, 225, 7, 749, 236, 750, 751, 34, 752, 78, 78, 17, 17, 7, 7, 225, 753, 99, 76, 49, 36, 25, 52, 178, 178, 88, 91, 754, 17, 307, 17, 351, 27, 351, 30, 63, 69, 82, 69, 30, 755, 172, 17, 172, 30, 756, 136, 27, 136, 30, 63, 35, 30, 23, 23, 130, 178, 88, 757, 36, 25, 52, 86, 77, 30, 63, 89, 30, 342, 352, 63, 352, 30, 17, 758, 30, 320, 36, 25, 89, 353, 136, 34, 136, 30, 17, 89, 30, 353, 17, 348, 25, 187, 129, 107, 343, 349, 87, 25, 52, 178, 19, 35, 350, 168, 344, 69, 82, 132, 27, 19, 759, 35, 23, 23, 108, 109, 19, 760, 160, 136, 30, 34, 15, 215, 175, 10, 346, 10, 10, 354, 10, 10, 153, 10, 10, 1, 56, 10, 10, 248, 10, 10, 224, 10, 10, 276, 10, 10, 19, 10, 10, 67, 10, 10, 1, 56, 19, 224, 354, 10, 24, 4, 1, 2, 246, 56, 76, 70, 216, 42, 54, 71, 217, 17, 17, 71, 71, 85, 7, 7, 47, 71, 15, 74, 105, 42, 25, 111, 111, 56, 37, 133, 761, 308, 34, 99, 35, 762, 226, 113, 763, 764, 7, 339, 41, 765, 41, 355, 227, 226, 41, 355, 177, 766, 17, 227, 767, 34, 768, 227, 226, 41, 769, 356, 356, 17, 17, 7, 17, 113, 770, 27, 771, 357, 357, 17, 17, 7, 358, 772, 773, 774, 7, 775, 27, 319, 27, 359, 27, 776, 777, 778, 779, 7, 780, 360, 7, 781, 361, 321, 361, 17, 17, 7, 362, 7, 782, 7, 325, 783, 27, 784, 7, 228, 34, 229, 785, 786, 787, 788, 7, 363, 364, 7, 789, 7, 790, 34, 791, 27, 230, 177, 792, 27, 230, 27, 793, 17, 63, 794, 795, 177, 796, 27, 230, 797, 798, 7, 799, 322, 7, 363, 364, 800, 801, 7, 228, 27, 802, 7, 228, 34, 229, 17, 229, 92, 220, 362, 7, 803, 340, 804, 805, 7, 806, 360, 7, 335, 7, 807, 808, 27, 809, 7, 810, 27, 359, 27, 811, 365, 365, 17, 17, 7, 358]]\n"
     ]
    }
   ],
   "source": [
    "from tensorflow.keras.preprocessing.text import Tokenizer\n",
    "\n",
    "# Your code here\n",
    "VOCAB_SIZE = 150\n",
    "OOV_TOKEN = \"Unknown\"\n",
    "\n",
    "tokenizer = Tokenizer()\n",
    "\n",
    "tokenizer.fit_on_texts([text])\n",
    "sequences = tokenizer.texts_to_sequences([text])\n",
    "\n",
    "print(\"Tokenized sequence:\", sequences)"
   ]
  },
  {
   "cell_type": "markdown",
   "id": "89d32bb9356f711",
   "metadata": {
    "collapsed": false,
    "id": "89d32bb9356f711"
   },
   "source": [
    "If everything worked, the following line should show you the first 10 words in the vocabulary:"
   ]
  },
  {
   "cell_type": "code",
   "execution_count": 15,
   "id": "6a7cd547a19feece",
   "metadata": {
    "colab": {
     "base_uri": "https://localhost:8080/"
    },
    "id": "6a7cd547a19feece",
    "outputId": "1f52c24c-fe9d-4074-a6b9-2be1b36a172e"
   },
   "outputs": [
    {
     "name": "stdout",
     "output_type": "stream",
     "text": [
      "[('github', 1), ('com', 2), ('script', 3), ('https', 4), ('defer', 5), ('js', 6), ('1', 7), ('assets', 8), ('githubassets', 9), ('quot', 10)]\n"
     ]
    }
   ],
   "source": [
    "try:\n",
    "    print(list(tokenizer.word_index.items())[:10])\n",
    "except AttributeError:\n",
    "    print(\"Tokenizer has not been initialized. Possible issue: Complete the relevant section of the assignment to initialize it.\"\n",
    ")\n"
   ]
  },
  {
   "cell_type": "markdown",
   "id": "da504e4bc6617613",
   "metadata": {
    "collapsed": false,
    "id": "da504e4bc6617613"
   },
   "source": [
    "## 1.3 Sequence Generation\n",
    "\n",
    "Now that the text has been tokenized, we need to create sequences the model can be trained on. There are two parts to this:\n",
    "\n",
    "*   Use the `texts_to_sequences` method from the tokenizer to convert the text to a list of sequences of numbers.\n",
    "*   Generate the training sequences. Each training sequence should contain `SEQ_LENGTH` token IDs from the text. The target token for each sequence should be the word that follows the sequence in the text."
   ]
  },
  {
   "cell_type": "code",
   "execution_count": 6,
   "id": "4ff5fc8d0273709c",
   "metadata": {
    "id": "4ff5fc8d0273709c"
   },
   "outputs": [],
   "source": [
    "SEQ_LENGTH = None # Choose an appropriate sequence length\n",
    "\n",
    "# Convert the text to a list of sequences of numbers\n",
    "sequences = None\n",
    "\n",
    "# Generate the training sequences\n",
    "X = []\n",
    "y = []\n",
    "# Your code here"
   ]
  },
  {
   "cell_type": "markdown",
   "id": "3b6bdc0deb930df1",
   "metadata": {
    "collapsed": false,
    "id": "3b6bdc0deb930df1"
   },
   "source": [
    "Assuming your sequences are stored in `X` and the corresponding targets in `y`, the following line should print the first training sequence and its target:"
   ]
  },
  {
   "cell_type": "code",
   "execution_count": 7,
   "id": "a495cab04001ce92",
   "metadata": {
    "colab": {
     "base_uri": "https://localhost:8080/"
    },
    "id": "a495cab04001ce92",
    "outputId": "ecc2c1f4-81d5-4edb-ba86-8c53f86df70b"
   },
   "outputs": [
    {
     "name": "stdout",
     "output_type": "stream",
     "text": [
      "Training sequences have not been generated. Possible issue: Complete the relevant section of the assignment to initialize it.\n"
     ]
    }
   ],
   "source": [
    "if len(X) > 0 and len(y) > 0:\n",
    "    print(f'Sequence: {X[0]}\\nTarget: {y[0]}')\n",
    "    print(f'Translated back to words: {[tokenizer.index_word[i] for i in X[0]]} -> {tokenizer.index_word[y[0]]}')\n",
    "else:\n",
    "    print(\"Training sequences have not been generated. Possible issue: Complete the relevant section of the assignment to initialize it.\")\n"
   ]
  },
  {
   "cell_type": "markdown",
   "id": "d5bb2c55da17aaa0",
   "metadata": {
    "collapsed": false,
    "id": "d5bb2c55da17aaa0"
   },
   "source": [
    "And the following code will transform y into a one-hot encoded matrix, and split everything into training and validation sets:"
   ]
  },
  {
   "cell_type": "code",
   "execution_count": 8,
   "id": "3a929b2e6c2cc921",
   "metadata": {
    "colab": {
     "base_uri": "https://localhost:8080/"
    },
    "id": "3a929b2e6c2cc921",
    "outputId": "bbac2f5d-5ec3-40d0-fdd7-c567088569d7"
   },
   "outputs": [
    {
     "name": "stdout",
     "output_type": "stream",
     "text": [
      "Tokenizer has not been initialized. Please initialize it and load the vocabulary before continuing.\n"
     ]
    }
   ],
   "source": [
    "from sklearn.model_selection import train_test_split\n",
    "from keras.utils import to_categorical\n",
    "import numpy as np\n",
    "\n",
    "# Ensure that tokenizer has been initialized\n",
    "if tokenizer is not None:\n",
    "    # Convert X and y to numpy arrays\n",
    "    X = np.array(X)\n",
    "    y = np.array(y)\n",
    "\n",
    "    # One last thing: let's drop any examples where the target is the OOV token - we don't want our model to predict that (boring!)\n",
    "    if OOV_TOKEN in tokenizer.word_index:\n",
    "        mask = y != tokenizer.word_index[OOV_TOKEN]\n",
    "        X = X[mask]\n",
    "        y = y[mask]\n",
    "\n",
    "    # One-hot encode the target token\n",
    "    y = to_categorical(y, num_classes=VOCAB_SIZE)\n",
    "\n",
    "    # Split the data into training and validation sets\n",
    "    X_train, X_val, y_train, y_val = train_test_split(X, y, test_size=0.2, random_state=42)\n",
    "\n",
    "    print(f'X_train shape: {X_train.shape}')\n",
    "    print(f'y_train shape: {y_train.shape}')\n",
    "else:\n",
    "    print(\"Tokenizer has not been initialized. Please initialize it and load the vocabulary before continuing.\")\n"
   ]
  },
  {
   "cell_type": "markdown",
   "id": "b6e4161897210434",
   "metadata": {
    "collapsed": false,
    "id": "b6e4161897210434"
   },
   "source": [
    "# 2. Model Development (Complete or Incomplete)\n",
    "\n",
    "With the dataset prepared, it's time to develop the RNN model. You'll need to define the architecture of the model, compile it, and prepare it for training.\n",
    "\n",
    "## 2.1 Model Architecture\n",
    "\n",
    "Define the architecture of your RNN model. You can design it however you like, but there are a few features that it's important to include:\n",
    "\n",
    "*   An embedding layer that learns a dense representation of the input tokens. You'll need to specify the input dimension (the size of the vocabulary) and the output dimension (the size of the dense representation). Remember, you can look at the documentation [here](https://keras.io/api/layers/core_layers/embedding/).\n",
    "*   At least one recurrent layer. We have learned how to use LSTM layers in class, but you can use other types of recurrent layers if you prefer. You can find the documentation [here](https://keras.io/api/layers/recurrent_layers/lstm/).\n",
    "*   A dense layer with a softmax activation function. This layer will output a probability distribution over the vocabulary, so that the model can make predictions about the next token."
   ]
  },
  {
   "cell_type": "code",
   "execution_count": 9,
   "id": "9fdfaad93818fc8d",
   "metadata": {
    "colab": {
     "base_uri": "https://localhost:8080/"
    },
    "id": "9fdfaad93818fc8d",
    "outputId": "ae02a273-ab37-4274-d41c-b2c0c80350d6"
   },
   "outputs": [
    {
     "name": "stdout",
     "output_type": "stream",
     "text": [
      "No layers have been added to the model. Please complete the assignment by adding the required layers.\n"
     ]
    }
   ],
   "source": [
    "from keras.models import Sequential\n",
    "from keras.layers import Embedding, LSTM, Dense\n",
    "\n",
    "model = Sequential([\n",
    "    # Your code here\n",
    "])\n",
    "\n",
    "# Check if the model has layers before trying to print the summary\n",
    "if len(model.layers) > 0:\n",
    "    model.summary()\n",
    "else:\n",
    "    print(\"No layers have been added to the model. Please complete the assignment by adding the required layers.\")"
   ]
  },
  {
   "cell_type": "markdown",
   "id": "2fafd2dbb0d589fc",
   "metadata": {
    "collapsed": false,
    "id": "2fafd2dbb0d589fc"
   },
   "source": [
    "## 2.2 Model Compilation\n",
    "\n",
    "Compile the model with an appropriate loss function and optimizer. You might also want to track additional metrics, such as accuracy.\n",
    "\n",
    "Give a short explanation of your choice of loss function and optimizer:\n",
    "\n",
    "_your explanation here_"
   ]
  },
  {
   "cell_type": "code",
   "execution_count": 10,
   "id": "ae4ca7a12051b1fd",
   "metadata": {
    "id": "ae4ca7a12051b1fd"
   },
   "outputs": [],
   "source": [
    "# Your code here"
   ]
  },
  {
   "cell_type": "markdown",
   "id": "c2f0b90a448c4f4b",
   "metadata": {
    "collapsed": false,
    "id": "c2f0b90a448c4f4b"
   },
   "source": [
    "## 2.3 Model Training\n",
    "\n",
    "Train the model on the training data you've prepared.\n",
    "\n",
    "* Train your model for 5 epochs with a batch size of 128. Use the validation data for validation.\n",
    "* Store the training history in a variable called `history`."
   ]
  },
  {
   "cell_type": "code",
   "execution_count": 11,
   "id": "256b1ea138c67ef7",
   "metadata": {
    "colab": {
     "base_uri": "https://localhost:8080/"
    },
    "id": "256b1ea138c67ef7",
    "outputId": "fba36993-0bf3-472e-f1c3-1da548c12ead"
   },
   "outputs": [],
   "source": [
    "# Your code here"
   ]
  },
  {
   "cell_type": "markdown",
   "id": "195c59bf80d2a2c4",
   "metadata": {
    "collapsed": false
   },
   "source": [
    "Plot the training history to visualize the model's learning progress. Your plot should include the training and validation loss."
   ]
  },
  {
   "cell_type": "code",
   "execution_count": 12,
   "id": "9e8cacec70d8f313",
   "metadata": {
    "id": "9e8cacec70d8f313"
   },
   "outputs": [],
   "source": [
    "import matplotlib.pyplot as plt\n",
    "\n",
    "# Your code here"
   ]
  },
  {
   "cell_type": "markdown",
   "id": "3d9ed71305787aed",
   "metadata": {
    "collapsed": false
   },
   "source": [
    "# 3. Text Generation (Complete or Incomplete)\n",
    "\n",
    "Write a method called `generate_text` that uses the trained model to generate new text. The method should take the following parameters:\n",
    "\n",
    "*   `model`: The trained RNN model.\n",
    "*   `tokenizer`: The tokenizer used to pre-process the text data.\n",
    "*   `seed_text`: The seed text the model will use to generate new text.\n",
    "*   `max_sequence_len`: The maximum length of the sequence used to generate new text.\n",
    "\n",
    "The method should return the generated text.\n",
    "\n",
    "An overview of the text generation process you should follow:\n",
    "\n",
    "1. Tokenize the seed text using the tokenizer we built before.\n",
    "2. Pad the sequences to the same length as the training sequences - you can use the `pad_sequences` method from the `keras.preprocessing.sequence` module, which is documented [here](https://www.tensorflow.org/api_docs/python/tf/keras/preprocessing/sequence/pad_sequences).\n",
    "3. Use the model to predict the next token in the sequence. Remember that the model will output a probability distribution over the vocabulary, so you'll need to use `np.argmax` to find the token with the highest probability.\n",
    "4. Add the predicted token to the sequence and remove the first token.\n",
    "5. Repeat steps 3-4 until you have generated the desired number of tokens.\n",
    "6. Convert the generated token IDs back to words and return the combined result as a single string.\n",
    "\n",
    "This is a challenging task, so don't hesitate to ask for help if you need it. It's okay if the generated text doesn't make much sense yet - we'll work on improving the model next.\n",
    "As a bonus, you can make your method generate \"gpt-style\" by having it print out each word as it's generated, so you can see the text being generated in real time."
   ]
  },
  {
   "cell_type": "code",
   "execution_count": 13,
   "id": "d73dbf278a1265ef",
   "metadata": {
    "collapsed": false
   },
   "outputs": [],
   "source": [
    "from keras.preprocessing.sequence import pad_sequences\n",
    "\n",
    "def get_predicted_word(model, sequence):\n",
    "    \"\"\"\n",
    "    Get the predicted word from the model.\n",
    "    This helper function uses a concept we haven't covered in class yet: temperature.\n",
    "    In essence, a little bit of randomness in what word we predict can make the text more interesting.\n",
    "    \"\"\"\n",
    "\n",
    "    # Use the model to predict the next token in the sequence\n",
    "    yhat = model.predict(sequence, verbose=0)\n",
    "\n",
    "    # Get the index of the predicted word, according to the probabilities\n",
    "    yhat = np.random.choice(range(VOCAB_SIZE), p=yhat.ravel())\n",
    "\n",
    "    return yhat\n",
    "\n",
    "def generate_text(model, tokenizer, seed_text, max_sequence_len):\n",
    "    \"\"\"\n",
    "    Generate new text using the trained model.\n",
    "    You can use the `get_predicted_word` helper function to help you with this.\n",
    "    \"\"\"\n",
    "    \n",
    "    return None\n"
   ]
  },
  {
   "cell_type": "code",
   "execution_count": 14,
   "id": "f463b0c3df49e2c",
   "metadata": {
    "collapsed": false
   },
   "outputs": [],
   "source": [
    "# Test the text generation function\n",
    "generate_text(model, tokenizer, 'hamlet', SEQ_LENGTH)"
   ]
  },
  {
   "cell_type": "markdown",
   "id": "5871d836a0135c41",
   "metadata": {
    "collapsed": false
   },
   "source": [
    "It's likely that the text generated by your model doesn't make much sense yet. This is because the model hasn't been trained for very long, and the training dataset is relatively small. \n",
    "\n",
    "# 4. Model Refinement (Complete or Incomplete)\n",
    "\n",
    "In this last section, you'll work on improving your model. There are many ways to do this, but here are a few ideas to get you started:\n",
    "\n",
    "* Use pre-trained embeddings: the code below will help you to load pre-trained embeddings through Keras. \n",
    "* Experiment with different model architectures, including the number of layers, the number of units in each layer, and the use of dropout layers.\n",
    "* Train your model for longer. You can also experiment with different batch sizes.\n",
    "\n",
    "Implement and test out at least one of these ideas. If you have other ideas for improving the model, feel free to try them out as well."
   ]
  },
  {
   "cell_type": "code",
   "execution_count": 15,
   "id": "dda8b0f845c20862",
   "metadata": {
    "collapsed": false
   },
   "outputs": [],
   "source": [
    "!wget https://downloads.cs.stanford.edu/nlp/data/glove.6B.zip\n",
    "!unzip glove.6B.zip"
   ]
  },
  {
   "cell_type": "code",
   "execution_count": 16,
   "id": "e8b777220505635",
   "metadata": {
    "collapsed": false
   },
   "outputs": [
    {
     "name": "stdout",
     "output_type": "stream",
     "text": [
      "Found 400000 word vectors.\n"
     ]
    }
   ],
   "source": [
    "# Load the pre-trained embeddings\n",
    "embeddings_index = {}\n",
    "try:\n",
    "    with open('glove.6B.100d.txt', encoding='utf-8') as f:\n",
    "        for line in f:\n",
    "            values = line.split()\n",
    "            word = values[0]\n",
    "            coefs = np.asarray(values[1:], dtype='float32')\n",
    "            embeddings_index[word] = coefs\n",
    "    print(f'Found {len(embeddings_index)} word vectors.')\n",
    "except FileNotFoundError:\n",
    "    print(\"'glove.6B.100d.txt' File not found. Please make sure you have ran the previous cell.\")"
   ]
  },
  {
   "cell_type": "code",
   "execution_count": 17,
   "id": "d3e48ff004757cf2",
   "metadata": {
    "collapsed": false
   },
   "outputs": [
    {
     "name": "stdout",
     "output_type": "stream",
     "text": [
      "You need to complete the previous parts of your assignment in order for this to work.\n"
     ]
    }
   ],
   "source": [
    "# Check if VOCAB_SIZE is set\n",
    "if VOCAB_SIZE is None:\n",
    "    print(\"You need to complete the previous parts of your assignment in order for this to work.\")\n",
    "else:\n",
    "    # Create an embedding matrix\n",
    "    embedding_matrix = np.zeros((VOCAB_SIZE, 100))\n",
    "    for word, i in tokenizer.word_index.items():\n",
    "        if i < VOCAB_SIZE:\n",
    "            embedding_vector = embeddings_index.get(word)\n",
    "            if embedding_vector is not None:\n",
    "                embedding_matrix[i] = embedding_vector"
   ]
  },
  {
   "cell_type": "code",
   "execution_count": 18,
   "id": "e3d21d5dbbbcf9f9",
   "metadata": {
    "collapsed": false
   },
   "outputs": [
    {
     "name": "stdout",
     "output_type": "stream",
     "text": [
      "You need to complete the previous parts of your assignment in order for this to work.\n"
     ]
    }
   ],
   "source": [
    "# Check if VOCAB_SIZE is set\n",
    "if VOCAB_SIZE is None:\n",
    "    print(\"You need to complete the previous parts of your assignment in order for this to work.\")\n",
    "else:\n",
    "    embedding_layer = Embedding(\n",
    "        VOCAB_SIZE, 100, weights=[embedding_matrix], input_length=SEQ_LENGTH, trainable=False\n",
    "    )"
   ]
  },
  {
   "cell_type": "code",
   "execution_count": 19,
   "id": "236cb723e4e5b3fc",
   "metadata": {
    "collapsed": false
   },
   "outputs": [],
   "source": [
    "# Define a new model and train it\n",
    "\n",
    "# Your code here"
   ]
  },
  {
   "cell_type": "markdown",
   "id": "742095fb",
   "metadata": {},
   "source": [
    "## Criteria\n",
    "\n",
    "|Criteria|Complete|Incomplete|\n",
    "|----|----|----|\n",
    "|Task 1|The task has been completed successfully and there are no errors.|The task is still incomplete and there is at least one error.|\n",
    "|Task 2|The task has been completed successfully and there are no errors.|The task is still incomplete and there is at least one error.|\n",
    "|Task 3|The task has been completed successfully and there are no errors.|The task is still incomplete and there is at least one error.|\n",
    "|Task 4|The task has been completed successfully and there are no errors.|The task is still incomplete and there is at least one error.|"
   ]
  },
  {
   "cell_type": "markdown",
   "id": "1990e2d2",
   "metadata": {},
   "source": [
    "## Submission Information\n",
    "\n",
    "🚨**Please review our [Assignment Submission Guide](https://github.com/UofT-DSI/onboarding/blob/main/onboarding_documents/submissions.md)**🚨 for detailed instructions on how to format, branch, and submit your work. Following these guidelines is crucial for your submissions to be evaluated correctly.\n",
    "\n",
    "### Submission Parameters:\n",
    "* Submission Due Date: `HH:MM AM/PM - DD/MM/YYYY`\n",
    "* The branch name for your repo should be: `assignment-2`\n",
    "* What to submit for this assignment:\n",
    "    * This Jupyter Notebook (assignment_2.ipynb) should be populated and should be the only change in your pull request.\n",
    "* What the pull request link should look like for this assignment: `https://github.com/<your_github_username>/deep_learning/pull/<pr_id>`\n",
    "    * Open a private window in your browser. Copy and paste the link to your pull request into the address bar. Make sure you can see your pull request properly. This helps the technical facilitator and learning support staff review your submission easily.\n",
    "\n",
    "Checklist:\n",
    "- [ ] Created a branch with the correct naming convention.\n",
    "- [ ] Ensured that the repository is public.\n",
    "- [ ] Reviewed the PR description guidelines and adhered to them.\n",
    "- [ ] Verify that the link is accessible in a private browser window.\n",
    "\n",
    "If you encounter any difficulties or have questions, please don't hesitate to reach out to our team via our Slack at `#cohort-3-help`. Our Technical Facilitators and Learning Support staff are here to help you navigate any challenges."
   ]
  }
 ],
 "metadata": {
  "accelerator": "GPU",
  "colab": {
   "gpuType": "T4",
   "provenance": []
  },
  "kernelspec": {
   "display_name": "data_exploration",
   "language": "python",
   "name": "python3"
  },
  "language_info": {
   "codemirror_mode": {
    "name": "ipython",
    "version": 3
   },
   "file_extension": ".py",
   "mimetype": "text/x-python",
   "name": "python",
   "nbconvert_exporter": "python",
   "pygments_lexer": "ipython3",
   "version": "3.12.4"
  }
 },
 "nbformat": 4,
 "nbformat_minor": 5
}
